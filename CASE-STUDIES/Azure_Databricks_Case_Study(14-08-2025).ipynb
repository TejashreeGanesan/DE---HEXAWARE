{
 "cells": [
  {
   "cell_type": "markdown",
   "metadata": {
    "application/vnd.databricks.v1+cell": {
     "cellMetadata": {},
     "inputWidgets": {},
     "nuid": "d204bc22-896c-4da6-8daa-7e70e285b08c",
     "showTitle": false,
     "tableResultSettingsMap": {},
     "title": ""
    }
   },
   "source": [
    "# Connect to ADLS Gen2 with SAS Token"
   ]
  },
  {
   "cell_type": "code",
   "execution_count": 0,
   "metadata": {
    "application/vnd.databricks.v1+cell": {
     "cellMetadata": {
      "byteLimit": 2048000,
      "rowLimit": 10000
     },
     "inputWidgets": {},
     "nuid": "9b0cd119-a038-42c9-be05-0bdeb1a0531d",
     "showTitle": false,
     "tableResultSettingsMap": {},
     "title": ""
    }
   },
   "outputs": [],
   "source": [
    "account = \"datalakestorage09\"\n",
    "container = \"source\"\n",
    "sas = \"?sp=racwjnddlmeop&hyhst=2025-08-14T10:18:25Z&se=2025-08-14dcT18:33:25Z&spr=https&sv=2024-11-04&sr=c&sig=XS6Q570vvsvTV5c58ST0D%2BH6z5tkB1gsjhNhbgfxdVeh5YbpIv20%3D\"\n",
    "\n",
    "# Configure Spark to use SAS token\n",
    "spark.conf.set(\n",
    "    f\"fs.azure.sas.{container}.{account}.dfs.core.windows.net\",\n",
    "    sas.lstrip(\"?\")  \n",
    ")\n"
   ]
  },
  {
   "cell_type": "code",
   "execution_count": 0,
   "metadata": {
    "application/vnd.databricks.v1+cell": {
     "cellMetadata": {
      "byteLimit": 2048000,
      "rowLimit": 10000
     },
     "inputWidgets": {},
     "nuid": "8c405b9d-f469-49d8-ad58-5d6553c86007",
     "showTitle": false,
     "tableResultSettingsMap": {},
     "title": ""
    }
   },
   "outputs": [
    {
     "data": {
      "text/plain": [
       "[FileInfo(path='abfss://source@datalakestorage09.dfs.core.windows.net/Journals.csv', name='Journals.csv', size=15658, modificationTime=1755167090000)]"
      ]
     },
     "execution_count": 12,
     "metadata": {},
     "output_type": "execute_result"
    }
   ],
   "source": [
    "account = \"datalakestorage09\"\n",
    "container = \"source\"\n",
    "# Set the storage account key\n",
    "spark.conf.set(\n",
    "    f\"fs.azure.account.key.{account}.dfs.core.windows.net\",\n",
    "    \"SFDhYKprb4wa4nHxJGmxNED1bhrtgb64wRD1gRCry03KvHGGouDcuQFnLhNBUGHhTusdfvsdG6bVFbwMb0GJC161+AStDaQT2A==\"\n",
    ")\n",
    "\n",
    "# List the files in the specified container\n",
    "dbutils.fs.ls(f\"abfss://{container}@{account}.dfs.core.windows.net/\")"
   ]
  },
  {
   "cell_type": "code",
   "execution_count": 0,
   "metadata": {
    "application/vnd.databricks.v1+cell": {
     "cellMetadata": {
      "byteLimit": 2048000,
      "rowLimit": 10000
     },
     "inputWidgets": {},
     "nuid": "6c6e9699-1ffd-45cd-870e-7e4f53773f9d",
     "showTitle": false,
     "tableResultSettingsMap": {},
     "title": ""
    }
   },
   "outputs": [
    {
     "data": {
      "text/html": [
       "<style scoped>\n",
       "  .table-result-container {\n",
       "    max-height: 300px;\n",
       "    overflow: auto;\n",
       "  }\n",
       "  table, th, td {\n",
       "    border: 1px solid black;\n",
       "    border-collapse: collapse;\n",
       "  }\n",
       "  th, td {\n",
       "    padding: 5px;\n",
       "  }\n",
       "  th {\n",
       "    text-align: left;\n",
       "  }\n",
       "</style><div class='table-result-container'><table class='table-result'><thead style='background-color: white'><tr><th>rownames</th><th>title</th><th>publisher</th><th>society</th><th>price</th><th>pages</th><th>charpp</th><th>citations</th><th>foundingyear</th><th>subs</th><th>field</th></tr></thead><tbody><tr><td>APEL</td><td>Asian-Pacific Economic Literature</td><td>Blackwell</td><td>no</td><td>123</td><td>440</td><td>3822</td><td>21</td><td>1986</td><td>14</td><td>General</td></tr><tr><td>SAJoEH</td><td>South African Journal of Economic History</td><td>So Afr ec history assn</td><td>no</td><td>20</td><td>309</td><td>1782</td><td>22</td><td>1986</td><td>59</td><td>Economic History</td></tr><tr><td>CE</td><td>Computational Economics</td><td>Kluwer</td><td>no</td><td>443</td><td>567</td><td>2924</td><td>22</td><td>1987</td><td>17</td><td>Specialized</td></tr><tr><td>MEPiTE</td><td>MOCT-MOST Economic Policy in Transitional Economics</td><td>Kluwer</td><td>no</td><td>276</td><td>520</td><td>3234</td><td>22</td><td>1991</td><td>2</td><td>Area Studies</td></tr><tr><td>JoSE</td><td>Journal of Socio-Economics</td><td>Elsevier</td><td>no</td><td>295</td><td>791</td><td>3024</td><td>24</td><td>1972</td><td>96</td><td>Interdisciplinary</td></tr><tr><td>LabEc</td><td>Labour Economics</td><td>Elsevier</td><td>no</td><td>344</td><td>609</td><td>2967</td><td>24</td><td>1994</td><td>15</td><td>Labor</td></tr><tr><td>EDE</td><td>Environment and Development Economics</td><td>Cambridge Univ Pres</td><td>no</td><td>90</td><td>602</td><td>3185</td><td>24</td><td>1995</td><td>14</td><td>Development</td></tr><tr><td>RoRPE</td><td>Review of Radical Political Economics</td><td>Elsevier</td><td>no</td><td>242</td><td>665</td><td>2688</td><td>27</td><td>1968</td><td>202</td><td>Specialized</td></tr><tr><td>EoP</td><td>Economics of Planning</td><td>Kluwer</td><td>no</td><td>226</td><td>243</td><td>3010</td><td>28</td><td>1987</td><td>46</td><td>Area Studies</td></tr><tr><td>Mt</td><td>Metroeconomica</td><td>Blackwell</td><td>no</td><td>262</td><td>386</td><td>2501</td><td>30</td><td>1949</td><td>46</td><td>General</td></tr><tr><td>JoCP</td><td>Journal of Consumer Policy</td><td>Kluwer</td><td>no</td><td>279</td><td>578</td><td>2200</td><td>32</td><td>1978</td><td>57</td><td>Consumer Economics</td></tr><tr><td>REE</td><td>Real Estate Economics</td><td>MIT</td><td>no</td><td>165</td><td>749</td><td>2496</td><td>35</td><td>1973</td><td>125</td><td>Specialized</td></tr><tr><td>DPR</td><td>Development Policy Review</td><td>Blackwell</td><td>no</td><td>242</td><td>427</td><td>2731</td><td>36</td><td>1982</td><td>30</td><td>Development</td></tr><tr><td>MaDE</td><td>Managerial and Decision Econ</td><td>Wiley</td><td>no</td><td>905</td><td>292</td><td>4472</td><td>37</td><td>1980</td><td>62</td><td>Management Science</td></tr><tr><td>JoEF</td><td>Journal of Empirical Finance</td><td>Elsevier</td><td>no</td><td>355</td><td>607</td><td>3053</td><td>37</td><td>1994</td><td>16</td><td>Finance</td></tr><tr><td>JoEMS</td><td>International Journal of Finance & Economics</td><td>Springer</td><td>no</td><td>375</td><td>351</td><td>4025</td><td>40</td><td>1996</td><td>17</td><td>Finance</td></tr><tr><td>JoE&MS</td><td>Journal of Economics & Management Strategy</td><td>MIT Press</td><td>no</td><td>135</td><td>602</td><td>2394</td><td>42</td><td>1992</td><td>37</td><td>Management Science</td></tr><tr><td>AEJ</td><td>Atlantic Economic Journal</td><td>Intnl Atlantic Ec. Soc.</td><td>no</td><td>171</td><td>447</td><td>3139</td><td>44</td><td>1972</td><td>148</td><td>General</td></tr><tr><td>EDQ</td><td>Economic Development Quarterly</td><td>Sage</td><td>no</td><td>284</td><td>385</td><td>3318</td><td>47</td><td>1987</td><td>110</td><td>Development</td></tr><tr><td>CER</td><td>China Economic Review</td><td>Elsevier</td><td>no</td><td>242</td><td>167</td><td>3619</td><td>47</td><td>1989</td><td>16</td><td>Area Studies</td></tr><tr><td>IEP</td><td>Information Economics and Policy</td><td>Elsevier</td><td>no</td><td>371</td><td>442</td><td>2924</td><td>50</td><td>1984</td><td>30</td><td>Specialized</td></tr><tr><td>AEP</td><td>Australian Economic Papers</td><td>Blackwell</td><td>no</td><td>115</td><td>495</td><td>3792</td><td>51</td><td>1961</td><td>61</td><td>General</td></tr><tr><td>JWE</td><td>Japan and the World Economy</td><td>Elsevier</td><td>no</td><td>355</td><td>577</td><td>3443</td><td>56</td><td>1988</td><td>27</td><td>Area Studies</td></tr><tr><td>JoES</td><td>Journal of Economic Surveys</td><td>Blackwell</td><td>no</td><td>355</td><td>674</td><td>2835</td><td>61</td><td>1987</td><td>45</td><td>General</td></tr><tr><td>IME</td><td>Insurance  Mathematics & Economics</td><td>Elsevier</td><td>no</td><td>835</td><td>745</td><td>4263</td><td>61</td><td>1982</td><td>15</td><td>Insurance</td></tr><tr><td>DE</td><td>De Economist</td><td>Kluwer</td><td>no</td><td>223</td><td>579</td><td>2594</td><td>62</td><td>1852</td><td>25</td><td>General</td></tr><tr><td>RoSE</td><td>Review of Social Economy</td><td>Routledge</td><td>no</td><td>172</td><td>578</td><td>2720</td><td>66</td><td>1943</td><td>203</td><td>General</td></tr><tr><td>BP</td><td>Brookings Papers</td><td>Brookings Inst.</td><td>no</td><td>62</td><td>394</td><td>2368</td><td>67</td><td>1970</td><td>646</td><td>Public Finance</td></tr><tr><td>PiRS</td><td>Papers in Regional Science</td><td>Springer</td><td>no</td><td>191</td><td>442</td><td>2925</td><td>68</td><td>1922</td><td>59</td><td>Urban and Regional</td></tr><tr><td>JoPE</td><td>Journal of Population Economics</td><td>Springer</td><td>no</td><td>411</td><td>640</td><td>3264</td><td>69</td><td>1987</td><td>27</td><td>Demography</td></tr><tr><td>FS</td><td>Finance and Stochastics</td><td>Springer</td><td>no</td><td>274</td><td>492</td><td>3060</td><td>69</td><td>1996</td><td>31</td><td>Finance</td></tr><tr><td>IO</td><td>International Organization</td><td>MIT</td><td>no</td><td>130</td><td>814</td><td>3024</td><td>69</td><td>1947</td><td>532</td><td>Industrial Organization</td></tr><tr><td>CPP</td><td>Canadian Public Policy</td><td>University of Toronto Press</td><td>no</td><td>100</td><td>714</td><td>2248</td><td>75</td><td>1975</td><td>52</td><td>Public Finance</td></tr><tr><td>DvE</td><td>Developing Economies</td><td>Inst of Devel Econ</td><td>no</td><td>80</td><td>539</td><td>3345</td><td>76</td><td>1963</td><td>87</td><td>Development</td></tr><tr><td>JoHoEc</td><td>Journal of Housing Economics</td><td>Academic Press</td><td>no</td><td>235</td><td>330</td><td>2623</td><td>78</td><td>1982</td><td>27</td><td>Specialized</td></tr><tr><td>JoEB</td><td>Journal of Economics & Business</td><td>Elsevier</td><td>no</td><td>392</td><td>563</td><td>3456</td><td>80</td><td>1948</td><td>291</td><td>Business</td></tr><tr><td>JoEvEc</td><td>Journal of Evolutionary Economics</td><td>Springer</td><td>no</td><td>410</td><td>526</td><td>2989</td><td>81</td><td>1991</td><td>9</td><td>Specialized</td></tr><tr><td>EmpEc</td><td>Empirical Economics</td><td>Springer</td><td>no</td><td>464</td><td>719</td><td>3366</td><td>82</td><td>1976</td><td>24</td><td>General</td></tr><tr><td>ER</td><td>Econometric Reviews</td><td>Dekker</td><td>no</td><td>650</td><td>448</td><td>2418</td><td>85</td><td>1981</td><td>49</td><td>Econometrics</td></tr><tr><td>AgE</td><td>Agricultural Economics</td><td>Elsevier</td><td>no</td><td>558</td><td>610</td><td>4032</td><td>87</td><td>1986</td><td>24</td><td>Agricultural Economics</td></tr><tr><td>QRoEF</td><td>Quarterly Review of Economics & Finance</td><td>Elsevier</td><td>no</td><td>317</td><td>931</td><td>3036</td><td>87</td><td>1961</td><td>323</td><td>Finance</td></tr><tr><td>AEL</td><td>Applied Economics Letters</td><td>Routledge</td><td>no</td><td>495</td><td>774</td><td>5610</td><td>89</td><td>1994</td><td>69</td><td>General</td></tr><tr><td>EM</td><td>Economic Modelling</td><td>Elsevier</td><td>no</td><td>535</td><td>632</td><td>2880</td><td>89</td><td>1983</td><td>21</td><td>General</td></tr><tr><td>GC</td><td>Growth and Change</td><td>Blackwell</td><td>no</td><td>123</td><td>302</td><td>2772</td><td>97</td><td>1969</td><td>212</td><td>Development</td></tr><tr><td>ERE</td><td>Environmental and Resource Economics</td><td>Kluwer</td><td>no</td><td>717</td><td>1061</td><td>2924</td><td>97</td><td>1992</td><td>14</td><td>Natural Resources</td></tr><tr><td>JoRE</td><td>Journal of Regulatory Economics</td><td>Kluwer</td><td>no</td><td>481</td><td>628</td><td>3666</td><td>98</td><td>1991</td><td>38</td><td>Industrial Organization</td></tr><tr><td>BoIES</td><td>Bulletin of Indonesian Economic Studies</td><td>ANU Press</td><td>no</td><td>54</td><td>518</td><td>2858</td><td>98</td><td>1964</td><td>22</td><td>Specialized</td></tr><tr><td>AoRS</td><td>Annals of Regional Science</td><td>Springer</td><td>no</td><td>379</td><td>580</td><td>2914</td><td>100</td><td>1967</td><td>77</td><td>Urban and Regional</td></tr><tr><td>CEP</td><td>Contemporary Economic Policy</td><td>Oxford Univ Press</td><td>no</td><td>168</td><td>566</td><td>4104</td><td>109</td><td>1982</td><td>290</td><td>Public Finance</td></tr><tr><td>JoEcEd</td><td>Journal of Economic Education</td><td>Heldref</td><td>no</td><td>82</td><td>426</td><td>2990</td><td>112</td><td>1970</td><td>386</td><td>Specialized</td></tr><tr><td>JoJIE</td><td>Journal of the Japanese & International Economies</td><td>Academic Press</td><td>no</td><td>355</td><td>451</td><td>2541</td><td>119</td><td>1986</td><td>50</td><td>Area Studies</td></tr><tr><td>EaP</td><td>Economics and Philosophy</td><td>Cambridge Univ Pres</td><td>no</td><td>95</td><td>373</td><td>2574</td><td>121</td><td>1984</td><td>144</td><td>Interdisciplinary</td></tr><tr><td>JoFI</td><td>Journal of Financial Intermediation</td><td>Academic Press</td><td>no</td><td>240</td><td>420</td><td>2773</td><td>121</td><td>1991</td><td>48</td><td>Finance</td></tr><tr><td>RaEE</td><td>Resource and Energy Economics</td><td>Elsevier</td><td>no</td><td>448</td><td>416</td><td>3010</td><td>122</td><td>1978</td><td>33</td><td>Natural Resources</td></tr><tr><td>ORoEP</td><td>Oxford Review of Economic Policy</td><td>Oxford Univ Press</td><td>no</td><td>255</td><td>600</td><td>4284</td><td>124</td><td>1985</td><td>29</td><td>Public Finance</td></tr><tr><td>RoIO</td><td>Review of Industrial Organization</td><td>Kluwer</td><td>no</td><td>448</td><td>792</td><td>1820</td><td>126</td><td>1990</td><td>58</td><td>Industrial Organization</td></tr><tr><td>IRoLE</td><td>International Review of Law & Economics</td><td>Elsevier</td><td>no</td><td>392</td><td>585</td><td>3479</td><td>126</td><td>1980</td><td>71</td><td>Law and Economics</td></tr><tr><td>JoWT</td><td>Journal of World Trade</td><td>Kluwer</td><td>no</td><td>475</td><td>1138</td><td>3088</td><td>134</td><td>1967</td><td>135</td><td>International</td></tr><tr><td>JoM</td><td>Journal of Macroeconomics</td><td>LSU Press</td><td>no</td><td>85</td><td>856</td><td>2562</td><td>137</td><td>1979</td><td>183</td><td>Macroeconomics</td></tr><tr><td>AJoES</td><td>American Journal of Economics & Sociology</td><td>Blackwell</td><td>no</td><td>108</td><td>578</td><td>2331</td><td>138</td><td>1941</td><td>573</td><td>Interdisciplinary</td></tr><tr><td>PFR</td><td>Public Finance Review</td><td>Sage</td><td>no</td><td>394</td><td>636</td><td>2204</td><td>138</td><td>1973</td><td>268</td><td>Public Finance</td></tr><tr><td>MnchSc</td><td>Manchester School</td><td>Blackwell</td><td>no</td><td>336</td><td>618</td><td>2772</td><td>140</td><td>1930</td><td>57</td><td>General</td></tr><tr><td>EnE</td><td>Energy Economics</td><td>Elsevier</td><td>no</td><td>565</td><td>495</td><td>3038</td><td>143</td><td>1978</td><td>52</td><td>Natural Resources</td></tr><tr><td>ERoAE</td><td>European Review of Agricultural Economics</td><td>Oxford Univ Press</td><td>no</td><td>255</td><td>573</td><td>3228</td><td>144</td><td>1974</td><td>21</td><td>Agricultural Economics</td></tr><tr><td>LH</td><td>Labor History</td><td>Carfax</td><td>no</td><td>165</td><td>515</td><td>3430</td><td>147</td><td>1960</td><td>479</td><td>Labor</td></tr><tr><td>WA</td><td>Weltwirtschaftliches Archiv / Review of World Economics</td><td>Mohr Siebeck</td><td>no</td><td>99</td><td>758</td><td>2499</td><td>150</td><td>1865</td><td>77</td><td>General</td></tr><tr><td>SJoPE</td><td>Scottish Journal of Political Economy</td><td>Blackwell</td><td>no</td><td>203</td><td>596</td><td>3036</td><td>151</td><td>1953</td><td>89</td><td>General</td></tr><tr><td>DC</td><td>Development and Change</td><td>Blackwell</td><td>no</td><td>318</td><td>888</td><td>2623</td><td>154</td><td>1970</td><td>83</td><td>Development</td></tr><tr><td>JoREFE</td><td>Journal of Real Estate Finance and Economics</td><td>Kluwer</td><td>no</td><td>476</td><td>630</td><td>3432</td><td>162</td><td>1990</td><td>59</td><td>Business</td></tr><tr><td>JoPopEc</td><td>Journal of Policy Modeling</td><td>Elsevier</td><td>no</td><td>473</td><td>907</td><td>2160</td><td>164</td><td>1979</td><td>67</td><td>Specialized</td></tr><tr><td>JoPKE</td><td>Journal of Post-Keynesian Economics</td><td>M.E Sharpe</td><td>no</td><td>186</td><td>550</td><td>2360</td><td>170</td><td>1978</td><td>225</td><td>General</td></tr><tr><td>EP</td><td>Economic Policy</td><td>Blackwell</td><td>no</td><td>170</td><td>440</td><td>2856</td><td>179</td><td>1985</td><td>56</td><td>Public Finance</td></tr><tr><td>MSS</td><td>Mathematical Social Sciences</td><td>Elsevier</td><td>no</td><td>824</td><td>697</td><td>3420</td><td>180</td><td>1981</td><td>36</td><td>Interdisciplinary</td></tr><tr><td>Om</td><td>Omega</td><td>Elsevier</td><td>no</td><td>805</td><td>780</td><td>4028</td><td>183</td><td>1973</td><td>101</td><td>Business</td></tr><tr><td>HoPE</td><td>History of Political Economy</td><td>Duke Univ Press</td><td>no</td><td>132</td><td>767</td><td>2280</td><td>183</td><td>1969</td><td>288</td><td>Economic History</td></tr><tr><td>EcRec</td><td>Economic Record</td><td>Ec. Society of Australia</td><td>yes</td><td>50</td><td>421</td><td>4320</td><td>188</td><td>1925</td><td>183</td><td>General</td></tr><tr><td>JoPA</td><td>Journal of Productivity Analysis</td><td>Kluwer</td><td>no</td><td>424</td><td>567</td><td>3432</td><td>188</td><td>1992</td><td>25</td><td>General</td></tr><tr><td>RoIW</td><td>Review of Income and Wealth</td><td>Int Assn for Res in I & W</td><td>yes</td><td>130</td><td>585</td><td>3312</td><td>189</td><td>1945</td><td>120</td><td>Public Finance</td></tr><tr><td>JoRI</td><td>Journal of Risk and Insurance</td><td>Am. Risk & Ins. Assn</td><td>yes</td><td>90</td><td>720</td><td>2924</td><td>193</td><td>1964</td><td>263</td><td>Insurance</td></tr><tr><td>TWE</td><td>The World Economy</td><td>Blackwell</td><td>no</td><td>805</td><td>1270</td><td>2842</td><td>214</td><td>1977</td><td>101</td><td>Development</td></tr><tr><td>JoAE</td><td>Journal of Agricultural Economics</td><td>Agric. Econ. Society</td><td>yes</td><td>96</td><td>277</td><td>4218</td><td>220</td><td>1948</td><td>43</td><td>Agricultural Economics</td></tr><tr><td>EoER</td><td>Economics of Education Review</td><td>Elsevier</td><td>no</td><td>448</td><td>471</td><td>5040</td><td>224</td><td>1982</td><td>73</td><td>Specialized</td></tr><tr><td>JoLR</td><td>Journal of Labor Research</td><td>George Mason Univ</td><td>no</td><td>130</td><td>725</td><td>3010</td><td>227</td><td>1980</td><td>221</td><td>Labor</td></tr><tr><td>TD</td><td>Theory and Decision</td><td>Kluwer</td><td>no</td><td>595</td><td>607</td><td>2072</td><td>237</td><td>1970</td><td>83</td><td>Theory</td></tr><tr><td>SCW</td><td>Social Choice & Welfare</td><td>Springer</td><td>no</td><td>474</td><td>674</td><td>2990</td><td>239</td><td>1984</td><td>37</td><td>Public Finance</td></tr><tr><td>JoCE</td><td>Journal of Comparative Economics</td><td>Academic Press</td><td>no</td><td>410</td><td>803</td><td>2442</td><td>245</td><td>1977</td><td>185</td><td>Area Studies</td></tr><tr><td>JoEP</td><td>Journal of Economic Psychology</td><td>Elsevier</td><td>no</td><td>395</td><td>802</td><td>2535</td><td>245</td><td>1981</td><td>61</td><td>Interdisciplinary</td></tr><tr><td>IJoF</td><td>International Journal of Forecasting</td><td>Elsevier</td><td>no</td><td>437</td><td>464</td><td>4324</td><td>249</td><td>1985</td><td>57</td><td>Specialized</td></tr><tr><td>Ky</td><td>Kyklos</td><td>Helbing & Lichtenhahn</td><td>no</td><td>270</td><td>618</td><td>2760</td><td>254</td><td>1948</td><td>186</td><td>General</td></tr><tr><td>EiEH</td><td>Explorations in Economic History</td><td>Academic Press</td><td>no</td><td>265</td><td>447</td><td>2904</td><td>261</td><td>1963</td><td>199</td><td>Economic History</td></tr><tr><td>ET</td><td>Economic Theory</td><td>Springer</td><td>no</td><td>899</td><td>1493</td><td>2806</td><td>264</td><td>1992</td><td>165</td><td>Theory</td></tr><tr><td>JoTEP</td><td>Journal of Transport Economics & Policy</td><td>LSE and Univ of Bath</td><td>no</td><td>133</td><td>406</td><td>3182</td><td>292</td><td>1967</td><td>95</td><td>Specialized</td></tr><tr><td>BJoIR</td><td>British Journal of Industrial Relations</td><td>Blackwell</td><td>no</td><td>262</td><td>663</td><td>3450</td><td>294</td><td>1963</td><td>82</td><td>Specialized</td></tr><tr><td>JoCMS</td><td>Journal of Common Market Studies</td><td>Blackwell</td><td>no</td><td>506</td><td>710</td><td>2747</td><td>299</td><td>1962</td><td>214</td><td>Area Studies</td></tr><tr><td>JoFM</td><td>Journal of Futures Markets</td><td>Wiley</td><td>no</td><td>1140</td><td>990</td><td>2460</td><td>302</td><td>1981</td><td>152</td><td>Finance</td></tr><tr><td>JITE</td><td>Journal of Institutional & Theoretical Economics</td><td>Mohr Siebeck</td><td>no</td><td>211</td><td>792</td><td>3402</td><td>313</td><td>1844</td><td>33</td><td>General</td></tr><tr><td>IJoIO</td><td>International Journal of Industrial Organization</td><td>Elsevier</td><td>no</td><td>799</td><td>1230</td><td>3124</td><td>313</td><td>1983</td><td>81</td><td>Industrial Organization</td></tr><tr><td>JoFo</td><td>Journal of Forecasting</td><td>Wiley</td><td>no</td><td>760</td><td>516</td><td>4032</td><td>317</td><td>1982</td><td>137</td><td>Specialized</td></tr><tr><td>ORL</td><td>Operations Research Letters</td><td>Elsevier</td><td>no</td><td>442</td><td>460</td><td>4056</td><td>338</td><td>1982</td><td>59</td><td>Management Science</td></tr><tr><td>SJoE</td><td>Scandinavian Journal of Economics</td><td>Blackwell</td><td>no</td><td>296</td><td>688</td><td>2666</td><td>339</td><td>1898</td><td>98</td><td>General</td></tr><tr><td>CJoE</td><td>Cambridge Journal of Economics</td><td>Oxford Univ Press</td><td>no</td><td>272</td><td>814</td><td>3545</td><td>351</td><td>1976</td><td>163</td><td>General</td></tr><tr><td>JoEI</td><td>Journal of Economic Issues</td><td>Assn Ev. Economics</td><td>yes</td><td>45</td><td>1003</td><td>2870</td><td>355</td><td>1967</td><td>462</td><td>Public Finance</td></tr><tr><td>RSUE</td><td>Regional Science & Urban Economics</td><td>Elsevier</td><td>no</td><td>614</td><td>802</td><td>2967</td><td>370</td><td>1971</td><td>99</td><td>Urban and Regional</td></tr><tr><td>IJoGT</td><td>International Journal of Game Theory</td><td>Springer</td><td>no</td><td>436</td><td>582</td><td>3366</td><td>382</td><td>1971</td><td>52</td><td>Theory</td></tr><tr><td>JoRaU</td><td>Journal of Risk and Uncertainty</td><td>Kluwer</td><td>no</td><td>481</td><td>595</td><td>3476</td><td>383</td><td>1990</td><td>47</td><td>Insurance</td></tr><tr><td>JoRU</td><td>Journal of Financial and Quantitative Analysis</td><td>Univ Wash Press</td><td>no</td><td>95</td><td>500</td><td>3314</td><td>388</td><td>1966</td><td>394</td><td>Finance</td></tr><tr><td>JoDS</td><td>Journal of Development Studies</td><td>Frank Cass</td><td>no</td><td>357</td><td>500</td><td>2604</td><td>388</td><td>1964</td><td>227</td><td>Development</td></tr><tr><td>EcmtrT</td><td>Econometric Theory</td><td>Cambridge Univ Pres</td><td>no</td><td>280</td><td>899</td><td>2948</td><td>390</td><td>1985</td><td>65</td><td>Econometrics</td></tr><tr><td>JoRS</td><td>Journal of Regional Science</td><td>Blackwell</td><td>no</td><td>142</td><td>764</td><td>2992</td><td>397</td><td>1961</td><td>242</td><td>Urban and Regional</td></tr><tr><td>JoA&E</td><td>Journal of Accounting & Economics</td><td>Elsevier</td><td>no</td><td>710</td><td>1112</td><td>2945</td><td>406</td><td>1979</td><td>154</td><td>Interdisciplinary</td></tr><tr><td>GaEB</td><td>Games and Economic Behavior</td><td>Academic Press</td><td>no</td><td>490</td><td>1197</td><td>2460</td><td>412</td><td>1988</td><td>45</td><td>Theory</td></tr><tr><td>JAE</td><td>Journal of Applied Econometrics</td><td>Wiley</td><td>no</td><td>870</td><td>689</td><td>3680</td><td>412</td><td>1986</td><td>81</td><td>Econometrics</td></tr><tr><td>JoMathEc</td><td>Journal of Mathematical Economics</td><td>Elsevier</td><td>no</td><td>1147</td><td>1340</td><td>2940</td><td>418</td><td>1974</td><td>79</td><td>Theory</td></tr><tr><td>JoIMF</td><td>Journal of International Money and Finance</td><td>Elsevier</td><td>no</td><td>743</td><td>940</td><td>2660</td><td>427</td><td>1981</td><td>120</td><td>International</td></tr><tr><td>RS</td><td>Regional Studies</td><td>Carfax</td><td>no</td><td>759</td><td>911</td><td>4988</td><td>440</td><td>1967</td><td>91</td><td>Urban and Regional</td></tr><tr><td>PDR</td><td>Population & Development Review</td><td>Population Council</td><td>no</td><td>36</td><td>910</td><td>2904</td><td>445</td><td>1975</td><td>218</td><td>Demography</td></tr><tr><td>ES</td><td>Economy and Society</td><td>Routledge</td><td>no</td><td>224</td><td>640</td><td>2970</td><td>488</td><td>1971</td><td>97</td><td>General</td></tr><tr><td>DS</td><td>Decision Sciences</td><td>Georgia State Univ</td><td>no</td><td>82</td><td>1067</td><td>3124</td><td>495</td><td>1970</td><td>322</td><td>Management Science</td></tr><tr><td>JoIndEc</td><td>Journal of Industrial Economics</td><td>Blackwell</td><td>no</td><td>160</td><td>476</td><td>2684</td><td>497</td><td>1953</td><td>283</td><td>Industrial Organization</td></tr><tr><td>EE</td><td>Ecological Economics</td><td>Elsevier</td><td>no</td><td>1170</td><td>1990</td><td>4128</td><td>499</td><td>1989</td><td>40</td><td>Natural Resources</td></tr><tr><td>NTJ</td><td>National Tax Journal</td><td>National Tax Assn.</td><td>no</td><td>90</td><td>785</td><td>2940</td><td>502</td><td>1948</td><td>552</td><td>Public Finance</td></tr><tr><td>US</td><td>Urban Studies</td><td>Carfax</td><td>no</td><td>742</td><td>1711</td><td>3747</td><td>508</td><td>1964</td><td>222</td><td>Urban and Regional</td></tr><tr><td>HE</td><td>Health Economics</td><td>Wiley</td><td>no</td><td>575</td><td>736</td><td>4264</td><td>544</td><td>1992</td><td>29</td><td>Health</td></tr><tr><td>EHR</td><td>Economic History Review</td><td>Blackwell</td><td>no</td><td>163</td><td>846</td><td>3570</td><td>545</td><td>1947</td><td>390</td><td>Economic History</td></tr><tr><td>RoFS</td><td>Review of Financial Studies</td><td>Oxford Univ. Press</td><td>no</td><td>175</td><td>1235</td><td>2604</td><td>547</td><td>1988</td><td>95</td><td>Finance</td></tr><tr><td>CJE</td><td>Canadian Journal of Economics</td><td>Blackwell</td><td>yes</td><td>120</td><td>1247</td><td>2992</td><td>556</td><td>1967</td><td>305</td><td>General</td></tr><tr><td>RA</td><td>Risk Analysis</td><td>Kluwer</td><td>no</td><td>590</td><td>1260</td><td>4628</td><td>574</td><td>1981</td><td>98</td><td>Insurance</td></tr><tr><td>AE</td><td>Applied Economics</td><td>Routledge</td><td>no</td><td>2120</td><td>1683</td><td>5445</td><td>578</td><td>1958</td><td>146</td><td>General</td></tr><tr><td>OEP</td><td>Oxford Economic Papers</td><td>Oxford Univ. Press</td><td>no</td><td>205</td><td>767</td><td>2924</td><td>582</td><td>1949</td><td>271</td><td>General</td></tr><tr><td>EDCC</td><td>Economic Development & Cultural Change</td><td>Univ of Chicago Press</td><td>no</td><td>128</td><td>889</td><td>2700</td><td>597</td><td>1952</td><td>515</td><td>Development</td></tr><tr><td>JoBF</td><td>Journal of Banking and Finance</td><td>Elsevier</td><td>no</td><td>1539</td><td>1911</td><td>2516</td><td>602</td><td>1977</td><td>172</td><td>Finance</td></tr><tr><td>OBoES</td><td>Oxford Bulletin of Economics & Statistics</td><td>Blackwell</td><td>no</td><td>346</td><td>545</td><td>2655</td><td>617</td><td>1939</td><td>127</td><td>General</td></tr><tr><td>JoEDC</td><td>Journal of Economic Dynamics & Control</td><td>Elsevier</td><td>yes</td><td>1046</td><td>1636</td><td>2945</td><td>636</td><td>1979</td><td>58</td><td>Theory</td></tr><tr><td>SEJ</td><td>Southern Economic Journal</td><td>Southern Econ. Assn</td><td>yes</td><td>97</td><td>1032</td><td>3680</td><td>646</td><td>1932</td><td>524</td><td>General</td></tr><tr><td>JoMS</td><td>Journal of Management Studies</td><td>Blackwell</td><td>no</td><td>686</td><td>850</td><td>3456</td><td>654</td><td>1964</td><td>222</td><td>Management Science</td></tr><tr><td>JoBE</td><td>Journal of Business Ethics</td><td>Kluwer</td><td>no</td><td>914</td><td>1270</td><td>3650</td><td>662</td><td>1981</td><td>385</td><td>Business</td></tr><tr><td>Dm</td><td>Demography</td><td>Pop Assn America</td><td>no</td><td>85</td><td>568</td><td>6859</td><td>670</td><td>1964</td><td>413</td><td>Demography</td></tr><tr><td>EI</td><td>Economic Inquiry</td><td>Oxford Univ Press</td><td>no</td><td>206</td><td>684</td><td>4134</td><td>684</td><td>1962</td><td>366</td><td>General</td></tr><tr><td>JoEBO</td><td>Journal of Economic Behavior & Organization</td><td>Elsevier</td><td>no</td><td>1154</td><td>1380</td><td>3330</td><td>698</td><td>1980</td><td>75</td><td>Theory</td></tr><tr><td>JoLS</td><td>Journal of Legal Studies</td><td>Univ of Chicago Press</td><td>no</td><td>45</td><td>530</td><td>2625</td><td>700</td><td>1972</td><td>238</td><td>Law and Economics</td></tr><tr><td>JoDE</td><td>Journal of Development Economics</td><td>Elsevier</td><td>no</td><td>1146</td><td>1110</td><td>2816</td><td>707</td><td>1974</td><td>142</td><td>Development</td></tr><tr><td>LanEc</td><td>Land Economics</td><td>Univ of Wisconsin Press</td><td>no</td><td>95</td><td>580</td><td>3672</td><td>730</td><td>1925</td><td>437</td><td>Urban and Regional</td></tr><tr><td>JoLE</td><td>Journal of Labor Economics</td><td>Univ of Chicago Press</td><td>no</td><td>138</td><td>600</td><td>2728</td><td>733</td><td>1983</td><td>269</td><td>Labor</td></tr><tr><td>JoEH</td><td>Journal of Economic History</td><td>Cambridge Univ Pres</td><td>no</td><td>115</td><td>1200</td><td>4029</td><td>737</td><td>1941</td><td>643</td><td>Economic History</td></tr><tr><td>JoUE</td><td>Journal of Urban Economics</td><td>Academic Press</td><td>no</td><td>640</td><td>1058</td><td>2666</td><td>787</td><td>1974</td><td>230</td><td>Urban and Regional</td></tr><tr><td>Ecnmc</td><td>Economica</td><td>Blackwell</td><td>no</td><td>122</td><td>565</td><td>3120</td><td>825</td><td>1933</td><td>313</td><td>General</td></tr><tr><td>JoMCB</td><td>Journal of Money Credit & Banking</td><td>Ohio State Univ. Press</td><td>no</td><td>110</td><td>860</td><td>3168</td><td>834</td><td>1969</td><td>512</td><td>Macroeconomics</td></tr><tr><td>JoIntEc</td><td>Journal of International Economics</td><td>Elsevier</td><td>no</td><td>923</td><td>1299</td><td>2898</td><td>838</td><td>1971</td><td>211</td><td>International</td></tr><tr><td>PC</td><td>Public Choice</td><td>Kluwer</td><td>no</td><td>1000</td><td>1600</td><td>2583</td><td>871</td><td>1966</td><td>171</td><td>Public Finance</td></tr><tr><td>RP</td><td>Research Policy</td><td>Elsevier</td><td>no</td><td>1234</td><td>781</td><td>4320</td><td>922</td><td>1972</td><td>34</td><td>Business</td></tr><tr><td>EL</td><td>Economics Letters</td><td>Elsevier</td><td>no</td><td>1492</td><td>1540</td><td>3315</td><td>930</td><td>1978</td><td>81</td><td>General</td></tr><tr><td>JoHeEc</td><td>Journal of Health Economics</td><td>Elsevier</td><td>no</td><td>810</td><td>828</td><td>2924</td><td>957</td><td>1982</td><td>144</td><td>Health</td></tr><tr><td>JBES</td><td>Journal of Business & Economic Statistics</td><td>Am Stat Assn</td><td>yes</td><td>90</td><td>510</td><td>6360</td><td>988</td><td>1983</td><td>190</td><td>Business</td></tr><tr><td>RJoE</td><td>Rand Journal of Economics</td><td>RAND</td><td>no</td><td>177</td><td>757</td><td>3450</td><td>1039</td><td>1970</td><td>339</td><td>Industrial Organization</td></tr><tr><td>JoB</td><td>Journal of Business</td><td>Univ of Chicago Press</td><td>no</td><td>74</td><td>583</td><td>2655</td><td>1083</td><td>1928</td><td>771</td><td>Business</td></tr><tr><td>JoHR</td><td>Journal of Human Resources</td><td>Univ of Wisconsin Press</td><td>no</td><td>113</td><td>837</td><td>3312</td><td>1113</td><td>1966</td><td>522</td><td>Labor</td></tr><tr><td>IER</td><td>International Economic Review</td><td>Blackwell</td><td>no</td><td>145</td><td>969</td><td>3082</td><td>1113</td><td>1960</td><td>284</td><td>General</td></tr><tr><td>JoEEM</td><td>Journal of Environmental Economics & Managment</td><td>Academic Press</td><td>no</td><td>590</td><td>636</td><td>3096</td><td>1152</td><td>1974</td><td>202</td><td>Natural Resources</td></tr><tr><td>EER</td><td>European Economic Review</td><td>Elsevier</td><td>yes</td><td>1154</td><td>1823</td><td>2178</td><td>1243</td><td>1969</td><td>118</td><td>General</td></tr><tr><td>WD</td><td>World Development</td><td>Elsevier</td><td>no</td><td>1450</td><td>1145</td><td>5480</td><td>1408</td><td>1973</td><td>160</td><td>Development</td></tr><tr><td>JoPubEc</td><td>Journal of Public Economics</td><td>Elsevier</td><td>no</td><td>1431</td><td>1880</td><td>2924</td><td>1437</td><td>1972</td><td>141</td><td>Public Finance</td></tr><tr><td>JEL</td><td>Journal of Economic Literature</td><td>Am Ec Assn</td><td>yes</td><td>47</td><td>2632</td><td>3848</td><td>1530</td><td>1963</td><td>972</td><td>General</td></tr><tr><td>JoLaE</td><td>Journal of Law and Economics</td><td>Univ of Chicago Press</td><td>no</td><td>45</td><td>850</td><td>2604</td><td>1580</td><td>1968</td><td>542</td><td>Law and Economics</td></tr><tr><td>JEP</td><td>Journal of Economic Perspectives</td><td>Am Ec Assn</td><td>yes</td><td>47</td><td>940</td><td>3036</td><td>1583</td><td>1987</td><td>866</td><td>General</td></tr><tr><td>AJoAE</td><td>American Journal of Agricultural Economics</td><td>Am. Ag. Econ Assn</td><td>no</td><td>81</td><td>1253</td><td>4368</td><td>1812</td><td>1918</td><td>267</td><td>Agricultural Economics</td></tr><tr><td>JoMonEc</td><td>Journal of Monetary Economics</td><td>Elsevier</td><td>no</td><td>1010</td><td>1346</td><td>3174</td><td>1860</td><td>1975</td><td>186</td><td>Macroeconomics</td></tr><tr><td>MngtSc</td><td>Management Science</td><td>Inst for OR and MS</td><td>no</td><td>334</td><td>1175</td><td>4232</td><td>2022</td><td>1954</td><td>558</td><td>Management Science</td></tr><tr><td>RoE&S</td><td>Review of Economics & Statistics</td><td>MIT press</td><td>no</td><td>190</td><td>733</td><td>5600</td><td>2331</td><td>1919</td><td>523</td><td>General</td></tr><tr><td>RoES</td><td>Review of Economic Studies</td><td>Blackwell</td><td>no</td><td>180</td><td>761</td><td>3626</td><td>2411</td><td>1933</td><td>325</td><td>General</td></tr><tr><td>JoE</td><td>Journal of Econometrics</td><td>Elsevier</td><td>no</td><td>1893</td><td>1527</td><td>2178</td><td>2479</td><td>1973</td><td>129</td><td>Econometrics</td></tr><tr><td>JoET</td><td>Journal of Economic Theory</td><td>Academic Press</td><td>no</td><td>1400</td><td>2000</td><td>2684</td><td>2514</td><td>1969</td><td>165</td><td>Theory</td></tr><tr><td>EJ</td><td>Economic Journal</td><td>Blackwell</td><td>no</td><td>301</td><td>1983</td><td>3036</td><td>2540</td><td>1890</td><td>531</td><td>General</td></tr><tr><td>JoFE</td><td>Journal of Financial Economics</td><td>Elsevier</td><td>no</td><td>1339</td><td>1947</td><td>2838</td><td>2676</td><td>1974</td><td>231</td><td>Finance</td></tr><tr><td>JoCR</td><td>Journal of Consumer Research</td><td>Univ of Chicago Press</td><td>no</td><td>90</td><td>439</td><td>5336</td><td>2762</td><td>1974</td><td>536</td><td>Consumer Economics</td></tr><tr><td>JASA</td><td>Journal of the American Statistical Association</td><td>Am. Statistical Assn</td><td>yes</td><td>310</td><td>1260</td><td>5664</td><td>2800</td><td>1971</td><td>487</td><td>Econometrics</td></tr><tr><td>JoFi</td><td>Journal of Finance</td><td>Am. Finance Assn</td><td>yes</td><td>226</td><td>2272</td><td>3036</td><td>3791</td><td>1945</td><td>799</td><td>Finance</td></tr><tr><td>QJoE</td><td>Quarterly Journal of Economics</td><td>MIT press</td><td>no</td><td>148</td><td>1467</td><td>2184</td><td>4138</td><td>1886</td><td>660</td><td>General</td></tr><tr><td>JoPolEc</td><td>Journal of Political Economy</td><td>Univ of Chicago Press</td><td>no</td><td>159</td><td>1669</td><td>2640</td><td>6697</td><td>1892</td><td>737</td><td>General</td></tr><tr><td>Ecnmt</td><td>Econometrica</td><td>Blackwell</td><td>yes</td><td>178</td><td>1482</td><td>2992</td><td>7943</td><td>1932</td><td>346</td><td>General</td></tr><tr><td>AER</td><td>American Economic Review</td><td>Am Ec Assn</td><td>yes</td><td>47</td><td>1867</td><td>3900</td><td>8999</td><td>1911</td><td>1098</td><td>General</td></tr></tbody></table></div>"
      ]
     },
     "metadata": {
      "application/vnd.databricks.v1+output": {
       "addedWidgets": {},
       "aggData": [],
       "aggError": "",
       "aggOverflow": false,
       "aggSchema": [],
       "aggSeriesLimitReached": false,
       "aggType": "",
       "arguments": {},
       "columnCustomDisplayInfos": {},
       "data": [
        [
         "APEL",
         "Asian-Pacific Economic Literature",
         "Blackwell",
         "no",
         123,
         440,
         3822,
         21,
         1986,
         14,
         "General"
        ],
        [
         "SAJoEH",
         "South African Journal of Economic History",
         "So Afr ec history assn",
         "no",
         20,
         309,
         1782,
         22,
         1986,
         59,
         "Economic History"
        ],
        [
         "CE",
         "Computational Economics",
         "Kluwer",
         "no",
         443,
         567,
         2924,
         22,
         1987,
         17,
         "Specialized"
        ],
        [
         "MEPiTE",
         "MOCT-MOST Economic Policy in Transitional Economics",
         "Kluwer",
         "no",
         276,
         520,
         3234,
         22,
         1991,
         2,
         "Area Studies"
        ],
        [
         "JoSE",
         "Journal of Socio-Economics",
         "Elsevier",
         "no",
         295,
         791,
         3024,
         24,
         1972,
         96,
         "Interdisciplinary"
        ],
        [
         "LabEc",
         "Labour Economics",
         "Elsevier",
         "no",
         344,
         609,
         2967,
         24,
         1994,
         15,
         "Labor"
        ],
        [
         "EDE",
         "Environment and Development Economics",
         "Cambridge Univ Pres",
         "no",
         90,
         602,
         3185,
         24,
         1995,
         14,
         "Development"
        ],
        [
         "RoRPE",
         "Review of Radical Political Economics",
         "Elsevier",
         "no",
         242,
         665,
         2688,
         27,
         1968,
         202,
         "Specialized"
        ],
        [
         "EoP",
         "Economics of Planning",
         "Kluwer",
         "no",
         226,
         243,
         3010,
         28,
         1987,
         46,
         "Area Studies"
        ],
        [
         "Mt",
         "Metroeconomica",
         "Blackwell",
         "no",
         262,
         386,
         2501,
         30,
         1949,
         46,
         "General"
        ],
        [
         "JoCP",
         "Journal of Consumer Policy",
         "Kluwer",
         "no",
         279,
         578,
         2200,
         32,
         1978,
         57,
         "Consumer Economics"
        ],
        [
         "REE",
         "Real Estate Economics",
         "MIT",
         "no",
         165,
         749,
         2496,
         35,
         1973,
         125,
         "Specialized"
        ],
        [
         "DPR",
         "Development Policy Review",
         "Blackwell",
         "no",
         242,
         427,
         2731,
         36,
         1982,
         30,
         "Development"
        ],
        [
         "MaDE",
         "Managerial and Decision Econ",
         "Wiley",
         "no",
         905,
         292,
         4472,
         37,
         1980,
         62,
         "Management Science"
        ],
        [
         "JoEF",
         "Journal of Empirical Finance",
         "Elsevier",
         "no",
         355,
         607,
         3053,
         37,
         1994,
         16,
         "Finance"
        ],
        [
         "JoEMS",
         "International Journal of Finance & Economics",
         "Springer",
         "no",
         375,
         351,
         4025,
         40,
         1996,
         17,
         "Finance"
        ],
        [
         "JoE&MS",
         "Journal of Economics & Management Strategy",
         "MIT Press",
         "no",
         135,
         602,
         2394,
         42,
         1992,
         37,
         "Management Science"
        ],
        [
         "AEJ",
         "Atlantic Economic Journal",
         "Intnl Atlantic Ec. Soc.",
         "no",
         171,
         447,
         3139,
         44,
         1972,
         148,
         "General"
        ],
        [
         "EDQ",
         "Economic Development Quarterly",
         "Sage",
         "no",
         284,
         385,
         3318,
         47,
         1987,
         110,
         "Development"
        ],
        [
         "CER",
         "China Economic Review",
         "Elsevier",
         "no",
         242,
         167,
         3619,
         47,
         1989,
         16,
         "Area Studies"
        ],
        [
         "IEP",
         "Information Economics and Policy",
         "Elsevier",
         "no",
         371,
         442,
         2924,
         50,
         1984,
         30,
         "Specialized"
        ],
        [
         "AEP",
         "Australian Economic Papers",
         "Blackwell",
         "no",
         115,
         495,
         3792,
         51,
         1961,
         61,
         "General"
        ],
        [
         "JWE",
         "Japan and the World Economy",
         "Elsevier",
         "no",
         355,
         577,
         3443,
         56,
         1988,
         27,
         "Area Studies"
        ],
        [
         "JoES",
         "Journal of Economic Surveys",
         "Blackwell",
         "no",
         355,
         674,
         2835,
         61,
         1987,
         45,
         "General"
        ],
        [
         "IME",
         "Insurance  Mathematics & Economics",
         "Elsevier",
         "no",
         835,
         745,
         4263,
         61,
         1982,
         15,
         "Insurance"
        ],
        [
         "DE",
         "De Economist",
         "Kluwer",
         "no",
         223,
         579,
         2594,
         62,
         1852,
         25,
         "General"
        ],
        [
         "RoSE",
         "Review of Social Economy",
         "Routledge",
         "no",
         172,
         578,
         2720,
         66,
         1943,
         203,
         "General"
        ],
        [
         "BP",
         "Brookings Papers",
         "Brookings Inst.",
         "no",
         62,
         394,
         2368,
         67,
         1970,
         646,
         "Public Finance"
        ],
        [
         "PiRS",
         "Papers in Regional Science",
         "Springer",
         "no",
         191,
         442,
         2925,
         68,
         1922,
         59,
         "Urban and Regional"
        ],
        [
         "JoPE",
         "Journal of Population Economics",
         "Springer",
         "no",
         411,
         640,
         3264,
         69,
         1987,
         27,
         "Demography"
        ],
        [
         "FS",
         "Finance and Stochastics",
         "Springer",
         "no",
         274,
         492,
         3060,
         69,
         1996,
         31,
         "Finance"
        ],
        [
         "IO",
         "International Organization",
         "MIT",
         "no",
         130,
         814,
         3024,
         69,
         1947,
         532,
         "Industrial Organization"
        ],
        [
         "CPP",
         "Canadian Public Policy",
         "University of Toronto Press",
         "no",
         100,
         714,
         2248,
         75,
         1975,
         52,
         "Public Finance"
        ],
        [
         "DvE",
         "Developing Economies",
         "Inst of Devel Econ",
         "no",
         80,
         539,
         3345,
         76,
         1963,
         87,
         "Development"
        ],
        [
         "JoHoEc",
         "Journal of Housing Economics",
         "Academic Press",
         "no",
         235,
         330,
         2623,
         78,
         1982,
         27,
         "Specialized"
        ],
        [
         "JoEB",
         "Journal of Economics & Business",
         "Elsevier",
         "no",
         392,
         563,
         3456,
         80,
         1948,
         291,
         "Business"
        ],
        [
         "JoEvEc",
         "Journal of Evolutionary Economics",
         "Springer",
         "no",
         410,
         526,
         2989,
         81,
         1991,
         9,
         "Specialized"
        ],
        [
         "EmpEc",
         "Empirical Economics",
         "Springer",
         "no",
         464,
         719,
         3366,
         82,
         1976,
         24,
         "General"
        ],
        [
         "ER",
         "Econometric Reviews",
         "Dekker",
         "no",
         650,
         448,
         2418,
         85,
         1981,
         49,
         "Econometrics"
        ],
        [
         "AgE",
         "Agricultural Economics",
         "Elsevier",
         "no",
         558,
         610,
         4032,
         87,
         1986,
         24,
         "Agricultural Economics"
        ],
        [
         "QRoEF",
         "Quarterly Review of Economics & Finance",
         "Elsevier",
         "no",
         317,
         931,
         3036,
         87,
         1961,
         323,
         "Finance"
        ],
        [
         "AEL",
         "Applied Economics Letters",
         "Routledge",
         "no",
         495,
         774,
         5610,
         89,
         1994,
         69,
         "General"
        ],
        [
         "EM",
         "Economic Modelling",
         "Elsevier",
         "no",
         535,
         632,
         2880,
         89,
         1983,
         21,
         "General"
        ],
        [
         "GC",
         "Growth and Change",
         "Blackwell",
         "no",
         123,
         302,
         2772,
         97,
         1969,
         212,
         "Development"
        ],
        [
         "ERE",
         "Environmental and Resource Economics",
         "Kluwer",
         "no",
         717,
         1061,
         2924,
         97,
         1992,
         14,
         "Natural Resources"
        ],
        [
         "JoRE",
         "Journal of Regulatory Economics",
         "Kluwer",
         "no",
         481,
         628,
         3666,
         98,
         1991,
         38,
         "Industrial Organization"
        ],
        [
         "BoIES",
         "Bulletin of Indonesian Economic Studies",
         "ANU Press",
         "no",
         54,
         518,
         2858,
         98,
         1964,
         22,
         "Specialized"
        ],
        [
         "AoRS",
         "Annals of Regional Science",
         "Springer",
         "no",
         379,
         580,
         2914,
         100,
         1967,
         77,
         "Urban and Regional"
        ],
        [
         "CEP",
         "Contemporary Economic Policy",
         "Oxford Univ Press",
         "no",
         168,
         566,
         4104,
         109,
         1982,
         290,
         "Public Finance"
        ],
        [
         "JoEcEd",
         "Journal of Economic Education",
         "Heldref",
         "no",
         82,
         426,
         2990,
         112,
         1970,
         386,
         "Specialized"
        ],
        [
         "JoJIE",
         "Journal of the Japanese & International Economies",
         "Academic Press",
         "no",
         355,
         451,
         2541,
         119,
         1986,
         50,
         "Area Studies"
        ],
        [
         "EaP",
         "Economics and Philosophy",
         "Cambridge Univ Pres",
         "no",
         95,
         373,
         2574,
         121,
         1984,
         144,
         "Interdisciplinary"
        ],
        [
         "JoFI",
         "Journal of Financial Intermediation",
         "Academic Press",
         "no",
         240,
         420,
         2773,
         121,
         1991,
         48,
         "Finance"
        ],
        [
         "RaEE",
         "Resource and Energy Economics",
         "Elsevier",
         "no",
         448,
         416,
         3010,
         122,
         1978,
         33,
         "Natural Resources"
        ],
        [
         "ORoEP",
         "Oxford Review of Economic Policy",
         "Oxford Univ Press",
         "no",
         255,
         600,
         4284,
         124,
         1985,
         29,
         "Public Finance"
        ],
        [
         "RoIO",
         "Review of Industrial Organization",
         "Kluwer",
         "no",
         448,
         792,
         1820,
         126,
         1990,
         58,
         "Industrial Organization"
        ],
        [
         "IRoLE",
         "International Review of Law & Economics",
         "Elsevier",
         "no",
         392,
         585,
         3479,
         126,
         1980,
         71,
         "Law and Economics"
        ],
        [
         "JoWT",
         "Journal of World Trade",
         "Kluwer",
         "no",
         475,
         1138,
         3088,
         134,
         1967,
         135,
         "International"
        ],
        [
         "JoM",
         "Journal of Macroeconomics",
         "LSU Press",
         "no",
         85,
         856,
         2562,
         137,
         1979,
         183,
         "Macroeconomics"
        ],
        [
         "AJoES",
         "American Journal of Economics & Sociology",
         "Blackwell",
         "no",
         108,
         578,
         2331,
         138,
         1941,
         573,
         "Interdisciplinary"
        ],
        [
         "PFR",
         "Public Finance Review",
         "Sage",
         "no",
         394,
         636,
         2204,
         138,
         1973,
         268,
         "Public Finance"
        ],
        [
         "MnchSc",
         "Manchester School",
         "Blackwell",
         "no",
         336,
         618,
         2772,
         140,
         1930,
         57,
         "General"
        ],
        [
         "EnE",
         "Energy Economics",
         "Elsevier",
         "no",
         565,
         495,
         3038,
         143,
         1978,
         52,
         "Natural Resources"
        ],
        [
         "ERoAE",
         "European Review of Agricultural Economics",
         "Oxford Univ Press",
         "no",
         255,
         573,
         3228,
         144,
         1974,
         21,
         "Agricultural Economics"
        ],
        [
         "LH",
         "Labor History",
         "Carfax",
         "no",
         165,
         515,
         3430,
         147,
         1960,
         479,
         "Labor"
        ],
        [
         "WA",
         "Weltwirtschaftliches Archiv / Review of World Economics",
         "Mohr Siebeck",
         "no",
         99,
         758,
         2499,
         150,
         1865,
         77,
         "General"
        ],
        [
         "SJoPE",
         "Scottish Journal of Political Economy",
         "Blackwell",
         "no",
         203,
         596,
         3036,
         151,
         1953,
         89,
         "General"
        ],
        [
         "DC",
         "Development and Change",
         "Blackwell",
         "no",
         318,
         888,
         2623,
         154,
         1970,
         83,
         "Development"
        ],
        [
         "JoREFE",
         "Journal of Real Estate Finance and Economics",
         "Kluwer",
         "no",
         476,
         630,
         3432,
         162,
         1990,
         59,
         "Business"
        ],
        [
         "JoPopEc",
         "Journal of Policy Modeling",
         "Elsevier",
         "no",
         473,
         907,
         2160,
         164,
         1979,
         67,
         "Specialized"
        ],
        [
         "JoPKE",
         "Journal of Post-Keynesian Economics",
         "M.E Sharpe",
         "no",
         186,
         550,
         2360,
         170,
         1978,
         225,
         "General"
        ],
        [
         "EP",
         "Economic Policy",
         "Blackwell",
         "no",
         170,
         440,
         2856,
         179,
         1985,
         56,
         "Public Finance"
        ],
        [
         "MSS",
         "Mathematical Social Sciences",
         "Elsevier",
         "no",
         824,
         697,
         3420,
         180,
         1981,
         36,
         "Interdisciplinary"
        ],
        [
         "Om",
         "Omega",
         "Elsevier",
         "no",
         805,
         780,
         4028,
         183,
         1973,
         101,
         "Business"
        ],
        [
         "HoPE",
         "History of Political Economy",
         "Duke Univ Press",
         "no",
         132,
         767,
         2280,
         183,
         1969,
         288,
         "Economic History"
        ],
        [
         "EcRec",
         "Economic Record",
         "Ec. Society of Australia",
         "yes",
         50,
         421,
         4320,
         188,
         1925,
         183,
         "General"
        ],
        [
         "JoPA",
         "Journal of Productivity Analysis",
         "Kluwer",
         "no",
         424,
         567,
         3432,
         188,
         1992,
         25,
         "General"
        ],
        [
         "RoIW",
         "Review of Income and Wealth",
         "Int Assn for Res in I & W",
         "yes",
         130,
         585,
         3312,
         189,
         1945,
         120,
         "Public Finance"
        ],
        [
         "JoRI",
         "Journal of Risk and Insurance",
         "Am. Risk & Ins. Assn",
         "yes",
         90,
         720,
         2924,
         193,
         1964,
         263,
         "Insurance"
        ],
        [
         "TWE",
         "The World Economy",
         "Blackwell",
         "no",
         805,
         1270,
         2842,
         214,
         1977,
         101,
         "Development"
        ],
        [
         "JoAE",
         "Journal of Agricultural Economics",
         "Agric. Econ. Society",
         "yes",
         96,
         277,
         4218,
         220,
         1948,
         43,
         "Agricultural Economics"
        ],
        [
         "EoER",
         "Economics of Education Review",
         "Elsevier",
         "no",
         448,
         471,
         5040,
         224,
         1982,
         73,
         "Specialized"
        ],
        [
         "JoLR",
         "Journal of Labor Research",
         "George Mason Univ",
         "no",
         130,
         725,
         3010,
         227,
         1980,
         221,
         "Labor"
        ],
        [
         "TD",
         "Theory and Decision",
         "Kluwer",
         "no",
         595,
         607,
         2072,
         237,
         1970,
         83,
         "Theory"
        ],
        [
         "SCW",
         "Social Choice & Welfare",
         "Springer",
         "no",
         474,
         674,
         2990,
         239,
         1984,
         37,
         "Public Finance"
        ],
        [
         "JoCE",
         "Journal of Comparative Economics",
         "Academic Press",
         "no",
         410,
         803,
         2442,
         245,
         1977,
         185,
         "Area Studies"
        ],
        [
         "JoEP",
         "Journal of Economic Psychology",
         "Elsevier",
         "no",
         395,
         802,
         2535,
         245,
         1981,
         61,
         "Interdisciplinary"
        ],
        [
         "IJoF",
         "International Journal of Forecasting",
         "Elsevier",
         "no",
         437,
         464,
         4324,
         249,
         1985,
         57,
         "Specialized"
        ],
        [
         "Ky",
         "Kyklos",
         "Helbing & Lichtenhahn",
         "no",
         270,
         618,
         2760,
         254,
         1948,
         186,
         "General"
        ],
        [
         "EiEH",
         "Explorations in Economic History",
         "Academic Press",
         "no",
         265,
         447,
         2904,
         261,
         1963,
         199,
         "Economic History"
        ],
        [
         "ET",
         "Economic Theory",
         "Springer",
         "no",
         899,
         1493,
         2806,
         264,
         1992,
         165,
         "Theory"
        ],
        [
         "JoTEP",
         "Journal of Transport Economics & Policy",
         "LSE and Univ of Bath",
         "no",
         133,
         406,
         3182,
         292,
         1967,
         95,
         "Specialized"
        ],
        [
         "BJoIR",
         "British Journal of Industrial Relations",
         "Blackwell",
         "no",
         262,
         663,
         3450,
         294,
         1963,
         82,
         "Specialized"
        ],
        [
         "JoCMS",
         "Journal of Common Market Studies",
         "Blackwell",
         "no",
         506,
         710,
         2747,
         299,
         1962,
         214,
         "Area Studies"
        ],
        [
         "JoFM",
         "Journal of Futures Markets",
         "Wiley",
         "no",
         1140,
         990,
         2460,
         302,
         1981,
         152,
         "Finance"
        ],
        [
         "JITE",
         "Journal of Institutional & Theoretical Economics",
         "Mohr Siebeck",
         "no",
         211,
         792,
         3402,
         313,
         1844,
         33,
         "General"
        ],
        [
         "IJoIO",
         "International Journal of Industrial Organization",
         "Elsevier",
         "no",
         799,
         1230,
         3124,
         313,
         1983,
         81,
         "Industrial Organization"
        ],
        [
         "JoFo",
         "Journal of Forecasting",
         "Wiley",
         "no",
         760,
         516,
         4032,
         317,
         1982,
         137,
         "Specialized"
        ],
        [
         "ORL",
         "Operations Research Letters",
         "Elsevier",
         "no",
         442,
         460,
         4056,
         338,
         1982,
         59,
         "Management Science"
        ],
        [
         "SJoE",
         "Scandinavian Journal of Economics",
         "Blackwell",
         "no",
         296,
         688,
         2666,
         339,
         1898,
         98,
         "General"
        ],
        [
         "CJoE",
         "Cambridge Journal of Economics",
         "Oxford Univ Press",
         "no",
         272,
         814,
         3545,
         351,
         1976,
         163,
         "General"
        ],
        [
         "JoEI",
         "Journal of Economic Issues",
         "Assn Ev. Economics",
         "yes",
         45,
         1003,
         2870,
         355,
         1967,
         462,
         "Public Finance"
        ],
        [
         "RSUE",
         "Regional Science & Urban Economics",
         "Elsevier",
         "no",
         614,
         802,
         2967,
         370,
         1971,
         99,
         "Urban and Regional"
        ],
        [
         "IJoGT",
         "International Journal of Game Theory",
         "Springer",
         "no",
         436,
         582,
         3366,
         382,
         1971,
         52,
         "Theory"
        ],
        [
         "JoRaU",
         "Journal of Risk and Uncertainty",
         "Kluwer",
         "no",
         481,
         595,
         3476,
         383,
         1990,
         47,
         "Insurance"
        ],
        [
         "JoRU",
         "Journal of Financial and Quantitative Analysis",
         "Univ Wash Press",
         "no",
         95,
         500,
         3314,
         388,
         1966,
         394,
         "Finance"
        ],
        [
         "JoDS",
         "Journal of Development Studies",
         "Frank Cass",
         "no",
         357,
         500,
         2604,
         388,
         1964,
         227,
         "Development"
        ],
        [
         "EcmtrT",
         "Econometric Theory",
         "Cambridge Univ Pres",
         "no",
         280,
         899,
         2948,
         390,
         1985,
         65,
         "Econometrics"
        ],
        [
         "JoRS",
         "Journal of Regional Science",
         "Blackwell",
         "no",
         142,
         764,
         2992,
         397,
         1961,
         242,
         "Urban and Regional"
        ],
        [
         "JoA&E",
         "Journal of Accounting & Economics",
         "Elsevier",
         "no",
         710,
         1112,
         2945,
         406,
         1979,
         154,
         "Interdisciplinary"
        ],
        [
         "GaEB",
         "Games and Economic Behavior",
         "Academic Press",
         "no",
         490,
         1197,
         2460,
         412,
         1988,
         45,
         "Theory"
        ],
        [
         "JAE",
         "Journal of Applied Econometrics",
         "Wiley",
         "no",
         870,
         689,
         3680,
         412,
         1986,
         81,
         "Econometrics"
        ],
        [
         "JoMathEc",
         "Journal of Mathematical Economics",
         "Elsevier",
         "no",
         1147,
         1340,
         2940,
         418,
         1974,
         79,
         "Theory"
        ],
        [
         "JoIMF",
         "Journal of International Money and Finance",
         "Elsevier",
         "no",
         743,
         940,
         2660,
         427,
         1981,
         120,
         "International"
        ],
        [
         "RS",
         "Regional Studies",
         "Carfax",
         "no",
         759,
         911,
         4988,
         440,
         1967,
         91,
         "Urban and Regional"
        ],
        [
         "PDR",
         "Population & Development Review",
         "Population Council",
         "no",
         36,
         910,
         2904,
         445,
         1975,
         218,
         "Demography"
        ],
        [
         "ES",
         "Economy and Society",
         "Routledge",
         "no",
         224,
         640,
         2970,
         488,
         1971,
         97,
         "General"
        ],
        [
         "DS",
         "Decision Sciences",
         "Georgia State Univ",
         "no",
         82,
         1067,
         3124,
         495,
         1970,
         322,
         "Management Science"
        ],
        [
         "JoIndEc",
         "Journal of Industrial Economics",
         "Blackwell",
         "no",
         160,
         476,
         2684,
         497,
         1953,
         283,
         "Industrial Organization"
        ],
        [
         "EE",
         "Ecological Economics",
         "Elsevier",
         "no",
         1170,
         1990,
         4128,
         499,
         1989,
         40,
         "Natural Resources"
        ],
        [
         "NTJ",
         "National Tax Journal",
         "National Tax Assn.",
         "no",
         90,
         785,
         2940,
         502,
         1948,
         552,
         "Public Finance"
        ],
        [
         "US",
         "Urban Studies",
         "Carfax",
         "no",
         742,
         1711,
         3747,
         508,
         1964,
         222,
         "Urban and Regional"
        ],
        [
         "HE",
         "Health Economics",
         "Wiley",
         "no",
         575,
         736,
         4264,
         544,
         1992,
         29,
         "Health"
        ],
        [
         "EHR",
         "Economic History Review",
         "Blackwell",
         "no",
         163,
         846,
         3570,
         545,
         1947,
         390,
         "Economic History"
        ],
        [
         "RoFS",
         "Review of Financial Studies",
         "Oxford Univ. Press",
         "no",
         175,
         1235,
         2604,
         547,
         1988,
         95,
         "Finance"
        ],
        [
         "CJE",
         "Canadian Journal of Economics",
         "Blackwell",
         "yes",
         120,
         1247,
         2992,
         556,
         1967,
         305,
         "General"
        ],
        [
         "RA",
         "Risk Analysis",
         "Kluwer",
         "no",
         590,
         1260,
         4628,
         574,
         1981,
         98,
         "Insurance"
        ],
        [
         "AE",
         "Applied Economics",
         "Routledge",
         "no",
         2120,
         1683,
         5445,
         578,
         1958,
         146,
         "General"
        ],
        [
         "OEP",
         "Oxford Economic Papers",
         "Oxford Univ. Press",
         "no",
         205,
         767,
         2924,
         582,
         1949,
         271,
         "General"
        ],
        [
         "EDCC",
         "Economic Development & Cultural Change",
         "Univ of Chicago Press",
         "no",
         128,
         889,
         2700,
         597,
         1952,
         515,
         "Development"
        ],
        [
         "JoBF",
         "Journal of Banking and Finance",
         "Elsevier",
         "no",
         1539,
         1911,
         2516,
         602,
         1977,
         172,
         "Finance"
        ],
        [
         "OBoES",
         "Oxford Bulletin of Economics & Statistics",
         "Blackwell",
         "no",
         346,
         545,
         2655,
         617,
         1939,
         127,
         "General"
        ],
        [
         "JoEDC",
         "Journal of Economic Dynamics & Control",
         "Elsevier",
         "yes",
         1046,
         1636,
         2945,
         636,
         1979,
         58,
         "Theory"
        ],
        [
         "SEJ",
         "Southern Economic Journal",
         "Southern Econ. Assn",
         "yes",
         97,
         1032,
         3680,
         646,
         1932,
         524,
         "General"
        ],
        [
         "JoMS",
         "Journal of Management Studies",
         "Blackwell",
         "no",
         686,
         850,
         3456,
         654,
         1964,
         222,
         "Management Science"
        ],
        [
         "JoBE",
         "Journal of Business Ethics",
         "Kluwer",
         "no",
         914,
         1270,
         3650,
         662,
         1981,
         385,
         "Business"
        ],
        [
         "Dm",
         "Demography",
         "Pop Assn America",
         "no",
         85,
         568,
         6859,
         670,
         1964,
         413,
         "Demography"
        ],
        [
         "EI",
         "Economic Inquiry",
         "Oxford Univ Press",
         "no",
         206,
         684,
         4134,
         684,
         1962,
         366,
         "General"
        ],
        [
         "JoEBO",
         "Journal of Economic Behavior & Organization",
         "Elsevier",
         "no",
         1154,
         1380,
         3330,
         698,
         1980,
         75,
         "Theory"
        ],
        [
         "JoLS",
         "Journal of Legal Studies",
         "Univ of Chicago Press",
         "no",
         45,
         530,
         2625,
         700,
         1972,
         238,
         "Law and Economics"
        ],
        [
         "JoDE",
         "Journal of Development Economics",
         "Elsevier",
         "no",
         1146,
         1110,
         2816,
         707,
         1974,
         142,
         "Development"
        ],
        [
         "LanEc",
         "Land Economics",
         "Univ of Wisconsin Press",
         "no",
         95,
         580,
         3672,
         730,
         1925,
         437,
         "Urban and Regional"
        ],
        [
         "JoLE",
         "Journal of Labor Economics",
         "Univ of Chicago Press",
         "no",
         138,
         600,
         2728,
         733,
         1983,
         269,
         "Labor"
        ],
        [
         "JoEH",
         "Journal of Economic History",
         "Cambridge Univ Pres",
         "no",
         115,
         1200,
         4029,
         737,
         1941,
         643,
         "Economic History"
        ],
        [
         "JoUE",
         "Journal of Urban Economics",
         "Academic Press",
         "no",
         640,
         1058,
         2666,
         787,
         1974,
         230,
         "Urban and Regional"
        ],
        [
         "Ecnmc",
         "Economica",
         "Blackwell",
         "no",
         122,
         565,
         3120,
         825,
         1933,
         313,
         "General"
        ],
        [
         "JoMCB",
         "Journal of Money Credit & Banking",
         "Ohio State Univ. Press",
         "no",
         110,
         860,
         3168,
         834,
         1969,
         512,
         "Macroeconomics"
        ],
        [
         "JoIntEc",
         "Journal of International Economics",
         "Elsevier",
         "no",
         923,
         1299,
         2898,
         838,
         1971,
         211,
         "International"
        ],
        [
         "PC",
         "Public Choice",
         "Kluwer",
         "no",
         1000,
         1600,
         2583,
         871,
         1966,
         171,
         "Public Finance"
        ],
        [
         "RP",
         "Research Policy",
         "Elsevier",
         "no",
         1234,
         781,
         4320,
         922,
         1972,
         34,
         "Business"
        ],
        [
         "EL",
         "Economics Letters",
         "Elsevier",
         "no",
         1492,
         1540,
         3315,
         930,
         1978,
         81,
         "General"
        ],
        [
         "JoHeEc",
         "Journal of Health Economics",
         "Elsevier",
         "no",
         810,
         828,
         2924,
         957,
         1982,
         144,
         "Health"
        ],
        [
         "JBES",
         "Journal of Business & Economic Statistics",
         "Am Stat Assn",
         "yes",
         90,
         510,
         6360,
         988,
         1983,
         190,
         "Business"
        ],
        [
         "RJoE",
         "Rand Journal of Economics",
         "RAND",
         "no",
         177,
         757,
         3450,
         1039,
         1970,
         339,
         "Industrial Organization"
        ],
        [
         "JoB",
         "Journal of Business",
         "Univ of Chicago Press",
         "no",
         74,
         583,
         2655,
         1083,
         1928,
         771,
         "Business"
        ],
        [
         "JoHR",
         "Journal of Human Resources",
         "Univ of Wisconsin Press",
         "no",
         113,
         837,
         3312,
         1113,
         1966,
         522,
         "Labor"
        ],
        [
         "IER",
         "International Economic Review",
         "Blackwell",
         "no",
         145,
         969,
         3082,
         1113,
         1960,
         284,
         "General"
        ],
        [
         "JoEEM",
         "Journal of Environmental Economics & Managment",
         "Academic Press",
         "no",
         590,
         636,
         3096,
         1152,
         1974,
         202,
         "Natural Resources"
        ],
        [
         "EER",
         "European Economic Review",
         "Elsevier",
         "yes",
         1154,
         1823,
         2178,
         1243,
         1969,
         118,
         "General"
        ],
        [
         "WD",
         "World Development",
         "Elsevier",
         "no",
         1450,
         1145,
         5480,
         1408,
         1973,
         160,
         "Development"
        ],
        [
         "JoPubEc",
         "Journal of Public Economics",
         "Elsevier",
         "no",
         1431,
         1880,
         2924,
         1437,
         1972,
         141,
         "Public Finance"
        ],
        [
         "JEL",
         "Journal of Economic Literature",
         "Am Ec Assn",
         "yes",
         47,
         2632,
         3848,
         1530,
         1963,
         972,
         "General"
        ],
        [
         "JoLaE",
         "Journal of Law and Economics",
         "Univ of Chicago Press",
         "no",
         45,
         850,
         2604,
         1580,
         1968,
         542,
         "Law and Economics"
        ],
        [
         "JEP",
         "Journal of Economic Perspectives",
         "Am Ec Assn",
         "yes",
         47,
         940,
         3036,
         1583,
         1987,
         866,
         "General"
        ],
        [
         "AJoAE",
         "American Journal of Agricultural Economics",
         "Am. Ag. Econ Assn",
         "no",
         81,
         1253,
         4368,
         1812,
         1918,
         267,
         "Agricultural Economics"
        ],
        [
         "JoMonEc",
         "Journal of Monetary Economics",
         "Elsevier",
         "no",
         1010,
         1346,
         3174,
         1860,
         1975,
         186,
         "Macroeconomics"
        ],
        [
         "MngtSc",
         "Management Science",
         "Inst for OR and MS",
         "no",
         334,
         1175,
         4232,
         2022,
         1954,
         558,
         "Management Science"
        ],
        [
         "RoE&S",
         "Review of Economics & Statistics",
         "MIT press",
         "no",
         190,
         733,
         5600,
         2331,
         1919,
         523,
         "General"
        ],
        [
         "RoES",
         "Review of Economic Studies",
         "Blackwell",
         "no",
         180,
         761,
         3626,
         2411,
         1933,
         325,
         "General"
        ],
        [
         "JoE",
         "Journal of Econometrics",
         "Elsevier",
         "no",
         1893,
         1527,
         2178,
         2479,
         1973,
         129,
         "Econometrics"
        ],
        [
         "JoET",
         "Journal of Economic Theory",
         "Academic Press",
         "no",
         1400,
         2000,
         2684,
         2514,
         1969,
         165,
         "Theory"
        ],
        [
         "EJ",
         "Economic Journal",
         "Blackwell",
         "no",
         301,
         1983,
         3036,
         2540,
         1890,
         531,
         "General"
        ],
        [
         "JoFE",
         "Journal of Financial Economics",
         "Elsevier",
         "no",
         1339,
         1947,
         2838,
         2676,
         1974,
         231,
         "Finance"
        ],
        [
         "JoCR",
         "Journal of Consumer Research",
         "Univ of Chicago Press",
         "no",
         90,
         439,
         5336,
         2762,
         1974,
         536,
         "Consumer Economics"
        ],
        [
         "JASA",
         "Journal of the American Statistical Association",
         "Am. Statistical Assn",
         "yes",
         310,
         1260,
         5664,
         2800,
         1971,
         487,
         "Econometrics"
        ],
        [
         "JoFi",
         "Journal of Finance",
         "Am. Finance Assn",
         "yes",
         226,
         2272,
         3036,
         3791,
         1945,
         799,
         "Finance"
        ],
        [
         "QJoE",
         "Quarterly Journal of Economics",
         "MIT press",
         "no",
         148,
         1467,
         2184,
         4138,
         1886,
         660,
         "General"
        ],
        [
         "JoPolEc",
         "Journal of Political Economy",
         "Univ of Chicago Press",
         "no",
         159,
         1669,
         2640,
         6697,
         1892,
         737,
         "General"
        ],
        [
         "Ecnmt",
         "Econometrica",
         "Blackwell",
         "yes",
         178,
         1482,
         2992,
         7943,
         1932,
         346,
         "General"
        ],
        [
         "AER",
         "American Economic Review",
         "Am Ec Assn",
         "yes",
         47,
         1867,
         3900,
         8999,
         1911,
         1098,
         "General"
        ]
       ],
       "datasetInfos": [],
       "dbfsResultPath": null,
       "isJsonSchema": true,
       "metadata": {},
       "overflow": false,
       "plotOptions": {
        "customPlotOptions": {},
        "displayType": "table",
        "pivotAggregation": null,
        "pivotColumns": null,
        "xColumns": null,
        "yColumns": null
       },
       "removedWidgets": [],
       "schema": [
        {
         "metadata": "{}",
         "name": "rownames",
         "type": "\"string\""
        },
        {
         "metadata": "{}",
         "name": "title",
         "type": "\"string\""
        },
        {
         "metadata": "{}",
         "name": "publisher",
         "type": "\"string\""
        },
        {
         "metadata": "{}",
         "name": "society",
         "type": "\"string\""
        },
        {
         "metadata": "{}",
         "name": "price",
         "type": "\"integer\""
        },
        {
         "metadata": "{}",
         "name": "pages",
         "type": "\"integer\""
        },
        {
         "metadata": "{}",
         "name": "charpp",
         "type": "\"integer\""
        },
        {
         "metadata": "{}",
         "name": "citations",
         "type": "\"integer\""
        },
        {
         "metadata": "{}",
         "name": "foundingyear",
         "type": "\"integer\""
        },
        {
         "metadata": "{}",
         "name": "subs",
         "type": "\"integer\""
        },
        {
         "metadata": "{}",
         "name": "field",
         "type": "\"string\""
        }
       ],
       "type": "table"
      }
     },
     "output_type": "display_data"
    }
   ],
   "source": [
    "account = \"datalakestorage09\"\n",
    "container = \"source\"\n",
    "sas = \"?sp=racwjnddlmeop&hyhst=2025-08-14T10:18:25Z&se=2025-08-14dcT18:33:25Z&spr=https&sv=2024-11-04&sr=c&sig=XS6Q570vvsvTV5c58ST0D%2BH6z5tkB1gsjhNhbgfxdVeh5YbpIv20%3D\"\n",
    "\n",
    "# Full ABFSS path\n",
    "csv_path = f\"abfss://{container}@{account}.dfs.core.windows.net/Journals.csv\"\n",
    "\n",
    "# Tell Spark to use SAS token\n",
    "spark.conf.set(f\"fs.azure.sas.{container}.{account}.dfs.core.windows.net\", sas_token[1:])\n",
    "\n",
    "# Read CSV\n",
    "df = spark.read.format(\"csv\") \\\n",
    "    .option(\"header\", \"true\") \\\n",
    "    .option(\"inferSchema\", \"true\") \\\n",
    "    .load(csv_path)\n",
    "\n",
    "display(df)\n"
   ]
  },
  {
   "cell_type": "markdown",
   "metadata": {
    "application/vnd.databricks.v1+cell": {
     "cellMetadata": {},
     "inputWidgets": {},
     "nuid": "33bc6a32-928c-4d15-9b65-375beb88c10f",
     "showTitle": false,
     "tableResultSettingsMap": {},
     "title": ""
    }
   },
   "source": [
    "# Data Overview"
   ]
  },
  {
   "cell_type": "code",
   "execution_count": 0,
   "metadata": {
    "application/vnd.databricks.v1+cell": {
     "cellMetadata": {
      "byteLimit": 2048000,
      "rowLimit": 10000
     },
     "inputWidgets": {},
     "nuid": "9148724a-c702-40a4-802e-79bb7c5fe17e",
     "showTitle": false,
     "tableResultSettingsMap": {},
     "title": ""
    }
   },
   "outputs": [
    {
     "name": "stdout",
     "output_type": "stream",
     "text": [
      "root\n",
      " |-- rownames: string (nullable = true)\n",
      " |-- title: string (nullable = true)\n",
      " |-- publisher: string (nullable = true)\n",
      " |-- society: string (nullable = true)\n",
      " |-- price: integer (nullable = true)\n",
      " |-- pages: integer (nullable = true)\n",
      " |-- charpp: integer (nullable = true)\n",
      " |-- citations: integer (nullable = true)\n",
      " |-- foundingyear: integer (nullable = true)\n",
      " |-- subs: integer (nullable = true)\n",
      " |-- field: string (nullable = true)\n",
      "\n",
      "+--------+--------------------+--------------------+-------+-----+-----+------+---------+------------+----+-----------------+\n",
      "|rownames|               title|           publisher|society|price|pages|charpp|citations|foundingyear|subs|            field|\n",
      "+--------+--------------------+--------------------+-------+-----+-----+------+---------+------------+----+-----------------+\n",
      "|    APEL|Asian-Pacific Eco...|           Blackwell|     no|  123|  440|  3822|       21|        1986|  14|          General|\n",
      "|  SAJoEH|South African Jou...|So Afr ec history...|     no|   20|  309|  1782|       22|        1986|  59| Economic History|\n",
      "|      CE|Computational Eco...|              Kluwer|     no|  443|  567|  2924|       22|        1987|  17|      Specialized|\n",
      "|  MEPiTE|MOCT-MOST Economi...|              Kluwer|     no|  276|  520|  3234|       22|        1991|   2|     Area Studies|\n",
      "|    JoSE|Journal of Socio-...|            Elsevier|     no|  295|  791|  3024|       24|        1972|  96|Interdisciplinary|\n",
      "+--------+--------------------+--------------------+-------+-----+-----+------+---------+------------+----+-----------------+\n",
      "only showing top 5 rows\n",
      "\n"
     ]
    },
    {
     "data": {
      "text/plain": [
       "180"
      ]
     },
     "execution_count": 19,
     "metadata": {},
     "output_type": "execute_result"
    }
   ],
   "source": [
    "df.printSchema()\n",
    "df.show(5)\n",
    "df.count()"
   ]
  },
  {
   "cell_type": "markdown",
   "metadata": {
    "application/vnd.databricks.v1+cell": {
     "cellMetadata": {},
     "inputWidgets": {},
     "nuid": "844e0387-4af2-4206-8723-a7ec4be289a2",
     "showTitle": false,
     "tableResultSettingsMap": {},
     "title": ""
    }
   },
   "source": [
    "#Mounting Azure Blob Storage in Databricks and Writing Delta Files"
   ]
  },
  {
   "cell_type": "code",
   "execution_count": 0,
   "metadata": {
    "application/vnd.databricks.v1+cell": {
     "cellMetadata": {
      "byteLimit": 2048000,
      "rowLimit": 10000
     },
     "inputWidgets": {},
     "nuid": "ec4aad6e-a6f4-4428-b0ae-594956cffd88",
     "showTitle": false,
     "tableResultSettingsMap": {},
     "title": ""
    }
   },
   "outputs": [
    {
     "data": {
      "text/plain": [
       "True"
      ]
     },
     "execution_count": 21,
     "metadata": {},
     "output_type": "execute_result"
    }
   ],
   "source": [
    "account = \"datalakestorage09\"\n",
    "container = \"source\"\n",
    "sas = \"?sp=racwjnddlmeop&hyhst=2025-08-14T10:18:25Z&se=2025-08-14dcT18:33:25Z&spr=https&sv=2024-11-04&sr=c&sig=XS6Q570vvsvTV5c58ST0D%2BH6z5tkB1gsjhNhbgfxdVeh5YbpIv20%3D\"\n",
    "\n",
    "dbutils.fs.mount(\n",
    "    source = f\"wasbs://{container}@{account}.blob.core.windows.net\",\n",
    "    mount_point = \"/mnt/mycontainer\",\n",
    "    extra_configs = {\n",
    "        f\"fs.azure.sas.{container}.{account}.blob.core.windows.net\": sas_token\n",
    "    }\n",
    ")\n"
   ]
  },
  {
   "cell_type": "code",
   "execution_count": 0,
   "metadata": {
    "application/vnd.databricks.v1+cell": {
     "cellMetadata": {
      "byteLimit": 2048000,
      "rowLimit": 10000
     },
     "inputWidgets": {},
     "nuid": "dd9b44ff-5910-4b99-84db-5a7a07f7753a",
     "showTitle": false,
     "tableResultSettingsMap": {},
     "title": ""
    }
   },
   "outputs": [
    {
     "data": {
      "text/plain": [
       "[FileInfo(path='dbfs:/mnt/mycontainer/Journals.csv', name='Journals.csv', size=15658, modificationTime=1755167090000)]"
      ]
     },
     "execution_count": 22,
     "metadata": {},
     "output_type": "execute_result"
    }
   ],
   "source": [
    "dbutils.fs.ls(\"/mnt/mycontainer\")"
   ]
  },
  {
   "cell_type": "code",
   "execution_count": 0,
   "metadata": {
    "application/vnd.databricks.v1+cell": {
     "cellMetadata": {
      "byteLimit": 2048000,
      "rowLimit": 10000
     },
     "inputWidgets": {},
     "nuid": "76743c25-14c0-478e-92bd-0482c0992778",
     "showTitle": false,
     "tableResultSettingsMap": {},
     "title": ""
    }
   },
   "outputs": [],
   "source": [
    "delta_path = \"/mnt/delta/Journals\"\n",
    "df.write.format(\"delta\").mode(\"overwrite\").save(delta_path)\n"
   ]
  },
  {
   "cell_type": "markdown",
   "metadata": {
    "application/vnd.databricks.v1+cell": {
     "cellMetadata": {},
     "inputWidgets": {},
     "nuid": "b92a4e95-a65f-43d2-a84e-574033d68495",
     "showTitle": false,
     "tableResultSettingsMap": {},
     "title": ""
    }
   },
   "source": [
    "#Delta Table Creation"
   ]
  },
  {
   "cell_type": "code",
   "execution_count": 0,
   "metadata": {
    "application/vnd.databricks.v1+cell": {
     "cellMetadata": {
      "byteLimit": 2048000,
      "rowLimit": 10000
     },
     "inputWidgets": {},
     "nuid": "0cf87e4e-4567-440b-adc8-07e6aa5b4fdc",
     "showTitle": false,
     "tableResultSettingsMap": {},
     "title": ""
    }
   },
   "outputs": [
    {
     "data": {
      "text/plain": [
       "DataFrame[]"
      ]
     },
     "execution_count": 24,
     "metadata": {},
     "output_type": "execute_result"
    }
   ],
   "source": [
    "spark.sql(\"\"\"\n",
    "    CREATE TABLE journals_delta\n",
    "    USING DELTA\n",
    "    LOCATION '/mnt/delta/Journals'\n",
    "\"\"\")"
   ]
  },
  {
   "cell_type": "code",
   "execution_count": 0,
   "metadata": {
    "application/vnd.databricks.v1+cell": {
     "cellMetadata": {
      "byteLimit": 2048000,
      "rowLimit": 10000
     },
     "inputWidgets": {},
     "nuid": "e51394d5-1cf6-4398-9793-127f3806340e",
     "showTitle": false,
     "tableResultSettingsMap": {},
     "title": ""
    }
   },
   "outputs": [
    {
     "name": "stdout",
     "output_type": "stream",
     "text": [
      "+--------+--------------------+--------------------+-------+-----+-----+------+---------+------------+----+-----------------+\n",
      "|rownames|               title|           publisher|society|price|pages|charpp|citations|foundingyear|subs|            field|\n",
      "+--------+--------------------+--------------------+-------+-----+-----+------+---------+------------+----+-----------------+\n",
      "|    APEL|Asian-Pacific Eco...|           Blackwell|     no|  123|  440|  3822|       21|        1986|  14|          General|\n",
      "|  SAJoEH|South African Jou...|So Afr ec history...|     no|   20|  309|  1782|       22|        1986|  59| Economic History|\n",
      "|      CE|Computational Eco...|              Kluwer|     no|  443|  567|  2924|       22|        1987|  17|      Specialized|\n",
      "|  MEPiTE|MOCT-MOST Economi...|              Kluwer|     no|  276|  520|  3234|       22|        1991|   2|     Area Studies|\n",
      "|    JoSE|Journal of Socio-...|            Elsevier|     no|  295|  791|  3024|       24|        1972|  96|Interdisciplinary|\n",
      "|   LabEc|    Labour Economics|            Elsevier|     no|  344|  609|  2967|       24|        1994|  15|            Labor|\n",
      "|     EDE|Environment and D...| Cambridge Univ Pres|     no|   90|  602|  3185|       24|        1995|  14|      Development|\n",
      "|   RoRPE|Review of Radical...|            Elsevier|     no|  242|  665|  2688|       27|        1968| 202|      Specialized|\n",
      "|     EoP|Economics of Plan...|              Kluwer|     no|  226|  243|  3010|       28|        1987|  46|     Area Studies|\n",
      "|      Mt|      Metroeconomica|           Blackwell|     no|  262|  386|  2501|       30|        1949|  46|          General|\n",
      "+--------+--------------------+--------------------+-------+-----+-----+------+---------+------------+----+-----------------+\n",
      "\n"
     ]
    }
   ],
   "source": [
    "spark.sql(\"SELECT * FROM journals_delta LIMIT 10\").show()"
   ]
  },
  {
   "cell_type": "markdown",
   "metadata": {
    "application/vnd.databricks.v1+cell": {
     "cellMetadata": {},
     "inputWidgets": {},
     "nuid": "f0890bfd-772c-4d4e-926e-052d7ea63ffd",
     "showTitle": false,
     "tableResultSettingsMap": {},
     "title": ""
    }
   },
   "source": [
    "# Transformation"
   ]
  },
  {
   "cell_type": "markdown",
   "metadata": {
    "application/vnd.databricks.v1+cell": {
     "cellMetadata": {},
     "inputWidgets": {},
     "nuid": "c3d76ab4-943a-44f7-b6de-b6f8f814ff5e",
     "showTitle": false,
     "tableResultSettingsMap": {},
     "title": ""
    }
   },
   "source": [
    "**1) Add price per page**\n",
    "\n",
    "Created a new column called price per page and added the price "
   ]
  },
  {
   "cell_type": "code",
   "execution_count": 0,
   "metadata": {
    "application/vnd.databricks.v1+cell": {
     "cellMetadata": {
      "byteLimit": 2048000,
      "rowLimit": 10000
     },
     "inputWidgets": {},
     "nuid": "755ce717-5241-4b61-bb8e-eabaeff88a1c",
     "showTitle": false,
     "tableResultSettingsMap": {},
     "title": ""
    }
   },
   "outputs": [
    {
     "data": {
      "text/html": [
       "<style scoped>\n",
       "  .table-result-container {\n",
       "    max-height: 300px;\n",
       "    overflow: auto;\n",
       "  }\n",
       "  table, th, td {\n",
       "    border: 1px solid black;\n",
       "    border-collapse: collapse;\n",
       "  }\n",
       "  th, td {\n",
       "    padding: 5px;\n",
       "  }\n",
       "  th {\n",
       "    text-align: left;\n",
       "  }\n",
       "</style><div class='table-result-container'><table class='table-result'><thead style='background-color: white'><tr><th>rownames</th><th>title</th><th>publisher</th><th>society</th><th>price</th><th>pages</th><th>charpp</th><th>citations</th><th>foundingyear</th><th>subs</th><th>field</th><th>price_per_page</th></tr></thead><tbody><tr><td>APEL</td><td>Asian-Pacific Economic Literature</td><td>Blackwell</td><td>no</td><td>123</td><td>440</td><td>3822</td><td>21</td><td>1986</td><td>14</td><td>General</td><td>0.28</td></tr><tr><td>SAJoEH</td><td>South African Journal of Economic History</td><td>So Afr ec history assn</td><td>no</td><td>20</td><td>309</td><td>1782</td><td>22</td><td>1986</td><td>59</td><td>Economic History</td><td>0.06</td></tr><tr><td>CE</td><td>Computational Economics</td><td>Kluwer</td><td>no</td><td>443</td><td>567</td><td>2924</td><td>22</td><td>1987</td><td>17</td><td>Specialized</td><td>0.78</td></tr><tr><td>MEPiTE</td><td>MOCT-MOST Economic Policy in Transitional Economics</td><td>Kluwer</td><td>no</td><td>276</td><td>520</td><td>3234</td><td>22</td><td>1991</td><td>2</td><td>Area Studies</td><td>0.53</td></tr><tr><td>JoSE</td><td>Journal of Socio-Economics</td><td>Elsevier</td><td>no</td><td>295</td><td>791</td><td>3024</td><td>24</td><td>1972</td><td>96</td><td>Interdisciplinary</td><td>0.37</td></tr><tr><td>LabEc</td><td>Labour Economics</td><td>Elsevier</td><td>no</td><td>344</td><td>609</td><td>2967</td><td>24</td><td>1994</td><td>15</td><td>Labor</td><td>0.56</td></tr><tr><td>EDE</td><td>Environment and Development Economics</td><td>Cambridge Univ Pres</td><td>no</td><td>90</td><td>602</td><td>3185</td><td>24</td><td>1995</td><td>14</td><td>Development</td><td>0.15</td></tr><tr><td>RoRPE</td><td>Review of Radical Political Economics</td><td>Elsevier</td><td>no</td><td>242</td><td>665</td><td>2688</td><td>27</td><td>1968</td><td>202</td><td>Specialized</td><td>0.36</td></tr><tr><td>EoP</td><td>Economics of Planning</td><td>Kluwer</td><td>no</td><td>226</td><td>243</td><td>3010</td><td>28</td><td>1987</td><td>46</td><td>Area Studies</td><td>0.93</td></tr><tr><td>Mt</td><td>Metroeconomica</td><td>Blackwell</td><td>no</td><td>262</td><td>386</td><td>2501</td><td>30</td><td>1949</td><td>46</td><td>General</td><td>0.68</td></tr><tr><td>JoCP</td><td>Journal of Consumer Policy</td><td>Kluwer</td><td>no</td><td>279</td><td>578</td><td>2200</td><td>32</td><td>1978</td><td>57</td><td>Consumer Economics</td><td>0.48</td></tr><tr><td>REE</td><td>Real Estate Economics</td><td>MIT</td><td>no</td><td>165</td><td>749</td><td>2496</td><td>35</td><td>1973</td><td>125</td><td>Specialized</td><td>0.22</td></tr><tr><td>DPR</td><td>Development Policy Review</td><td>Blackwell</td><td>no</td><td>242</td><td>427</td><td>2731</td><td>36</td><td>1982</td><td>30</td><td>Development</td><td>0.57</td></tr><tr><td>MaDE</td><td>Managerial and Decision Econ</td><td>Wiley</td><td>no</td><td>905</td><td>292</td><td>4472</td><td>37</td><td>1980</td><td>62</td><td>Management Science</td><td>3.1</td></tr><tr><td>JoEF</td><td>Journal of Empirical Finance</td><td>Elsevier</td><td>no</td><td>355</td><td>607</td><td>3053</td><td>37</td><td>1994</td><td>16</td><td>Finance</td><td>0.58</td></tr><tr><td>JoEMS</td><td>International Journal of Finance & Economics</td><td>Springer</td><td>no</td><td>375</td><td>351</td><td>4025</td><td>40</td><td>1996</td><td>17</td><td>Finance</td><td>1.07</td></tr><tr><td>JoE&MS</td><td>Journal of Economics & Management Strategy</td><td>MIT Press</td><td>no</td><td>135</td><td>602</td><td>2394</td><td>42</td><td>1992</td><td>37</td><td>Management Science</td><td>0.22</td></tr><tr><td>AEJ</td><td>Atlantic Economic Journal</td><td>Intnl Atlantic Ec. Soc.</td><td>no</td><td>171</td><td>447</td><td>3139</td><td>44</td><td>1972</td><td>148</td><td>General</td><td>0.38</td></tr><tr><td>EDQ</td><td>Economic Development Quarterly</td><td>Sage</td><td>no</td><td>284</td><td>385</td><td>3318</td><td>47</td><td>1987</td><td>110</td><td>Development</td><td>0.74</td></tr><tr><td>CER</td><td>China Economic Review</td><td>Elsevier</td><td>no</td><td>242</td><td>167</td><td>3619</td><td>47</td><td>1989</td><td>16</td><td>Area Studies</td><td>1.45</td></tr><tr><td>IEP</td><td>Information Economics and Policy</td><td>Elsevier</td><td>no</td><td>371</td><td>442</td><td>2924</td><td>50</td><td>1984</td><td>30</td><td>Specialized</td><td>0.84</td></tr><tr><td>AEP</td><td>Australian Economic Papers</td><td>Blackwell</td><td>no</td><td>115</td><td>495</td><td>3792</td><td>51</td><td>1961</td><td>61</td><td>General</td><td>0.23</td></tr><tr><td>JWE</td><td>Japan and the World Economy</td><td>Elsevier</td><td>no</td><td>355</td><td>577</td><td>3443</td><td>56</td><td>1988</td><td>27</td><td>Area Studies</td><td>0.62</td></tr><tr><td>JoES</td><td>Journal of Economic Surveys</td><td>Blackwell</td><td>no</td><td>355</td><td>674</td><td>2835</td><td>61</td><td>1987</td><td>45</td><td>General</td><td>0.53</td></tr><tr><td>IME</td><td>Insurance  Mathematics & Economics</td><td>Elsevier</td><td>no</td><td>835</td><td>745</td><td>4263</td><td>61</td><td>1982</td><td>15</td><td>Insurance</td><td>1.12</td></tr><tr><td>DE</td><td>De Economist</td><td>Kluwer</td><td>no</td><td>223</td><td>579</td><td>2594</td><td>62</td><td>1852</td><td>25</td><td>General</td><td>0.39</td></tr><tr><td>RoSE</td><td>Review of Social Economy</td><td>Routledge</td><td>no</td><td>172</td><td>578</td><td>2720</td><td>66</td><td>1943</td><td>203</td><td>General</td><td>0.3</td></tr><tr><td>BP</td><td>Brookings Papers</td><td>Brookings Inst.</td><td>no</td><td>62</td><td>394</td><td>2368</td><td>67</td><td>1970</td><td>646</td><td>Public Finance</td><td>0.16</td></tr><tr><td>PiRS</td><td>Papers in Regional Science</td><td>Springer</td><td>no</td><td>191</td><td>442</td><td>2925</td><td>68</td><td>1922</td><td>59</td><td>Urban and Regional</td><td>0.43</td></tr><tr><td>JoPE</td><td>Journal of Population Economics</td><td>Springer</td><td>no</td><td>411</td><td>640</td><td>3264</td><td>69</td><td>1987</td><td>27</td><td>Demography</td><td>0.64</td></tr><tr><td>FS</td><td>Finance and Stochastics</td><td>Springer</td><td>no</td><td>274</td><td>492</td><td>3060</td><td>69</td><td>1996</td><td>31</td><td>Finance</td><td>0.56</td></tr><tr><td>IO</td><td>International Organization</td><td>MIT</td><td>no</td><td>130</td><td>814</td><td>3024</td><td>69</td><td>1947</td><td>532</td><td>Industrial Organization</td><td>0.16</td></tr><tr><td>CPP</td><td>Canadian Public Policy</td><td>University of Toronto Press</td><td>no</td><td>100</td><td>714</td><td>2248</td><td>75</td><td>1975</td><td>52</td><td>Public Finance</td><td>0.14</td></tr><tr><td>DvE</td><td>Developing Economies</td><td>Inst of Devel Econ</td><td>no</td><td>80</td><td>539</td><td>3345</td><td>76</td><td>1963</td><td>87</td><td>Development</td><td>0.15</td></tr><tr><td>JoHoEc</td><td>Journal of Housing Economics</td><td>Academic Press</td><td>no</td><td>235</td><td>330</td><td>2623</td><td>78</td><td>1982</td><td>27</td><td>Specialized</td><td>0.71</td></tr><tr><td>JoEB</td><td>Journal of Economics & Business</td><td>Elsevier</td><td>no</td><td>392</td><td>563</td><td>3456</td><td>80</td><td>1948</td><td>291</td><td>Business</td><td>0.7</td></tr><tr><td>JoEvEc</td><td>Journal of Evolutionary Economics</td><td>Springer</td><td>no</td><td>410</td><td>526</td><td>2989</td><td>81</td><td>1991</td><td>9</td><td>Specialized</td><td>0.78</td></tr><tr><td>EmpEc</td><td>Empirical Economics</td><td>Springer</td><td>no</td><td>464</td><td>719</td><td>3366</td><td>82</td><td>1976</td><td>24</td><td>General</td><td>0.65</td></tr><tr><td>ER</td><td>Econometric Reviews</td><td>Dekker</td><td>no</td><td>650</td><td>448</td><td>2418</td><td>85</td><td>1981</td><td>49</td><td>Econometrics</td><td>1.45</td></tr><tr><td>AgE</td><td>Agricultural Economics</td><td>Elsevier</td><td>no</td><td>558</td><td>610</td><td>4032</td><td>87</td><td>1986</td><td>24</td><td>Agricultural Economics</td><td>0.91</td></tr><tr><td>QRoEF</td><td>Quarterly Review of Economics & Finance</td><td>Elsevier</td><td>no</td><td>317</td><td>931</td><td>3036</td><td>87</td><td>1961</td><td>323</td><td>Finance</td><td>0.34</td></tr><tr><td>AEL</td><td>Applied Economics Letters</td><td>Routledge</td><td>no</td><td>495</td><td>774</td><td>5610</td><td>89</td><td>1994</td><td>69</td><td>General</td><td>0.64</td></tr><tr><td>EM</td><td>Economic Modelling</td><td>Elsevier</td><td>no</td><td>535</td><td>632</td><td>2880</td><td>89</td><td>1983</td><td>21</td><td>General</td><td>0.85</td></tr><tr><td>GC</td><td>Growth and Change</td><td>Blackwell</td><td>no</td><td>123</td><td>302</td><td>2772</td><td>97</td><td>1969</td><td>212</td><td>Development</td><td>0.41</td></tr><tr><td>ERE</td><td>Environmental and Resource Economics</td><td>Kluwer</td><td>no</td><td>717</td><td>1061</td><td>2924</td><td>97</td><td>1992</td><td>14</td><td>Natural Resources</td><td>0.68</td></tr><tr><td>JoRE</td><td>Journal of Regulatory Economics</td><td>Kluwer</td><td>no</td><td>481</td><td>628</td><td>3666</td><td>98</td><td>1991</td><td>38</td><td>Industrial Organization</td><td>0.77</td></tr><tr><td>BoIES</td><td>Bulletin of Indonesian Economic Studies</td><td>ANU Press</td><td>no</td><td>54</td><td>518</td><td>2858</td><td>98</td><td>1964</td><td>22</td><td>Specialized</td><td>0.1</td></tr><tr><td>AoRS</td><td>Annals of Regional Science</td><td>Springer</td><td>no</td><td>379</td><td>580</td><td>2914</td><td>100</td><td>1967</td><td>77</td><td>Urban and Regional</td><td>0.65</td></tr><tr><td>CEP</td><td>Contemporary Economic Policy</td><td>Oxford Univ Press</td><td>no</td><td>168</td><td>566</td><td>4104</td><td>109</td><td>1982</td><td>290</td><td>Public Finance</td><td>0.3</td></tr><tr><td>JoEcEd</td><td>Journal of Economic Education</td><td>Heldref</td><td>no</td><td>82</td><td>426</td><td>2990</td><td>112</td><td>1970</td><td>386</td><td>Specialized</td><td>0.19</td></tr><tr><td>JoJIE</td><td>Journal of the Japanese & International Economies</td><td>Academic Press</td><td>no</td><td>355</td><td>451</td><td>2541</td><td>119</td><td>1986</td><td>50</td><td>Area Studies</td><td>0.79</td></tr><tr><td>EaP</td><td>Economics and Philosophy</td><td>Cambridge Univ Pres</td><td>no</td><td>95</td><td>373</td><td>2574</td><td>121</td><td>1984</td><td>144</td><td>Interdisciplinary</td><td>0.25</td></tr><tr><td>JoFI</td><td>Journal of Financial Intermediation</td><td>Academic Press</td><td>no</td><td>240</td><td>420</td><td>2773</td><td>121</td><td>1991</td><td>48</td><td>Finance</td><td>0.57</td></tr><tr><td>RaEE</td><td>Resource and Energy Economics</td><td>Elsevier</td><td>no</td><td>448</td><td>416</td><td>3010</td><td>122</td><td>1978</td><td>33</td><td>Natural Resources</td><td>1.08</td></tr><tr><td>ORoEP</td><td>Oxford Review of Economic Policy</td><td>Oxford Univ Press</td><td>no</td><td>255</td><td>600</td><td>4284</td><td>124</td><td>1985</td><td>29</td><td>Public Finance</td><td>0.43</td></tr><tr><td>RoIO</td><td>Review of Industrial Organization</td><td>Kluwer</td><td>no</td><td>448</td><td>792</td><td>1820</td><td>126</td><td>1990</td><td>58</td><td>Industrial Organization</td><td>0.57</td></tr><tr><td>IRoLE</td><td>International Review of Law & Economics</td><td>Elsevier</td><td>no</td><td>392</td><td>585</td><td>3479</td><td>126</td><td>1980</td><td>71</td><td>Law and Economics</td><td>0.67</td></tr><tr><td>JoWT</td><td>Journal of World Trade</td><td>Kluwer</td><td>no</td><td>475</td><td>1138</td><td>3088</td><td>134</td><td>1967</td><td>135</td><td>International</td><td>0.42</td></tr><tr><td>JoM</td><td>Journal of Macroeconomics</td><td>LSU Press</td><td>no</td><td>85</td><td>856</td><td>2562</td><td>137</td><td>1979</td><td>183</td><td>Macroeconomics</td><td>0.1</td></tr><tr><td>AJoES</td><td>American Journal of Economics & Sociology</td><td>Blackwell</td><td>no</td><td>108</td><td>578</td><td>2331</td><td>138</td><td>1941</td><td>573</td><td>Interdisciplinary</td><td>0.19</td></tr><tr><td>PFR</td><td>Public Finance Review</td><td>Sage</td><td>no</td><td>394</td><td>636</td><td>2204</td><td>138</td><td>1973</td><td>268</td><td>Public Finance</td><td>0.62</td></tr><tr><td>MnchSc</td><td>Manchester School</td><td>Blackwell</td><td>no</td><td>336</td><td>618</td><td>2772</td><td>140</td><td>1930</td><td>57</td><td>General</td><td>0.54</td></tr><tr><td>EnE</td><td>Energy Economics</td><td>Elsevier</td><td>no</td><td>565</td><td>495</td><td>3038</td><td>143</td><td>1978</td><td>52</td><td>Natural Resources</td><td>1.14</td></tr><tr><td>ERoAE</td><td>European Review of Agricultural Economics</td><td>Oxford Univ Press</td><td>no</td><td>255</td><td>573</td><td>3228</td><td>144</td><td>1974</td><td>21</td><td>Agricultural Economics</td><td>0.45</td></tr><tr><td>LH</td><td>Labor History</td><td>Carfax</td><td>no</td><td>165</td><td>515</td><td>3430</td><td>147</td><td>1960</td><td>479</td><td>Labor</td><td>0.32</td></tr><tr><td>WA</td><td>Weltwirtschaftliches Archiv / Review of World Economics</td><td>Mohr Siebeck</td><td>no</td><td>99</td><td>758</td><td>2499</td><td>150</td><td>1865</td><td>77</td><td>General</td><td>0.13</td></tr><tr><td>SJoPE</td><td>Scottish Journal of Political Economy</td><td>Blackwell</td><td>no</td><td>203</td><td>596</td><td>3036</td><td>151</td><td>1953</td><td>89</td><td>General</td><td>0.34</td></tr><tr><td>DC</td><td>Development and Change</td><td>Blackwell</td><td>no</td><td>318</td><td>888</td><td>2623</td><td>154</td><td>1970</td><td>83</td><td>Development</td><td>0.36</td></tr><tr><td>JoREFE</td><td>Journal of Real Estate Finance and Economics</td><td>Kluwer</td><td>no</td><td>476</td><td>630</td><td>3432</td><td>162</td><td>1990</td><td>59</td><td>Business</td><td>0.76</td></tr><tr><td>JoPopEc</td><td>Journal of Policy Modeling</td><td>Elsevier</td><td>no</td><td>473</td><td>907</td><td>2160</td><td>164</td><td>1979</td><td>67</td><td>Specialized</td><td>0.52</td></tr><tr><td>JoPKE</td><td>Journal of Post-Keynesian Economics</td><td>M.E Sharpe</td><td>no</td><td>186</td><td>550</td><td>2360</td><td>170</td><td>1978</td><td>225</td><td>General</td><td>0.34</td></tr><tr><td>EP</td><td>Economic Policy</td><td>Blackwell</td><td>no</td><td>170</td><td>440</td><td>2856</td><td>179</td><td>1985</td><td>56</td><td>Public Finance</td><td>0.39</td></tr><tr><td>MSS</td><td>Mathematical Social Sciences</td><td>Elsevier</td><td>no</td><td>824</td><td>697</td><td>3420</td><td>180</td><td>1981</td><td>36</td><td>Interdisciplinary</td><td>1.18</td></tr><tr><td>Om</td><td>Omega</td><td>Elsevier</td><td>no</td><td>805</td><td>780</td><td>4028</td><td>183</td><td>1973</td><td>101</td><td>Business</td><td>1.03</td></tr><tr><td>HoPE</td><td>History of Political Economy</td><td>Duke Univ Press</td><td>no</td><td>132</td><td>767</td><td>2280</td><td>183</td><td>1969</td><td>288</td><td>Economic History</td><td>0.17</td></tr><tr><td>EcRec</td><td>Economic Record</td><td>Ec. Society of Australia</td><td>yes</td><td>50</td><td>421</td><td>4320</td><td>188</td><td>1925</td><td>183</td><td>General</td><td>0.12</td></tr><tr><td>JoPA</td><td>Journal of Productivity Analysis</td><td>Kluwer</td><td>no</td><td>424</td><td>567</td><td>3432</td><td>188</td><td>1992</td><td>25</td><td>General</td><td>0.75</td></tr><tr><td>RoIW</td><td>Review of Income and Wealth</td><td>Int Assn for Res in I & W</td><td>yes</td><td>130</td><td>585</td><td>3312</td><td>189</td><td>1945</td><td>120</td><td>Public Finance</td><td>0.22</td></tr><tr><td>JoRI</td><td>Journal of Risk and Insurance</td><td>Am. Risk & Ins. Assn</td><td>yes</td><td>90</td><td>720</td><td>2924</td><td>193</td><td>1964</td><td>263</td><td>Insurance</td><td>0.13</td></tr><tr><td>TWE</td><td>The World Economy</td><td>Blackwell</td><td>no</td><td>805</td><td>1270</td><td>2842</td><td>214</td><td>1977</td><td>101</td><td>Development</td><td>0.63</td></tr><tr><td>JoAE</td><td>Journal of Agricultural Economics</td><td>Agric. Econ. Society</td><td>yes</td><td>96</td><td>277</td><td>4218</td><td>220</td><td>1948</td><td>43</td><td>Agricultural Economics</td><td>0.35</td></tr><tr><td>EoER</td><td>Economics of Education Review</td><td>Elsevier</td><td>no</td><td>448</td><td>471</td><td>5040</td><td>224</td><td>1982</td><td>73</td><td>Specialized</td><td>0.95</td></tr><tr><td>JoLR</td><td>Journal of Labor Research</td><td>George Mason Univ</td><td>no</td><td>130</td><td>725</td><td>3010</td><td>227</td><td>1980</td><td>221</td><td>Labor</td><td>0.18</td></tr><tr><td>TD</td><td>Theory and Decision</td><td>Kluwer</td><td>no</td><td>595</td><td>607</td><td>2072</td><td>237</td><td>1970</td><td>83</td><td>Theory</td><td>0.98</td></tr><tr><td>SCW</td><td>Social Choice & Welfare</td><td>Springer</td><td>no</td><td>474</td><td>674</td><td>2990</td><td>239</td><td>1984</td><td>37</td><td>Public Finance</td><td>0.7</td></tr><tr><td>JoCE</td><td>Journal of Comparative Economics</td><td>Academic Press</td><td>no</td><td>410</td><td>803</td><td>2442</td><td>245</td><td>1977</td><td>185</td><td>Area Studies</td><td>0.51</td></tr><tr><td>JoEP</td><td>Journal of Economic Psychology</td><td>Elsevier</td><td>no</td><td>395</td><td>802</td><td>2535</td><td>245</td><td>1981</td><td>61</td><td>Interdisciplinary</td><td>0.49</td></tr><tr><td>IJoF</td><td>International Journal of Forecasting</td><td>Elsevier</td><td>no</td><td>437</td><td>464</td><td>4324</td><td>249</td><td>1985</td><td>57</td><td>Specialized</td><td>0.94</td></tr><tr><td>Ky</td><td>Kyklos</td><td>Helbing & Lichtenhahn</td><td>no</td><td>270</td><td>618</td><td>2760</td><td>254</td><td>1948</td><td>186</td><td>General</td><td>0.44</td></tr><tr><td>EiEH</td><td>Explorations in Economic History</td><td>Academic Press</td><td>no</td><td>265</td><td>447</td><td>2904</td><td>261</td><td>1963</td><td>199</td><td>Economic History</td><td>0.59</td></tr><tr><td>ET</td><td>Economic Theory</td><td>Springer</td><td>no</td><td>899</td><td>1493</td><td>2806</td><td>264</td><td>1992</td><td>165</td><td>Theory</td><td>0.6</td></tr><tr><td>JoTEP</td><td>Journal of Transport Economics & Policy</td><td>LSE and Univ of Bath</td><td>no</td><td>133</td><td>406</td><td>3182</td><td>292</td><td>1967</td><td>95</td><td>Specialized</td><td>0.33</td></tr><tr><td>BJoIR</td><td>British Journal of Industrial Relations</td><td>Blackwell</td><td>no</td><td>262</td><td>663</td><td>3450</td><td>294</td><td>1963</td><td>82</td><td>Specialized</td><td>0.4</td></tr><tr><td>JoCMS</td><td>Journal of Common Market Studies</td><td>Blackwell</td><td>no</td><td>506</td><td>710</td><td>2747</td><td>299</td><td>1962</td><td>214</td><td>Area Studies</td><td>0.71</td></tr><tr><td>JoFM</td><td>Journal of Futures Markets</td><td>Wiley</td><td>no</td><td>1140</td><td>990</td><td>2460</td><td>302</td><td>1981</td><td>152</td><td>Finance</td><td>1.15</td></tr><tr><td>JITE</td><td>Journal of Institutional & Theoretical Economics</td><td>Mohr Siebeck</td><td>no</td><td>211</td><td>792</td><td>3402</td><td>313</td><td>1844</td><td>33</td><td>General</td><td>0.27</td></tr><tr><td>IJoIO</td><td>International Journal of Industrial Organization</td><td>Elsevier</td><td>no</td><td>799</td><td>1230</td><td>3124</td><td>313</td><td>1983</td><td>81</td><td>Industrial Organization</td><td>0.65</td></tr><tr><td>JoFo</td><td>Journal of Forecasting</td><td>Wiley</td><td>no</td><td>760</td><td>516</td><td>4032</td><td>317</td><td>1982</td><td>137</td><td>Specialized</td><td>1.47</td></tr><tr><td>ORL</td><td>Operations Research Letters</td><td>Elsevier</td><td>no</td><td>442</td><td>460</td><td>4056</td><td>338</td><td>1982</td><td>59</td><td>Management Science</td><td>0.96</td></tr><tr><td>SJoE</td><td>Scandinavian Journal of Economics</td><td>Blackwell</td><td>no</td><td>296</td><td>688</td><td>2666</td><td>339</td><td>1898</td><td>98</td><td>General</td><td>0.43</td></tr><tr><td>CJoE</td><td>Cambridge Journal of Economics</td><td>Oxford Univ Press</td><td>no</td><td>272</td><td>814</td><td>3545</td><td>351</td><td>1976</td><td>163</td><td>General</td><td>0.33</td></tr><tr><td>JoEI</td><td>Journal of Economic Issues</td><td>Assn Ev. Economics</td><td>yes</td><td>45</td><td>1003</td><td>2870</td><td>355</td><td>1967</td><td>462</td><td>Public Finance</td><td>0.04</td></tr><tr><td>RSUE</td><td>Regional Science & Urban Economics</td><td>Elsevier</td><td>no</td><td>614</td><td>802</td><td>2967</td><td>370</td><td>1971</td><td>99</td><td>Urban and Regional</td><td>0.77</td></tr><tr><td>IJoGT</td><td>International Journal of Game Theory</td><td>Springer</td><td>no</td><td>436</td><td>582</td><td>3366</td><td>382</td><td>1971</td><td>52</td><td>Theory</td><td>0.75</td></tr><tr><td>JoRaU</td><td>Journal of Risk and Uncertainty</td><td>Kluwer</td><td>no</td><td>481</td><td>595</td><td>3476</td><td>383</td><td>1990</td><td>47</td><td>Insurance</td><td>0.81</td></tr><tr><td>JoRU</td><td>Journal of Financial and Quantitative Analysis</td><td>Univ Wash Press</td><td>no</td><td>95</td><td>500</td><td>3314</td><td>388</td><td>1966</td><td>394</td><td>Finance</td><td>0.19</td></tr><tr><td>JoDS</td><td>Journal of Development Studies</td><td>Frank Cass</td><td>no</td><td>357</td><td>500</td><td>2604</td><td>388</td><td>1964</td><td>227</td><td>Development</td><td>0.71</td></tr><tr><td>EcmtrT</td><td>Econometric Theory</td><td>Cambridge Univ Pres</td><td>no</td><td>280</td><td>899</td><td>2948</td><td>390</td><td>1985</td><td>65</td><td>Econometrics</td><td>0.31</td></tr><tr><td>JoRS</td><td>Journal of Regional Science</td><td>Blackwell</td><td>no</td><td>142</td><td>764</td><td>2992</td><td>397</td><td>1961</td><td>242</td><td>Urban and Regional</td><td>0.19</td></tr><tr><td>JoA&E</td><td>Journal of Accounting & Economics</td><td>Elsevier</td><td>no</td><td>710</td><td>1112</td><td>2945</td><td>406</td><td>1979</td><td>154</td><td>Interdisciplinary</td><td>0.64</td></tr><tr><td>GaEB</td><td>Games and Economic Behavior</td><td>Academic Press</td><td>no</td><td>490</td><td>1197</td><td>2460</td><td>412</td><td>1988</td><td>45</td><td>Theory</td><td>0.41</td></tr><tr><td>JAE</td><td>Journal of Applied Econometrics</td><td>Wiley</td><td>no</td><td>870</td><td>689</td><td>3680</td><td>412</td><td>1986</td><td>81</td><td>Econometrics</td><td>1.26</td></tr><tr><td>JoMathEc</td><td>Journal of Mathematical Economics</td><td>Elsevier</td><td>no</td><td>1147</td><td>1340</td><td>2940</td><td>418</td><td>1974</td><td>79</td><td>Theory</td><td>0.86</td></tr><tr><td>JoIMF</td><td>Journal of International Money and Finance</td><td>Elsevier</td><td>no</td><td>743</td><td>940</td><td>2660</td><td>427</td><td>1981</td><td>120</td><td>International</td><td>0.79</td></tr><tr><td>RS</td><td>Regional Studies</td><td>Carfax</td><td>no</td><td>759</td><td>911</td><td>4988</td><td>440</td><td>1967</td><td>91</td><td>Urban and Regional</td><td>0.83</td></tr><tr><td>PDR</td><td>Population & Development Review</td><td>Population Council</td><td>no</td><td>36</td><td>910</td><td>2904</td><td>445</td><td>1975</td><td>218</td><td>Demography</td><td>0.04</td></tr><tr><td>ES</td><td>Economy and Society</td><td>Routledge</td><td>no</td><td>224</td><td>640</td><td>2970</td><td>488</td><td>1971</td><td>97</td><td>General</td><td>0.35</td></tr><tr><td>DS</td><td>Decision Sciences</td><td>Georgia State Univ</td><td>no</td><td>82</td><td>1067</td><td>3124</td><td>495</td><td>1970</td><td>322</td><td>Management Science</td><td>0.08</td></tr><tr><td>JoIndEc</td><td>Journal of Industrial Economics</td><td>Blackwell</td><td>no</td><td>160</td><td>476</td><td>2684</td><td>497</td><td>1953</td><td>283</td><td>Industrial Organization</td><td>0.34</td></tr><tr><td>EE</td><td>Ecological Economics</td><td>Elsevier</td><td>no</td><td>1170</td><td>1990</td><td>4128</td><td>499</td><td>1989</td><td>40</td><td>Natural Resources</td><td>0.59</td></tr><tr><td>NTJ</td><td>National Tax Journal</td><td>National Tax Assn.</td><td>no</td><td>90</td><td>785</td><td>2940</td><td>502</td><td>1948</td><td>552</td><td>Public Finance</td><td>0.11</td></tr><tr><td>US</td><td>Urban Studies</td><td>Carfax</td><td>no</td><td>742</td><td>1711</td><td>3747</td><td>508</td><td>1964</td><td>222</td><td>Urban and Regional</td><td>0.43</td></tr><tr><td>HE</td><td>Health Economics</td><td>Wiley</td><td>no</td><td>575</td><td>736</td><td>4264</td><td>544</td><td>1992</td><td>29</td><td>Health</td><td>0.78</td></tr><tr><td>EHR</td><td>Economic History Review</td><td>Blackwell</td><td>no</td><td>163</td><td>846</td><td>3570</td><td>545</td><td>1947</td><td>390</td><td>Economic History</td><td>0.19</td></tr><tr><td>RoFS</td><td>Review of Financial Studies</td><td>Oxford Univ. Press</td><td>no</td><td>175</td><td>1235</td><td>2604</td><td>547</td><td>1988</td><td>95</td><td>Finance</td><td>0.14</td></tr><tr><td>CJE</td><td>Canadian Journal of Economics</td><td>Blackwell</td><td>yes</td><td>120</td><td>1247</td><td>2992</td><td>556</td><td>1967</td><td>305</td><td>General</td><td>0.1</td></tr><tr><td>RA</td><td>Risk Analysis</td><td>Kluwer</td><td>no</td><td>590</td><td>1260</td><td>4628</td><td>574</td><td>1981</td><td>98</td><td>Insurance</td><td>0.47</td></tr><tr><td>AE</td><td>Applied Economics</td><td>Routledge</td><td>no</td><td>2120</td><td>1683</td><td>5445</td><td>578</td><td>1958</td><td>146</td><td>General</td><td>1.26</td></tr><tr><td>OEP</td><td>Oxford Economic Papers</td><td>Oxford Univ. Press</td><td>no</td><td>205</td><td>767</td><td>2924</td><td>582</td><td>1949</td><td>271</td><td>General</td><td>0.27</td></tr><tr><td>EDCC</td><td>Economic Development & Cultural Change</td><td>Univ of Chicago Press</td><td>no</td><td>128</td><td>889</td><td>2700</td><td>597</td><td>1952</td><td>515</td><td>Development</td><td>0.14</td></tr><tr><td>JoBF</td><td>Journal of Banking and Finance</td><td>Elsevier</td><td>no</td><td>1539</td><td>1911</td><td>2516</td><td>602</td><td>1977</td><td>172</td><td>Finance</td><td>0.81</td></tr><tr><td>OBoES</td><td>Oxford Bulletin of Economics & Statistics</td><td>Blackwell</td><td>no</td><td>346</td><td>545</td><td>2655</td><td>617</td><td>1939</td><td>127</td><td>General</td><td>0.63</td></tr><tr><td>JoEDC</td><td>Journal of Economic Dynamics & Control</td><td>Elsevier</td><td>yes</td><td>1046</td><td>1636</td><td>2945</td><td>636</td><td>1979</td><td>58</td><td>Theory</td><td>0.64</td></tr><tr><td>SEJ</td><td>Southern Economic Journal</td><td>Southern Econ. Assn</td><td>yes</td><td>97</td><td>1032</td><td>3680</td><td>646</td><td>1932</td><td>524</td><td>General</td><td>0.09</td></tr><tr><td>JoMS</td><td>Journal of Management Studies</td><td>Blackwell</td><td>no</td><td>686</td><td>850</td><td>3456</td><td>654</td><td>1964</td><td>222</td><td>Management Science</td><td>0.81</td></tr><tr><td>JoBE</td><td>Journal of Business Ethics</td><td>Kluwer</td><td>no</td><td>914</td><td>1270</td><td>3650</td><td>662</td><td>1981</td><td>385</td><td>Business</td><td>0.72</td></tr><tr><td>Dm</td><td>Demography</td><td>Pop Assn America</td><td>no</td><td>85</td><td>568</td><td>6859</td><td>670</td><td>1964</td><td>413</td><td>Demography</td><td>0.15</td></tr><tr><td>EI</td><td>Economic Inquiry</td><td>Oxford Univ Press</td><td>no</td><td>206</td><td>684</td><td>4134</td><td>684</td><td>1962</td><td>366</td><td>General</td><td>0.3</td></tr><tr><td>JoEBO</td><td>Journal of Economic Behavior & Organization</td><td>Elsevier</td><td>no</td><td>1154</td><td>1380</td><td>3330</td><td>698</td><td>1980</td><td>75</td><td>Theory</td><td>0.84</td></tr><tr><td>JoLS</td><td>Journal of Legal Studies</td><td>Univ of Chicago Press</td><td>no</td><td>45</td><td>530</td><td>2625</td><td>700</td><td>1972</td><td>238</td><td>Law and Economics</td><td>0.08</td></tr><tr><td>JoDE</td><td>Journal of Development Economics</td><td>Elsevier</td><td>no</td><td>1146</td><td>1110</td><td>2816</td><td>707</td><td>1974</td><td>142</td><td>Development</td><td>1.03</td></tr><tr><td>LanEc</td><td>Land Economics</td><td>Univ of Wisconsin Press</td><td>no</td><td>95</td><td>580</td><td>3672</td><td>730</td><td>1925</td><td>437</td><td>Urban and Regional</td><td>0.16</td></tr><tr><td>JoLE</td><td>Journal of Labor Economics</td><td>Univ of Chicago Press</td><td>no</td><td>138</td><td>600</td><td>2728</td><td>733</td><td>1983</td><td>269</td><td>Labor</td><td>0.23</td></tr><tr><td>JoEH</td><td>Journal of Economic History</td><td>Cambridge Univ Pres</td><td>no</td><td>115</td><td>1200</td><td>4029</td><td>737</td><td>1941</td><td>643</td><td>Economic History</td><td>0.1</td></tr><tr><td>JoUE</td><td>Journal of Urban Economics</td><td>Academic Press</td><td>no</td><td>640</td><td>1058</td><td>2666</td><td>787</td><td>1974</td><td>230</td><td>Urban and Regional</td><td>0.6</td></tr><tr><td>Ecnmc</td><td>Economica</td><td>Blackwell</td><td>no</td><td>122</td><td>565</td><td>3120</td><td>825</td><td>1933</td><td>313</td><td>General</td><td>0.22</td></tr><tr><td>JoMCB</td><td>Journal of Money Credit & Banking</td><td>Ohio State Univ. Press</td><td>no</td><td>110</td><td>860</td><td>3168</td><td>834</td><td>1969</td><td>512</td><td>Macroeconomics</td><td>0.13</td></tr><tr><td>JoIntEc</td><td>Journal of International Economics</td><td>Elsevier</td><td>no</td><td>923</td><td>1299</td><td>2898</td><td>838</td><td>1971</td><td>211</td><td>International</td><td>0.71</td></tr><tr><td>PC</td><td>Public Choice</td><td>Kluwer</td><td>no</td><td>1000</td><td>1600</td><td>2583</td><td>871</td><td>1966</td><td>171</td><td>Public Finance</td><td>0.63</td></tr><tr><td>RP</td><td>Research Policy</td><td>Elsevier</td><td>no</td><td>1234</td><td>781</td><td>4320</td><td>922</td><td>1972</td><td>34</td><td>Business</td><td>1.58</td></tr><tr><td>EL</td><td>Economics Letters</td><td>Elsevier</td><td>no</td><td>1492</td><td>1540</td><td>3315</td><td>930</td><td>1978</td><td>81</td><td>General</td><td>0.97</td></tr><tr><td>JoHeEc</td><td>Journal of Health Economics</td><td>Elsevier</td><td>no</td><td>810</td><td>828</td><td>2924</td><td>957</td><td>1982</td><td>144</td><td>Health</td><td>0.98</td></tr><tr><td>JBES</td><td>Journal of Business & Economic Statistics</td><td>Am Stat Assn</td><td>yes</td><td>90</td><td>510</td><td>6360</td><td>988</td><td>1983</td><td>190</td><td>Business</td><td>0.18</td></tr><tr><td>RJoE</td><td>Rand Journal of Economics</td><td>RAND</td><td>no</td><td>177</td><td>757</td><td>3450</td><td>1039</td><td>1970</td><td>339</td><td>Industrial Organization</td><td>0.23</td></tr><tr><td>JoB</td><td>Journal of Business</td><td>Univ of Chicago Press</td><td>no</td><td>74</td><td>583</td><td>2655</td><td>1083</td><td>1928</td><td>771</td><td>Business</td><td>0.13</td></tr><tr><td>JoHR</td><td>Journal of Human Resources</td><td>Univ of Wisconsin Press</td><td>no</td><td>113</td><td>837</td><td>3312</td><td>1113</td><td>1966</td><td>522</td><td>Labor</td><td>0.14</td></tr><tr><td>IER</td><td>International Economic Review</td><td>Blackwell</td><td>no</td><td>145</td><td>969</td><td>3082</td><td>1113</td><td>1960</td><td>284</td><td>General</td><td>0.15</td></tr><tr><td>JoEEM</td><td>Journal of Environmental Economics & Managment</td><td>Academic Press</td><td>no</td><td>590</td><td>636</td><td>3096</td><td>1152</td><td>1974</td><td>202</td><td>Natural Resources</td><td>0.93</td></tr><tr><td>EER</td><td>European Economic Review</td><td>Elsevier</td><td>yes</td><td>1154</td><td>1823</td><td>2178</td><td>1243</td><td>1969</td><td>118</td><td>General</td><td>0.63</td></tr><tr><td>WD</td><td>World Development</td><td>Elsevier</td><td>no</td><td>1450</td><td>1145</td><td>5480</td><td>1408</td><td>1973</td><td>160</td><td>Development</td><td>1.27</td></tr><tr><td>JoPubEc</td><td>Journal of Public Economics</td><td>Elsevier</td><td>no</td><td>1431</td><td>1880</td><td>2924</td><td>1437</td><td>1972</td><td>141</td><td>Public Finance</td><td>0.76</td></tr><tr><td>JEL</td><td>Journal of Economic Literature</td><td>Am Ec Assn</td><td>yes</td><td>47</td><td>2632</td><td>3848</td><td>1530</td><td>1963</td><td>972</td><td>General</td><td>0.02</td></tr><tr><td>JoLaE</td><td>Journal of Law and Economics</td><td>Univ of Chicago Press</td><td>no</td><td>45</td><td>850</td><td>2604</td><td>1580</td><td>1968</td><td>542</td><td>Law and Economics</td><td>0.05</td></tr><tr><td>JEP</td><td>Journal of Economic Perspectives</td><td>Am Ec Assn</td><td>yes</td><td>47</td><td>940</td><td>3036</td><td>1583</td><td>1987</td><td>866</td><td>General</td><td>0.05</td></tr><tr><td>AJoAE</td><td>American Journal of Agricultural Economics</td><td>Am. Ag. Econ Assn</td><td>no</td><td>81</td><td>1253</td><td>4368</td><td>1812</td><td>1918</td><td>267</td><td>Agricultural Economics</td><td>0.06</td></tr><tr><td>JoMonEc</td><td>Journal of Monetary Economics</td><td>Elsevier</td><td>no</td><td>1010</td><td>1346</td><td>3174</td><td>1860</td><td>1975</td><td>186</td><td>Macroeconomics</td><td>0.75</td></tr><tr><td>MngtSc</td><td>Management Science</td><td>Inst for OR and MS</td><td>no</td><td>334</td><td>1175</td><td>4232</td><td>2022</td><td>1954</td><td>558</td><td>Management Science</td><td>0.28</td></tr><tr><td>RoE&S</td><td>Review of Economics & Statistics</td><td>MIT press</td><td>no</td><td>190</td><td>733</td><td>5600</td><td>2331</td><td>1919</td><td>523</td><td>General</td><td>0.26</td></tr><tr><td>RoES</td><td>Review of Economic Studies</td><td>Blackwell</td><td>no</td><td>180</td><td>761</td><td>3626</td><td>2411</td><td>1933</td><td>325</td><td>General</td><td>0.24</td></tr><tr><td>JoE</td><td>Journal of Econometrics</td><td>Elsevier</td><td>no</td><td>1893</td><td>1527</td><td>2178</td><td>2479</td><td>1973</td><td>129</td><td>Econometrics</td><td>1.24</td></tr><tr><td>JoET</td><td>Journal of Economic Theory</td><td>Academic Press</td><td>no</td><td>1400</td><td>2000</td><td>2684</td><td>2514</td><td>1969</td><td>165</td><td>Theory</td><td>0.7</td></tr><tr><td>EJ</td><td>Economic Journal</td><td>Blackwell</td><td>no</td><td>301</td><td>1983</td><td>3036</td><td>2540</td><td>1890</td><td>531</td><td>General</td><td>0.15</td></tr><tr><td>JoFE</td><td>Journal of Financial Economics</td><td>Elsevier</td><td>no</td><td>1339</td><td>1947</td><td>2838</td><td>2676</td><td>1974</td><td>231</td><td>Finance</td><td>0.69</td></tr><tr><td>JoCR</td><td>Journal of Consumer Research</td><td>Univ of Chicago Press</td><td>no</td><td>90</td><td>439</td><td>5336</td><td>2762</td><td>1974</td><td>536</td><td>Consumer Economics</td><td>0.21</td></tr><tr><td>JASA</td><td>Journal of the American Statistical Association</td><td>Am. Statistical Assn</td><td>yes</td><td>310</td><td>1260</td><td>5664</td><td>2800</td><td>1971</td><td>487</td><td>Econometrics</td><td>0.25</td></tr><tr><td>JoFi</td><td>Journal of Finance</td><td>Am. Finance Assn</td><td>yes</td><td>226</td><td>2272</td><td>3036</td><td>3791</td><td>1945</td><td>799</td><td>Finance</td><td>0.1</td></tr><tr><td>QJoE</td><td>Quarterly Journal of Economics</td><td>MIT press</td><td>no</td><td>148</td><td>1467</td><td>2184</td><td>4138</td><td>1886</td><td>660</td><td>General</td><td>0.1</td></tr><tr><td>JoPolEc</td><td>Journal of Political Economy</td><td>Univ of Chicago Press</td><td>no</td><td>159</td><td>1669</td><td>2640</td><td>6697</td><td>1892</td><td>737</td><td>General</td><td>0.1</td></tr><tr><td>Ecnmt</td><td>Econometrica</td><td>Blackwell</td><td>yes</td><td>178</td><td>1482</td><td>2992</td><td>7943</td><td>1932</td><td>346</td><td>General</td><td>0.12</td></tr><tr><td>AER</td><td>American Economic Review</td><td>Am Ec Assn</td><td>yes</td><td>47</td><td>1867</td><td>3900</td><td>8999</td><td>1911</td><td>1098</td><td>General</td><td>0.03</td></tr></tbody></table></div>"
      ]
     },
     "metadata": {
      "application/vnd.databricks.v1+output": {
       "addedWidgets": {},
       "aggData": [],
       "aggError": "",
       "aggOverflow": false,
       "aggSchema": [],
       "aggSeriesLimitReached": false,
       "aggType": "",
       "arguments": {},
       "columnCustomDisplayInfos": {},
       "data": [
        [
         "APEL",
         "Asian-Pacific Economic Literature",
         "Blackwell",
         "no",
         123,
         440,
         3822,
         21,
         1986,
         14,
         "General",
         0.28
        ],
        [
         "SAJoEH",
         "South African Journal of Economic History",
         "So Afr ec history assn",
         "no",
         20,
         309,
         1782,
         22,
         1986,
         59,
         "Economic History",
         0.06
        ],
        [
         "CE",
         "Computational Economics",
         "Kluwer",
         "no",
         443,
         567,
         2924,
         22,
         1987,
         17,
         "Specialized",
         0.78
        ],
        [
         "MEPiTE",
         "MOCT-MOST Economic Policy in Transitional Economics",
         "Kluwer",
         "no",
         276,
         520,
         3234,
         22,
         1991,
         2,
         "Area Studies",
         0.53
        ],
        [
         "JoSE",
         "Journal of Socio-Economics",
         "Elsevier",
         "no",
         295,
         791,
         3024,
         24,
         1972,
         96,
         "Interdisciplinary",
         0.37
        ],
        [
         "LabEc",
         "Labour Economics",
         "Elsevier",
         "no",
         344,
         609,
         2967,
         24,
         1994,
         15,
         "Labor",
         0.56
        ],
        [
         "EDE",
         "Environment and Development Economics",
         "Cambridge Univ Pres",
         "no",
         90,
         602,
         3185,
         24,
         1995,
         14,
         "Development",
         0.15
        ],
        [
         "RoRPE",
         "Review of Radical Political Economics",
         "Elsevier",
         "no",
         242,
         665,
         2688,
         27,
         1968,
         202,
         "Specialized",
         0.36
        ],
        [
         "EoP",
         "Economics of Planning",
         "Kluwer",
         "no",
         226,
         243,
         3010,
         28,
         1987,
         46,
         "Area Studies",
         0.93
        ],
        [
         "Mt",
         "Metroeconomica",
         "Blackwell",
         "no",
         262,
         386,
         2501,
         30,
         1949,
         46,
         "General",
         0.68
        ],
        [
         "JoCP",
         "Journal of Consumer Policy",
         "Kluwer",
         "no",
         279,
         578,
         2200,
         32,
         1978,
         57,
         "Consumer Economics",
         0.48
        ],
        [
         "REE",
         "Real Estate Economics",
         "MIT",
         "no",
         165,
         749,
         2496,
         35,
         1973,
         125,
         "Specialized",
         0.22
        ],
        [
         "DPR",
         "Development Policy Review",
         "Blackwell",
         "no",
         242,
         427,
         2731,
         36,
         1982,
         30,
         "Development",
         0.57
        ],
        [
         "MaDE",
         "Managerial and Decision Econ",
         "Wiley",
         "no",
         905,
         292,
         4472,
         37,
         1980,
         62,
         "Management Science",
         3.1
        ],
        [
         "JoEF",
         "Journal of Empirical Finance",
         "Elsevier",
         "no",
         355,
         607,
         3053,
         37,
         1994,
         16,
         "Finance",
         0.58
        ],
        [
         "JoEMS",
         "International Journal of Finance & Economics",
         "Springer",
         "no",
         375,
         351,
         4025,
         40,
         1996,
         17,
         "Finance",
         1.07
        ],
        [
         "JoE&MS",
         "Journal of Economics & Management Strategy",
         "MIT Press",
         "no",
         135,
         602,
         2394,
         42,
         1992,
         37,
         "Management Science",
         0.22
        ],
        [
         "AEJ",
         "Atlantic Economic Journal",
         "Intnl Atlantic Ec. Soc.",
         "no",
         171,
         447,
         3139,
         44,
         1972,
         148,
         "General",
         0.38
        ],
        [
         "EDQ",
         "Economic Development Quarterly",
         "Sage",
         "no",
         284,
         385,
         3318,
         47,
         1987,
         110,
         "Development",
         0.74
        ],
        [
         "CER",
         "China Economic Review",
         "Elsevier",
         "no",
         242,
         167,
         3619,
         47,
         1989,
         16,
         "Area Studies",
         1.45
        ],
        [
         "IEP",
         "Information Economics and Policy",
         "Elsevier",
         "no",
         371,
         442,
         2924,
         50,
         1984,
         30,
         "Specialized",
         0.84
        ],
        [
         "AEP",
         "Australian Economic Papers",
         "Blackwell",
         "no",
         115,
         495,
         3792,
         51,
         1961,
         61,
         "General",
         0.23
        ],
        [
         "JWE",
         "Japan and the World Economy",
         "Elsevier",
         "no",
         355,
         577,
         3443,
         56,
         1988,
         27,
         "Area Studies",
         0.62
        ],
        [
         "JoES",
         "Journal of Economic Surveys",
         "Blackwell",
         "no",
         355,
         674,
         2835,
         61,
         1987,
         45,
         "General",
         0.53
        ],
        [
         "IME",
         "Insurance  Mathematics & Economics",
         "Elsevier",
         "no",
         835,
         745,
         4263,
         61,
         1982,
         15,
         "Insurance",
         1.12
        ],
        [
         "DE",
         "De Economist",
         "Kluwer",
         "no",
         223,
         579,
         2594,
         62,
         1852,
         25,
         "General",
         0.39
        ],
        [
         "RoSE",
         "Review of Social Economy",
         "Routledge",
         "no",
         172,
         578,
         2720,
         66,
         1943,
         203,
         "General",
         0.3
        ],
        [
         "BP",
         "Brookings Papers",
         "Brookings Inst.",
         "no",
         62,
         394,
         2368,
         67,
         1970,
         646,
         "Public Finance",
         0.16
        ],
        [
         "PiRS",
         "Papers in Regional Science",
         "Springer",
         "no",
         191,
         442,
         2925,
         68,
         1922,
         59,
         "Urban and Regional",
         0.43
        ],
        [
         "JoPE",
         "Journal of Population Economics",
         "Springer",
         "no",
         411,
         640,
         3264,
         69,
         1987,
         27,
         "Demography",
         0.64
        ],
        [
         "FS",
         "Finance and Stochastics",
         "Springer",
         "no",
         274,
         492,
         3060,
         69,
         1996,
         31,
         "Finance",
         0.56
        ],
        [
         "IO",
         "International Organization",
         "MIT",
         "no",
         130,
         814,
         3024,
         69,
         1947,
         532,
         "Industrial Organization",
         0.16
        ],
        [
         "CPP",
         "Canadian Public Policy",
         "University of Toronto Press",
         "no",
         100,
         714,
         2248,
         75,
         1975,
         52,
         "Public Finance",
         0.14
        ],
        [
         "DvE",
         "Developing Economies",
         "Inst of Devel Econ",
         "no",
         80,
         539,
         3345,
         76,
         1963,
         87,
         "Development",
         0.15
        ],
        [
         "JoHoEc",
         "Journal of Housing Economics",
         "Academic Press",
         "no",
         235,
         330,
         2623,
         78,
         1982,
         27,
         "Specialized",
         0.71
        ],
        [
         "JoEB",
         "Journal of Economics & Business",
         "Elsevier",
         "no",
         392,
         563,
         3456,
         80,
         1948,
         291,
         "Business",
         0.7
        ],
        [
         "JoEvEc",
         "Journal of Evolutionary Economics",
         "Springer",
         "no",
         410,
         526,
         2989,
         81,
         1991,
         9,
         "Specialized",
         0.78
        ],
        [
         "EmpEc",
         "Empirical Economics",
         "Springer",
         "no",
         464,
         719,
         3366,
         82,
         1976,
         24,
         "General",
         0.65
        ],
        [
         "ER",
         "Econometric Reviews",
         "Dekker",
         "no",
         650,
         448,
         2418,
         85,
         1981,
         49,
         "Econometrics",
         1.45
        ],
        [
         "AgE",
         "Agricultural Economics",
         "Elsevier",
         "no",
         558,
         610,
         4032,
         87,
         1986,
         24,
         "Agricultural Economics",
         0.91
        ],
        [
         "QRoEF",
         "Quarterly Review of Economics & Finance",
         "Elsevier",
         "no",
         317,
         931,
         3036,
         87,
         1961,
         323,
         "Finance",
         0.34
        ],
        [
         "AEL",
         "Applied Economics Letters",
         "Routledge",
         "no",
         495,
         774,
         5610,
         89,
         1994,
         69,
         "General",
         0.64
        ],
        [
         "EM",
         "Economic Modelling",
         "Elsevier",
         "no",
         535,
         632,
         2880,
         89,
         1983,
         21,
         "General",
         0.85
        ],
        [
         "GC",
         "Growth and Change",
         "Blackwell",
         "no",
         123,
         302,
         2772,
         97,
         1969,
         212,
         "Development",
         0.41
        ],
        [
         "ERE",
         "Environmental and Resource Economics",
         "Kluwer",
         "no",
         717,
         1061,
         2924,
         97,
         1992,
         14,
         "Natural Resources",
         0.68
        ],
        [
         "JoRE",
         "Journal of Regulatory Economics",
         "Kluwer",
         "no",
         481,
         628,
         3666,
         98,
         1991,
         38,
         "Industrial Organization",
         0.77
        ],
        [
         "BoIES",
         "Bulletin of Indonesian Economic Studies",
         "ANU Press",
         "no",
         54,
         518,
         2858,
         98,
         1964,
         22,
         "Specialized",
         0.1
        ],
        [
         "AoRS",
         "Annals of Regional Science",
         "Springer",
         "no",
         379,
         580,
         2914,
         100,
         1967,
         77,
         "Urban and Regional",
         0.65
        ],
        [
         "CEP",
         "Contemporary Economic Policy",
         "Oxford Univ Press",
         "no",
         168,
         566,
         4104,
         109,
         1982,
         290,
         "Public Finance",
         0.3
        ],
        [
         "JoEcEd",
         "Journal of Economic Education",
         "Heldref",
         "no",
         82,
         426,
         2990,
         112,
         1970,
         386,
         "Specialized",
         0.19
        ],
        [
         "JoJIE",
         "Journal of the Japanese & International Economies",
         "Academic Press",
         "no",
         355,
         451,
         2541,
         119,
         1986,
         50,
         "Area Studies",
         0.79
        ],
        [
         "EaP",
         "Economics and Philosophy",
         "Cambridge Univ Pres",
         "no",
         95,
         373,
         2574,
         121,
         1984,
         144,
         "Interdisciplinary",
         0.25
        ],
        [
         "JoFI",
         "Journal of Financial Intermediation",
         "Academic Press",
         "no",
         240,
         420,
         2773,
         121,
         1991,
         48,
         "Finance",
         0.57
        ],
        [
         "RaEE",
         "Resource and Energy Economics",
         "Elsevier",
         "no",
         448,
         416,
         3010,
         122,
         1978,
         33,
         "Natural Resources",
         1.08
        ],
        [
         "ORoEP",
         "Oxford Review of Economic Policy",
         "Oxford Univ Press",
         "no",
         255,
         600,
         4284,
         124,
         1985,
         29,
         "Public Finance",
         0.43
        ],
        [
         "RoIO",
         "Review of Industrial Organization",
         "Kluwer",
         "no",
         448,
         792,
         1820,
         126,
         1990,
         58,
         "Industrial Organization",
         0.57
        ],
        [
         "IRoLE",
         "International Review of Law & Economics",
         "Elsevier",
         "no",
         392,
         585,
         3479,
         126,
         1980,
         71,
         "Law and Economics",
         0.67
        ],
        [
         "JoWT",
         "Journal of World Trade",
         "Kluwer",
         "no",
         475,
         1138,
         3088,
         134,
         1967,
         135,
         "International",
         0.42
        ],
        [
         "JoM",
         "Journal of Macroeconomics",
         "LSU Press",
         "no",
         85,
         856,
         2562,
         137,
         1979,
         183,
         "Macroeconomics",
         0.1
        ],
        [
         "AJoES",
         "American Journal of Economics & Sociology",
         "Blackwell",
         "no",
         108,
         578,
         2331,
         138,
         1941,
         573,
         "Interdisciplinary",
         0.19
        ],
        [
         "PFR",
         "Public Finance Review",
         "Sage",
         "no",
         394,
         636,
         2204,
         138,
         1973,
         268,
         "Public Finance",
         0.62
        ],
        [
         "MnchSc",
         "Manchester School",
         "Blackwell",
         "no",
         336,
         618,
         2772,
         140,
         1930,
         57,
         "General",
         0.54
        ],
        [
         "EnE",
         "Energy Economics",
         "Elsevier",
         "no",
         565,
         495,
         3038,
         143,
         1978,
         52,
         "Natural Resources",
         1.14
        ],
        [
         "ERoAE",
         "European Review of Agricultural Economics",
         "Oxford Univ Press",
         "no",
         255,
         573,
         3228,
         144,
         1974,
         21,
         "Agricultural Economics",
         0.45
        ],
        [
         "LH",
         "Labor History",
         "Carfax",
         "no",
         165,
         515,
         3430,
         147,
         1960,
         479,
         "Labor",
         0.32
        ],
        [
         "WA",
         "Weltwirtschaftliches Archiv / Review of World Economics",
         "Mohr Siebeck",
         "no",
         99,
         758,
         2499,
         150,
         1865,
         77,
         "General",
         0.13
        ],
        [
         "SJoPE",
         "Scottish Journal of Political Economy",
         "Blackwell",
         "no",
         203,
         596,
         3036,
         151,
         1953,
         89,
         "General",
         0.34
        ],
        [
         "DC",
         "Development and Change",
         "Blackwell",
         "no",
         318,
         888,
         2623,
         154,
         1970,
         83,
         "Development",
         0.36
        ],
        [
         "JoREFE",
         "Journal of Real Estate Finance and Economics",
         "Kluwer",
         "no",
         476,
         630,
         3432,
         162,
         1990,
         59,
         "Business",
         0.76
        ],
        [
         "JoPopEc",
         "Journal of Policy Modeling",
         "Elsevier",
         "no",
         473,
         907,
         2160,
         164,
         1979,
         67,
         "Specialized",
         0.52
        ],
        [
         "JoPKE",
         "Journal of Post-Keynesian Economics",
         "M.E Sharpe",
         "no",
         186,
         550,
         2360,
         170,
         1978,
         225,
         "General",
         0.34
        ],
        [
         "EP",
         "Economic Policy",
         "Blackwell",
         "no",
         170,
         440,
         2856,
         179,
         1985,
         56,
         "Public Finance",
         0.39
        ],
        [
         "MSS",
         "Mathematical Social Sciences",
         "Elsevier",
         "no",
         824,
         697,
         3420,
         180,
         1981,
         36,
         "Interdisciplinary",
         1.18
        ],
        [
         "Om",
         "Omega",
         "Elsevier",
         "no",
         805,
         780,
         4028,
         183,
         1973,
         101,
         "Business",
         1.03
        ],
        [
         "HoPE",
         "History of Political Economy",
         "Duke Univ Press",
         "no",
         132,
         767,
         2280,
         183,
         1969,
         288,
         "Economic History",
         0.17
        ],
        [
         "EcRec",
         "Economic Record",
         "Ec. Society of Australia",
         "yes",
         50,
         421,
         4320,
         188,
         1925,
         183,
         "General",
         0.12
        ],
        [
         "JoPA",
         "Journal of Productivity Analysis",
         "Kluwer",
         "no",
         424,
         567,
         3432,
         188,
         1992,
         25,
         "General",
         0.75
        ],
        [
         "RoIW",
         "Review of Income and Wealth",
         "Int Assn for Res in I & W",
         "yes",
         130,
         585,
         3312,
         189,
         1945,
         120,
         "Public Finance",
         0.22
        ],
        [
         "JoRI",
         "Journal of Risk and Insurance",
         "Am. Risk & Ins. Assn",
         "yes",
         90,
         720,
         2924,
         193,
         1964,
         263,
         "Insurance",
         0.13
        ],
        [
         "TWE",
         "The World Economy",
         "Blackwell",
         "no",
         805,
         1270,
         2842,
         214,
         1977,
         101,
         "Development",
         0.63
        ],
        [
         "JoAE",
         "Journal of Agricultural Economics",
         "Agric. Econ. Society",
         "yes",
         96,
         277,
         4218,
         220,
         1948,
         43,
         "Agricultural Economics",
         0.35
        ],
        [
         "EoER",
         "Economics of Education Review",
         "Elsevier",
         "no",
         448,
         471,
         5040,
         224,
         1982,
         73,
         "Specialized",
         0.95
        ],
        [
         "JoLR",
         "Journal of Labor Research",
         "George Mason Univ",
         "no",
         130,
         725,
         3010,
         227,
         1980,
         221,
         "Labor",
         0.18
        ],
        [
         "TD",
         "Theory and Decision",
         "Kluwer",
         "no",
         595,
         607,
         2072,
         237,
         1970,
         83,
         "Theory",
         0.98
        ],
        [
         "SCW",
         "Social Choice & Welfare",
         "Springer",
         "no",
         474,
         674,
         2990,
         239,
         1984,
         37,
         "Public Finance",
         0.7
        ],
        [
         "JoCE",
         "Journal of Comparative Economics",
         "Academic Press",
         "no",
         410,
         803,
         2442,
         245,
         1977,
         185,
         "Area Studies",
         0.51
        ],
        [
         "JoEP",
         "Journal of Economic Psychology",
         "Elsevier",
         "no",
         395,
         802,
         2535,
         245,
         1981,
         61,
         "Interdisciplinary",
         0.49
        ],
        [
         "IJoF",
         "International Journal of Forecasting",
         "Elsevier",
         "no",
         437,
         464,
         4324,
         249,
         1985,
         57,
         "Specialized",
         0.94
        ],
        [
         "Ky",
         "Kyklos",
         "Helbing & Lichtenhahn",
         "no",
         270,
         618,
         2760,
         254,
         1948,
         186,
         "General",
         0.44
        ],
        [
         "EiEH",
         "Explorations in Economic History",
         "Academic Press",
         "no",
         265,
         447,
         2904,
         261,
         1963,
         199,
         "Economic History",
         0.59
        ],
        [
         "ET",
         "Economic Theory",
         "Springer",
         "no",
         899,
         1493,
         2806,
         264,
         1992,
         165,
         "Theory",
         0.6
        ],
        [
         "JoTEP",
         "Journal of Transport Economics & Policy",
         "LSE and Univ of Bath",
         "no",
         133,
         406,
         3182,
         292,
         1967,
         95,
         "Specialized",
         0.33
        ],
        [
         "BJoIR",
         "British Journal of Industrial Relations",
         "Blackwell",
         "no",
         262,
         663,
         3450,
         294,
         1963,
         82,
         "Specialized",
         0.4
        ],
        [
         "JoCMS",
         "Journal of Common Market Studies",
         "Blackwell",
         "no",
         506,
         710,
         2747,
         299,
         1962,
         214,
         "Area Studies",
         0.71
        ],
        [
         "JoFM",
         "Journal of Futures Markets",
         "Wiley",
         "no",
         1140,
         990,
         2460,
         302,
         1981,
         152,
         "Finance",
         1.15
        ],
        [
         "JITE",
         "Journal of Institutional & Theoretical Economics",
         "Mohr Siebeck",
         "no",
         211,
         792,
         3402,
         313,
         1844,
         33,
         "General",
         0.27
        ],
        [
         "IJoIO",
         "International Journal of Industrial Organization",
         "Elsevier",
         "no",
         799,
         1230,
         3124,
         313,
         1983,
         81,
         "Industrial Organization",
         0.65
        ],
        [
         "JoFo",
         "Journal of Forecasting",
         "Wiley",
         "no",
         760,
         516,
         4032,
         317,
         1982,
         137,
         "Specialized",
         1.47
        ],
        [
         "ORL",
         "Operations Research Letters",
         "Elsevier",
         "no",
         442,
         460,
         4056,
         338,
         1982,
         59,
         "Management Science",
         0.96
        ],
        [
         "SJoE",
         "Scandinavian Journal of Economics",
         "Blackwell",
         "no",
         296,
         688,
         2666,
         339,
         1898,
         98,
         "General",
         0.43
        ],
        [
         "CJoE",
         "Cambridge Journal of Economics",
         "Oxford Univ Press",
         "no",
         272,
         814,
         3545,
         351,
         1976,
         163,
         "General",
         0.33
        ],
        [
         "JoEI",
         "Journal of Economic Issues",
         "Assn Ev. Economics",
         "yes",
         45,
         1003,
         2870,
         355,
         1967,
         462,
         "Public Finance",
         0.04
        ],
        [
         "RSUE",
         "Regional Science & Urban Economics",
         "Elsevier",
         "no",
         614,
         802,
         2967,
         370,
         1971,
         99,
         "Urban and Regional",
         0.77
        ],
        [
         "IJoGT",
         "International Journal of Game Theory",
         "Springer",
         "no",
         436,
         582,
         3366,
         382,
         1971,
         52,
         "Theory",
         0.75
        ],
        [
         "JoRaU",
         "Journal of Risk and Uncertainty",
         "Kluwer",
         "no",
         481,
         595,
         3476,
         383,
         1990,
         47,
         "Insurance",
         0.81
        ],
        [
         "JoRU",
         "Journal of Financial and Quantitative Analysis",
         "Univ Wash Press",
         "no",
         95,
         500,
         3314,
         388,
         1966,
         394,
         "Finance",
         0.19
        ],
        [
         "JoDS",
         "Journal of Development Studies",
         "Frank Cass",
         "no",
         357,
         500,
         2604,
         388,
         1964,
         227,
         "Development",
         0.71
        ],
        [
         "EcmtrT",
         "Econometric Theory",
         "Cambridge Univ Pres",
         "no",
         280,
         899,
         2948,
         390,
         1985,
         65,
         "Econometrics",
         0.31
        ],
        [
         "JoRS",
         "Journal of Regional Science",
         "Blackwell",
         "no",
         142,
         764,
         2992,
         397,
         1961,
         242,
         "Urban and Regional",
         0.19
        ],
        [
         "JoA&E",
         "Journal of Accounting & Economics",
         "Elsevier",
         "no",
         710,
         1112,
         2945,
         406,
         1979,
         154,
         "Interdisciplinary",
         0.64
        ],
        [
         "GaEB",
         "Games and Economic Behavior",
         "Academic Press",
         "no",
         490,
         1197,
         2460,
         412,
         1988,
         45,
         "Theory",
         0.41
        ],
        [
         "JAE",
         "Journal of Applied Econometrics",
         "Wiley",
         "no",
         870,
         689,
         3680,
         412,
         1986,
         81,
         "Econometrics",
         1.26
        ],
        [
         "JoMathEc",
         "Journal of Mathematical Economics",
         "Elsevier",
         "no",
         1147,
         1340,
         2940,
         418,
         1974,
         79,
         "Theory",
         0.86
        ],
        [
         "JoIMF",
         "Journal of International Money and Finance",
         "Elsevier",
         "no",
         743,
         940,
         2660,
         427,
         1981,
         120,
         "International",
         0.79
        ],
        [
         "RS",
         "Regional Studies",
         "Carfax",
         "no",
         759,
         911,
         4988,
         440,
         1967,
         91,
         "Urban and Regional",
         0.83
        ],
        [
         "PDR",
         "Population & Development Review",
         "Population Council",
         "no",
         36,
         910,
         2904,
         445,
         1975,
         218,
         "Demography",
         0.04
        ],
        [
         "ES",
         "Economy and Society",
         "Routledge",
         "no",
         224,
         640,
         2970,
         488,
         1971,
         97,
         "General",
         0.35
        ],
        [
         "DS",
         "Decision Sciences",
         "Georgia State Univ",
         "no",
         82,
         1067,
         3124,
         495,
         1970,
         322,
         "Management Science",
         0.08
        ],
        [
         "JoIndEc",
         "Journal of Industrial Economics",
         "Blackwell",
         "no",
         160,
         476,
         2684,
         497,
         1953,
         283,
         "Industrial Organization",
         0.34
        ],
        [
         "EE",
         "Ecological Economics",
         "Elsevier",
         "no",
         1170,
         1990,
         4128,
         499,
         1989,
         40,
         "Natural Resources",
         0.59
        ],
        [
         "NTJ",
         "National Tax Journal",
         "National Tax Assn.",
         "no",
         90,
         785,
         2940,
         502,
         1948,
         552,
         "Public Finance",
         0.11
        ],
        [
         "US",
         "Urban Studies",
         "Carfax",
         "no",
         742,
         1711,
         3747,
         508,
         1964,
         222,
         "Urban and Regional",
         0.43
        ],
        [
         "HE",
         "Health Economics",
         "Wiley",
         "no",
         575,
         736,
         4264,
         544,
         1992,
         29,
         "Health",
         0.78
        ],
        [
         "EHR",
         "Economic History Review",
         "Blackwell",
         "no",
         163,
         846,
         3570,
         545,
         1947,
         390,
         "Economic History",
         0.19
        ],
        [
         "RoFS",
         "Review of Financial Studies",
         "Oxford Univ. Press",
         "no",
         175,
         1235,
         2604,
         547,
         1988,
         95,
         "Finance",
         0.14
        ],
        [
         "CJE",
         "Canadian Journal of Economics",
         "Blackwell",
         "yes",
         120,
         1247,
         2992,
         556,
         1967,
         305,
         "General",
         0.1
        ],
        [
         "RA",
         "Risk Analysis",
         "Kluwer",
         "no",
         590,
         1260,
         4628,
         574,
         1981,
         98,
         "Insurance",
         0.47
        ],
        [
         "AE",
         "Applied Economics",
         "Routledge",
         "no",
         2120,
         1683,
         5445,
         578,
         1958,
         146,
         "General",
         1.26
        ],
        [
         "OEP",
         "Oxford Economic Papers",
         "Oxford Univ. Press",
         "no",
         205,
         767,
         2924,
         582,
         1949,
         271,
         "General",
         0.27
        ],
        [
         "EDCC",
         "Economic Development & Cultural Change",
         "Univ of Chicago Press",
         "no",
         128,
         889,
         2700,
         597,
         1952,
         515,
         "Development",
         0.14
        ],
        [
         "JoBF",
         "Journal of Banking and Finance",
         "Elsevier",
         "no",
         1539,
         1911,
         2516,
         602,
         1977,
         172,
         "Finance",
         0.81
        ],
        [
         "OBoES",
         "Oxford Bulletin of Economics & Statistics",
         "Blackwell",
         "no",
         346,
         545,
         2655,
         617,
         1939,
         127,
         "General",
         0.63
        ],
        [
         "JoEDC",
         "Journal of Economic Dynamics & Control",
         "Elsevier",
         "yes",
         1046,
         1636,
         2945,
         636,
         1979,
         58,
         "Theory",
         0.64
        ],
        [
         "SEJ",
         "Southern Economic Journal",
         "Southern Econ. Assn",
         "yes",
         97,
         1032,
         3680,
         646,
         1932,
         524,
         "General",
         0.09
        ],
        [
         "JoMS",
         "Journal of Management Studies",
         "Blackwell",
         "no",
         686,
         850,
         3456,
         654,
         1964,
         222,
         "Management Science",
         0.81
        ],
        [
         "JoBE",
         "Journal of Business Ethics",
         "Kluwer",
         "no",
         914,
         1270,
         3650,
         662,
         1981,
         385,
         "Business",
         0.72
        ],
        [
         "Dm",
         "Demography",
         "Pop Assn America",
         "no",
         85,
         568,
         6859,
         670,
         1964,
         413,
         "Demography",
         0.15
        ],
        [
         "EI",
         "Economic Inquiry",
         "Oxford Univ Press",
         "no",
         206,
         684,
         4134,
         684,
         1962,
         366,
         "General",
         0.3
        ],
        [
         "JoEBO",
         "Journal of Economic Behavior & Organization",
         "Elsevier",
         "no",
         1154,
         1380,
         3330,
         698,
         1980,
         75,
         "Theory",
         0.84
        ],
        [
         "JoLS",
         "Journal of Legal Studies",
         "Univ of Chicago Press",
         "no",
         45,
         530,
         2625,
         700,
         1972,
         238,
         "Law and Economics",
         0.08
        ],
        [
         "JoDE",
         "Journal of Development Economics",
         "Elsevier",
         "no",
         1146,
         1110,
         2816,
         707,
         1974,
         142,
         "Development",
         1.03
        ],
        [
         "LanEc",
         "Land Economics",
         "Univ of Wisconsin Press",
         "no",
         95,
         580,
         3672,
         730,
         1925,
         437,
         "Urban and Regional",
         0.16
        ],
        [
         "JoLE",
         "Journal of Labor Economics",
         "Univ of Chicago Press",
         "no",
         138,
         600,
         2728,
         733,
         1983,
         269,
         "Labor",
         0.23
        ],
        [
         "JoEH",
         "Journal of Economic History",
         "Cambridge Univ Pres",
         "no",
         115,
         1200,
         4029,
         737,
         1941,
         643,
         "Economic History",
         0.1
        ],
        [
         "JoUE",
         "Journal of Urban Economics",
         "Academic Press",
         "no",
         640,
         1058,
         2666,
         787,
         1974,
         230,
         "Urban and Regional",
         0.6
        ],
        [
         "Ecnmc",
         "Economica",
         "Blackwell",
         "no",
         122,
         565,
         3120,
         825,
         1933,
         313,
         "General",
         0.22
        ],
        [
         "JoMCB",
         "Journal of Money Credit & Banking",
         "Ohio State Univ. Press",
         "no",
         110,
         860,
         3168,
         834,
         1969,
         512,
         "Macroeconomics",
         0.13
        ],
        [
         "JoIntEc",
         "Journal of International Economics",
         "Elsevier",
         "no",
         923,
         1299,
         2898,
         838,
         1971,
         211,
         "International",
         0.71
        ],
        [
         "PC",
         "Public Choice",
         "Kluwer",
         "no",
         1000,
         1600,
         2583,
         871,
         1966,
         171,
         "Public Finance",
         0.63
        ],
        [
         "RP",
         "Research Policy",
         "Elsevier",
         "no",
         1234,
         781,
         4320,
         922,
         1972,
         34,
         "Business",
         1.58
        ],
        [
         "EL",
         "Economics Letters",
         "Elsevier",
         "no",
         1492,
         1540,
         3315,
         930,
         1978,
         81,
         "General",
         0.97
        ],
        [
         "JoHeEc",
         "Journal of Health Economics",
         "Elsevier",
         "no",
         810,
         828,
         2924,
         957,
         1982,
         144,
         "Health",
         0.98
        ],
        [
         "JBES",
         "Journal of Business & Economic Statistics",
         "Am Stat Assn",
         "yes",
         90,
         510,
         6360,
         988,
         1983,
         190,
         "Business",
         0.18
        ],
        [
         "RJoE",
         "Rand Journal of Economics",
         "RAND",
         "no",
         177,
         757,
         3450,
         1039,
         1970,
         339,
         "Industrial Organization",
         0.23
        ],
        [
         "JoB",
         "Journal of Business",
         "Univ of Chicago Press",
         "no",
         74,
         583,
         2655,
         1083,
         1928,
         771,
         "Business",
         0.13
        ],
        [
         "JoHR",
         "Journal of Human Resources",
         "Univ of Wisconsin Press",
         "no",
         113,
         837,
         3312,
         1113,
         1966,
         522,
         "Labor",
         0.14
        ],
        [
         "IER",
         "International Economic Review",
         "Blackwell",
         "no",
         145,
         969,
         3082,
         1113,
         1960,
         284,
         "General",
         0.15
        ],
        [
         "JoEEM",
         "Journal of Environmental Economics & Managment",
         "Academic Press",
         "no",
         590,
         636,
         3096,
         1152,
         1974,
         202,
         "Natural Resources",
         0.93
        ],
        [
         "EER",
         "European Economic Review",
         "Elsevier",
         "yes",
         1154,
         1823,
         2178,
         1243,
         1969,
         118,
         "General",
         0.63
        ],
        [
         "WD",
         "World Development",
         "Elsevier",
         "no",
         1450,
         1145,
         5480,
         1408,
         1973,
         160,
         "Development",
         1.27
        ],
        [
         "JoPubEc",
         "Journal of Public Economics",
         "Elsevier",
         "no",
         1431,
         1880,
         2924,
         1437,
         1972,
         141,
         "Public Finance",
         0.76
        ],
        [
         "JEL",
         "Journal of Economic Literature",
         "Am Ec Assn",
         "yes",
         47,
         2632,
         3848,
         1530,
         1963,
         972,
         "General",
         0.02
        ],
        [
         "JoLaE",
         "Journal of Law and Economics",
         "Univ of Chicago Press",
         "no",
         45,
         850,
         2604,
         1580,
         1968,
         542,
         "Law and Economics",
         0.05
        ],
        [
         "JEP",
         "Journal of Economic Perspectives",
         "Am Ec Assn",
         "yes",
         47,
         940,
         3036,
         1583,
         1987,
         866,
         "General",
         0.05
        ],
        [
         "AJoAE",
         "American Journal of Agricultural Economics",
         "Am. Ag. Econ Assn",
         "no",
         81,
         1253,
         4368,
         1812,
         1918,
         267,
         "Agricultural Economics",
         0.06
        ],
        [
         "JoMonEc",
         "Journal of Monetary Economics",
         "Elsevier",
         "no",
         1010,
         1346,
         3174,
         1860,
         1975,
         186,
         "Macroeconomics",
         0.75
        ],
        [
         "MngtSc",
         "Management Science",
         "Inst for OR and MS",
         "no",
         334,
         1175,
         4232,
         2022,
         1954,
         558,
         "Management Science",
         0.28
        ],
        [
         "RoE&S",
         "Review of Economics & Statistics",
         "MIT press",
         "no",
         190,
         733,
         5600,
         2331,
         1919,
         523,
         "General",
         0.26
        ],
        [
         "RoES",
         "Review of Economic Studies",
         "Blackwell",
         "no",
         180,
         761,
         3626,
         2411,
         1933,
         325,
         "General",
         0.24
        ],
        [
         "JoE",
         "Journal of Econometrics",
         "Elsevier",
         "no",
         1893,
         1527,
         2178,
         2479,
         1973,
         129,
         "Econometrics",
         1.24
        ],
        [
         "JoET",
         "Journal of Economic Theory",
         "Academic Press",
         "no",
         1400,
         2000,
         2684,
         2514,
         1969,
         165,
         "Theory",
         0.7
        ],
        [
         "EJ",
         "Economic Journal",
         "Blackwell",
         "no",
         301,
         1983,
         3036,
         2540,
         1890,
         531,
         "General",
         0.15
        ],
        [
         "JoFE",
         "Journal of Financial Economics",
         "Elsevier",
         "no",
         1339,
         1947,
         2838,
         2676,
         1974,
         231,
         "Finance",
         0.69
        ],
        [
         "JoCR",
         "Journal of Consumer Research",
         "Univ of Chicago Press",
         "no",
         90,
         439,
         5336,
         2762,
         1974,
         536,
         "Consumer Economics",
         0.21
        ],
        [
         "JASA",
         "Journal of the American Statistical Association",
         "Am. Statistical Assn",
         "yes",
         310,
         1260,
         5664,
         2800,
         1971,
         487,
         "Econometrics",
         0.25
        ],
        [
         "JoFi",
         "Journal of Finance",
         "Am. Finance Assn",
         "yes",
         226,
         2272,
         3036,
         3791,
         1945,
         799,
         "Finance",
         0.1
        ],
        [
         "QJoE",
         "Quarterly Journal of Economics",
         "MIT press",
         "no",
         148,
         1467,
         2184,
         4138,
         1886,
         660,
         "General",
         0.1
        ],
        [
         "JoPolEc",
         "Journal of Political Economy",
         "Univ of Chicago Press",
         "no",
         159,
         1669,
         2640,
         6697,
         1892,
         737,
         "General",
         0.1
        ],
        [
         "Ecnmt",
         "Econometrica",
         "Blackwell",
         "yes",
         178,
         1482,
         2992,
         7943,
         1932,
         346,
         "General",
         0.12
        ],
        [
         "AER",
         "American Economic Review",
         "Am Ec Assn",
         "yes",
         47,
         1867,
         3900,
         8999,
         1911,
         1098,
         "General",
         0.03
        ]
       ],
       "datasetInfos": [],
       "dbfsResultPath": null,
       "isJsonSchema": true,
       "metadata": {},
       "overflow": false,
       "plotOptions": {
        "customPlotOptions": {},
        "displayType": "table",
        "pivotAggregation": null,
        "pivotColumns": null,
        "xColumns": null,
        "yColumns": null
       },
       "removedWidgets": [],
       "schema": [
        {
         "metadata": "{}",
         "name": "rownames",
         "type": "\"string\""
        },
        {
         "metadata": "{}",
         "name": "title",
         "type": "\"string\""
        },
        {
         "metadata": "{}",
         "name": "publisher",
         "type": "\"string\""
        },
        {
         "metadata": "{}",
         "name": "society",
         "type": "\"string\""
        },
        {
         "metadata": "{}",
         "name": "price",
         "type": "\"integer\""
        },
        {
         "metadata": "{}",
         "name": "pages",
         "type": "\"integer\""
        },
        {
         "metadata": "{}",
         "name": "charpp",
         "type": "\"integer\""
        },
        {
         "metadata": "{}",
         "name": "citations",
         "type": "\"integer\""
        },
        {
         "metadata": "{}",
         "name": "foundingyear",
         "type": "\"integer\""
        },
        {
         "metadata": "{}",
         "name": "subs",
         "type": "\"integer\""
        },
        {
         "metadata": "{}",
         "name": "field",
         "type": "\"string\""
        },
        {
         "metadata": "{}",
         "name": "price_per_page",
         "type": "\"double\""
        }
       ],
       "type": "table"
      }
     },
     "output_type": "display_data"
    }
   ],
   "source": [
    "from pyspark.sql import functions as F\n",
    "\n",
    "df = spark.table(\"default.journals_delta\")\n",
    "\n",
    "\n",
    "df = df.withColumn(\n",
    "    \"price_per_page\", \n",
    "    F.round(F.col(\"price\") / F.col(\"pages\"), 2)\n",
    ")\n",
    "\n",
    "\n",
    "display(df)"
   ]
  },
  {
   "cell_type": "markdown",
   "metadata": {
    "application/vnd.databricks.v1+cell": {
     "cellMetadata": {},
     "inputWidgets": {},
     "nuid": "2b68a6de-5052-4fe0-b6f8-4c7348ab3ea7",
     "showTitle": false,
     "tableResultSettingsMap": {},
     "title": ""
    }
   },
   "source": [
    "**2) Add journal age**"
   ]
  },
  {
   "cell_type": "code",
   "execution_count": 0,
   "metadata": {
    "application/vnd.databricks.v1+cell": {
     "cellMetadata": {
      "byteLimit": 2048000,
      "rowLimit": 10000
     },
     "inputWidgets": {},
     "nuid": "001e0d63-f8a2-45c5-bd29-d103eda7575b",
     "showTitle": false,
     "tableResultSettingsMap": {
      "0": {
       "dataGridStateBlob": "{\"version\":1,\"tableState\":{\"columnPinning\":{\"left\":[\"#row_number#\"],\"right\":[]},\"columnSizing\":{},\"columnVisibility\":{}},\"settings\":{\"columns\":{}},\"syncTimestamp\":1755172742604}",
       "filterBlob": null,
       "queryPlanFiltersBlob": null,
       "tableResultIndex": 0
      }
     },
     "title": ""
    }
   },
   "outputs": [
    {
     "data": {
      "text/html": [
       "<style scoped>\n",
       "  .table-result-container {\n",
       "    max-height: 300px;\n",
       "    overflow: auto;\n",
       "  }\n",
       "  table, th, td {\n",
       "    border: 1px solid black;\n",
       "    border-collapse: collapse;\n",
       "  }\n",
       "  th, td {\n",
       "    padding: 5px;\n",
       "  }\n",
       "  th {\n",
       "    text-align: left;\n",
       "  }\n",
       "</style><div class='table-result-container'><table class='table-result'><thead style='background-color: white'><tr><th>rownames</th><th>title</th><th>publisher</th><th>society</th><th>price</th><th>pages</th><th>charpp</th><th>citations</th><th>foundingyear</th><th>subs</th><th>field</th><th>price_per_page</th><th>age</th></tr></thead><tbody><tr><td>APEL</td><td>Asian-Pacific Economic Literature</td><td>Blackwell</td><td>no</td><td>123</td><td>440</td><td>3822</td><td>21</td><td>1986</td><td>14</td><td>General</td><td>0.28</td><td>39</td></tr><tr><td>SAJoEH</td><td>South African Journal of Economic History</td><td>So Afr ec history assn</td><td>no</td><td>20</td><td>309</td><td>1782</td><td>22</td><td>1986</td><td>59</td><td>Economic History</td><td>0.06</td><td>39</td></tr><tr><td>CE</td><td>Computational Economics</td><td>Kluwer</td><td>no</td><td>443</td><td>567</td><td>2924</td><td>22</td><td>1987</td><td>17</td><td>Specialized</td><td>0.78</td><td>38</td></tr><tr><td>MEPiTE</td><td>MOCT-MOST Economic Policy in Transitional Economics</td><td>Kluwer</td><td>no</td><td>276</td><td>520</td><td>3234</td><td>22</td><td>1991</td><td>2</td><td>Area Studies</td><td>0.53</td><td>34</td></tr><tr><td>JoSE</td><td>Journal of Socio-Economics</td><td>Elsevier</td><td>no</td><td>295</td><td>791</td><td>3024</td><td>24</td><td>1972</td><td>96</td><td>Interdisciplinary</td><td>0.37</td><td>53</td></tr><tr><td>LabEc</td><td>Labour Economics</td><td>Elsevier</td><td>no</td><td>344</td><td>609</td><td>2967</td><td>24</td><td>1994</td><td>15</td><td>Labor</td><td>0.56</td><td>31</td></tr><tr><td>EDE</td><td>Environment and Development Economics</td><td>Cambridge Univ Pres</td><td>no</td><td>90</td><td>602</td><td>3185</td><td>24</td><td>1995</td><td>14</td><td>Development</td><td>0.15</td><td>30</td></tr><tr><td>RoRPE</td><td>Review of Radical Political Economics</td><td>Elsevier</td><td>no</td><td>242</td><td>665</td><td>2688</td><td>27</td><td>1968</td><td>202</td><td>Specialized</td><td>0.36</td><td>57</td></tr><tr><td>EoP</td><td>Economics of Planning</td><td>Kluwer</td><td>no</td><td>226</td><td>243</td><td>3010</td><td>28</td><td>1987</td><td>46</td><td>Area Studies</td><td>0.93</td><td>38</td></tr><tr><td>Mt</td><td>Metroeconomica</td><td>Blackwell</td><td>no</td><td>262</td><td>386</td><td>2501</td><td>30</td><td>1949</td><td>46</td><td>General</td><td>0.68</td><td>76</td></tr><tr><td>JoCP</td><td>Journal of Consumer Policy</td><td>Kluwer</td><td>no</td><td>279</td><td>578</td><td>2200</td><td>32</td><td>1978</td><td>57</td><td>Consumer Economics</td><td>0.48</td><td>47</td></tr><tr><td>REE</td><td>Real Estate Economics</td><td>MIT</td><td>no</td><td>165</td><td>749</td><td>2496</td><td>35</td><td>1973</td><td>125</td><td>Specialized</td><td>0.22</td><td>52</td></tr><tr><td>DPR</td><td>Development Policy Review</td><td>Blackwell</td><td>no</td><td>242</td><td>427</td><td>2731</td><td>36</td><td>1982</td><td>30</td><td>Development</td><td>0.57</td><td>43</td></tr><tr><td>MaDE</td><td>Managerial and Decision Econ</td><td>Wiley</td><td>no</td><td>905</td><td>292</td><td>4472</td><td>37</td><td>1980</td><td>62</td><td>Management Science</td><td>3.1</td><td>45</td></tr><tr><td>JoEF</td><td>Journal of Empirical Finance</td><td>Elsevier</td><td>no</td><td>355</td><td>607</td><td>3053</td><td>37</td><td>1994</td><td>16</td><td>Finance</td><td>0.58</td><td>31</td></tr><tr><td>JoEMS</td><td>International Journal of Finance & Economics</td><td>Springer</td><td>no</td><td>375</td><td>351</td><td>4025</td><td>40</td><td>1996</td><td>17</td><td>Finance</td><td>1.07</td><td>29</td></tr><tr><td>JoE&MS</td><td>Journal of Economics & Management Strategy</td><td>MIT Press</td><td>no</td><td>135</td><td>602</td><td>2394</td><td>42</td><td>1992</td><td>37</td><td>Management Science</td><td>0.22</td><td>33</td></tr><tr><td>AEJ</td><td>Atlantic Economic Journal</td><td>Intnl Atlantic Ec. Soc.</td><td>no</td><td>171</td><td>447</td><td>3139</td><td>44</td><td>1972</td><td>148</td><td>General</td><td>0.38</td><td>53</td></tr><tr><td>EDQ</td><td>Economic Development Quarterly</td><td>Sage</td><td>no</td><td>284</td><td>385</td><td>3318</td><td>47</td><td>1987</td><td>110</td><td>Development</td><td>0.74</td><td>38</td></tr><tr><td>CER</td><td>China Economic Review</td><td>Elsevier</td><td>no</td><td>242</td><td>167</td><td>3619</td><td>47</td><td>1989</td><td>16</td><td>Area Studies</td><td>1.45</td><td>36</td></tr><tr><td>IEP</td><td>Information Economics and Policy</td><td>Elsevier</td><td>no</td><td>371</td><td>442</td><td>2924</td><td>50</td><td>1984</td><td>30</td><td>Specialized</td><td>0.84</td><td>41</td></tr><tr><td>AEP</td><td>Australian Economic Papers</td><td>Blackwell</td><td>no</td><td>115</td><td>495</td><td>3792</td><td>51</td><td>1961</td><td>61</td><td>General</td><td>0.23</td><td>64</td></tr><tr><td>JWE</td><td>Japan and the World Economy</td><td>Elsevier</td><td>no</td><td>355</td><td>577</td><td>3443</td><td>56</td><td>1988</td><td>27</td><td>Area Studies</td><td>0.62</td><td>37</td></tr><tr><td>JoES</td><td>Journal of Economic Surveys</td><td>Blackwell</td><td>no</td><td>355</td><td>674</td><td>2835</td><td>61</td><td>1987</td><td>45</td><td>General</td><td>0.53</td><td>38</td></tr><tr><td>IME</td><td>Insurance  Mathematics & Economics</td><td>Elsevier</td><td>no</td><td>835</td><td>745</td><td>4263</td><td>61</td><td>1982</td><td>15</td><td>Insurance</td><td>1.12</td><td>43</td></tr><tr><td>DE</td><td>De Economist</td><td>Kluwer</td><td>no</td><td>223</td><td>579</td><td>2594</td><td>62</td><td>1852</td><td>25</td><td>General</td><td>0.39</td><td>173</td></tr><tr><td>RoSE</td><td>Review of Social Economy</td><td>Routledge</td><td>no</td><td>172</td><td>578</td><td>2720</td><td>66</td><td>1943</td><td>203</td><td>General</td><td>0.3</td><td>82</td></tr><tr><td>BP</td><td>Brookings Papers</td><td>Brookings Inst.</td><td>no</td><td>62</td><td>394</td><td>2368</td><td>67</td><td>1970</td><td>646</td><td>Public Finance</td><td>0.16</td><td>55</td></tr><tr><td>PiRS</td><td>Papers in Regional Science</td><td>Springer</td><td>no</td><td>191</td><td>442</td><td>2925</td><td>68</td><td>1922</td><td>59</td><td>Urban and Regional</td><td>0.43</td><td>103</td></tr><tr><td>JoPE</td><td>Journal of Population Economics</td><td>Springer</td><td>no</td><td>411</td><td>640</td><td>3264</td><td>69</td><td>1987</td><td>27</td><td>Demography</td><td>0.64</td><td>38</td></tr><tr><td>FS</td><td>Finance and Stochastics</td><td>Springer</td><td>no</td><td>274</td><td>492</td><td>3060</td><td>69</td><td>1996</td><td>31</td><td>Finance</td><td>0.56</td><td>29</td></tr><tr><td>IO</td><td>International Organization</td><td>MIT</td><td>no</td><td>130</td><td>814</td><td>3024</td><td>69</td><td>1947</td><td>532</td><td>Industrial Organization</td><td>0.16</td><td>78</td></tr><tr><td>CPP</td><td>Canadian Public Policy</td><td>University of Toronto Press</td><td>no</td><td>100</td><td>714</td><td>2248</td><td>75</td><td>1975</td><td>52</td><td>Public Finance</td><td>0.14</td><td>50</td></tr><tr><td>DvE</td><td>Developing Economies</td><td>Inst of Devel Econ</td><td>no</td><td>80</td><td>539</td><td>3345</td><td>76</td><td>1963</td><td>87</td><td>Development</td><td>0.15</td><td>62</td></tr><tr><td>JoHoEc</td><td>Journal of Housing Economics</td><td>Academic Press</td><td>no</td><td>235</td><td>330</td><td>2623</td><td>78</td><td>1982</td><td>27</td><td>Specialized</td><td>0.71</td><td>43</td></tr><tr><td>JoEB</td><td>Journal of Economics & Business</td><td>Elsevier</td><td>no</td><td>392</td><td>563</td><td>3456</td><td>80</td><td>1948</td><td>291</td><td>Business</td><td>0.7</td><td>77</td></tr><tr><td>JoEvEc</td><td>Journal of Evolutionary Economics</td><td>Springer</td><td>no</td><td>410</td><td>526</td><td>2989</td><td>81</td><td>1991</td><td>9</td><td>Specialized</td><td>0.78</td><td>34</td></tr><tr><td>EmpEc</td><td>Empirical Economics</td><td>Springer</td><td>no</td><td>464</td><td>719</td><td>3366</td><td>82</td><td>1976</td><td>24</td><td>General</td><td>0.65</td><td>49</td></tr><tr><td>ER</td><td>Econometric Reviews</td><td>Dekker</td><td>no</td><td>650</td><td>448</td><td>2418</td><td>85</td><td>1981</td><td>49</td><td>Econometrics</td><td>1.45</td><td>44</td></tr><tr><td>AgE</td><td>Agricultural Economics</td><td>Elsevier</td><td>no</td><td>558</td><td>610</td><td>4032</td><td>87</td><td>1986</td><td>24</td><td>Agricultural Economics</td><td>0.91</td><td>39</td></tr><tr><td>QRoEF</td><td>Quarterly Review of Economics & Finance</td><td>Elsevier</td><td>no</td><td>317</td><td>931</td><td>3036</td><td>87</td><td>1961</td><td>323</td><td>Finance</td><td>0.34</td><td>64</td></tr><tr><td>AEL</td><td>Applied Economics Letters</td><td>Routledge</td><td>no</td><td>495</td><td>774</td><td>5610</td><td>89</td><td>1994</td><td>69</td><td>General</td><td>0.64</td><td>31</td></tr><tr><td>EM</td><td>Economic Modelling</td><td>Elsevier</td><td>no</td><td>535</td><td>632</td><td>2880</td><td>89</td><td>1983</td><td>21</td><td>General</td><td>0.85</td><td>42</td></tr><tr><td>GC</td><td>Growth and Change</td><td>Blackwell</td><td>no</td><td>123</td><td>302</td><td>2772</td><td>97</td><td>1969</td><td>212</td><td>Development</td><td>0.41</td><td>56</td></tr><tr><td>ERE</td><td>Environmental and Resource Economics</td><td>Kluwer</td><td>no</td><td>717</td><td>1061</td><td>2924</td><td>97</td><td>1992</td><td>14</td><td>Natural Resources</td><td>0.68</td><td>33</td></tr><tr><td>JoRE</td><td>Journal of Regulatory Economics</td><td>Kluwer</td><td>no</td><td>481</td><td>628</td><td>3666</td><td>98</td><td>1991</td><td>38</td><td>Industrial Organization</td><td>0.77</td><td>34</td></tr><tr><td>BoIES</td><td>Bulletin of Indonesian Economic Studies</td><td>ANU Press</td><td>no</td><td>54</td><td>518</td><td>2858</td><td>98</td><td>1964</td><td>22</td><td>Specialized</td><td>0.1</td><td>61</td></tr><tr><td>AoRS</td><td>Annals of Regional Science</td><td>Springer</td><td>no</td><td>379</td><td>580</td><td>2914</td><td>100</td><td>1967</td><td>77</td><td>Urban and Regional</td><td>0.65</td><td>58</td></tr><tr><td>CEP</td><td>Contemporary Economic Policy</td><td>Oxford Univ Press</td><td>no</td><td>168</td><td>566</td><td>4104</td><td>109</td><td>1982</td><td>290</td><td>Public Finance</td><td>0.3</td><td>43</td></tr><tr><td>JoEcEd</td><td>Journal of Economic Education</td><td>Heldref</td><td>no</td><td>82</td><td>426</td><td>2990</td><td>112</td><td>1970</td><td>386</td><td>Specialized</td><td>0.19</td><td>55</td></tr><tr><td>JoJIE</td><td>Journal of the Japanese & International Economies</td><td>Academic Press</td><td>no</td><td>355</td><td>451</td><td>2541</td><td>119</td><td>1986</td><td>50</td><td>Area Studies</td><td>0.79</td><td>39</td></tr><tr><td>EaP</td><td>Economics and Philosophy</td><td>Cambridge Univ Pres</td><td>no</td><td>95</td><td>373</td><td>2574</td><td>121</td><td>1984</td><td>144</td><td>Interdisciplinary</td><td>0.25</td><td>41</td></tr><tr><td>JoFI</td><td>Journal of Financial Intermediation</td><td>Academic Press</td><td>no</td><td>240</td><td>420</td><td>2773</td><td>121</td><td>1991</td><td>48</td><td>Finance</td><td>0.57</td><td>34</td></tr><tr><td>RaEE</td><td>Resource and Energy Economics</td><td>Elsevier</td><td>no</td><td>448</td><td>416</td><td>3010</td><td>122</td><td>1978</td><td>33</td><td>Natural Resources</td><td>1.08</td><td>47</td></tr><tr><td>ORoEP</td><td>Oxford Review of Economic Policy</td><td>Oxford Univ Press</td><td>no</td><td>255</td><td>600</td><td>4284</td><td>124</td><td>1985</td><td>29</td><td>Public Finance</td><td>0.43</td><td>40</td></tr><tr><td>RoIO</td><td>Review of Industrial Organization</td><td>Kluwer</td><td>no</td><td>448</td><td>792</td><td>1820</td><td>126</td><td>1990</td><td>58</td><td>Industrial Organization</td><td>0.57</td><td>35</td></tr><tr><td>IRoLE</td><td>International Review of Law & Economics</td><td>Elsevier</td><td>no</td><td>392</td><td>585</td><td>3479</td><td>126</td><td>1980</td><td>71</td><td>Law and Economics</td><td>0.67</td><td>45</td></tr><tr><td>JoWT</td><td>Journal of World Trade</td><td>Kluwer</td><td>no</td><td>475</td><td>1138</td><td>3088</td><td>134</td><td>1967</td><td>135</td><td>International</td><td>0.42</td><td>58</td></tr><tr><td>JoM</td><td>Journal of Macroeconomics</td><td>LSU Press</td><td>no</td><td>85</td><td>856</td><td>2562</td><td>137</td><td>1979</td><td>183</td><td>Macroeconomics</td><td>0.1</td><td>46</td></tr><tr><td>AJoES</td><td>American Journal of Economics & Sociology</td><td>Blackwell</td><td>no</td><td>108</td><td>578</td><td>2331</td><td>138</td><td>1941</td><td>573</td><td>Interdisciplinary</td><td>0.19</td><td>84</td></tr><tr><td>PFR</td><td>Public Finance Review</td><td>Sage</td><td>no</td><td>394</td><td>636</td><td>2204</td><td>138</td><td>1973</td><td>268</td><td>Public Finance</td><td>0.62</td><td>52</td></tr><tr><td>MnchSc</td><td>Manchester School</td><td>Blackwell</td><td>no</td><td>336</td><td>618</td><td>2772</td><td>140</td><td>1930</td><td>57</td><td>General</td><td>0.54</td><td>95</td></tr><tr><td>EnE</td><td>Energy Economics</td><td>Elsevier</td><td>no</td><td>565</td><td>495</td><td>3038</td><td>143</td><td>1978</td><td>52</td><td>Natural Resources</td><td>1.14</td><td>47</td></tr><tr><td>ERoAE</td><td>European Review of Agricultural Economics</td><td>Oxford Univ Press</td><td>no</td><td>255</td><td>573</td><td>3228</td><td>144</td><td>1974</td><td>21</td><td>Agricultural Economics</td><td>0.45</td><td>51</td></tr><tr><td>LH</td><td>Labor History</td><td>Carfax</td><td>no</td><td>165</td><td>515</td><td>3430</td><td>147</td><td>1960</td><td>479</td><td>Labor</td><td>0.32</td><td>65</td></tr><tr><td>WA</td><td>Weltwirtschaftliches Archiv / Review of World Economics</td><td>Mohr Siebeck</td><td>no</td><td>99</td><td>758</td><td>2499</td><td>150</td><td>1865</td><td>77</td><td>General</td><td>0.13</td><td>160</td></tr><tr><td>SJoPE</td><td>Scottish Journal of Political Economy</td><td>Blackwell</td><td>no</td><td>203</td><td>596</td><td>3036</td><td>151</td><td>1953</td><td>89</td><td>General</td><td>0.34</td><td>72</td></tr><tr><td>DC</td><td>Development and Change</td><td>Blackwell</td><td>no</td><td>318</td><td>888</td><td>2623</td><td>154</td><td>1970</td><td>83</td><td>Development</td><td>0.36</td><td>55</td></tr><tr><td>JoREFE</td><td>Journal of Real Estate Finance and Economics</td><td>Kluwer</td><td>no</td><td>476</td><td>630</td><td>3432</td><td>162</td><td>1990</td><td>59</td><td>Business</td><td>0.76</td><td>35</td></tr><tr><td>JoPopEc</td><td>Journal of Policy Modeling</td><td>Elsevier</td><td>no</td><td>473</td><td>907</td><td>2160</td><td>164</td><td>1979</td><td>67</td><td>Specialized</td><td>0.52</td><td>46</td></tr><tr><td>JoPKE</td><td>Journal of Post-Keynesian Economics</td><td>M.E Sharpe</td><td>no</td><td>186</td><td>550</td><td>2360</td><td>170</td><td>1978</td><td>225</td><td>General</td><td>0.34</td><td>47</td></tr><tr><td>EP</td><td>Economic Policy</td><td>Blackwell</td><td>no</td><td>170</td><td>440</td><td>2856</td><td>179</td><td>1985</td><td>56</td><td>Public Finance</td><td>0.39</td><td>40</td></tr><tr><td>MSS</td><td>Mathematical Social Sciences</td><td>Elsevier</td><td>no</td><td>824</td><td>697</td><td>3420</td><td>180</td><td>1981</td><td>36</td><td>Interdisciplinary</td><td>1.18</td><td>44</td></tr><tr><td>Om</td><td>Omega</td><td>Elsevier</td><td>no</td><td>805</td><td>780</td><td>4028</td><td>183</td><td>1973</td><td>101</td><td>Business</td><td>1.03</td><td>52</td></tr><tr><td>HoPE</td><td>History of Political Economy</td><td>Duke Univ Press</td><td>no</td><td>132</td><td>767</td><td>2280</td><td>183</td><td>1969</td><td>288</td><td>Economic History</td><td>0.17</td><td>56</td></tr><tr><td>EcRec</td><td>Economic Record</td><td>Ec. Society of Australia</td><td>yes</td><td>50</td><td>421</td><td>4320</td><td>188</td><td>1925</td><td>183</td><td>General</td><td>0.12</td><td>100</td></tr><tr><td>JoPA</td><td>Journal of Productivity Analysis</td><td>Kluwer</td><td>no</td><td>424</td><td>567</td><td>3432</td><td>188</td><td>1992</td><td>25</td><td>General</td><td>0.75</td><td>33</td></tr><tr><td>RoIW</td><td>Review of Income and Wealth</td><td>Int Assn for Res in I & W</td><td>yes</td><td>130</td><td>585</td><td>3312</td><td>189</td><td>1945</td><td>120</td><td>Public Finance</td><td>0.22</td><td>80</td></tr><tr><td>JoRI</td><td>Journal of Risk and Insurance</td><td>Am. Risk & Ins. Assn</td><td>yes</td><td>90</td><td>720</td><td>2924</td><td>193</td><td>1964</td><td>263</td><td>Insurance</td><td>0.13</td><td>61</td></tr><tr><td>TWE</td><td>The World Economy</td><td>Blackwell</td><td>no</td><td>805</td><td>1270</td><td>2842</td><td>214</td><td>1977</td><td>101</td><td>Development</td><td>0.63</td><td>48</td></tr><tr><td>JoAE</td><td>Journal of Agricultural Economics</td><td>Agric. Econ. Society</td><td>yes</td><td>96</td><td>277</td><td>4218</td><td>220</td><td>1948</td><td>43</td><td>Agricultural Economics</td><td>0.35</td><td>77</td></tr><tr><td>EoER</td><td>Economics of Education Review</td><td>Elsevier</td><td>no</td><td>448</td><td>471</td><td>5040</td><td>224</td><td>1982</td><td>73</td><td>Specialized</td><td>0.95</td><td>43</td></tr><tr><td>JoLR</td><td>Journal of Labor Research</td><td>George Mason Univ</td><td>no</td><td>130</td><td>725</td><td>3010</td><td>227</td><td>1980</td><td>221</td><td>Labor</td><td>0.18</td><td>45</td></tr><tr><td>TD</td><td>Theory and Decision</td><td>Kluwer</td><td>no</td><td>595</td><td>607</td><td>2072</td><td>237</td><td>1970</td><td>83</td><td>Theory</td><td>0.98</td><td>55</td></tr><tr><td>SCW</td><td>Social Choice & Welfare</td><td>Springer</td><td>no</td><td>474</td><td>674</td><td>2990</td><td>239</td><td>1984</td><td>37</td><td>Public Finance</td><td>0.7</td><td>41</td></tr><tr><td>JoCE</td><td>Journal of Comparative Economics</td><td>Academic Press</td><td>no</td><td>410</td><td>803</td><td>2442</td><td>245</td><td>1977</td><td>185</td><td>Area Studies</td><td>0.51</td><td>48</td></tr><tr><td>JoEP</td><td>Journal of Economic Psychology</td><td>Elsevier</td><td>no</td><td>395</td><td>802</td><td>2535</td><td>245</td><td>1981</td><td>61</td><td>Interdisciplinary</td><td>0.49</td><td>44</td></tr><tr><td>IJoF</td><td>International Journal of Forecasting</td><td>Elsevier</td><td>no</td><td>437</td><td>464</td><td>4324</td><td>249</td><td>1985</td><td>57</td><td>Specialized</td><td>0.94</td><td>40</td></tr><tr><td>Ky</td><td>Kyklos</td><td>Helbing & Lichtenhahn</td><td>no</td><td>270</td><td>618</td><td>2760</td><td>254</td><td>1948</td><td>186</td><td>General</td><td>0.44</td><td>77</td></tr><tr><td>EiEH</td><td>Explorations in Economic History</td><td>Academic Press</td><td>no</td><td>265</td><td>447</td><td>2904</td><td>261</td><td>1963</td><td>199</td><td>Economic History</td><td>0.59</td><td>62</td></tr><tr><td>ET</td><td>Economic Theory</td><td>Springer</td><td>no</td><td>899</td><td>1493</td><td>2806</td><td>264</td><td>1992</td><td>165</td><td>Theory</td><td>0.6</td><td>33</td></tr><tr><td>JoTEP</td><td>Journal of Transport Economics & Policy</td><td>LSE and Univ of Bath</td><td>no</td><td>133</td><td>406</td><td>3182</td><td>292</td><td>1967</td><td>95</td><td>Specialized</td><td>0.33</td><td>58</td></tr><tr><td>BJoIR</td><td>British Journal of Industrial Relations</td><td>Blackwell</td><td>no</td><td>262</td><td>663</td><td>3450</td><td>294</td><td>1963</td><td>82</td><td>Specialized</td><td>0.4</td><td>62</td></tr><tr><td>JoCMS</td><td>Journal of Common Market Studies</td><td>Blackwell</td><td>no</td><td>506</td><td>710</td><td>2747</td><td>299</td><td>1962</td><td>214</td><td>Area Studies</td><td>0.71</td><td>63</td></tr><tr><td>JoFM</td><td>Journal of Futures Markets</td><td>Wiley</td><td>no</td><td>1140</td><td>990</td><td>2460</td><td>302</td><td>1981</td><td>152</td><td>Finance</td><td>1.15</td><td>44</td></tr><tr><td>JITE</td><td>Journal of Institutional & Theoretical Economics</td><td>Mohr Siebeck</td><td>no</td><td>211</td><td>792</td><td>3402</td><td>313</td><td>1844</td><td>33</td><td>General</td><td>0.27</td><td>181</td></tr><tr><td>IJoIO</td><td>International Journal of Industrial Organization</td><td>Elsevier</td><td>no</td><td>799</td><td>1230</td><td>3124</td><td>313</td><td>1983</td><td>81</td><td>Industrial Organization</td><td>0.65</td><td>42</td></tr><tr><td>JoFo</td><td>Journal of Forecasting</td><td>Wiley</td><td>no</td><td>760</td><td>516</td><td>4032</td><td>317</td><td>1982</td><td>137</td><td>Specialized</td><td>1.47</td><td>43</td></tr><tr><td>ORL</td><td>Operations Research Letters</td><td>Elsevier</td><td>no</td><td>442</td><td>460</td><td>4056</td><td>338</td><td>1982</td><td>59</td><td>Management Science</td><td>0.96</td><td>43</td></tr><tr><td>SJoE</td><td>Scandinavian Journal of Economics</td><td>Blackwell</td><td>no</td><td>296</td><td>688</td><td>2666</td><td>339</td><td>1898</td><td>98</td><td>General</td><td>0.43</td><td>127</td></tr><tr><td>CJoE</td><td>Cambridge Journal of Economics</td><td>Oxford Univ Press</td><td>no</td><td>272</td><td>814</td><td>3545</td><td>351</td><td>1976</td><td>163</td><td>General</td><td>0.33</td><td>49</td></tr><tr><td>JoEI</td><td>Journal of Economic Issues</td><td>Assn Ev. Economics</td><td>yes</td><td>45</td><td>1003</td><td>2870</td><td>355</td><td>1967</td><td>462</td><td>Public Finance</td><td>0.04</td><td>58</td></tr><tr><td>RSUE</td><td>Regional Science & Urban Economics</td><td>Elsevier</td><td>no</td><td>614</td><td>802</td><td>2967</td><td>370</td><td>1971</td><td>99</td><td>Urban and Regional</td><td>0.77</td><td>54</td></tr><tr><td>IJoGT</td><td>International Journal of Game Theory</td><td>Springer</td><td>no</td><td>436</td><td>582</td><td>3366</td><td>382</td><td>1971</td><td>52</td><td>Theory</td><td>0.75</td><td>54</td></tr><tr><td>JoRaU</td><td>Journal of Risk and Uncertainty</td><td>Kluwer</td><td>no</td><td>481</td><td>595</td><td>3476</td><td>383</td><td>1990</td><td>47</td><td>Insurance</td><td>0.81</td><td>35</td></tr><tr><td>JoRU</td><td>Journal of Financial and Quantitative Analysis</td><td>Univ Wash Press</td><td>no</td><td>95</td><td>500</td><td>3314</td><td>388</td><td>1966</td><td>394</td><td>Finance</td><td>0.19</td><td>59</td></tr><tr><td>JoDS</td><td>Journal of Development Studies</td><td>Frank Cass</td><td>no</td><td>357</td><td>500</td><td>2604</td><td>388</td><td>1964</td><td>227</td><td>Development</td><td>0.71</td><td>61</td></tr><tr><td>EcmtrT</td><td>Econometric Theory</td><td>Cambridge Univ Pres</td><td>no</td><td>280</td><td>899</td><td>2948</td><td>390</td><td>1985</td><td>65</td><td>Econometrics</td><td>0.31</td><td>40</td></tr><tr><td>JoRS</td><td>Journal of Regional Science</td><td>Blackwell</td><td>no</td><td>142</td><td>764</td><td>2992</td><td>397</td><td>1961</td><td>242</td><td>Urban and Regional</td><td>0.19</td><td>64</td></tr><tr><td>JoA&E</td><td>Journal of Accounting & Economics</td><td>Elsevier</td><td>no</td><td>710</td><td>1112</td><td>2945</td><td>406</td><td>1979</td><td>154</td><td>Interdisciplinary</td><td>0.64</td><td>46</td></tr><tr><td>GaEB</td><td>Games and Economic Behavior</td><td>Academic Press</td><td>no</td><td>490</td><td>1197</td><td>2460</td><td>412</td><td>1988</td><td>45</td><td>Theory</td><td>0.41</td><td>37</td></tr><tr><td>JAE</td><td>Journal of Applied Econometrics</td><td>Wiley</td><td>no</td><td>870</td><td>689</td><td>3680</td><td>412</td><td>1986</td><td>81</td><td>Econometrics</td><td>1.26</td><td>39</td></tr><tr><td>JoMathEc</td><td>Journal of Mathematical Economics</td><td>Elsevier</td><td>no</td><td>1147</td><td>1340</td><td>2940</td><td>418</td><td>1974</td><td>79</td><td>Theory</td><td>0.86</td><td>51</td></tr><tr><td>JoIMF</td><td>Journal of International Money and Finance</td><td>Elsevier</td><td>no</td><td>743</td><td>940</td><td>2660</td><td>427</td><td>1981</td><td>120</td><td>International</td><td>0.79</td><td>44</td></tr><tr><td>RS</td><td>Regional Studies</td><td>Carfax</td><td>no</td><td>759</td><td>911</td><td>4988</td><td>440</td><td>1967</td><td>91</td><td>Urban and Regional</td><td>0.83</td><td>58</td></tr><tr><td>PDR</td><td>Population & Development Review</td><td>Population Council</td><td>no</td><td>36</td><td>910</td><td>2904</td><td>445</td><td>1975</td><td>218</td><td>Demography</td><td>0.04</td><td>50</td></tr><tr><td>ES</td><td>Economy and Society</td><td>Routledge</td><td>no</td><td>224</td><td>640</td><td>2970</td><td>488</td><td>1971</td><td>97</td><td>General</td><td>0.35</td><td>54</td></tr><tr><td>DS</td><td>Decision Sciences</td><td>Georgia State Univ</td><td>no</td><td>82</td><td>1067</td><td>3124</td><td>495</td><td>1970</td><td>322</td><td>Management Science</td><td>0.08</td><td>55</td></tr><tr><td>JoIndEc</td><td>Journal of Industrial Economics</td><td>Blackwell</td><td>no</td><td>160</td><td>476</td><td>2684</td><td>497</td><td>1953</td><td>283</td><td>Industrial Organization</td><td>0.34</td><td>72</td></tr><tr><td>EE</td><td>Ecological Economics</td><td>Elsevier</td><td>no</td><td>1170</td><td>1990</td><td>4128</td><td>499</td><td>1989</td><td>40</td><td>Natural Resources</td><td>0.59</td><td>36</td></tr><tr><td>NTJ</td><td>National Tax Journal</td><td>National Tax Assn.</td><td>no</td><td>90</td><td>785</td><td>2940</td><td>502</td><td>1948</td><td>552</td><td>Public Finance</td><td>0.11</td><td>77</td></tr><tr><td>US</td><td>Urban Studies</td><td>Carfax</td><td>no</td><td>742</td><td>1711</td><td>3747</td><td>508</td><td>1964</td><td>222</td><td>Urban and Regional</td><td>0.43</td><td>61</td></tr><tr><td>HE</td><td>Health Economics</td><td>Wiley</td><td>no</td><td>575</td><td>736</td><td>4264</td><td>544</td><td>1992</td><td>29</td><td>Health</td><td>0.78</td><td>33</td></tr><tr><td>EHR</td><td>Economic History Review</td><td>Blackwell</td><td>no</td><td>163</td><td>846</td><td>3570</td><td>545</td><td>1947</td><td>390</td><td>Economic History</td><td>0.19</td><td>78</td></tr><tr><td>RoFS</td><td>Review of Financial Studies</td><td>Oxford Univ. Press</td><td>no</td><td>175</td><td>1235</td><td>2604</td><td>547</td><td>1988</td><td>95</td><td>Finance</td><td>0.14</td><td>37</td></tr><tr><td>CJE</td><td>Canadian Journal of Economics</td><td>Blackwell</td><td>yes</td><td>120</td><td>1247</td><td>2992</td><td>556</td><td>1967</td><td>305</td><td>General</td><td>0.1</td><td>58</td></tr><tr><td>RA</td><td>Risk Analysis</td><td>Kluwer</td><td>no</td><td>590</td><td>1260</td><td>4628</td><td>574</td><td>1981</td><td>98</td><td>Insurance</td><td>0.47</td><td>44</td></tr><tr><td>AE</td><td>Applied Economics</td><td>Routledge</td><td>no</td><td>2120</td><td>1683</td><td>5445</td><td>578</td><td>1958</td><td>146</td><td>General</td><td>1.26</td><td>67</td></tr><tr><td>OEP</td><td>Oxford Economic Papers</td><td>Oxford Univ. Press</td><td>no</td><td>205</td><td>767</td><td>2924</td><td>582</td><td>1949</td><td>271</td><td>General</td><td>0.27</td><td>76</td></tr><tr><td>EDCC</td><td>Economic Development & Cultural Change</td><td>Univ of Chicago Press</td><td>no</td><td>128</td><td>889</td><td>2700</td><td>597</td><td>1952</td><td>515</td><td>Development</td><td>0.14</td><td>73</td></tr><tr><td>JoBF</td><td>Journal of Banking and Finance</td><td>Elsevier</td><td>no</td><td>1539</td><td>1911</td><td>2516</td><td>602</td><td>1977</td><td>172</td><td>Finance</td><td>0.81</td><td>48</td></tr><tr><td>OBoES</td><td>Oxford Bulletin of Economics & Statistics</td><td>Blackwell</td><td>no</td><td>346</td><td>545</td><td>2655</td><td>617</td><td>1939</td><td>127</td><td>General</td><td>0.63</td><td>86</td></tr><tr><td>JoEDC</td><td>Journal of Economic Dynamics & Control</td><td>Elsevier</td><td>yes</td><td>1046</td><td>1636</td><td>2945</td><td>636</td><td>1979</td><td>58</td><td>Theory</td><td>0.64</td><td>46</td></tr><tr><td>SEJ</td><td>Southern Economic Journal</td><td>Southern Econ. Assn</td><td>yes</td><td>97</td><td>1032</td><td>3680</td><td>646</td><td>1932</td><td>524</td><td>General</td><td>0.09</td><td>93</td></tr><tr><td>JoMS</td><td>Journal of Management Studies</td><td>Blackwell</td><td>no</td><td>686</td><td>850</td><td>3456</td><td>654</td><td>1964</td><td>222</td><td>Management Science</td><td>0.81</td><td>61</td></tr><tr><td>JoBE</td><td>Journal of Business Ethics</td><td>Kluwer</td><td>no</td><td>914</td><td>1270</td><td>3650</td><td>662</td><td>1981</td><td>385</td><td>Business</td><td>0.72</td><td>44</td></tr><tr><td>Dm</td><td>Demography</td><td>Pop Assn America</td><td>no</td><td>85</td><td>568</td><td>6859</td><td>670</td><td>1964</td><td>413</td><td>Demography</td><td>0.15</td><td>61</td></tr><tr><td>EI</td><td>Economic Inquiry</td><td>Oxford Univ Press</td><td>no</td><td>206</td><td>684</td><td>4134</td><td>684</td><td>1962</td><td>366</td><td>General</td><td>0.3</td><td>63</td></tr><tr><td>JoEBO</td><td>Journal of Economic Behavior & Organization</td><td>Elsevier</td><td>no</td><td>1154</td><td>1380</td><td>3330</td><td>698</td><td>1980</td><td>75</td><td>Theory</td><td>0.84</td><td>45</td></tr><tr><td>JoLS</td><td>Journal of Legal Studies</td><td>Univ of Chicago Press</td><td>no</td><td>45</td><td>530</td><td>2625</td><td>700</td><td>1972</td><td>238</td><td>Law and Economics</td><td>0.08</td><td>53</td></tr><tr><td>JoDE</td><td>Journal of Development Economics</td><td>Elsevier</td><td>no</td><td>1146</td><td>1110</td><td>2816</td><td>707</td><td>1974</td><td>142</td><td>Development</td><td>1.03</td><td>51</td></tr><tr><td>LanEc</td><td>Land Economics</td><td>Univ of Wisconsin Press</td><td>no</td><td>95</td><td>580</td><td>3672</td><td>730</td><td>1925</td><td>437</td><td>Urban and Regional</td><td>0.16</td><td>100</td></tr><tr><td>JoLE</td><td>Journal of Labor Economics</td><td>Univ of Chicago Press</td><td>no</td><td>138</td><td>600</td><td>2728</td><td>733</td><td>1983</td><td>269</td><td>Labor</td><td>0.23</td><td>42</td></tr><tr><td>JoEH</td><td>Journal of Economic History</td><td>Cambridge Univ Pres</td><td>no</td><td>115</td><td>1200</td><td>4029</td><td>737</td><td>1941</td><td>643</td><td>Economic History</td><td>0.1</td><td>84</td></tr><tr><td>JoUE</td><td>Journal of Urban Economics</td><td>Academic Press</td><td>no</td><td>640</td><td>1058</td><td>2666</td><td>787</td><td>1974</td><td>230</td><td>Urban and Regional</td><td>0.6</td><td>51</td></tr><tr><td>Ecnmc</td><td>Economica</td><td>Blackwell</td><td>no</td><td>122</td><td>565</td><td>3120</td><td>825</td><td>1933</td><td>313</td><td>General</td><td>0.22</td><td>92</td></tr><tr><td>JoMCB</td><td>Journal of Money Credit & Banking</td><td>Ohio State Univ. Press</td><td>no</td><td>110</td><td>860</td><td>3168</td><td>834</td><td>1969</td><td>512</td><td>Macroeconomics</td><td>0.13</td><td>56</td></tr><tr><td>JoIntEc</td><td>Journal of International Economics</td><td>Elsevier</td><td>no</td><td>923</td><td>1299</td><td>2898</td><td>838</td><td>1971</td><td>211</td><td>International</td><td>0.71</td><td>54</td></tr><tr><td>PC</td><td>Public Choice</td><td>Kluwer</td><td>no</td><td>1000</td><td>1600</td><td>2583</td><td>871</td><td>1966</td><td>171</td><td>Public Finance</td><td>0.63</td><td>59</td></tr><tr><td>RP</td><td>Research Policy</td><td>Elsevier</td><td>no</td><td>1234</td><td>781</td><td>4320</td><td>922</td><td>1972</td><td>34</td><td>Business</td><td>1.58</td><td>53</td></tr><tr><td>EL</td><td>Economics Letters</td><td>Elsevier</td><td>no</td><td>1492</td><td>1540</td><td>3315</td><td>930</td><td>1978</td><td>81</td><td>General</td><td>0.97</td><td>47</td></tr><tr><td>JoHeEc</td><td>Journal of Health Economics</td><td>Elsevier</td><td>no</td><td>810</td><td>828</td><td>2924</td><td>957</td><td>1982</td><td>144</td><td>Health</td><td>0.98</td><td>43</td></tr><tr><td>JBES</td><td>Journal of Business & Economic Statistics</td><td>Am Stat Assn</td><td>yes</td><td>90</td><td>510</td><td>6360</td><td>988</td><td>1983</td><td>190</td><td>Business</td><td>0.18</td><td>42</td></tr><tr><td>RJoE</td><td>Rand Journal of Economics</td><td>RAND</td><td>no</td><td>177</td><td>757</td><td>3450</td><td>1039</td><td>1970</td><td>339</td><td>Industrial Organization</td><td>0.23</td><td>55</td></tr><tr><td>JoB</td><td>Journal of Business</td><td>Univ of Chicago Press</td><td>no</td><td>74</td><td>583</td><td>2655</td><td>1083</td><td>1928</td><td>771</td><td>Business</td><td>0.13</td><td>97</td></tr><tr><td>JoHR</td><td>Journal of Human Resources</td><td>Univ of Wisconsin Press</td><td>no</td><td>113</td><td>837</td><td>3312</td><td>1113</td><td>1966</td><td>522</td><td>Labor</td><td>0.14</td><td>59</td></tr><tr><td>IER</td><td>International Economic Review</td><td>Blackwell</td><td>no</td><td>145</td><td>969</td><td>3082</td><td>1113</td><td>1960</td><td>284</td><td>General</td><td>0.15</td><td>65</td></tr><tr><td>JoEEM</td><td>Journal of Environmental Economics & Managment</td><td>Academic Press</td><td>no</td><td>590</td><td>636</td><td>3096</td><td>1152</td><td>1974</td><td>202</td><td>Natural Resources</td><td>0.93</td><td>51</td></tr><tr><td>EER</td><td>European Economic Review</td><td>Elsevier</td><td>yes</td><td>1154</td><td>1823</td><td>2178</td><td>1243</td><td>1969</td><td>118</td><td>General</td><td>0.63</td><td>56</td></tr><tr><td>WD</td><td>World Development</td><td>Elsevier</td><td>no</td><td>1450</td><td>1145</td><td>5480</td><td>1408</td><td>1973</td><td>160</td><td>Development</td><td>1.27</td><td>52</td></tr><tr><td>JoPubEc</td><td>Journal of Public Economics</td><td>Elsevier</td><td>no</td><td>1431</td><td>1880</td><td>2924</td><td>1437</td><td>1972</td><td>141</td><td>Public Finance</td><td>0.76</td><td>53</td></tr><tr><td>JEL</td><td>Journal of Economic Literature</td><td>Am Ec Assn</td><td>yes</td><td>47</td><td>2632</td><td>3848</td><td>1530</td><td>1963</td><td>972</td><td>General</td><td>0.02</td><td>62</td></tr><tr><td>JoLaE</td><td>Journal of Law and Economics</td><td>Univ of Chicago Press</td><td>no</td><td>45</td><td>850</td><td>2604</td><td>1580</td><td>1968</td><td>542</td><td>Law and Economics</td><td>0.05</td><td>57</td></tr><tr><td>JEP</td><td>Journal of Economic Perspectives</td><td>Am Ec Assn</td><td>yes</td><td>47</td><td>940</td><td>3036</td><td>1583</td><td>1987</td><td>866</td><td>General</td><td>0.05</td><td>38</td></tr><tr><td>AJoAE</td><td>American Journal of Agricultural Economics</td><td>Am. Ag. Econ Assn</td><td>no</td><td>81</td><td>1253</td><td>4368</td><td>1812</td><td>1918</td><td>267</td><td>Agricultural Economics</td><td>0.06</td><td>107</td></tr><tr><td>JoMonEc</td><td>Journal of Monetary Economics</td><td>Elsevier</td><td>no</td><td>1010</td><td>1346</td><td>3174</td><td>1860</td><td>1975</td><td>186</td><td>Macroeconomics</td><td>0.75</td><td>50</td></tr><tr><td>MngtSc</td><td>Management Science</td><td>Inst for OR and MS</td><td>no</td><td>334</td><td>1175</td><td>4232</td><td>2022</td><td>1954</td><td>558</td><td>Management Science</td><td>0.28</td><td>71</td></tr><tr><td>RoE&S</td><td>Review of Economics & Statistics</td><td>MIT press</td><td>no</td><td>190</td><td>733</td><td>5600</td><td>2331</td><td>1919</td><td>523</td><td>General</td><td>0.26</td><td>106</td></tr><tr><td>RoES</td><td>Review of Economic Studies</td><td>Blackwell</td><td>no</td><td>180</td><td>761</td><td>3626</td><td>2411</td><td>1933</td><td>325</td><td>General</td><td>0.24</td><td>92</td></tr><tr><td>JoE</td><td>Journal of Econometrics</td><td>Elsevier</td><td>no</td><td>1893</td><td>1527</td><td>2178</td><td>2479</td><td>1973</td><td>129</td><td>Econometrics</td><td>1.24</td><td>52</td></tr><tr><td>JoET</td><td>Journal of Economic Theory</td><td>Academic Press</td><td>no</td><td>1400</td><td>2000</td><td>2684</td><td>2514</td><td>1969</td><td>165</td><td>Theory</td><td>0.7</td><td>56</td></tr><tr><td>EJ</td><td>Economic Journal</td><td>Blackwell</td><td>no</td><td>301</td><td>1983</td><td>3036</td><td>2540</td><td>1890</td><td>531</td><td>General</td><td>0.15</td><td>135</td></tr><tr><td>JoFE</td><td>Journal of Financial Economics</td><td>Elsevier</td><td>no</td><td>1339</td><td>1947</td><td>2838</td><td>2676</td><td>1974</td><td>231</td><td>Finance</td><td>0.69</td><td>51</td></tr><tr><td>JoCR</td><td>Journal of Consumer Research</td><td>Univ of Chicago Press</td><td>no</td><td>90</td><td>439</td><td>5336</td><td>2762</td><td>1974</td><td>536</td><td>Consumer Economics</td><td>0.21</td><td>51</td></tr><tr><td>JASA</td><td>Journal of the American Statistical Association</td><td>Am. Statistical Assn</td><td>yes</td><td>310</td><td>1260</td><td>5664</td><td>2800</td><td>1971</td><td>487</td><td>Econometrics</td><td>0.25</td><td>54</td></tr><tr><td>JoFi</td><td>Journal of Finance</td><td>Am. Finance Assn</td><td>yes</td><td>226</td><td>2272</td><td>3036</td><td>3791</td><td>1945</td><td>799</td><td>Finance</td><td>0.1</td><td>80</td></tr><tr><td>QJoE</td><td>Quarterly Journal of Economics</td><td>MIT press</td><td>no</td><td>148</td><td>1467</td><td>2184</td><td>4138</td><td>1886</td><td>660</td><td>General</td><td>0.1</td><td>139</td></tr><tr><td>JoPolEc</td><td>Journal of Political Economy</td><td>Univ of Chicago Press</td><td>no</td><td>159</td><td>1669</td><td>2640</td><td>6697</td><td>1892</td><td>737</td><td>General</td><td>0.1</td><td>133</td></tr><tr><td>Ecnmt</td><td>Econometrica</td><td>Blackwell</td><td>yes</td><td>178</td><td>1482</td><td>2992</td><td>7943</td><td>1932</td><td>346</td><td>General</td><td>0.12</td><td>93</td></tr><tr><td>AER</td><td>American Economic Review</td><td>Am Ec Assn</td><td>yes</td><td>47</td><td>1867</td><td>3900</td><td>8999</td><td>1911</td><td>1098</td><td>General</td><td>0.03</td><td>114</td></tr></tbody></table></div>"
      ]
     },
     "metadata": {
      "application/vnd.databricks.v1+output": {
       "addedWidgets": {},
       "aggData": [],
       "aggError": "",
       "aggOverflow": false,
       "aggSchema": [],
       "aggSeriesLimitReached": false,
       "aggType": "",
       "arguments": {},
       "columnCustomDisplayInfos": {},
       "data": [
        [
         "APEL",
         "Asian-Pacific Economic Literature",
         "Blackwell",
         "no",
         123,
         440,
         3822,
         21,
         1986,
         14,
         "General",
         0.28,
         39
        ],
        [
         "SAJoEH",
         "South African Journal of Economic History",
         "So Afr ec history assn",
         "no",
         20,
         309,
         1782,
         22,
         1986,
         59,
         "Economic History",
         0.06,
         39
        ],
        [
         "CE",
         "Computational Economics",
         "Kluwer",
         "no",
         443,
         567,
         2924,
         22,
         1987,
         17,
         "Specialized",
         0.78,
         38
        ],
        [
         "MEPiTE",
         "MOCT-MOST Economic Policy in Transitional Economics",
         "Kluwer",
         "no",
         276,
         520,
         3234,
         22,
         1991,
         2,
         "Area Studies",
         0.53,
         34
        ],
        [
         "JoSE",
         "Journal of Socio-Economics",
         "Elsevier",
         "no",
         295,
         791,
         3024,
         24,
         1972,
         96,
         "Interdisciplinary",
         0.37,
         53
        ],
        [
         "LabEc",
         "Labour Economics",
         "Elsevier",
         "no",
         344,
         609,
         2967,
         24,
         1994,
         15,
         "Labor",
         0.56,
         31
        ],
        [
         "EDE",
         "Environment and Development Economics",
         "Cambridge Univ Pres",
         "no",
         90,
         602,
         3185,
         24,
         1995,
         14,
         "Development",
         0.15,
         30
        ],
        [
         "RoRPE",
         "Review of Radical Political Economics",
         "Elsevier",
         "no",
         242,
         665,
         2688,
         27,
         1968,
         202,
         "Specialized",
         0.36,
         57
        ],
        [
         "EoP",
         "Economics of Planning",
         "Kluwer",
         "no",
         226,
         243,
         3010,
         28,
         1987,
         46,
         "Area Studies",
         0.93,
         38
        ],
        [
         "Mt",
         "Metroeconomica",
         "Blackwell",
         "no",
         262,
         386,
         2501,
         30,
         1949,
         46,
         "General",
         0.68,
         76
        ],
        [
         "JoCP",
         "Journal of Consumer Policy",
         "Kluwer",
         "no",
         279,
         578,
         2200,
         32,
         1978,
         57,
         "Consumer Economics",
         0.48,
         47
        ],
        [
         "REE",
         "Real Estate Economics",
         "MIT",
         "no",
         165,
         749,
         2496,
         35,
         1973,
         125,
         "Specialized",
         0.22,
         52
        ],
        [
         "DPR",
         "Development Policy Review",
         "Blackwell",
         "no",
         242,
         427,
         2731,
         36,
         1982,
         30,
         "Development",
         0.57,
         43
        ],
        [
         "MaDE",
         "Managerial and Decision Econ",
         "Wiley",
         "no",
         905,
         292,
         4472,
         37,
         1980,
         62,
         "Management Science",
         3.1,
         45
        ],
        [
         "JoEF",
         "Journal of Empirical Finance",
         "Elsevier",
         "no",
         355,
         607,
         3053,
         37,
         1994,
         16,
         "Finance",
         0.58,
         31
        ],
        [
         "JoEMS",
         "International Journal of Finance & Economics",
         "Springer",
         "no",
         375,
         351,
         4025,
         40,
         1996,
         17,
         "Finance",
         1.07,
         29
        ],
        [
         "JoE&MS",
         "Journal of Economics & Management Strategy",
         "MIT Press",
         "no",
         135,
         602,
         2394,
         42,
         1992,
         37,
         "Management Science",
         0.22,
         33
        ],
        [
         "AEJ",
         "Atlantic Economic Journal",
         "Intnl Atlantic Ec. Soc.",
         "no",
         171,
         447,
         3139,
         44,
         1972,
         148,
         "General",
         0.38,
         53
        ],
        [
         "EDQ",
         "Economic Development Quarterly",
         "Sage",
         "no",
         284,
         385,
         3318,
         47,
         1987,
         110,
         "Development",
         0.74,
         38
        ],
        [
         "CER",
         "China Economic Review",
         "Elsevier",
         "no",
         242,
         167,
         3619,
         47,
         1989,
         16,
         "Area Studies",
         1.45,
         36
        ],
        [
         "IEP",
         "Information Economics and Policy",
         "Elsevier",
         "no",
         371,
         442,
         2924,
         50,
         1984,
         30,
         "Specialized",
         0.84,
         41
        ],
        [
         "AEP",
         "Australian Economic Papers",
         "Blackwell",
         "no",
         115,
         495,
         3792,
         51,
         1961,
         61,
         "General",
         0.23,
         64
        ],
        [
         "JWE",
         "Japan and the World Economy",
         "Elsevier",
         "no",
         355,
         577,
         3443,
         56,
         1988,
         27,
         "Area Studies",
         0.62,
         37
        ],
        [
         "JoES",
         "Journal of Economic Surveys",
         "Blackwell",
         "no",
         355,
         674,
         2835,
         61,
         1987,
         45,
         "General",
         0.53,
         38
        ],
        [
         "IME",
         "Insurance  Mathematics & Economics",
         "Elsevier",
         "no",
         835,
         745,
         4263,
         61,
         1982,
         15,
         "Insurance",
         1.12,
         43
        ],
        [
         "DE",
         "De Economist",
         "Kluwer",
         "no",
         223,
         579,
         2594,
         62,
         1852,
         25,
         "General",
         0.39,
         173
        ],
        [
         "RoSE",
         "Review of Social Economy",
         "Routledge",
         "no",
         172,
         578,
         2720,
         66,
         1943,
         203,
         "General",
         0.3,
         82
        ],
        [
         "BP",
         "Brookings Papers",
         "Brookings Inst.",
         "no",
         62,
         394,
         2368,
         67,
         1970,
         646,
         "Public Finance",
         0.16,
         55
        ],
        [
         "PiRS",
         "Papers in Regional Science",
         "Springer",
         "no",
         191,
         442,
         2925,
         68,
         1922,
         59,
         "Urban and Regional",
         0.43,
         103
        ],
        [
         "JoPE",
         "Journal of Population Economics",
         "Springer",
         "no",
         411,
         640,
         3264,
         69,
         1987,
         27,
         "Demography",
         0.64,
         38
        ],
        [
         "FS",
         "Finance and Stochastics",
         "Springer",
         "no",
         274,
         492,
         3060,
         69,
         1996,
         31,
         "Finance",
         0.56,
         29
        ],
        [
         "IO",
         "International Organization",
         "MIT",
         "no",
         130,
         814,
         3024,
         69,
         1947,
         532,
         "Industrial Organization",
         0.16,
         78
        ],
        [
         "CPP",
         "Canadian Public Policy",
         "University of Toronto Press",
         "no",
         100,
         714,
         2248,
         75,
         1975,
         52,
         "Public Finance",
         0.14,
         50
        ],
        [
         "DvE",
         "Developing Economies",
         "Inst of Devel Econ",
         "no",
         80,
         539,
         3345,
         76,
         1963,
         87,
         "Development",
         0.15,
         62
        ],
        [
         "JoHoEc",
         "Journal of Housing Economics",
         "Academic Press",
         "no",
         235,
         330,
         2623,
         78,
         1982,
         27,
         "Specialized",
         0.71,
         43
        ],
        [
         "JoEB",
         "Journal of Economics & Business",
         "Elsevier",
         "no",
         392,
         563,
         3456,
         80,
         1948,
         291,
         "Business",
         0.7,
         77
        ],
        [
         "JoEvEc",
         "Journal of Evolutionary Economics",
         "Springer",
         "no",
         410,
         526,
         2989,
         81,
         1991,
         9,
         "Specialized",
         0.78,
         34
        ],
        [
         "EmpEc",
         "Empirical Economics",
         "Springer",
         "no",
         464,
         719,
         3366,
         82,
         1976,
         24,
         "General",
         0.65,
         49
        ],
        [
         "ER",
         "Econometric Reviews",
         "Dekker",
         "no",
         650,
         448,
         2418,
         85,
         1981,
         49,
         "Econometrics",
         1.45,
         44
        ],
        [
         "AgE",
         "Agricultural Economics",
         "Elsevier",
         "no",
         558,
         610,
         4032,
         87,
         1986,
         24,
         "Agricultural Economics",
         0.91,
         39
        ],
        [
         "QRoEF",
         "Quarterly Review of Economics & Finance",
         "Elsevier",
         "no",
         317,
         931,
         3036,
         87,
         1961,
         323,
         "Finance",
         0.34,
         64
        ],
        [
         "AEL",
         "Applied Economics Letters",
         "Routledge",
         "no",
         495,
         774,
         5610,
         89,
         1994,
         69,
         "General",
         0.64,
         31
        ],
        [
         "EM",
         "Economic Modelling",
         "Elsevier",
         "no",
         535,
         632,
         2880,
         89,
         1983,
         21,
         "General",
         0.85,
         42
        ],
        [
         "GC",
         "Growth and Change",
         "Blackwell",
         "no",
         123,
         302,
         2772,
         97,
         1969,
         212,
         "Development",
         0.41,
         56
        ],
        [
         "ERE",
         "Environmental and Resource Economics",
         "Kluwer",
         "no",
         717,
         1061,
         2924,
         97,
         1992,
         14,
         "Natural Resources",
         0.68,
         33
        ],
        [
         "JoRE",
         "Journal of Regulatory Economics",
         "Kluwer",
         "no",
         481,
         628,
         3666,
         98,
         1991,
         38,
         "Industrial Organization",
         0.77,
         34
        ],
        [
         "BoIES",
         "Bulletin of Indonesian Economic Studies",
         "ANU Press",
         "no",
         54,
         518,
         2858,
         98,
         1964,
         22,
         "Specialized",
         0.1,
         61
        ],
        [
         "AoRS",
         "Annals of Regional Science",
         "Springer",
         "no",
         379,
         580,
         2914,
         100,
         1967,
         77,
         "Urban and Regional",
         0.65,
         58
        ],
        [
         "CEP",
         "Contemporary Economic Policy",
         "Oxford Univ Press",
         "no",
         168,
         566,
         4104,
         109,
         1982,
         290,
         "Public Finance",
         0.3,
         43
        ],
        [
         "JoEcEd",
         "Journal of Economic Education",
         "Heldref",
         "no",
         82,
         426,
         2990,
         112,
         1970,
         386,
         "Specialized",
         0.19,
         55
        ],
        [
         "JoJIE",
         "Journal of the Japanese & International Economies",
         "Academic Press",
         "no",
         355,
         451,
         2541,
         119,
         1986,
         50,
         "Area Studies",
         0.79,
         39
        ],
        [
         "EaP",
         "Economics and Philosophy",
         "Cambridge Univ Pres",
         "no",
         95,
         373,
         2574,
         121,
         1984,
         144,
         "Interdisciplinary",
         0.25,
         41
        ],
        [
         "JoFI",
         "Journal of Financial Intermediation",
         "Academic Press",
         "no",
         240,
         420,
         2773,
         121,
         1991,
         48,
         "Finance",
         0.57,
         34
        ],
        [
         "RaEE",
         "Resource and Energy Economics",
         "Elsevier",
         "no",
         448,
         416,
         3010,
         122,
         1978,
         33,
         "Natural Resources",
         1.08,
         47
        ],
        [
         "ORoEP",
         "Oxford Review of Economic Policy",
         "Oxford Univ Press",
         "no",
         255,
         600,
         4284,
         124,
         1985,
         29,
         "Public Finance",
         0.43,
         40
        ],
        [
         "RoIO",
         "Review of Industrial Organization",
         "Kluwer",
         "no",
         448,
         792,
         1820,
         126,
         1990,
         58,
         "Industrial Organization",
         0.57,
         35
        ],
        [
         "IRoLE",
         "International Review of Law & Economics",
         "Elsevier",
         "no",
         392,
         585,
         3479,
         126,
         1980,
         71,
         "Law and Economics",
         0.67,
         45
        ],
        [
         "JoWT",
         "Journal of World Trade",
         "Kluwer",
         "no",
         475,
         1138,
         3088,
         134,
         1967,
         135,
         "International",
         0.42,
         58
        ],
        [
         "JoM",
         "Journal of Macroeconomics",
         "LSU Press",
         "no",
         85,
         856,
         2562,
         137,
         1979,
         183,
         "Macroeconomics",
         0.1,
         46
        ],
        [
         "AJoES",
         "American Journal of Economics & Sociology",
         "Blackwell",
         "no",
         108,
         578,
         2331,
         138,
         1941,
         573,
         "Interdisciplinary",
         0.19,
         84
        ],
        [
         "PFR",
         "Public Finance Review",
         "Sage",
         "no",
         394,
         636,
         2204,
         138,
         1973,
         268,
         "Public Finance",
         0.62,
         52
        ],
        [
         "MnchSc",
         "Manchester School",
         "Blackwell",
         "no",
         336,
         618,
         2772,
         140,
         1930,
         57,
         "General",
         0.54,
         95
        ],
        [
         "EnE",
         "Energy Economics",
         "Elsevier",
         "no",
         565,
         495,
         3038,
         143,
         1978,
         52,
         "Natural Resources",
         1.14,
         47
        ],
        [
         "ERoAE",
         "European Review of Agricultural Economics",
         "Oxford Univ Press",
         "no",
         255,
         573,
         3228,
         144,
         1974,
         21,
         "Agricultural Economics",
         0.45,
         51
        ],
        [
         "LH",
         "Labor History",
         "Carfax",
         "no",
         165,
         515,
         3430,
         147,
         1960,
         479,
         "Labor",
         0.32,
         65
        ],
        [
         "WA",
         "Weltwirtschaftliches Archiv / Review of World Economics",
         "Mohr Siebeck",
         "no",
         99,
         758,
         2499,
         150,
         1865,
         77,
         "General",
         0.13,
         160
        ],
        [
         "SJoPE",
         "Scottish Journal of Political Economy",
         "Blackwell",
         "no",
         203,
         596,
         3036,
         151,
         1953,
         89,
         "General",
         0.34,
         72
        ],
        [
         "DC",
         "Development and Change",
         "Blackwell",
         "no",
         318,
         888,
         2623,
         154,
         1970,
         83,
         "Development",
         0.36,
         55
        ],
        [
         "JoREFE",
         "Journal of Real Estate Finance and Economics",
         "Kluwer",
         "no",
         476,
         630,
         3432,
         162,
         1990,
         59,
         "Business",
         0.76,
         35
        ],
        [
         "JoPopEc",
         "Journal of Policy Modeling",
         "Elsevier",
         "no",
         473,
         907,
         2160,
         164,
         1979,
         67,
         "Specialized",
         0.52,
         46
        ],
        [
         "JoPKE",
         "Journal of Post-Keynesian Economics",
         "M.E Sharpe",
         "no",
         186,
         550,
         2360,
         170,
         1978,
         225,
         "General",
         0.34,
         47
        ],
        [
         "EP",
         "Economic Policy",
         "Blackwell",
         "no",
         170,
         440,
         2856,
         179,
         1985,
         56,
         "Public Finance",
         0.39,
         40
        ],
        [
         "MSS",
         "Mathematical Social Sciences",
         "Elsevier",
         "no",
         824,
         697,
         3420,
         180,
         1981,
         36,
         "Interdisciplinary",
         1.18,
         44
        ],
        [
         "Om",
         "Omega",
         "Elsevier",
         "no",
         805,
         780,
         4028,
         183,
         1973,
         101,
         "Business",
         1.03,
         52
        ],
        [
         "HoPE",
         "History of Political Economy",
         "Duke Univ Press",
         "no",
         132,
         767,
         2280,
         183,
         1969,
         288,
         "Economic History",
         0.17,
         56
        ],
        [
         "EcRec",
         "Economic Record",
         "Ec. Society of Australia",
         "yes",
         50,
         421,
         4320,
         188,
         1925,
         183,
         "General",
         0.12,
         100
        ],
        [
         "JoPA",
         "Journal of Productivity Analysis",
         "Kluwer",
         "no",
         424,
         567,
         3432,
         188,
         1992,
         25,
         "General",
         0.75,
         33
        ],
        [
         "RoIW",
         "Review of Income and Wealth",
         "Int Assn for Res in I & W",
         "yes",
         130,
         585,
         3312,
         189,
         1945,
         120,
         "Public Finance",
         0.22,
         80
        ],
        [
         "JoRI",
         "Journal of Risk and Insurance",
         "Am. Risk & Ins. Assn",
         "yes",
         90,
         720,
         2924,
         193,
         1964,
         263,
         "Insurance",
         0.13,
         61
        ],
        [
         "TWE",
         "The World Economy",
         "Blackwell",
         "no",
         805,
         1270,
         2842,
         214,
         1977,
         101,
         "Development",
         0.63,
         48
        ],
        [
         "JoAE",
         "Journal of Agricultural Economics",
         "Agric. Econ. Society",
         "yes",
         96,
         277,
         4218,
         220,
         1948,
         43,
         "Agricultural Economics",
         0.35,
         77
        ],
        [
         "EoER",
         "Economics of Education Review",
         "Elsevier",
         "no",
         448,
         471,
         5040,
         224,
         1982,
         73,
         "Specialized",
         0.95,
         43
        ],
        [
         "JoLR",
         "Journal of Labor Research",
         "George Mason Univ",
         "no",
         130,
         725,
         3010,
         227,
         1980,
         221,
         "Labor",
         0.18,
         45
        ],
        [
         "TD",
         "Theory and Decision",
         "Kluwer",
         "no",
         595,
         607,
         2072,
         237,
         1970,
         83,
         "Theory",
         0.98,
         55
        ],
        [
         "SCW",
         "Social Choice & Welfare",
         "Springer",
         "no",
         474,
         674,
         2990,
         239,
         1984,
         37,
         "Public Finance",
         0.7,
         41
        ],
        [
         "JoCE",
         "Journal of Comparative Economics",
         "Academic Press",
         "no",
         410,
         803,
         2442,
         245,
         1977,
         185,
         "Area Studies",
         0.51,
         48
        ],
        [
         "JoEP",
         "Journal of Economic Psychology",
         "Elsevier",
         "no",
         395,
         802,
         2535,
         245,
         1981,
         61,
         "Interdisciplinary",
         0.49,
         44
        ],
        [
         "IJoF",
         "International Journal of Forecasting",
         "Elsevier",
         "no",
         437,
         464,
         4324,
         249,
         1985,
         57,
         "Specialized",
         0.94,
         40
        ],
        [
         "Ky",
         "Kyklos",
         "Helbing & Lichtenhahn",
         "no",
         270,
         618,
         2760,
         254,
         1948,
         186,
         "General",
         0.44,
         77
        ],
        [
         "EiEH",
         "Explorations in Economic History",
         "Academic Press",
         "no",
         265,
         447,
         2904,
         261,
         1963,
         199,
         "Economic History",
         0.59,
         62
        ],
        [
         "ET",
         "Economic Theory",
         "Springer",
         "no",
         899,
         1493,
         2806,
         264,
         1992,
         165,
         "Theory",
         0.6,
         33
        ],
        [
         "JoTEP",
         "Journal of Transport Economics & Policy",
         "LSE and Univ of Bath",
         "no",
         133,
         406,
         3182,
         292,
         1967,
         95,
         "Specialized",
         0.33,
         58
        ],
        [
         "BJoIR",
         "British Journal of Industrial Relations",
         "Blackwell",
         "no",
         262,
         663,
         3450,
         294,
         1963,
         82,
         "Specialized",
         0.4,
         62
        ],
        [
         "JoCMS",
         "Journal of Common Market Studies",
         "Blackwell",
         "no",
         506,
         710,
         2747,
         299,
         1962,
         214,
         "Area Studies",
         0.71,
         63
        ],
        [
         "JoFM",
         "Journal of Futures Markets",
         "Wiley",
         "no",
         1140,
         990,
         2460,
         302,
         1981,
         152,
         "Finance",
         1.15,
         44
        ],
        [
         "JITE",
         "Journal of Institutional & Theoretical Economics",
         "Mohr Siebeck",
         "no",
         211,
         792,
         3402,
         313,
         1844,
         33,
         "General",
         0.27,
         181
        ],
        [
         "IJoIO",
         "International Journal of Industrial Organization",
         "Elsevier",
         "no",
         799,
         1230,
         3124,
         313,
         1983,
         81,
         "Industrial Organization",
         0.65,
         42
        ],
        [
         "JoFo",
         "Journal of Forecasting",
         "Wiley",
         "no",
         760,
         516,
         4032,
         317,
         1982,
         137,
         "Specialized",
         1.47,
         43
        ],
        [
         "ORL",
         "Operations Research Letters",
         "Elsevier",
         "no",
         442,
         460,
         4056,
         338,
         1982,
         59,
         "Management Science",
         0.96,
         43
        ],
        [
         "SJoE",
         "Scandinavian Journal of Economics",
         "Blackwell",
         "no",
         296,
         688,
         2666,
         339,
         1898,
         98,
         "General",
         0.43,
         127
        ],
        [
         "CJoE",
         "Cambridge Journal of Economics",
         "Oxford Univ Press",
         "no",
         272,
         814,
         3545,
         351,
         1976,
         163,
         "General",
         0.33,
         49
        ],
        [
         "JoEI",
         "Journal of Economic Issues",
         "Assn Ev. Economics",
         "yes",
         45,
         1003,
         2870,
         355,
         1967,
         462,
         "Public Finance",
         0.04,
         58
        ],
        [
         "RSUE",
         "Regional Science & Urban Economics",
         "Elsevier",
         "no",
         614,
         802,
         2967,
         370,
         1971,
         99,
         "Urban and Regional",
         0.77,
         54
        ],
        [
         "IJoGT",
         "International Journal of Game Theory",
         "Springer",
         "no",
         436,
         582,
         3366,
         382,
         1971,
         52,
         "Theory",
         0.75,
         54
        ],
        [
         "JoRaU",
         "Journal of Risk and Uncertainty",
         "Kluwer",
         "no",
         481,
         595,
         3476,
         383,
         1990,
         47,
         "Insurance",
         0.81,
         35
        ],
        [
         "JoRU",
         "Journal of Financial and Quantitative Analysis",
         "Univ Wash Press",
         "no",
         95,
         500,
         3314,
         388,
         1966,
         394,
         "Finance",
         0.19,
         59
        ],
        [
         "JoDS",
         "Journal of Development Studies",
         "Frank Cass",
         "no",
         357,
         500,
         2604,
         388,
         1964,
         227,
         "Development",
         0.71,
         61
        ],
        [
         "EcmtrT",
         "Econometric Theory",
         "Cambridge Univ Pres",
         "no",
         280,
         899,
         2948,
         390,
         1985,
         65,
         "Econometrics",
         0.31,
         40
        ],
        [
         "JoRS",
         "Journal of Regional Science",
         "Blackwell",
         "no",
         142,
         764,
         2992,
         397,
         1961,
         242,
         "Urban and Regional",
         0.19,
         64
        ],
        [
         "JoA&E",
         "Journal of Accounting & Economics",
         "Elsevier",
         "no",
         710,
         1112,
         2945,
         406,
         1979,
         154,
         "Interdisciplinary",
         0.64,
         46
        ],
        [
         "GaEB",
         "Games and Economic Behavior",
         "Academic Press",
         "no",
         490,
         1197,
         2460,
         412,
         1988,
         45,
         "Theory",
         0.41,
         37
        ],
        [
         "JAE",
         "Journal of Applied Econometrics",
         "Wiley",
         "no",
         870,
         689,
         3680,
         412,
         1986,
         81,
         "Econometrics",
         1.26,
         39
        ],
        [
         "JoMathEc",
         "Journal of Mathematical Economics",
         "Elsevier",
         "no",
         1147,
         1340,
         2940,
         418,
         1974,
         79,
         "Theory",
         0.86,
         51
        ],
        [
         "JoIMF",
         "Journal of International Money and Finance",
         "Elsevier",
         "no",
         743,
         940,
         2660,
         427,
         1981,
         120,
         "International",
         0.79,
         44
        ],
        [
         "RS",
         "Regional Studies",
         "Carfax",
         "no",
         759,
         911,
         4988,
         440,
         1967,
         91,
         "Urban and Regional",
         0.83,
         58
        ],
        [
         "PDR",
         "Population & Development Review",
         "Population Council",
         "no",
         36,
         910,
         2904,
         445,
         1975,
         218,
         "Demography",
         0.04,
         50
        ],
        [
         "ES",
         "Economy and Society",
         "Routledge",
         "no",
         224,
         640,
         2970,
         488,
         1971,
         97,
         "General",
         0.35,
         54
        ],
        [
         "DS",
         "Decision Sciences",
         "Georgia State Univ",
         "no",
         82,
         1067,
         3124,
         495,
         1970,
         322,
         "Management Science",
         0.08,
         55
        ],
        [
         "JoIndEc",
         "Journal of Industrial Economics",
         "Blackwell",
         "no",
         160,
         476,
         2684,
         497,
         1953,
         283,
         "Industrial Organization",
         0.34,
         72
        ],
        [
         "EE",
         "Ecological Economics",
         "Elsevier",
         "no",
         1170,
         1990,
         4128,
         499,
         1989,
         40,
         "Natural Resources",
         0.59,
         36
        ],
        [
         "NTJ",
         "National Tax Journal",
         "National Tax Assn.",
         "no",
         90,
         785,
         2940,
         502,
         1948,
         552,
         "Public Finance",
         0.11,
         77
        ],
        [
         "US",
         "Urban Studies",
         "Carfax",
         "no",
         742,
         1711,
         3747,
         508,
         1964,
         222,
         "Urban and Regional",
         0.43,
         61
        ],
        [
         "HE",
         "Health Economics",
         "Wiley",
         "no",
         575,
         736,
         4264,
         544,
         1992,
         29,
         "Health",
         0.78,
         33
        ],
        [
         "EHR",
         "Economic History Review",
         "Blackwell",
         "no",
         163,
         846,
         3570,
         545,
         1947,
         390,
         "Economic History",
         0.19,
         78
        ],
        [
         "RoFS",
         "Review of Financial Studies",
         "Oxford Univ. Press",
         "no",
         175,
         1235,
         2604,
         547,
         1988,
         95,
         "Finance",
         0.14,
         37
        ],
        [
         "CJE",
         "Canadian Journal of Economics",
         "Blackwell",
         "yes",
         120,
         1247,
         2992,
         556,
         1967,
         305,
         "General",
         0.1,
         58
        ],
        [
         "RA",
         "Risk Analysis",
         "Kluwer",
         "no",
         590,
         1260,
         4628,
         574,
         1981,
         98,
         "Insurance",
         0.47,
         44
        ],
        [
         "AE",
         "Applied Economics",
         "Routledge",
         "no",
         2120,
         1683,
         5445,
         578,
         1958,
         146,
         "General",
         1.26,
         67
        ],
        [
         "OEP",
         "Oxford Economic Papers",
         "Oxford Univ. Press",
         "no",
         205,
         767,
         2924,
         582,
         1949,
         271,
         "General",
         0.27,
         76
        ],
        [
         "EDCC",
         "Economic Development & Cultural Change",
         "Univ of Chicago Press",
         "no",
         128,
         889,
         2700,
         597,
         1952,
         515,
         "Development",
         0.14,
         73
        ],
        [
         "JoBF",
         "Journal of Banking and Finance",
         "Elsevier",
         "no",
         1539,
         1911,
         2516,
         602,
         1977,
         172,
         "Finance",
         0.81,
         48
        ],
        [
         "OBoES",
         "Oxford Bulletin of Economics & Statistics",
         "Blackwell",
         "no",
         346,
         545,
         2655,
         617,
         1939,
         127,
         "General",
         0.63,
         86
        ],
        [
         "JoEDC",
         "Journal of Economic Dynamics & Control",
         "Elsevier",
         "yes",
         1046,
         1636,
         2945,
         636,
         1979,
         58,
         "Theory",
         0.64,
         46
        ],
        [
         "SEJ",
         "Southern Economic Journal",
         "Southern Econ. Assn",
         "yes",
         97,
         1032,
         3680,
         646,
         1932,
         524,
         "General",
         0.09,
         93
        ],
        [
         "JoMS",
         "Journal of Management Studies",
         "Blackwell",
         "no",
         686,
         850,
         3456,
         654,
         1964,
         222,
         "Management Science",
         0.81,
         61
        ],
        [
         "JoBE",
         "Journal of Business Ethics",
         "Kluwer",
         "no",
         914,
         1270,
         3650,
         662,
         1981,
         385,
         "Business",
         0.72,
         44
        ],
        [
         "Dm",
         "Demography",
         "Pop Assn America",
         "no",
         85,
         568,
         6859,
         670,
         1964,
         413,
         "Demography",
         0.15,
         61
        ],
        [
         "EI",
         "Economic Inquiry",
         "Oxford Univ Press",
         "no",
         206,
         684,
         4134,
         684,
         1962,
         366,
         "General",
         0.3,
         63
        ],
        [
         "JoEBO",
         "Journal of Economic Behavior & Organization",
         "Elsevier",
         "no",
         1154,
         1380,
         3330,
         698,
         1980,
         75,
         "Theory",
         0.84,
         45
        ],
        [
         "JoLS",
         "Journal of Legal Studies",
         "Univ of Chicago Press",
         "no",
         45,
         530,
         2625,
         700,
         1972,
         238,
         "Law and Economics",
         0.08,
         53
        ],
        [
         "JoDE",
         "Journal of Development Economics",
         "Elsevier",
         "no",
         1146,
         1110,
         2816,
         707,
         1974,
         142,
         "Development",
         1.03,
         51
        ],
        [
         "LanEc",
         "Land Economics",
         "Univ of Wisconsin Press",
         "no",
         95,
         580,
         3672,
         730,
         1925,
         437,
         "Urban and Regional",
         0.16,
         100
        ],
        [
         "JoLE",
         "Journal of Labor Economics",
         "Univ of Chicago Press",
         "no",
         138,
         600,
         2728,
         733,
         1983,
         269,
         "Labor",
         0.23,
         42
        ],
        [
         "JoEH",
         "Journal of Economic History",
         "Cambridge Univ Pres",
         "no",
         115,
         1200,
         4029,
         737,
         1941,
         643,
         "Economic History",
         0.1,
         84
        ],
        [
         "JoUE",
         "Journal of Urban Economics",
         "Academic Press",
         "no",
         640,
         1058,
         2666,
         787,
         1974,
         230,
         "Urban and Regional",
         0.6,
         51
        ],
        [
         "Ecnmc",
         "Economica",
         "Blackwell",
         "no",
         122,
         565,
         3120,
         825,
         1933,
         313,
         "General",
         0.22,
         92
        ],
        [
         "JoMCB",
         "Journal of Money Credit & Banking",
         "Ohio State Univ. Press",
         "no",
         110,
         860,
         3168,
         834,
         1969,
         512,
         "Macroeconomics",
         0.13,
         56
        ],
        [
         "JoIntEc",
         "Journal of International Economics",
         "Elsevier",
         "no",
         923,
         1299,
         2898,
         838,
         1971,
         211,
         "International",
         0.71,
         54
        ],
        [
         "PC",
         "Public Choice",
         "Kluwer",
         "no",
         1000,
         1600,
         2583,
         871,
         1966,
         171,
         "Public Finance",
         0.63,
         59
        ],
        [
         "RP",
         "Research Policy",
         "Elsevier",
         "no",
         1234,
         781,
         4320,
         922,
         1972,
         34,
         "Business",
         1.58,
         53
        ],
        [
         "EL",
         "Economics Letters",
         "Elsevier",
         "no",
         1492,
         1540,
         3315,
         930,
         1978,
         81,
         "General",
         0.97,
         47
        ],
        [
         "JoHeEc",
         "Journal of Health Economics",
         "Elsevier",
         "no",
         810,
         828,
         2924,
         957,
         1982,
         144,
         "Health",
         0.98,
         43
        ],
        [
         "JBES",
         "Journal of Business & Economic Statistics",
         "Am Stat Assn",
         "yes",
         90,
         510,
         6360,
         988,
         1983,
         190,
         "Business",
         0.18,
         42
        ],
        [
         "RJoE",
         "Rand Journal of Economics",
         "RAND",
         "no",
         177,
         757,
         3450,
         1039,
         1970,
         339,
         "Industrial Organization",
         0.23,
         55
        ],
        [
         "JoB",
         "Journal of Business",
         "Univ of Chicago Press",
         "no",
         74,
         583,
         2655,
         1083,
         1928,
         771,
         "Business",
         0.13,
         97
        ],
        [
         "JoHR",
         "Journal of Human Resources",
         "Univ of Wisconsin Press",
         "no",
         113,
         837,
         3312,
         1113,
         1966,
         522,
         "Labor",
         0.14,
         59
        ],
        [
         "IER",
         "International Economic Review",
         "Blackwell",
         "no",
         145,
         969,
         3082,
         1113,
         1960,
         284,
         "General",
         0.15,
         65
        ],
        [
         "JoEEM",
         "Journal of Environmental Economics & Managment",
         "Academic Press",
         "no",
         590,
         636,
         3096,
         1152,
         1974,
         202,
         "Natural Resources",
         0.93,
         51
        ],
        [
         "EER",
         "European Economic Review",
         "Elsevier",
         "yes",
         1154,
         1823,
         2178,
         1243,
         1969,
         118,
         "General",
         0.63,
         56
        ],
        [
         "WD",
         "World Development",
         "Elsevier",
         "no",
         1450,
         1145,
         5480,
         1408,
         1973,
         160,
         "Development",
         1.27,
         52
        ],
        [
         "JoPubEc",
         "Journal of Public Economics",
         "Elsevier",
         "no",
         1431,
         1880,
         2924,
         1437,
         1972,
         141,
         "Public Finance",
         0.76,
         53
        ],
        [
         "JEL",
         "Journal of Economic Literature",
         "Am Ec Assn",
         "yes",
         47,
         2632,
         3848,
         1530,
         1963,
         972,
         "General",
         0.02,
         62
        ],
        [
         "JoLaE",
         "Journal of Law and Economics",
         "Univ of Chicago Press",
         "no",
         45,
         850,
         2604,
         1580,
         1968,
         542,
         "Law and Economics",
         0.05,
         57
        ],
        [
         "JEP",
         "Journal of Economic Perspectives",
         "Am Ec Assn",
         "yes",
         47,
         940,
         3036,
         1583,
         1987,
         866,
         "General",
         0.05,
         38
        ],
        [
         "AJoAE",
         "American Journal of Agricultural Economics",
         "Am. Ag. Econ Assn",
         "no",
         81,
         1253,
         4368,
         1812,
         1918,
         267,
         "Agricultural Economics",
         0.06,
         107
        ],
        [
         "JoMonEc",
         "Journal of Monetary Economics",
         "Elsevier",
         "no",
         1010,
         1346,
         3174,
         1860,
         1975,
         186,
         "Macroeconomics",
         0.75,
         50
        ],
        [
         "MngtSc",
         "Management Science",
         "Inst for OR and MS",
         "no",
         334,
         1175,
         4232,
         2022,
         1954,
         558,
         "Management Science",
         0.28,
         71
        ],
        [
         "RoE&S",
         "Review of Economics & Statistics",
         "MIT press",
         "no",
         190,
         733,
         5600,
         2331,
         1919,
         523,
         "General",
         0.26,
         106
        ],
        [
         "RoES",
         "Review of Economic Studies",
         "Blackwell",
         "no",
         180,
         761,
         3626,
         2411,
         1933,
         325,
         "General",
         0.24,
         92
        ],
        [
         "JoE",
         "Journal of Econometrics",
         "Elsevier",
         "no",
         1893,
         1527,
         2178,
         2479,
         1973,
         129,
         "Econometrics",
         1.24,
         52
        ],
        [
         "JoET",
         "Journal of Economic Theory",
         "Academic Press",
         "no",
         1400,
         2000,
         2684,
         2514,
         1969,
         165,
         "Theory",
         0.7,
         56
        ],
        [
         "EJ",
         "Economic Journal",
         "Blackwell",
         "no",
         301,
         1983,
         3036,
         2540,
         1890,
         531,
         "General",
         0.15,
         135
        ],
        [
         "JoFE",
         "Journal of Financial Economics",
         "Elsevier",
         "no",
         1339,
         1947,
         2838,
         2676,
         1974,
         231,
         "Finance",
         0.69,
         51
        ],
        [
         "JoCR",
         "Journal of Consumer Research",
         "Univ of Chicago Press",
         "no",
         90,
         439,
         5336,
         2762,
         1974,
         536,
         "Consumer Economics",
         0.21,
         51
        ],
        [
         "JASA",
         "Journal of the American Statistical Association",
         "Am. Statistical Assn",
         "yes",
         310,
         1260,
         5664,
         2800,
         1971,
         487,
         "Econometrics",
         0.25,
         54
        ],
        [
         "JoFi",
         "Journal of Finance",
         "Am. Finance Assn",
         "yes",
         226,
         2272,
         3036,
         3791,
         1945,
         799,
         "Finance",
         0.1,
         80
        ],
        [
         "QJoE",
         "Quarterly Journal of Economics",
         "MIT press",
         "no",
         148,
         1467,
         2184,
         4138,
         1886,
         660,
         "General",
         0.1,
         139
        ],
        [
         "JoPolEc",
         "Journal of Political Economy",
         "Univ of Chicago Press",
         "no",
         159,
         1669,
         2640,
         6697,
         1892,
         737,
         "General",
         0.1,
         133
        ],
        [
         "Ecnmt",
         "Econometrica",
         "Blackwell",
         "yes",
         178,
         1482,
         2992,
         7943,
         1932,
         346,
         "General",
         0.12,
         93
        ],
        [
         "AER",
         "American Economic Review",
         "Am Ec Assn",
         "yes",
         47,
         1867,
         3900,
         8999,
         1911,
         1098,
         "General",
         0.03,
         114
        ]
       ],
       "datasetInfos": [],
       "dbfsResultPath": null,
       "isJsonSchema": true,
       "metadata": {},
       "overflow": false,
       "plotOptions": {
        "customPlotOptions": {},
        "displayType": "table",
        "pivotAggregation": null,
        "pivotColumns": null,
        "xColumns": null,
        "yColumns": null
       },
       "removedWidgets": [],
       "schema": [
        {
         "metadata": "{}",
         "name": "rownames",
         "type": "\"string\""
        },
        {
         "metadata": "{}",
         "name": "title",
         "type": "\"string\""
        },
        {
         "metadata": "{}",
         "name": "publisher",
         "type": "\"string\""
        },
        {
         "metadata": "{}",
         "name": "society",
         "type": "\"string\""
        },
        {
         "metadata": "{}",
         "name": "price",
         "type": "\"integer\""
        },
        {
         "metadata": "{}",
         "name": "pages",
         "type": "\"integer\""
        },
        {
         "metadata": "{}",
         "name": "charpp",
         "type": "\"integer\""
        },
        {
         "metadata": "{}",
         "name": "citations",
         "type": "\"integer\""
        },
        {
         "metadata": "{}",
         "name": "foundingyear",
         "type": "\"integer\""
        },
        {
         "metadata": "{}",
         "name": "subs",
         "type": "\"integer\""
        },
        {
         "metadata": "{}",
         "name": "field",
         "type": "\"string\""
        },
        {
         "metadata": "{}",
         "name": "price_per_page",
         "type": "\"double\""
        },
        {
         "metadata": "{}",
         "name": "age",
         "type": "\"integer\""
        }
       ],
       "type": "table"
      }
     },
     "output_type": "display_data"
    }
   ],
   "source": [
    "df = df.withColumn(\"age\", 2025 - F.col(\"foundingyear\"))\n",
    "display(df)"
   ]
  },
  {
   "cell_type": "markdown",
   "metadata": {
    "application/vnd.databricks.v1+cell": {
     "cellMetadata": {},
     "inputWidgets": {},
     "nuid": "85ecdf51-8b14-43b9-b3e6-c3dd7a36de87",
     "showTitle": false,
     "tableResultSettingsMap": {},
     "title": ""
    }
   },
   "source": [
    "**3) Categorize citations**"
   ]
  },
  {
   "cell_type": "code",
   "execution_count": 0,
   "metadata": {
    "application/vnd.databricks.v1+cell": {
     "cellMetadata": {
      "byteLimit": 2048000,
      "rowLimit": 10000
     },
     "inputWidgets": {},
     "nuid": "5c5a26fc-2ac5-464e-b8ae-23ec67698726",
     "showTitle": false,
     "tableResultSettingsMap": {},
     "title": ""
    }
   },
   "outputs": [
    {
     "data": {
      "text/html": [
       "<style scoped>\n",
       "  .table-result-container {\n",
       "    max-height: 300px;\n",
       "    overflow: auto;\n",
       "  }\n",
       "  table, th, td {\n",
       "    border: 1px solid black;\n",
       "    border-collapse: collapse;\n",
       "  }\n",
       "  th, td {\n",
       "    padding: 5px;\n",
       "  }\n",
       "  th {\n",
       "    text-align: left;\n",
       "  }\n",
       "</style><div class='table-result-container'><table class='table-result'><thead style='background-color: white'><tr><th>rownames</th><th>title</th><th>publisher</th><th>society</th><th>price</th><th>pages</th><th>charpp</th><th>citations</th><th>foundingyear</th><th>subs</th><th>field</th><th>price_per_page</th><th>age</th><th>citation_level</th></tr></thead><tbody><tr><td>APEL</td><td>Asian-Pacific Economic Literature</td><td>Blackwell</td><td>no</td><td>123</td><td>440</td><td>3822</td><td>21</td><td>1986</td><td>14</td><td>General</td><td>0.28</td><td>39</td><td>Low</td></tr><tr><td>SAJoEH</td><td>South African Journal of Economic History</td><td>So Afr ec history assn</td><td>no</td><td>20</td><td>309</td><td>1782</td><td>22</td><td>1986</td><td>59</td><td>Economic History</td><td>0.06</td><td>39</td><td>Low</td></tr><tr><td>CE</td><td>Computational Economics</td><td>Kluwer</td><td>no</td><td>443</td><td>567</td><td>2924</td><td>22</td><td>1987</td><td>17</td><td>Specialized</td><td>0.78</td><td>38</td><td>Low</td></tr><tr><td>MEPiTE</td><td>MOCT-MOST Economic Policy in Transitional Economics</td><td>Kluwer</td><td>no</td><td>276</td><td>520</td><td>3234</td><td>22</td><td>1991</td><td>2</td><td>Area Studies</td><td>0.53</td><td>34</td><td>Low</td></tr><tr><td>JoSE</td><td>Journal of Socio-Economics</td><td>Elsevier</td><td>no</td><td>295</td><td>791</td><td>3024</td><td>24</td><td>1972</td><td>96</td><td>Interdisciplinary</td><td>0.37</td><td>53</td><td>Low</td></tr><tr><td>LabEc</td><td>Labour Economics</td><td>Elsevier</td><td>no</td><td>344</td><td>609</td><td>2967</td><td>24</td><td>1994</td><td>15</td><td>Labor</td><td>0.56</td><td>31</td><td>Low</td></tr><tr><td>EDE</td><td>Environment and Development Economics</td><td>Cambridge Univ Pres</td><td>no</td><td>90</td><td>602</td><td>3185</td><td>24</td><td>1995</td><td>14</td><td>Development</td><td>0.15</td><td>30</td><td>Low</td></tr><tr><td>RoRPE</td><td>Review of Radical Political Economics</td><td>Elsevier</td><td>no</td><td>242</td><td>665</td><td>2688</td><td>27</td><td>1968</td><td>202</td><td>Specialized</td><td>0.36</td><td>57</td><td>Low</td></tr><tr><td>EoP</td><td>Economics of Planning</td><td>Kluwer</td><td>no</td><td>226</td><td>243</td><td>3010</td><td>28</td><td>1987</td><td>46</td><td>Area Studies</td><td>0.93</td><td>38</td><td>Low</td></tr><tr><td>Mt</td><td>Metroeconomica</td><td>Blackwell</td><td>no</td><td>262</td><td>386</td><td>2501</td><td>30</td><td>1949</td><td>46</td><td>General</td><td>0.68</td><td>76</td><td>Low</td></tr><tr><td>JoCP</td><td>Journal of Consumer Policy</td><td>Kluwer</td><td>no</td><td>279</td><td>578</td><td>2200</td><td>32</td><td>1978</td><td>57</td><td>Consumer Economics</td><td>0.48</td><td>47</td><td>Low</td></tr><tr><td>REE</td><td>Real Estate Economics</td><td>MIT</td><td>no</td><td>165</td><td>749</td><td>2496</td><td>35</td><td>1973</td><td>125</td><td>Specialized</td><td>0.22</td><td>52</td><td>Low</td></tr><tr><td>DPR</td><td>Development Policy Review</td><td>Blackwell</td><td>no</td><td>242</td><td>427</td><td>2731</td><td>36</td><td>1982</td><td>30</td><td>Development</td><td>0.57</td><td>43</td><td>Low</td></tr><tr><td>MaDE</td><td>Managerial and Decision Econ</td><td>Wiley</td><td>no</td><td>905</td><td>292</td><td>4472</td><td>37</td><td>1980</td><td>62</td><td>Management Science</td><td>3.1</td><td>45</td><td>Low</td></tr><tr><td>JoEF</td><td>Journal of Empirical Finance</td><td>Elsevier</td><td>no</td><td>355</td><td>607</td><td>3053</td><td>37</td><td>1994</td><td>16</td><td>Finance</td><td>0.58</td><td>31</td><td>Low</td></tr><tr><td>JoEMS</td><td>International Journal of Finance & Economics</td><td>Springer</td><td>no</td><td>375</td><td>351</td><td>4025</td><td>40</td><td>1996</td><td>17</td><td>Finance</td><td>1.07</td><td>29</td><td>Low</td></tr><tr><td>JoE&MS</td><td>Journal of Economics & Management Strategy</td><td>MIT Press</td><td>no</td><td>135</td><td>602</td><td>2394</td><td>42</td><td>1992</td><td>37</td><td>Management Science</td><td>0.22</td><td>33</td><td>Low</td></tr><tr><td>AEJ</td><td>Atlantic Economic Journal</td><td>Intnl Atlantic Ec. Soc.</td><td>no</td><td>171</td><td>447</td><td>3139</td><td>44</td><td>1972</td><td>148</td><td>General</td><td>0.38</td><td>53</td><td>Low</td></tr><tr><td>EDQ</td><td>Economic Development Quarterly</td><td>Sage</td><td>no</td><td>284</td><td>385</td><td>3318</td><td>47</td><td>1987</td><td>110</td><td>Development</td><td>0.74</td><td>38</td><td>Low</td></tr><tr><td>CER</td><td>China Economic Review</td><td>Elsevier</td><td>no</td><td>242</td><td>167</td><td>3619</td><td>47</td><td>1989</td><td>16</td><td>Area Studies</td><td>1.45</td><td>36</td><td>Low</td></tr><tr><td>IEP</td><td>Information Economics and Policy</td><td>Elsevier</td><td>no</td><td>371</td><td>442</td><td>2924</td><td>50</td><td>1984</td><td>30</td><td>Specialized</td><td>0.84</td><td>41</td><td>Medium</td></tr><tr><td>AEP</td><td>Australian Economic Papers</td><td>Blackwell</td><td>no</td><td>115</td><td>495</td><td>3792</td><td>51</td><td>1961</td><td>61</td><td>General</td><td>0.23</td><td>64</td><td>Medium</td></tr><tr><td>JWE</td><td>Japan and the World Economy</td><td>Elsevier</td><td>no</td><td>355</td><td>577</td><td>3443</td><td>56</td><td>1988</td><td>27</td><td>Area Studies</td><td>0.62</td><td>37</td><td>Medium</td></tr><tr><td>JoES</td><td>Journal of Economic Surveys</td><td>Blackwell</td><td>no</td><td>355</td><td>674</td><td>2835</td><td>61</td><td>1987</td><td>45</td><td>General</td><td>0.53</td><td>38</td><td>Medium</td></tr><tr><td>IME</td><td>Insurance  Mathematics & Economics</td><td>Elsevier</td><td>no</td><td>835</td><td>745</td><td>4263</td><td>61</td><td>1982</td><td>15</td><td>Insurance</td><td>1.12</td><td>43</td><td>Medium</td></tr><tr><td>DE</td><td>De Economist</td><td>Kluwer</td><td>no</td><td>223</td><td>579</td><td>2594</td><td>62</td><td>1852</td><td>25</td><td>General</td><td>0.39</td><td>173</td><td>Medium</td></tr><tr><td>RoSE</td><td>Review of Social Economy</td><td>Routledge</td><td>no</td><td>172</td><td>578</td><td>2720</td><td>66</td><td>1943</td><td>203</td><td>General</td><td>0.3</td><td>82</td><td>Medium</td></tr><tr><td>BP</td><td>Brookings Papers</td><td>Brookings Inst.</td><td>no</td><td>62</td><td>394</td><td>2368</td><td>67</td><td>1970</td><td>646</td><td>Public Finance</td><td>0.16</td><td>55</td><td>Medium</td></tr><tr><td>PiRS</td><td>Papers in Regional Science</td><td>Springer</td><td>no</td><td>191</td><td>442</td><td>2925</td><td>68</td><td>1922</td><td>59</td><td>Urban and Regional</td><td>0.43</td><td>103</td><td>Medium</td></tr><tr><td>JoPE</td><td>Journal of Population Economics</td><td>Springer</td><td>no</td><td>411</td><td>640</td><td>3264</td><td>69</td><td>1987</td><td>27</td><td>Demography</td><td>0.64</td><td>38</td><td>Medium</td></tr><tr><td>FS</td><td>Finance and Stochastics</td><td>Springer</td><td>no</td><td>274</td><td>492</td><td>3060</td><td>69</td><td>1996</td><td>31</td><td>Finance</td><td>0.56</td><td>29</td><td>Medium</td></tr><tr><td>IO</td><td>International Organization</td><td>MIT</td><td>no</td><td>130</td><td>814</td><td>3024</td><td>69</td><td>1947</td><td>532</td><td>Industrial Organization</td><td>0.16</td><td>78</td><td>Medium</td></tr><tr><td>CPP</td><td>Canadian Public Policy</td><td>University of Toronto Press</td><td>no</td><td>100</td><td>714</td><td>2248</td><td>75</td><td>1975</td><td>52</td><td>Public Finance</td><td>0.14</td><td>50</td><td>Medium</td></tr><tr><td>DvE</td><td>Developing Economies</td><td>Inst of Devel Econ</td><td>no</td><td>80</td><td>539</td><td>3345</td><td>76</td><td>1963</td><td>87</td><td>Development</td><td>0.15</td><td>62</td><td>Medium</td></tr><tr><td>JoHoEc</td><td>Journal of Housing Economics</td><td>Academic Press</td><td>no</td><td>235</td><td>330</td><td>2623</td><td>78</td><td>1982</td><td>27</td><td>Specialized</td><td>0.71</td><td>43</td><td>Medium</td></tr><tr><td>JoEB</td><td>Journal of Economics & Business</td><td>Elsevier</td><td>no</td><td>392</td><td>563</td><td>3456</td><td>80</td><td>1948</td><td>291</td><td>Business</td><td>0.7</td><td>77</td><td>Medium</td></tr><tr><td>JoEvEc</td><td>Journal of Evolutionary Economics</td><td>Springer</td><td>no</td><td>410</td><td>526</td><td>2989</td><td>81</td><td>1991</td><td>9</td><td>Specialized</td><td>0.78</td><td>34</td><td>Medium</td></tr><tr><td>EmpEc</td><td>Empirical Economics</td><td>Springer</td><td>no</td><td>464</td><td>719</td><td>3366</td><td>82</td><td>1976</td><td>24</td><td>General</td><td>0.65</td><td>49</td><td>Medium</td></tr><tr><td>ER</td><td>Econometric Reviews</td><td>Dekker</td><td>no</td><td>650</td><td>448</td><td>2418</td><td>85</td><td>1981</td><td>49</td><td>Econometrics</td><td>1.45</td><td>44</td><td>Medium</td></tr><tr><td>AgE</td><td>Agricultural Economics</td><td>Elsevier</td><td>no</td><td>558</td><td>610</td><td>4032</td><td>87</td><td>1986</td><td>24</td><td>Agricultural Economics</td><td>0.91</td><td>39</td><td>Medium</td></tr><tr><td>QRoEF</td><td>Quarterly Review of Economics & Finance</td><td>Elsevier</td><td>no</td><td>317</td><td>931</td><td>3036</td><td>87</td><td>1961</td><td>323</td><td>Finance</td><td>0.34</td><td>64</td><td>Medium</td></tr><tr><td>AEL</td><td>Applied Economics Letters</td><td>Routledge</td><td>no</td><td>495</td><td>774</td><td>5610</td><td>89</td><td>1994</td><td>69</td><td>General</td><td>0.64</td><td>31</td><td>Medium</td></tr><tr><td>EM</td><td>Economic Modelling</td><td>Elsevier</td><td>no</td><td>535</td><td>632</td><td>2880</td><td>89</td><td>1983</td><td>21</td><td>General</td><td>0.85</td><td>42</td><td>Medium</td></tr><tr><td>GC</td><td>Growth and Change</td><td>Blackwell</td><td>no</td><td>123</td><td>302</td><td>2772</td><td>97</td><td>1969</td><td>212</td><td>Development</td><td>0.41</td><td>56</td><td>Medium</td></tr><tr><td>ERE</td><td>Environmental and Resource Economics</td><td>Kluwer</td><td>no</td><td>717</td><td>1061</td><td>2924</td><td>97</td><td>1992</td><td>14</td><td>Natural Resources</td><td>0.68</td><td>33</td><td>Medium</td></tr><tr><td>JoRE</td><td>Journal of Regulatory Economics</td><td>Kluwer</td><td>no</td><td>481</td><td>628</td><td>3666</td><td>98</td><td>1991</td><td>38</td><td>Industrial Organization</td><td>0.77</td><td>34</td><td>Medium</td></tr><tr><td>BoIES</td><td>Bulletin of Indonesian Economic Studies</td><td>ANU Press</td><td>no</td><td>54</td><td>518</td><td>2858</td><td>98</td><td>1964</td><td>22</td><td>Specialized</td><td>0.1</td><td>61</td><td>Medium</td></tr><tr><td>AoRS</td><td>Annals of Regional Science</td><td>Springer</td><td>no</td><td>379</td><td>580</td><td>2914</td><td>100</td><td>1967</td><td>77</td><td>Urban and Regional</td><td>0.65</td><td>58</td><td>High</td></tr><tr><td>CEP</td><td>Contemporary Economic Policy</td><td>Oxford Univ Press</td><td>no</td><td>168</td><td>566</td><td>4104</td><td>109</td><td>1982</td><td>290</td><td>Public Finance</td><td>0.3</td><td>43</td><td>High</td></tr><tr><td>JoEcEd</td><td>Journal of Economic Education</td><td>Heldref</td><td>no</td><td>82</td><td>426</td><td>2990</td><td>112</td><td>1970</td><td>386</td><td>Specialized</td><td>0.19</td><td>55</td><td>High</td></tr><tr><td>JoJIE</td><td>Journal of the Japanese & International Economies</td><td>Academic Press</td><td>no</td><td>355</td><td>451</td><td>2541</td><td>119</td><td>1986</td><td>50</td><td>Area Studies</td><td>0.79</td><td>39</td><td>High</td></tr><tr><td>EaP</td><td>Economics and Philosophy</td><td>Cambridge Univ Pres</td><td>no</td><td>95</td><td>373</td><td>2574</td><td>121</td><td>1984</td><td>144</td><td>Interdisciplinary</td><td>0.25</td><td>41</td><td>High</td></tr><tr><td>JoFI</td><td>Journal of Financial Intermediation</td><td>Academic Press</td><td>no</td><td>240</td><td>420</td><td>2773</td><td>121</td><td>1991</td><td>48</td><td>Finance</td><td>0.57</td><td>34</td><td>High</td></tr><tr><td>RaEE</td><td>Resource and Energy Economics</td><td>Elsevier</td><td>no</td><td>448</td><td>416</td><td>3010</td><td>122</td><td>1978</td><td>33</td><td>Natural Resources</td><td>1.08</td><td>47</td><td>High</td></tr><tr><td>ORoEP</td><td>Oxford Review of Economic Policy</td><td>Oxford Univ Press</td><td>no</td><td>255</td><td>600</td><td>4284</td><td>124</td><td>1985</td><td>29</td><td>Public Finance</td><td>0.43</td><td>40</td><td>High</td></tr><tr><td>RoIO</td><td>Review of Industrial Organization</td><td>Kluwer</td><td>no</td><td>448</td><td>792</td><td>1820</td><td>126</td><td>1990</td><td>58</td><td>Industrial Organization</td><td>0.57</td><td>35</td><td>High</td></tr><tr><td>IRoLE</td><td>International Review of Law & Economics</td><td>Elsevier</td><td>no</td><td>392</td><td>585</td><td>3479</td><td>126</td><td>1980</td><td>71</td><td>Law and Economics</td><td>0.67</td><td>45</td><td>High</td></tr><tr><td>JoWT</td><td>Journal of World Trade</td><td>Kluwer</td><td>no</td><td>475</td><td>1138</td><td>3088</td><td>134</td><td>1967</td><td>135</td><td>International</td><td>0.42</td><td>58</td><td>High</td></tr><tr><td>JoM</td><td>Journal of Macroeconomics</td><td>LSU Press</td><td>no</td><td>85</td><td>856</td><td>2562</td><td>137</td><td>1979</td><td>183</td><td>Macroeconomics</td><td>0.1</td><td>46</td><td>High</td></tr><tr><td>AJoES</td><td>American Journal of Economics & Sociology</td><td>Blackwell</td><td>no</td><td>108</td><td>578</td><td>2331</td><td>138</td><td>1941</td><td>573</td><td>Interdisciplinary</td><td>0.19</td><td>84</td><td>High</td></tr><tr><td>PFR</td><td>Public Finance Review</td><td>Sage</td><td>no</td><td>394</td><td>636</td><td>2204</td><td>138</td><td>1973</td><td>268</td><td>Public Finance</td><td>0.62</td><td>52</td><td>High</td></tr><tr><td>MnchSc</td><td>Manchester School</td><td>Blackwell</td><td>no</td><td>336</td><td>618</td><td>2772</td><td>140</td><td>1930</td><td>57</td><td>General</td><td>0.54</td><td>95</td><td>High</td></tr><tr><td>EnE</td><td>Energy Economics</td><td>Elsevier</td><td>no</td><td>565</td><td>495</td><td>3038</td><td>143</td><td>1978</td><td>52</td><td>Natural Resources</td><td>1.14</td><td>47</td><td>High</td></tr><tr><td>ERoAE</td><td>European Review of Agricultural Economics</td><td>Oxford Univ Press</td><td>no</td><td>255</td><td>573</td><td>3228</td><td>144</td><td>1974</td><td>21</td><td>Agricultural Economics</td><td>0.45</td><td>51</td><td>High</td></tr><tr><td>LH</td><td>Labor History</td><td>Carfax</td><td>no</td><td>165</td><td>515</td><td>3430</td><td>147</td><td>1960</td><td>479</td><td>Labor</td><td>0.32</td><td>65</td><td>High</td></tr><tr><td>WA</td><td>Weltwirtschaftliches Archiv / Review of World Economics</td><td>Mohr Siebeck</td><td>no</td><td>99</td><td>758</td><td>2499</td><td>150</td><td>1865</td><td>77</td><td>General</td><td>0.13</td><td>160</td><td>High</td></tr><tr><td>SJoPE</td><td>Scottish Journal of Political Economy</td><td>Blackwell</td><td>no</td><td>203</td><td>596</td><td>3036</td><td>151</td><td>1953</td><td>89</td><td>General</td><td>0.34</td><td>72</td><td>High</td></tr><tr><td>DC</td><td>Development and Change</td><td>Blackwell</td><td>no</td><td>318</td><td>888</td><td>2623</td><td>154</td><td>1970</td><td>83</td><td>Development</td><td>0.36</td><td>55</td><td>High</td></tr><tr><td>JoREFE</td><td>Journal of Real Estate Finance and Economics</td><td>Kluwer</td><td>no</td><td>476</td><td>630</td><td>3432</td><td>162</td><td>1990</td><td>59</td><td>Business</td><td>0.76</td><td>35</td><td>High</td></tr><tr><td>JoPopEc</td><td>Journal of Policy Modeling</td><td>Elsevier</td><td>no</td><td>473</td><td>907</td><td>2160</td><td>164</td><td>1979</td><td>67</td><td>Specialized</td><td>0.52</td><td>46</td><td>High</td></tr><tr><td>JoPKE</td><td>Journal of Post-Keynesian Economics</td><td>M.E Sharpe</td><td>no</td><td>186</td><td>550</td><td>2360</td><td>170</td><td>1978</td><td>225</td><td>General</td><td>0.34</td><td>47</td><td>High</td></tr><tr><td>EP</td><td>Economic Policy</td><td>Blackwell</td><td>no</td><td>170</td><td>440</td><td>2856</td><td>179</td><td>1985</td><td>56</td><td>Public Finance</td><td>0.39</td><td>40</td><td>High</td></tr><tr><td>MSS</td><td>Mathematical Social Sciences</td><td>Elsevier</td><td>no</td><td>824</td><td>697</td><td>3420</td><td>180</td><td>1981</td><td>36</td><td>Interdisciplinary</td><td>1.18</td><td>44</td><td>High</td></tr><tr><td>Om</td><td>Omega</td><td>Elsevier</td><td>no</td><td>805</td><td>780</td><td>4028</td><td>183</td><td>1973</td><td>101</td><td>Business</td><td>1.03</td><td>52</td><td>High</td></tr><tr><td>HoPE</td><td>History of Political Economy</td><td>Duke Univ Press</td><td>no</td><td>132</td><td>767</td><td>2280</td><td>183</td><td>1969</td><td>288</td><td>Economic History</td><td>0.17</td><td>56</td><td>High</td></tr><tr><td>EcRec</td><td>Economic Record</td><td>Ec. Society of Australia</td><td>yes</td><td>50</td><td>421</td><td>4320</td><td>188</td><td>1925</td><td>183</td><td>General</td><td>0.12</td><td>100</td><td>High</td></tr><tr><td>JoPA</td><td>Journal of Productivity Analysis</td><td>Kluwer</td><td>no</td><td>424</td><td>567</td><td>3432</td><td>188</td><td>1992</td><td>25</td><td>General</td><td>0.75</td><td>33</td><td>High</td></tr><tr><td>RoIW</td><td>Review of Income and Wealth</td><td>Int Assn for Res in I & W</td><td>yes</td><td>130</td><td>585</td><td>3312</td><td>189</td><td>1945</td><td>120</td><td>Public Finance</td><td>0.22</td><td>80</td><td>High</td></tr><tr><td>JoRI</td><td>Journal of Risk and Insurance</td><td>Am. Risk & Ins. Assn</td><td>yes</td><td>90</td><td>720</td><td>2924</td><td>193</td><td>1964</td><td>263</td><td>Insurance</td><td>0.13</td><td>61</td><td>High</td></tr><tr><td>TWE</td><td>The World Economy</td><td>Blackwell</td><td>no</td><td>805</td><td>1270</td><td>2842</td><td>214</td><td>1977</td><td>101</td><td>Development</td><td>0.63</td><td>48</td><td>High</td></tr><tr><td>JoAE</td><td>Journal of Agricultural Economics</td><td>Agric. Econ. Society</td><td>yes</td><td>96</td><td>277</td><td>4218</td><td>220</td><td>1948</td><td>43</td><td>Agricultural Economics</td><td>0.35</td><td>77</td><td>High</td></tr><tr><td>EoER</td><td>Economics of Education Review</td><td>Elsevier</td><td>no</td><td>448</td><td>471</td><td>5040</td><td>224</td><td>1982</td><td>73</td><td>Specialized</td><td>0.95</td><td>43</td><td>High</td></tr><tr><td>JoLR</td><td>Journal of Labor Research</td><td>George Mason Univ</td><td>no</td><td>130</td><td>725</td><td>3010</td><td>227</td><td>1980</td><td>221</td><td>Labor</td><td>0.18</td><td>45</td><td>High</td></tr><tr><td>TD</td><td>Theory and Decision</td><td>Kluwer</td><td>no</td><td>595</td><td>607</td><td>2072</td><td>237</td><td>1970</td><td>83</td><td>Theory</td><td>0.98</td><td>55</td><td>High</td></tr><tr><td>SCW</td><td>Social Choice & Welfare</td><td>Springer</td><td>no</td><td>474</td><td>674</td><td>2990</td><td>239</td><td>1984</td><td>37</td><td>Public Finance</td><td>0.7</td><td>41</td><td>High</td></tr><tr><td>JoCE</td><td>Journal of Comparative Economics</td><td>Academic Press</td><td>no</td><td>410</td><td>803</td><td>2442</td><td>245</td><td>1977</td><td>185</td><td>Area Studies</td><td>0.51</td><td>48</td><td>High</td></tr><tr><td>JoEP</td><td>Journal of Economic Psychology</td><td>Elsevier</td><td>no</td><td>395</td><td>802</td><td>2535</td><td>245</td><td>1981</td><td>61</td><td>Interdisciplinary</td><td>0.49</td><td>44</td><td>High</td></tr><tr><td>IJoF</td><td>International Journal of Forecasting</td><td>Elsevier</td><td>no</td><td>437</td><td>464</td><td>4324</td><td>249</td><td>1985</td><td>57</td><td>Specialized</td><td>0.94</td><td>40</td><td>High</td></tr><tr><td>Ky</td><td>Kyklos</td><td>Helbing & Lichtenhahn</td><td>no</td><td>270</td><td>618</td><td>2760</td><td>254</td><td>1948</td><td>186</td><td>General</td><td>0.44</td><td>77</td><td>High</td></tr><tr><td>EiEH</td><td>Explorations in Economic History</td><td>Academic Press</td><td>no</td><td>265</td><td>447</td><td>2904</td><td>261</td><td>1963</td><td>199</td><td>Economic History</td><td>0.59</td><td>62</td><td>High</td></tr><tr><td>ET</td><td>Economic Theory</td><td>Springer</td><td>no</td><td>899</td><td>1493</td><td>2806</td><td>264</td><td>1992</td><td>165</td><td>Theory</td><td>0.6</td><td>33</td><td>High</td></tr><tr><td>JoTEP</td><td>Journal of Transport Economics & Policy</td><td>LSE and Univ of Bath</td><td>no</td><td>133</td><td>406</td><td>3182</td><td>292</td><td>1967</td><td>95</td><td>Specialized</td><td>0.33</td><td>58</td><td>High</td></tr><tr><td>BJoIR</td><td>British Journal of Industrial Relations</td><td>Blackwell</td><td>no</td><td>262</td><td>663</td><td>3450</td><td>294</td><td>1963</td><td>82</td><td>Specialized</td><td>0.4</td><td>62</td><td>High</td></tr><tr><td>JoCMS</td><td>Journal of Common Market Studies</td><td>Blackwell</td><td>no</td><td>506</td><td>710</td><td>2747</td><td>299</td><td>1962</td><td>214</td><td>Area Studies</td><td>0.71</td><td>63</td><td>High</td></tr><tr><td>JoFM</td><td>Journal of Futures Markets</td><td>Wiley</td><td>no</td><td>1140</td><td>990</td><td>2460</td><td>302</td><td>1981</td><td>152</td><td>Finance</td><td>1.15</td><td>44</td><td>High</td></tr><tr><td>JITE</td><td>Journal of Institutional & Theoretical Economics</td><td>Mohr Siebeck</td><td>no</td><td>211</td><td>792</td><td>3402</td><td>313</td><td>1844</td><td>33</td><td>General</td><td>0.27</td><td>181</td><td>High</td></tr><tr><td>IJoIO</td><td>International Journal of Industrial Organization</td><td>Elsevier</td><td>no</td><td>799</td><td>1230</td><td>3124</td><td>313</td><td>1983</td><td>81</td><td>Industrial Organization</td><td>0.65</td><td>42</td><td>High</td></tr><tr><td>JoFo</td><td>Journal of Forecasting</td><td>Wiley</td><td>no</td><td>760</td><td>516</td><td>4032</td><td>317</td><td>1982</td><td>137</td><td>Specialized</td><td>1.47</td><td>43</td><td>High</td></tr><tr><td>ORL</td><td>Operations Research Letters</td><td>Elsevier</td><td>no</td><td>442</td><td>460</td><td>4056</td><td>338</td><td>1982</td><td>59</td><td>Management Science</td><td>0.96</td><td>43</td><td>High</td></tr><tr><td>SJoE</td><td>Scandinavian Journal of Economics</td><td>Blackwell</td><td>no</td><td>296</td><td>688</td><td>2666</td><td>339</td><td>1898</td><td>98</td><td>General</td><td>0.43</td><td>127</td><td>High</td></tr><tr><td>CJoE</td><td>Cambridge Journal of Economics</td><td>Oxford Univ Press</td><td>no</td><td>272</td><td>814</td><td>3545</td><td>351</td><td>1976</td><td>163</td><td>General</td><td>0.33</td><td>49</td><td>High</td></tr><tr><td>JoEI</td><td>Journal of Economic Issues</td><td>Assn Ev. Economics</td><td>yes</td><td>45</td><td>1003</td><td>2870</td><td>355</td><td>1967</td><td>462</td><td>Public Finance</td><td>0.04</td><td>58</td><td>High</td></tr><tr><td>RSUE</td><td>Regional Science & Urban Economics</td><td>Elsevier</td><td>no</td><td>614</td><td>802</td><td>2967</td><td>370</td><td>1971</td><td>99</td><td>Urban and Regional</td><td>0.77</td><td>54</td><td>High</td></tr><tr><td>IJoGT</td><td>International Journal of Game Theory</td><td>Springer</td><td>no</td><td>436</td><td>582</td><td>3366</td><td>382</td><td>1971</td><td>52</td><td>Theory</td><td>0.75</td><td>54</td><td>High</td></tr><tr><td>JoRaU</td><td>Journal of Risk and Uncertainty</td><td>Kluwer</td><td>no</td><td>481</td><td>595</td><td>3476</td><td>383</td><td>1990</td><td>47</td><td>Insurance</td><td>0.81</td><td>35</td><td>High</td></tr><tr><td>JoRU</td><td>Journal of Financial and Quantitative Analysis</td><td>Univ Wash Press</td><td>no</td><td>95</td><td>500</td><td>3314</td><td>388</td><td>1966</td><td>394</td><td>Finance</td><td>0.19</td><td>59</td><td>High</td></tr><tr><td>JoDS</td><td>Journal of Development Studies</td><td>Frank Cass</td><td>no</td><td>357</td><td>500</td><td>2604</td><td>388</td><td>1964</td><td>227</td><td>Development</td><td>0.71</td><td>61</td><td>High</td></tr><tr><td>EcmtrT</td><td>Econometric Theory</td><td>Cambridge Univ Pres</td><td>no</td><td>280</td><td>899</td><td>2948</td><td>390</td><td>1985</td><td>65</td><td>Econometrics</td><td>0.31</td><td>40</td><td>High</td></tr><tr><td>JoRS</td><td>Journal of Regional Science</td><td>Blackwell</td><td>no</td><td>142</td><td>764</td><td>2992</td><td>397</td><td>1961</td><td>242</td><td>Urban and Regional</td><td>0.19</td><td>64</td><td>High</td></tr><tr><td>JoA&E</td><td>Journal of Accounting & Economics</td><td>Elsevier</td><td>no</td><td>710</td><td>1112</td><td>2945</td><td>406</td><td>1979</td><td>154</td><td>Interdisciplinary</td><td>0.64</td><td>46</td><td>High</td></tr><tr><td>GaEB</td><td>Games and Economic Behavior</td><td>Academic Press</td><td>no</td><td>490</td><td>1197</td><td>2460</td><td>412</td><td>1988</td><td>45</td><td>Theory</td><td>0.41</td><td>37</td><td>High</td></tr><tr><td>JAE</td><td>Journal of Applied Econometrics</td><td>Wiley</td><td>no</td><td>870</td><td>689</td><td>3680</td><td>412</td><td>1986</td><td>81</td><td>Econometrics</td><td>1.26</td><td>39</td><td>High</td></tr><tr><td>JoMathEc</td><td>Journal of Mathematical Economics</td><td>Elsevier</td><td>no</td><td>1147</td><td>1340</td><td>2940</td><td>418</td><td>1974</td><td>79</td><td>Theory</td><td>0.86</td><td>51</td><td>High</td></tr><tr><td>JoIMF</td><td>Journal of International Money and Finance</td><td>Elsevier</td><td>no</td><td>743</td><td>940</td><td>2660</td><td>427</td><td>1981</td><td>120</td><td>International</td><td>0.79</td><td>44</td><td>High</td></tr><tr><td>RS</td><td>Regional Studies</td><td>Carfax</td><td>no</td><td>759</td><td>911</td><td>4988</td><td>440</td><td>1967</td><td>91</td><td>Urban and Regional</td><td>0.83</td><td>58</td><td>High</td></tr><tr><td>PDR</td><td>Population & Development Review</td><td>Population Council</td><td>no</td><td>36</td><td>910</td><td>2904</td><td>445</td><td>1975</td><td>218</td><td>Demography</td><td>0.04</td><td>50</td><td>High</td></tr><tr><td>ES</td><td>Economy and Society</td><td>Routledge</td><td>no</td><td>224</td><td>640</td><td>2970</td><td>488</td><td>1971</td><td>97</td><td>General</td><td>0.35</td><td>54</td><td>High</td></tr><tr><td>DS</td><td>Decision Sciences</td><td>Georgia State Univ</td><td>no</td><td>82</td><td>1067</td><td>3124</td><td>495</td><td>1970</td><td>322</td><td>Management Science</td><td>0.08</td><td>55</td><td>High</td></tr><tr><td>JoIndEc</td><td>Journal of Industrial Economics</td><td>Blackwell</td><td>no</td><td>160</td><td>476</td><td>2684</td><td>497</td><td>1953</td><td>283</td><td>Industrial Organization</td><td>0.34</td><td>72</td><td>High</td></tr><tr><td>EE</td><td>Ecological Economics</td><td>Elsevier</td><td>no</td><td>1170</td><td>1990</td><td>4128</td><td>499</td><td>1989</td><td>40</td><td>Natural Resources</td><td>0.59</td><td>36</td><td>High</td></tr><tr><td>NTJ</td><td>National Tax Journal</td><td>National Tax Assn.</td><td>no</td><td>90</td><td>785</td><td>2940</td><td>502</td><td>1948</td><td>552</td><td>Public Finance</td><td>0.11</td><td>77</td><td>High</td></tr><tr><td>US</td><td>Urban Studies</td><td>Carfax</td><td>no</td><td>742</td><td>1711</td><td>3747</td><td>508</td><td>1964</td><td>222</td><td>Urban and Regional</td><td>0.43</td><td>61</td><td>High</td></tr><tr><td>HE</td><td>Health Economics</td><td>Wiley</td><td>no</td><td>575</td><td>736</td><td>4264</td><td>544</td><td>1992</td><td>29</td><td>Health</td><td>0.78</td><td>33</td><td>High</td></tr><tr><td>EHR</td><td>Economic History Review</td><td>Blackwell</td><td>no</td><td>163</td><td>846</td><td>3570</td><td>545</td><td>1947</td><td>390</td><td>Economic History</td><td>0.19</td><td>78</td><td>High</td></tr><tr><td>RoFS</td><td>Review of Financial Studies</td><td>Oxford Univ. Press</td><td>no</td><td>175</td><td>1235</td><td>2604</td><td>547</td><td>1988</td><td>95</td><td>Finance</td><td>0.14</td><td>37</td><td>High</td></tr><tr><td>CJE</td><td>Canadian Journal of Economics</td><td>Blackwell</td><td>yes</td><td>120</td><td>1247</td><td>2992</td><td>556</td><td>1967</td><td>305</td><td>General</td><td>0.1</td><td>58</td><td>High</td></tr><tr><td>RA</td><td>Risk Analysis</td><td>Kluwer</td><td>no</td><td>590</td><td>1260</td><td>4628</td><td>574</td><td>1981</td><td>98</td><td>Insurance</td><td>0.47</td><td>44</td><td>High</td></tr><tr><td>AE</td><td>Applied Economics</td><td>Routledge</td><td>no</td><td>2120</td><td>1683</td><td>5445</td><td>578</td><td>1958</td><td>146</td><td>General</td><td>1.26</td><td>67</td><td>High</td></tr><tr><td>OEP</td><td>Oxford Economic Papers</td><td>Oxford Univ. Press</td><td>no</td><td>205</td><td>767</td><td>2924</td><td>582</td><td>1949</td><td>271</td><td>General</td><td>0.27</td><td>76</td><td>High</td></tr><tr><td>EDCC</td><td>Economic Development & Cultural Change</td><td>Univ of Chicago Press</td><td>no</td><td>128</td><td>889</td><td>2700</td><td>597</td><td>1952</td><td>515</td><td>Development</td><td>0.14</td><td>73</td><td>High</td></tr><tr><td>JoBF</td><td>Journal of Banking and Finance</td><td>Elsevier</td><td>no</td><td>1539</td><td>1911</td><td>2516</td><td>602</td><td>1977</td><td>172</td><td>Finance</td><td>0.81</td><td>48</td><td>High</td></tr><tr><td>OBoES</td><td>Oxford Bulletin of Economics & Statistics</td><td>Blackwell</td><td>no</td><td>346</td><td>545</td><td>2655</td><td>617</td><td>1939</td><td>127</td><td>General</td><td>0.63</td><td>86</td><td>High</td></tr><tr><td>JoEDC</td><td>Journal of Economic Dynamics & Control</td><td>Elsevier</td><td>yes</td><td>1046</td><td>1636</td><td>2945</td><td>636</td><td>1979</td><td>58</td><td>Theory</td><td>0.64</td><td>46</td><td>High</td></tr><tr><td>SEJ</td><td>Southern Economic Journal</td><td>Southern Econ. Assn</td><td>yes</td><td>97</td><td>1032</td><td>3680</td><td>646</td><td>1932</td><td>524</td><td>General</td><td>0.09</td><td>93</td><td>High</td></tr><tr><td>JoMS</td><td>Journal of Management Studies</td><td>Blackwell</td><td>no</td><td>686</td><td>850</td><td>3456</td><td>654</td><td>1964</td><td>222</td><td>Management Science</td><td>0.81</td><td>61</td><td>High</td></tr><tr><td>JoBE</td><td>Journal of Business Ethics</td><td>Kluwer</td><td>no</td><td>914</td><td>1270</td><td>3650</td><td>662</td><td>1981</td><td>385</td><td>Business</td><td>0.72</td><td>44</td><td>High</td></tr><tr><td>Dm</td><td>Demography</td><td>Pop Assn America</td><td>no</td><td>85</td><td>568</td><td>6859</td><td>670</td><td>1964</td><td>413</td><td>Demography</td><td>0.15</td><td>61</td><td>High</td></tr><tr><td>EI</td><td>Economic Inquiry</td><td>Oxford Univ Press</td><td>no</td><td>206</td><td>684</td><td>4134</td><td>684</td><td>1962</td><td>366</td><td>General</td><td>0.3</td><td>63</td><td>High</td></tr><tr><td>JoEBO</td><td>Journal of Economic Behavior & Organization</td><td>Elsevier</td><td>no</td><td>1154</td><td>1380</td><td>3330</td><td>698</td><td>1980</td><td>75</td><td>Theory</td><td>0.84</td><td>45</td><td>High</td></tr><tr><td>JoLS</td><td>Journal of Legal Studies</td><td>Univ of Chicago Press</td><td>no</td><td>45</td><td>530</td><td>2625</td><td>700</td><td>1972</td><td>238</td><td>Law and Economics</td><td>0.08</td><td>53</td><td>High</td></tr><tr><td>JoDE</td><td>Journal of Development Economics</td><td>Elsevier</td><td>no</td><td>1146</td><td>1110</td><td>2816</td><td>707</td><td>1974</td><td>142</td><td>Development</td><td>1.03</td><td>51</td><td>High</td></tr><tr><td>LanEc</td><td>Land Economics</td><td>Univ of Wisconsin Press</td><td>no</td><td>95</td><td>580</td><td>3672</td><td>730</td><td>1925</td><td>437</td><td>Urban and Regional</td><td>0.16</td><td>100</td><td>High</td></tr><tr><td>JoLE</td><td>Journal of Labor Economics</td><td>Univ of Chicago Press</td><td>no</td><td>138</td><td>600</td><td>2728</td><td>733</td><td>1983</td><td>269</td><td>Labor</td><td>0.23</td><td>42</td><td>High</td></tr><tr><td>JoEH</td><td>Journal of Economic History</td><td>Cambridge Univ Pres</td><td>no</td><td>115</td><td>1200</td><td>4029</td><td>737</td><td>1941</td><td>643</td><td>Economic History</td><td>0.1</td><td>84</td><td>High</td></tr><tr><td>JoUE</td><td>Journal of Urban Economics</td><td>Academic Press</td><td>no</td><td>640</td><td>1058</td><td>2666</td><td>787</td><td>1974</td><td>230</td><td>Urban and Regional</td><td>0.6</td><td>51</td><td>High</td></tr><tr><td>Ecnmc</td><td>Economica</td><td>Blackwell</td><td>no</td><td>122</td><td>565</td><td>3120</td><td>825</td><td>1933</td><td>313</td><td>General</td><td>0.22</td><td>92</td><td>High</td></tr><tr><td>JoMCB</td><td>Journal of Money Credit & Banking</td><td>Ohio State Univ. Press</td><td>no</td><td>110</td><td>860</td><td>3168</td><td>834</td><td>1969</td><td>512</td><td>Macroeconomics</td><td>0.13</td><td>56</td><td>High</td></tr><tr><td>JoIntEc</td><td>Journal of International Economics</td><td>Elsevier</td><td>no</td><td>923</td><td>1299</td><td>2898</td><td>838</td><td>1971</td><td>211</td><td>International</td><td>0.71</td><td>54</td><td>High</td></tr><tr><td>PC</td><td>Public Choice</td><td>Kluwer</td><td>no</td><td>1000</td><td>1600</td><td>2583</td><td>871</td><td>1966</td><td>171</td><td>Public Finance</td><td>0.63</td><td>59</td><td>High</td></tr><tr><td>RP</td><td>Research Policy</td><td>Elsevier</td><td>no</td><td>1234</td><td>781</td><td>4320</td><td>922</td><td>1972</td><td>34</td><td>Business</td><td>1.58</td><td>53</td><td>High</td></tr><tr><td>EL</td><td>Economics Letters</td><td>Elsevier</td><td>no</td><td>1492</td><td>1540</td><td>3315</td><td>930</td><td>1978</td><td>81</td><td>General</td><td>0.97</td><td>47</td><td>High</td></tr><tr><td>JoHeEc</td><td>Journal of Health Economics</td><td>Elsevier</td><td>no</td><td>810</td><td>828</td><td>2924</td><td>957</td><td>1982</td><td>144</td><td>Health</td><td>0.98</td><td>43</td><td>High</td></tr><tr><td>JBES</td><td>Journal of Business & Economic Statistics</td><td>Am Stat Assn</td><td>yes</td><td>90</td><td>510</td><td>6360</td><td>988</td><td>1983</td><td>190</td><td>Business</td><td>0.18</td><td>42</td><td>High</td></tr><tr><td>RJoE</td><td>Rand Journal of Economics</td><td>RAND</td><td>no</td><td>177</td><td>757</td><td>3450</td><td>1039</td><td>1970</td><td>339</td><td>Industrial Organization</td><td>0.23</td><td>55</td><td>High</td></tr><tr><td>JoB</td><td>Journal of Business</td><td>Univ of Chicago Press</td><td>no</td><td>74</td><td>583</td><td>2655</td><td>1083</td><td>1928</td><td>771</td><td>Business</td><td>0.13</td><td>97</td><td>High</td></tr><tr><td>JoHR</td><td>Journal of Human Resources</td><td>Univ of Wisconsin Press</td><td>no</td><td>113</td><td>837</td><td>3312</td><td>1113</td><td>1966</td><td>522</td><td>Labor</td><td>0.14</td><td>59</td><td>High</td></tr><tr><td>IER</td><td>International Economic Review</td><td>Blackwell</td><td>no</td><td>145</td><td>969</td><td>3082</td><td>1113</td><td>1960</td><td>284</td><td>General</td><td>0.15</td><td>65</td><td>High</td></tr><tr><td>JoEEM</td><td>Journal of Environmental Economics & Managment</td><td>Academic Press</td><td>no</td><td>590</td><td>636</td><td>3096</td><td>1152</td><td>1974</td><td>202</td><td>Natural Resources</td><td>0.93</td><td>51</td><td>High</td></tr><tr><td>EER</td><td>European Economic Review</td><td>Elsevier</td><td>yes</td><td>1154</td><td>1823</td><td>2178</td><td>1243</td><td>1969</td><td>118</td><td>General</td><td>0.63</td><td>56</td><td>High</td></tr><tr><td>WD</td><td>World Development</td><td>Elsevier</td><td>no</td><td>1450</td><td>1145</td><td>5480</td><td>1408</td><td>1973</td><td>160</td><td>Development</td><td>1.27</td><td>52</td><td>High</td></tr><tr><td>JoPubEc</td><td>Journal of Public Economics</td><td>Elsevier</td><td>no</td><td>1431</td><td>1880</td><td>2924</td><td>1437</td><td>1972</td><td>141</td><td>Public Finance</td><td>0.76</td><td>53</td><td>High</td></tr><tr><td>JEL</td><td>Journal of Economic Literature</td><td>Am Ec Assn</td><td>yes</td><td>47</td><td>2632</td><td>3848</td><td>1530</td><td>1963</td><td>972</td><td>General</td><td>0.02</td><td>62</td><td>High</td></tr><tr><td>JoLaE</td><td>Journal of Law and Economics</td><td>Univ of Chicago Press</td><td>no</td><td>45</td><td>850</td><td>2604</td><td>1580</td><td>1968</td><td>542</td><td>Law and Economics</td><td>0.05</td><td>57</td><td>High</td></tr><tr><td>JEP</td><td>Journal of Economic Perspectives</td><td>Am Ec Assn</td><td>yes</td><td>47</td><td>940</td><td>3036</td><td>1583</td><td>1987</td><td>866</td><td>General</td><td>0.05</td><td>38</td><td>High</td></tr><tr><td>AJoAE</td><td>American Journal of Agricultural Economics</td><td>Am. Ag. Econ Assn</td><td>no</td><td>81</td><td>1253</td><td>4368</td><td>1812</td><td>1918</td><td>267</td><td>Agricultural Economics</td><td>0.06</td><td>107</td><td>High</td></tr><tr><td>JoMonEc</td><td>Journal of Monetary Economics</td><td>Elsevier</td><td>no</td><td>1010</td><td>1346</td><td>3174</td><td>1860</td><td>1975</td><td>186</td><td>Macroeconomics</td><td>0.75</td><td>50</td><td>High</td></tr><tr><td>MngtSc</td><td>Management Science</td><td>Inst for OR and MS</td><td>no</td><td>334</td><td>1175</td><td>4232</td><td>2022</td><td>1954</td><td>558</td><td>Management Science</td><td>0.28</td><td>71</td><td>High</td></tr><tr><td>RoE&S</td><td>Review of Economics & Statistics</td><td>MIT press</td><td>no</td><td>190</td><td>733</td><td>5600</td><td>2331</td><td>1919</td><td>523</td><td>General</td><td>0.26</td><td>106</td><td>High</td></tr><tr><td>RoES</td><td>Review of Economic Studies</td><td>Blackwell</td><td>no</td><td>180</td><td>761</td><td>3626</td><td>2411</td><td>1933</td><td>325</td><td>General</td><td>0.24</td><td>92</td><td>High</td></tr><tr><td>JoE</td><td>Journal of Econometrics</td><td>Elsevier</td><td>no</td><td>1893</td><td>1527</td><td>2178</td><td>2479</td><td>1973</td><td>129</td><td>Econometrics</td><td>1.24</td><td>52</td><td>High</td></tr><tr><td>JoET</td><td>Journal of Economic Theory</td><td>Academic Press</td><td>no</td><td>1400</td><td>2000</td><td>2684</td><td>2514</td><td>1969</td><td>165</td><td>Theory</td><td>0.7</td><td>56</td><td>High</td></tr><tr><td>EJ</td><td>Economic Journal</td><td>Blackwell</td><td>no</td><td>301</td><td>1983</td><td>3036</td><td>2540</td><td>1890</td><td>531</td><td>General</td><td>0.15</td><td>135</td><td>High</td></tr><tr><td>JoFE</td><td>Journal of Financial Economics</td><td>Elsevier</td><td>no</td><td>1339</td><td>1947</td><td>2838</td><td>2676</td><td>1974</td><td>231</td><td>Finance</td><td>0.69</td><td>51</td><td>High</td></tr><tr><td>JoCR</td><td>Journal of Consumer Research</td><td>Univ of Chicago Press</td><td>no</td><td>90</td><td>439</td><td>5336</td><td>2762</td><td>1974</td><td>536</td><td>Consumer Economics</td><td>0.21</td><td>51</td><td>High</td></tr><tr><td>JASA</td><td>Journal of the American Statistical Association</td><td>Am. Statistical Assn</td><td>yes</td><td>310</td><td>1260</td><td>5664</td><td>2800</td><td>1971</td><td>487</td><td>Econometrics</td><td>0.25</td><td>54</td><td>High</td></tr><tr><td>JoFi</td><td>Journal of Finance</td><td>Am. Finance Assn</td><td>yes</td><td>226</td><td>2272</td><td>3036</td><td>3791</td><td>1945</td><td>799</td><td>Finance</td><td>0.1</td><td>80</td><td>High</td></tr><tr><td>QJoE</td><td>Quarterly Journal of Economics</td><td>MIT press</td><td>no</td><td>148</td><td>1467</td><td>2184</td><td>4138</td><td>1886</td><td>660</td><td>General</td><td>0.1</td><td>139</td><td>High</td></tr><tr><td>JoPolEc</td><td>Journal of Political Economy</td><td>Univ of Chicago Press</td><td>no</td><td>159</td><td>1669</td><td>2640</td><td>6697</td><td>1892</td><td>737</td><td>General</td><td>0.1</td><td>133</td><td>High</td></tr><tr><td>Ecnmt</td><td>Econometrica</td><td>Blackwell</td><td>yes</td><td>178</td><td>1482</td><td>2992</td><td>7943</td><td>1932</td><td>346</td><td>General</td><td>0.12</td><td>93</td><td>High</td></tr><tr><td>AER</td><td>American Economic Review</td><td>Am Ec Assn</td><td>yes</td><td>47</td><td>1867</td><td>3900</td><td>8999</td><td>1911</td><td>1098</td><td>General</td><td>0.03</td><td>114</td><td>High</td></tr></tbody></table></div>"
      ]
     },
     "metadata": {
      "application/vnd.databricks.v1+output": {
       "addedWidgets": {},
       "aggData": [],
       "aggError": "",
       "aggOverflow": false,
       "aggSchema": [],
       "aggSeriesLimitReached": false,
       "aggType": "",
       "arguments": {},
       "columnCustomDisplayInfos": {},
       "data": [
        [
         "APEL",
         "Asian-Pacific Economic Literature",
         "Blackwell",
         "no",
         123,
         440,
         3822,
         21,
         1986,
         14,
         "General",
         0.28,
         39,
         "Low"
        ],
        [
         "SAJoEH",
         "South African Journal of Economic History",
         "So Afr ec history assn",
         "no",
         20,
         309,
         1782,
         22,
         1986,
         59,
         "Economic History",
         0.06,
         39,
         "Low"
        ],
        [
         "CE",
         "Computational Economics",
         "Kluwer",
         "no",
         443,
         567,
         2924,
         22,
         1987,
         17,
         "Specialized",
         0.78,
         38,
         "Low"
        ],
        [
         "MEPiTE",
         "MOCT-MOST Economic Policy in Transitional Economics",
         "Kluwer",
         "no",
         276,
         520,
         3234,
         22,
         1991,
         2,
         "Area Studies",
         0.53,
         34,
         "Low"
        ],
        [
         "JoSE",
         "Journal of Socio-Economics",
         "Elsevier",
         "no",
         295,
         791,
         3024,
         24,
         1972,
         96,
         "Interdisciplinary",
         0.37,
         53,
         "Low"
        ],
        [
         "LabEc",
         "Labour Economics",
         "Elsevier",
         "no",
         344,
         609,
         2967,
         24,
         1994,
         15,
         "Labor",
         0.56,
         31,
         "Low"
        ],
        [
         "EDE",
         "Environment and Development Economics",
         "Cambridge Univ Pres",
         "no",
         90,
         602,
         3185,
         24,
         1995,
         14,
         "Development",
         0.15,
         30,
         "Low"
        ],
        [
         "RoRPE",
         "Review of Radical Political Economics",
         "Elsevier",
         "no",
         242,
         665,
         2688,
         27,
         1968,
         202,
         "Specialized",
         0.36,
         57,
         "Low"
        ],
        [
         "EoP",
         "Economics of Planning",
         "Kluwer",
         "no",
         226,
         243,
         3010,
         28,
         1987,
         46,
         "Area Studies",
         0.93,
         38,
         "Low"
        ],
        [
         "Mt",
         "Metroeconomica",
         "Blackwell",
         "no",
         262,
         386,
         2501,
         30,
         1949,
         46,
         "General",
         0.68,
         76,
         "Low"
        ],
        [
         "JoCP",
         "Journal of Consumer Policy",
         "Kluwer",
         "no",
         279,
         578,
         2200,
         32,
         1978,
         57,
         "Consumer Economics",
         0.48,
         47,
         "Low"
        ],
        [
         "REE",
         "Real Estate Economics",
         "MIT",
         "no",
         165,
         749,
         2496,
         35,
         1973,
         125,
         "Specialized",
         0.22,
         52,
         "Low"
        ],
        [
         "DPR",
         "Development Policy Review",
         "Blackwell",
         "no",
         242,
         427,
         2731,
         36,
         1982,
         30,
         "Development",
         0.57,
         43,
         "Low"
        ],
        [
         "MaDE",
         "Managerial and Decision Econ",
         "Wiley",
         "no",
         905,
         292,
         4472,
         37,
         1980,
         62,
         "Management Science",
         3.1,
         45,
         "Low"
        ],
        [
         "JoEF",
         "Journal of Empirical Finance",
         "Elsevier",
         "no",
         355,
         607,
         3053,
         37,
         1994,
         16,
         "Finance",
         0.58,
         31,
         "Low"
        ],
        [
         "JoEMS",
         "International Journal of Finance & Economics",
         "Springer",
         "no",
         375,
         351,
         4025,
         40,
         1996,
         17,
         "Finance",
         1.07,
         29,
         "Low"
        ],
        [
         "JoE&MS",
         "Journal of Economics & Management Strategy",
         "MIT Press",
         "no",
         135,
         602,
         2394,
         42,
         1992,
         37,
         "Management Science",
         0.22,
         33,
         "Low"
        ],
        [
         "AEJ",
         "Atlantic Economic Journal",
         "Intnl Atlantic Ec. Soc.",
         "no",
         171,
         447,
         3139,
         44,
         1972,
         148,
         "General",
         0.38,
         53,
         "Low"
        ],
        [
         "EDQ",
         "Economic Development Quarterly",
         "Sage",
         "no",
         284,
         385,
         3318,
         47,
         1987,
         110,
         "Development",
         0.74,
         38,
         "Low"
        ],
        [
         "CER",
         "China Economic Review",
         "Elsevier",
         "no",
         242,
         167,
         3619,
         47,
         1989,
         16,
         "Area Studies",
         1.45,
         36,
         "Low"
        ],
        [
         "IEP",
         "Information Economics and Policy",
         "Elsevier",
         "no",
         371,
         442,
         2924,
         50,
         1984,
         30,
         "Specialized",
         0.84,
         41,
         "Medium"
        ],
        [
         "AEP",
         "Australian Economic Papers",
         "Blackwell",
         "no",
         115,
         495,
         3792,
         51,
         1961,
         61,
         "General",
         0.23,
         64,
         "Medium"
        ],
        [
         "JWE",
         "Japan and the World Economy",
         "Elsevier",
         "no",
         355,
         577,
         3443,
         56,
         1988,
         27,
         "Area Studies",
         0.62,
         37,
         "Medium"
        ],
        [
         "JoES",
         "Journal of Economic Surveys",
         "Blackwell",
         "no",
         355,
         674,
         2835,
         61,
         1987,
         45,
         "General",
         0.53,
         38,
         "Medium"
        ],
        [
         "IME",
         "Insurance  Mathematics & Economics",
         "Elsevier",
         "no",
         835,
         745,
         4263,
         61,
         1982,
         15,
         "Insurance",
         1.12,
         43,
         "Medium"
        ],
        [
         "DE",
         "De Economist",
         "Kluwer",
         "no",
         223,
         579,
         2594,
         62,
         1852,
         25,
         "General",
         0.39,
         173,
         "Medium"
        ],
        [
         "RoSE",
         "Review of Social Economy",
         "Routledge",
         "no",
         172,
         578,
         2720,
         66,
         1943,
         203,
         "General",
         0.3,
         82,
         "Medium"
        ],
        [
         "BP",
         "Brookings Papers",
         "Brookings Inst.",
         "no",
         62,
         394,
         2368,
         67,
         1970,
         646,
         "Public Finance",
         0.16,
         55,
         "Medium"
        ],
        [
         "PiRS",
         "Papers in Regional Science",
         "Springer",
         "no",
         191,
         442,
         2925,
         68,
         1922,
         59,
         "Urban and Regional",
         0.43,
         103,
         "Medium"
        ],
        [
         "JoPE",
         "Journal of Population Economics",
         "Springer",
         "no",
         411,
         640,
         3264,
         69,
         1987,
         27,
         "Demography",
         0.64,
         38,
         "Medium"
        ],
        [
         "FS",
         "Finance and Stochastics",
         "Springer",
         "no",
         274,
         492,
         3060,
         69,
         1996,
         31,
         "Finance",
         0.56,
         29,
         "Medium"
        ],
        [
         "IO",
         "International Organization",
         "MIT",
         "no",
         130,
         814,
         3024,
         69,
         1947,
         532,
         "Industrial Organization",
         0.16,
         78,
         "Medium"
        ],
        [
         "CPP",
         "Canadian Public Policy",
         "University of Toronto Press",
         "no",
         100,
         714,
         2248,
         75,
         1975,
         52,
         "Public Finance",
         0.14,
         50,
         "Medium"
        ],
        [
         "DvE",
         "Developing Economies",
         "Inst of Devel Econ",
         "no",
         80,
         539,
         3345,
         76,
         1963,
         87,
         "Development",
         0.15,
         62,
         "Medium"
        ],
        [
         "JoHoEc",
         "Journal of Housing Economics",
         "Academic Press",
         "no",
         235,
         330,
         2623,
         78,
         1982,
         27,
         "Specialized",
         0.71,
         43,
         "Medium"
        ],
        [
         "JoEB",
         "Journal of Economics & Business",
         "Elsevier",
         "no",
         392,
         563,
         3456,
         80,
         1948,
         291,
         "Business",
         0.7,
         77,
         "Medium"
        ],
        [
         "JoEvEc",
         "Journal of Evolutionary Economics",
         "Springer",
         "no",
         410,
         526,
         2989,
         81,
         1991,
         9,
         "Specialized",
         0.78,
         34,
         "Medium"
        ],
        [
         "EmpEc",
         "Empirical Economics",
         "Springer",
         "no",
         464,
         719,
         3366,
         82,
         1976,
         24,
         "General",
         0.65,
         49,
         "Medium"
        ],
        [
         "ER",
         "Econometric Reviews",
         "Dekker",
         "no",
         650,
         448,
         2418,
         85,
         1981,
         49,
         "Econometrics",
         1.45,
         44,
         "Medium"
        ],
        [
         "AgE",
         "Agricultural Economics",
         "Elsevier",
         "no",
         558,
         610,
         4032,
         87,
         1986,
         24,
         "Agricultural Economics",
         0.91,
         39,
         "Medium"
        ],
        [
         "QRoEF",
         "Quarterly Review of Economics & Finance",
         "Elsevier",
         "no",
         317,
         931,
         3036,
         87,
         1961,
         323,
         "Finance",
         0.34,
         64,
         "Medium"
        ],
        [
         "AEL",
         "Applied Economics Letters",
         "Routledge",
         "no",
         495,
         774,
         5610,
         89,
         1994,
         69,
         "General",
         0.64,
         31,
         "Medium"
        ],
        [
         "EM",
         "Economic Modelling",
         "Elsevier",
         "no",
         535,
         632,
         2880,
         89,
         1983,
         21,
         "General",
         0.85,
         42,
         "Medium"
        ],
        [
         "GC",
         "Growth and Change",
         "Blackwell",
         "no",
         123,
         302,
         2772,
         97,
         1969,
         212,
         "Development",
         0.41,
         56,
         "Medium"
        ],
        [
         "ERE",
         "Environmental and Resource Economics",
         "Kluwer",
         "no",
         717,
         1061,
         2924,
         97,
         1992,
         14,
         "Natural Resources",
         0.68,
         33,
         "Medium"
        ],
        [
         "JoRE",
         "Journal of Regulatory Economics",
         "Kluwer",
         "no",
         481,
         628,
         3666,
         98,
         1991,
         38,
         "Industrial Organization",
         0.77,
         34,
         "Medium"
        ],
        [
         "BoIES",
         "Bulletin of Indonesian Economic Studies",
         "ANU Press",
         "no",
         54,
         518,
         2858,
         98,
         1964,
         22,
         "Specialized",
         0.1,
         61,
         "Medium"
        ],
        [
         "AoRS",
         "Annals of Regional Science",
         "Springer",
         "no",
         379,
         580,
         2914,
         100,
         1967,
         77,
         "Urban and Regional",
         0.65,
         58,
         "High"
        ],
        [
         "CEP",
         "Contemporary Economic Policy",
         "Oxford Univ Press",
         "no",
         168,
         566,
         4104,
         109,
         1982,
         290,
         "Public Finance",
         0.3,
         43,
         "High"
        ],
        [
         "JoEcEd",
         "Journal of Economic Education",
         "Heldref",
         "no",
         82,
         426,
         2990,
         112,
         1970,
         386,
         "Specialized",
         0.19,
         55,
         "High"
        ],
        [
         "JoJIE",
         "Journal of the Japanese & International Economies",
         "Academic Press",
         "no",
         355,
         451,
         2541,
         119,
         1986,
         50,
         "Area Studies",
         0.79,
         39,
         "High"
        ],
        [
         "EaP",
         "Economics and Philosophy",
         "Cambridge Univ Pres",
         "no",
         95,
         373,
         2574,
         121,
         1984,
         144,
         "Interdisciplinary",
         0.25,
         41,
         "High"
        ],
        [
         "JoFI",
         "Journal of Financial Intermediation",
         "Academic Press",
         "no",
         240,
         420,
         2773,
         121,
         1991,
         48,
         "Finance",
         0.57,
         34,
         "High"
        ],
        [
         "RaEE",
         "Resource and Energy Economics",
         "Elsevier",
         "no",
         448,
         416,
         3010,
         122,
         1978,
         33,
         "Natural Resources",
         1.08,
         47,
         "High"
        ],
        [
         "ORoEP",
         "Oxford Review of Economic Policy",
         "Oxford Univ Press",
         "no",
         255,
         600,
         4284,
         124,
         1985,
         29,
         "Public Finance",
         0.43,
         40,
         "High"
        ],
        [
         "RoIO",
         "Review of Industrial Organization",
         "Kluwer",
         "no",
         448,
         792,
         1820,
         126,
         1990,
         58,
         "Industrial Organization",
         0.57,
         35,
         "High"
        ],
        [
         "IRoLE",
         "International Review of Law & Economics",
         "Elsevier",
         "no",
         392,
         585,
         3479,
         126,
         1980,
         71,
         "Law and Economics",
         0.67,
         45,
         "High"
        ],
        [
         "JoWT",
         "Journal of World Trade",
         "Kluwer",
         "no",
         475,
         1138,
         3088,
         134,
         1967,
         135,
         "International",
         0.42,
         58,
         "High"
        ],
        [
         "JoM",
         "Journal of Macroeconomics",
         "LSU Press",
         "no",
         85,
         856,
         2562,
         137,
         1979,
         183,
         "Macroeconomics",
         0.1,
         46,
         "High"
        ],
        [
         "AJoES",
         "American Journal of Economics & Sociology",
         "Blackwell",
         "no",
         108,
         578,
         2331,
         138,
         1941,
         573,
         "Interdisciplinary",
         0.19,
         84,
         "High"
        ],
        [
         "PFR",
         "Public Finance Review",
         "Sage",
         "no",
         394,
         636,
         2204,
         138,
         1973,
         268,
         "Public Finance",
         0.62,
         52,
         "High"
        ],
        [
         "MnchSc",
         "Manchester School",
         "Blackwell",
         "no",
         336,
         618,
         2772,
         140,
         1930,
         57,
         "General",
         0.54,
         95,
         "High"
        ],
        [
         "EnE",
         "Energy Economics",
         "Elsevier",
         "no",
         565,
         495,
         3038,
         143,
         1978,
         52,
         "Natural Resources",
         1.14,
         47,
         "High"
        ],
        [
         "ERoAE",
         "European Review of Agricultural Economics",
         "Oxford Univ Press",
         "no",
         255,
         573,
         3228,
         144,
         1974,
         21,
         "Agricultural Economics",
         0.45,
         51,
         "High"
        ],
        [
         "LH",
         "Labor History",
         "Carfax",
         "no",
         165,
         515,
         3430,
         147,
         1960,
         479,
         "Labor",
         0.32,
         65,
         "High"
        ],
        [
         "WA",
         "Weltwirtschaftliches Archiv / Review of World Economics",
         "Mohr Siebeck",
         "no",
         99,
         758,
         2499,
         150,
         1865,
         77,
         "General",
         0.13,
         160,
         "High"
        ],
        [
         "SJoPE",
         "Scottish Journal of Political Economy",
         "Blackwell",
         "no",
         203,
         596,
         3036,
         151,
         1953,
         89,
         "General",
         0.34,
         72,
         "High"
        ],
        [
         "DC",
         "Development and Change",
         "Blackwell",
         "no",
         318,
         888,
         2623,
         154,
         1970,
         83,
         "Development",
         0.36,
         55,
         "High"
        ],
        [
         "JoREFE",
         "Journal of Real Estate Finance and Economics",
         "Kluwer",
         "no",
         476,
         630,
         3432,
         162,
         1990,
         59,
         "Business",
         0.76,
         35,
         "High"
        ],
        [
         "JoPopEc",
         "Journal of Policy Modeling",
         "Elsevier",
         "no",
         473,
         907,
         2160,
         164,
         1979,
         67,
         "Specialized",
         0.52,
         46,
         "High"
        ],
        [
         "JoPKE",
         "Journal of Post-Keynesian Economics",
         "M.E Sharpe",
         "no",
         186,
         550,
         2360,
         170,
         1978,
         225,
         "General",
         0.34,
         47,
         "High"
        ],
        [
         "EP",
         "Economic Policy",
         "Blackwell",
         "no",
         170,
         440,
         2856,
         179,
         1985,
         56,
         "Public Finance",
         0.39,
         40,
         "High"
        ],
        [
         "MSS",
         "Mathematical Social Sciences",
         "Elsevier",
         "no",
         824,
         697,
         3420,
         180,
         1981,
         36,
         "Interdisciplinary",
         1.18,
         44,
         "High"
        ],
        [
         "Om",
         "Omega",
         "Elsevier",
         "no",
         805,
         780,
         4028,
         183,
         1973,
         101,
         "Business",
         1.03,
         52,
         "High"
        ],
        [
         "HoPE",
         "History of Political Economy",
         "Duke Univ Press",
         "no",
         132,
         767,
         2280,
         183,
         1969,
         288,
         "Economic History",
         0.17,
         56,
         "High"
        ],
        [
         "EcRec",
         "Economic Record",
         "Ec. Society of Australia",
         "yes",
         50,
         421,
         4320,
         188,
         1925,
         183,
         "General",
         0.12,
         100,
         "High"
        ],
        [
         "JoPA",
         "Journal of Productivity Analysis",
         "Kluwer",
         "no",
         424,
         567,
         3432,
         188,
         1992,
         25,
         "General",
         0.75,
         33,
         "High"
        ],
        [
         "RoIW",
         "Review of Income and Wealth",
         "Int Assn for Res in I & W",
         "yes",
         130,
         585,
         3312,
         189,
         1945,
         120,
         "Public Finance",
         0.22,
         80,
         "High"
        ],
        [
         "JoRI",
         "Journal of Risk and Insurance",
         "Am. Risk & Ins. Assn",
         "yes",
         90,
         720,
         2924,
         193,
         1964,
         263,
         "Insurance",
         0.13,
         61,
         "High"
        ],
        [
         "TWE",
         "The World Economy",
         "Blackwell",
         "no",
         805,
         1270,
         2842,
         214,
         1977,
         101,
         "Development",
         0.63,
         48,
         "High"
        ],
        [
         "JoAE",
         "Journal of Agricultural Economics",
         "Agric. Econ. Society",
         "yes",
         96,
         277,
         4218,
         220,
         1948,
         43,
         "Agricultural Economics",
         0.35,
         77,
         "High"
        ],
        [
         "EoER",
         "Economics of Education Review",
         "Elsevier",
         "no",
         448,
         471,
         5040,
         224,
         1982,
         73,
         "Specialized",
         0.95,
         43,
         "High"
        ],
        [
         "JoLR",
         "Journal of Labor Research",
         "George Mason Univ",
         "no",
         130,
         725,
         3010,
         227,
         1980,
         221,
         "Labor",
         0.18,
         45,
         "High"
        ],
        [
         "TD",
         "Theory and Decision",
         "Kluwer",
         "no",
         595,
         607,
         2072,
         237,
         1970,
         83,
         "Theory",
         0.98,
         55,
         "High"
        ],
        [
         "SCW",
         "Social Choice & Welfare",
         "Springer",
         "no",
         474,
         674,
         2990,
         239,
         1984,
         37,
         "Public Finance",
         0.7,
         41,
         "High"
        ],
        [
         "JoCE",
         "Journal of Comparative Economics",
         "Academic Press",
         "no",
         410,
         803,
         2442,
         245,
         1977,
         185,
         "Area Studies",
         0.51,
         48,
         "High"
        ],
        [
         "JoEP",
         "Journal of Economic Psychology",
         "Elsevier",
         "no",
         395,
         802,
         2535,
         245,
         1981,
         61,
         "Interdisciplinary",
         0.49,
         44,
         "High"
        ],
        [
         "IJoF",
         "International Journal of Forecasting",
         "Elsevier",
         "no",
         437,
         464,
         4324,
         249,
         1985,
         57,
         "Specialized",
         0.94,
         40,
         "High"
        ],
        [
         "Ky",
         "Kyklos",
         "Helbing & Lichtenhahn",
         "no",
         270,
         618,
         2760,
         254,
         1948,
         186,
         "General",
         0.44,
         77,
         "High"
        ],
        [
         "EiEH",
         "Explorations in Economic History",
         "Academic Press",
         "no",
         265,
         447,
         2904,
         261,
         1963,
         199,
         "Economic History",
         0.59,
         62,
         "High"
        ],
        [
         "ET",
         "Economic Theory",
         "Springer",
         "no",
         899,
         1493,
         2806,
         264,
         1992,
         165,
         "Theory",
         0.6,
         33,
         "High"
        ],
        [
         "JoTEP",
         "Journal of Transport Economics & Policy",
         "LSE and Univ of Bath",
         "no",
         133,
         406,
         3182,
         292,
         1967,
         95,
         "Specialized",
         0.33,
         58,
         "High"
        ],
        [
         "BJoIR",
         "British Journal of Industrial Relations",
         "Blackwell",
         "no",
         262,
         663,
         3450,
         294,
         1963,
         82,
         "Specialized",
         0.4,
         62,
         "High"
        ],
        [
         "JoCMS",
         "Journal of Common Market Studies",
         "Blackwell",
         "no",
         506,
         710,
         2747,
         299,
         1962,
         214,
         "Area Studies",
         0.71,
         63,
         "High"
        ],
        [
         "JoFM",
         "Journal of Futures Markets",
         "Wiley",
         "no",
         1140,
         990,
         2460,
         302,
         1981,
         152,
         "Finance",
         1.15,
         44,
         "High"
        ],
        [
         "JITE",
         "Journal of Institutional & Theoretical Economics",
         "Mohr Siebeck",
         "no",
         211,
         792,
         3402,
         313,
         1844,
         33,
         "General",
         0.27,
         181,
         "High"
        ],
        [
         "IJoIO",
         "International Journal of Industrial Organization",
         "Elsevier",
         "no",
         799,
         1230,
         3124,
         313,
         1983,
         81,
         "Industrial Organization",
         0.65,
         42,
         "High"
        ],
        [
         "JoFo",
         "Journal of Forecasting",
         "Wiley",
         "no",
         760,
         516,
         4032,
         317,
         1982,
         137,
         "Specialized",
         1.47,
         43,
         "High"
        ],
        [
         "ORL",
         "Operations Research Letters",
         "Elsevier",
         "no",
         442,
         460,
         4056,
         338,
         1982,
         59,
         "Management Science",
         0.96,
         43,
         "High"
        ],
        [
         "SJoE",
         "Scandinavian Journal of Economics",
         "Blackwell",
         "no",
         296,
         688,
         2666,
         339,
         1898,
         98,
         "General",
         0.43,
         127,
         "High"
        ],
        [
         "CJoE",
         "Cambridge Journal of Economics",
         "Oxford Univ Press",
         "no",
         272,
         814,
         3545,
         351,
         1976,
         163,
         "General",
         0.33,
         49,
         "High"
        ],
        [
         "JoEI",
         "Journal of Economic Issues",
         "Assn Ev. Economics",
         "yes",
         45,
         1003,
         2870,
         355,
         1967,
         462,
         "Public Finance",
         0.04,
         58,
         "High"
        ],
        [
         "RSUE",
         "Regional Science & Urban Economics",
         "Elsevier",
         "no",
         614,
         802,
         2967,
         370,
         1971,
         99,
         "Urban and Regional",
         0.77,
         54,
         "High"
        ],
        [
         "IJoGT",
         "International Journal of Game Theory",
         "Springer",
         "no",
         436,
         582,
         3366,
         382,
         1971,
         52,
         "Theory",
         0.75,
         54,
         "High"
        ],
        [
         "JoRaU",
         "Journal of Risk and Uncertainty",
         "Kluwer",
         "no",
         481,
         595,
         3476,
         383,
         1990,
         47,
         "Insurance",
         0.81,
         35,
         "High"
        ],
        [
         "JoRU",
         "Journal of Financial and Quantitative Analysis",
         "Univ Wash Press",
         "no",
         95,
         500,
         3314,
         388,
         1966,
         394,
         "Finance",
         0.19,
         59,
         "High"
        ],
        [
         "JoDS",
         "Journal of Development Studies",
         "Frank Cass",
         "no",
         357,
         500,
         2604,
         388,
         1964,
         227,
         "Development",
         0.71,
         61,
         "High"
        ],
        [
         "EcmtrT",
         "Econometric Theory",
         "Cambridge Univ Pres",
         "no",
         280,
         899,
         2948,
         390,
         1985,
         65,
         "Econometrics",
         0.31,
         40,
         "High"
        ],
        [
         "JoRS",
         "Journal of Regional Science",
         "Blackwell",
         "no",
         142,
         764,
         2992,
         397,
         1961,
         242,
         "Urban and Regional",
         0.19,
         64,
         "High"
        ],
        [
         "JoA&E",
         "Journal of Accounting & Economics",
         "Elsevier",
         "no",
         710,
         1112,
         2945,
         406,
         1979,
         154,
         "Interdisciplinary",
         0.64,
         46,
         "High"
        ],
        [
         "GaEB",
         "Games and Economic Behavior",
         "Academic Press",
         "no",
         490,
         1197,
         2460,
         412,
         1988,
         45,
         "Theory",
         0.41,
         37,
         "High"
        ],
        [
         "JAE",
         "Journal of Applied Econometrics",
         "Wiley",
         "no",
         870,
         689,
         3680,
         412,
         1986,
         81,
         "Econometrics",
         1.26,
         39,
         "High"
        ],
        [
         "JoMathEc",
         "Journal of Mathematical Economics",
         "Elsevier",
         "no",
         1147,
         1340,
         2940,
         418,
         1974,
         79,
         "Theory",
         0.86,
         51,
         "High"
        ],
        [
         "JoIMF",
         "Journal of International Money and Finance",
         "Elsevier",
         "no",
         743,
         940,
         2660,
         427,
         1981,
         120,
         "International",
         0.79,
         44,
         "High"
        ],
        [
         "RS",
         "Regional Studies",
         "Carfax",
         "no",
         759,
         911,
         4988,
         440,
         1967,
         91,
         "Urban and Regional",
         0.83,
         58,
         "High"
        ],
        [
         "PDR",
         "Population & Development Review",
         "Population Council",
         "no",
         36,
         910,
         2904,
         445,
         1975,
         218,
         "Demography",
         0.04,
         50,
         "High"
        ],
        [
         "ES",
         "Economy and Society",
         "Routledge",
         "no",
         224,
         640,
         2970,
         488,
         1971,
         97,
         "General",
         0.35,
         54,
         "High"
        ],
        [
         "DS",
         "Decision Sciences",
         "Georgia State Univ",
         "no",
         82,
         1067,
         3124,
         495,
         1970,
         322,
         "Management Science",
         0.08,
         55,
         "High"
        ],
        [
         "JoIndEc",
         "Journal of Industrial Economics",
         "Blackwell",
         "no",
         160,
         476,
         2684,
         497,
         1953,
         283,
         "Industrial Organization",
         0.34,
         72,
         "High"
        ],
        [
         "EE",
         "Ecological Economics",
         "Elsevier",
         "no",
         1170,
         1990,
         4128,
         499,
         1989,
         40,
         "Natural Resources",
         0.59,
         36,
         "High"
        ],
        [
         "NTJ",
         "National Tax Journal",
         "National Tax Assn.",
         "no",
         90,
         785,
         2940,
         502,
         1948,
         552,
         "Public Finance",
         0.11,
         77,
         "High"
        ],
        [
         "US",
         "Urban Studies",
         "Carfax",
         "no",
         742,
         1711,
         3747,
         508,
         1964,
         222,
         "Urban and Regional",
         0.43,
         61,
         "High"
        ],
        [
         "HE",
         "Health Economics",
         "Wiley",
         "no",
         575,
         736,
         4264,
         544,
         1992,
         29,
         "Health",
         0.78,
         33,
         "High"
        ],
        [
         "EHR",
         "Economic History Review",
         "Blackwell",
         "no",
         163,
         846,
         3570,
         545,
         1947,
         390,
         "Economic History",
         0.19,
         78,
         "High"
        ],
        [
         "RoFS",
         "Review of Financial Studies",
         "Oxford Univ. Press",
         "no",
         175,
         1235,
         2604,
         547,
         1988,
         95,
         "Finance",
         0.14,
         37,
         "High"
        ],
        [
         "CJE",
         "Canadian Journal of Economics",
         "Blackwell",
         "yes",
         120,
         1247,
         2992,
         556,
         1967,
         305,
         "General",
         0.1,
         58,
         "High"
        ],
        [
         "RA",
         "Risk Analysis",
         "Kluwer",
         "no",
         590,
         1260,
         4628,
         574,
         1981,
         98,
         "Insurance",
         0.47,
         44,
         "High"
        ],
        [
         "AE",
         "Applied Economics",
         "Routledge",
         "no",
         2120,
         1683,
         5445,
         578,
         1958,
         146,
         "General",
         1.26,
         67,
         "High"
        ],
        [
         "OEP",
         "Oxford Economic Papers",
         "Oxford Univ. Press",
         "no",
         205,
         767,
         2924,
         582,
         1949,
         271,
         "General",
         0.27,
         76,
         "High"
        ],
        [
         "EDCC",
         "Economic Development & Cultural Change",
         "Univ of Chicago Press",
         "no",
         128,
         889,
         2700,
         597,
         1952,
         515,
         "Development",
         0.14,
         73,
         "High"
        ],
        [
         "JoBF",
         "Journal of Banking and Finance",
         "Elsevier",
         "no",
         1539,
         1911,
         2516,
         602,
         1977,
         172,
         "Finance",
         0.81,
         48,
         "High"
        ],
        [
         "OBoES",
         "Oxford Bulletin of Economics & Statistics",
         "Blackwell",
         "no",
         346,
         545,
         2655,
         617,
         1939,
         127,
         "General",
         0.63,
         86,
         "High"
        ],
        [
         "JoEDC",
         "Journal of Economic Dynamics & Control",
         "Elsevier",
         "yes",
         1046,
         1636,
         2945,
         636,
         1979,
         58,
         "Theory",
         0.64,
         46,
         "High"
        ],
        [
         "SEJ",
         "Southern Economic Journal",
         "Southern Econ. Assn",
         "yes",
         97,
         1032,
         3680,
         646,
         1932,
         524,
         "General",
         0.09,
         93,
         "High"
        ],
        [
         "JoMS",
         "Journal of Management Studies",
         "Blackwell",
         "no",
         686,
         850,
         3456,
         654,
         1964,
         222,
         "Management Science",
         0.81,
         61,
         "High"
        ],
        [
         "JoBE",
         "Journal of Business Ethics",
         "Kluwer",
         "no",
         914,
         1270,
         3650,
         662,
         1981,
         385,
         "Business",
         0.72,
         44,
         "High"
        ],
        [
         "Dm",
         "Demography",
         "Pop Assn America",
         "no",
         85,
         568,
         6859,
         670,
         1964,
         413,
         "Demography",
         0.15,
         61,
         "High"
        ],
        [
         "EI",
         "Economic Inquiry",
         "Oxford Univ Press",
         "no",
         206,
         684,
         4134,
         684,
         1962,
         366,
         "General",
         0.3,
         63,
         "High"
        ],
        [
         "JoEBO",
         "Journal of Economic Behavior & Organization",
         "Elsevier",
         "no",
         1154,
         1380,
         3330,
         698,
         1980,
         75,
         "Theory",
         0.84,
         45,
         "High"
        ],
        [
         "JoLS",
         "Journal of Legal Studies",
         "Univ of Chicago Press",
         "no",
         45,
         530,
         2625,
         700,
         1972,
         238,
         "Law and Economics",
         0.08,
         53,
         "High"
        ],
        [
         "JoDE",
         "Journal of Development Economics",
         "Elsevier",
         "no",
         1146,
         1110,
         2816,
         707,
         1974,
         142,
         "Development",
         1.03,
         51,
         "High"
        ],
        [
         "LanEc",
         "Land Economics",
         "Univ of Wisconsin Press",
         "no",
         95,
         580,
         3672,
         730,
         1925,
         437,
         "Urban and Regional",
         0.16,
         100,
         "High"
        ],
        [
         "JoLE",
         "Journal of Labor Economics",
         "Univ of Chicago Press",
         "no",
         138,
         600,
         2728,
         733,
         1983,
         269,
         "Labor",
         0.23,
         42,
         "High"
        ],
        [
         "JoEH",
         "Journal of Economic History",
         "Cambridge Univ Pres",
         "no",
         115,
         1200,
         4029,
         737,
         1941,
         643,
         "Economic History",
         0.1,
         84,
         "High"
        ],
        [
         "JoUE",
         "Journal of Urban Economics",
         "Academic Press",
         "no",
         640,
         1058,
         2666,
         787,
         1974,
         230,
         "Urban and Regional",
         0.6,
         51,
         "High"
        ],
        [
         "Ecnmc",
         "Economica",
         "Blackwell",
         "no",
         122,
         565,
         3120,
         825,
         1933,
         313,
         "General",
         0.22,
         92,
         "High"
        ],
        [
         "JoMCB",
         "Journal of Money Credit & Banking",
         "Ohio State Univ. Press",
         "no",
         110,
         860,
         3168,
         834,
         1969,
         512,
         "Macroeconomics",
         0.13,
         56,
         "High"
        ],
        [
         "JoIntEc",
         "Journal of International Economics",
         "Elsevier",
         "no",
         923,
         1299,
         2898,
         838,
         1971,
         211,
         "International",
         0.71,
         54,
         "High"
        ],
        [
         "PC",
         "Public Choice",
         "Kluwer",
         "no",
         1000,
         1600,
         2583,
         871,
         1966,
         171,
         "Public Finance",
         0.63,
         59,
         "High"
        ],
        [
         "RP",
         "Research Policy",
         "Elsevier",
         "no",
         1234,
         781,
         4320,
         922,
         1972,
         34,
         "Business",
         1.58,
         53,
         "High"
        ],
        [
         "EL",
         "Economics Letters",
         "Elsevier",
         "no",
         1492,
         1540,
         3315,
         930,
         1978,
         81,
         "General",
         0.97,
         47,
         "High"
        ],
        [
         "JoHeEc",
         "Journal of Health Economics",
         "Elsevier",
         "no",
         810,
         828,
         2924,
         957,
         1982,
         144,
         "Health",
         0.98,
         43,
         "High"
        ],
        [
         "JBES",
         "Journal of Business & Economic Statistics",
         "Am Stat Assn",
         "yes",
         90,
         510,
         6360,
         988,
         1983,
         190,
         "Business",
         0.18,
         42,
         "High"
        ],
        [
         "RJoE",
         "Rand Journal of Economics",
         "RAND",
         "no",
         177,
         757,
         3450,
         1039,
         1970,
         339,
         "Industrial Organization",
         0.23,
         55,
         "High"
        ],
        [
         "JoB",
         "Journal of Business",
         "Univ of Chicago Press",
         "no",
         74,
         583,
         2655,
         1083,
         1928,
         771,
         "Business",
         0.13,
         97,
         "High"
        ],
        [
         "JoHR",
         "Journal of Human Resources",
         "Univ of Wisconsin Press",
         "no",
         113,
         837,
         3312,
         1113,
         1966,
         522,
         "Labor",
         0.14,
         59,
         "High"
        ],
        [
         "IER",
         "International Economic Review",
         "Blackwell",
         "no",
         145,
         969,
         3082,
         1113,
         1960,
         284,
         "General",
         0.15,
         65,
         "High"
        ],
        [
         "JoEEM",
         "Journal of Environmental Economics & Managment",
         "Academic Press",
         "no",
         590,
         636,
         3096,
         1152,
         1974,
         202,
         "Natural Resources",
         0.93,
         51,
         "High"
        ],
        [
         "EER",
         "European Economic Review",
         "Elsevier",
         "yes",
         1154,
         1823,
         2178,
         1243,
         1969,
         118,
         "General",
         0.63,
         56,
         "High"
        ],
        [
         "WD",
         "World Development",
         "Elsevier",
         "no",
         1450,
         1145,
         5480,
         1408,
         1973,
         160,
         "Development",
         1.27,
         52,
         "High"
        ],
        [
         "JoPubEc",
         "Journal of Public Economics",
         "Elsevier",
         "no",
         1431,
         1880,
         2924,
         1437,
         1972,
         141,
         "Public Finance",
         0.76,
         53,
         "High"
        ],
        [
         "JEL",
         "Journal of Economic Literature",
         "Am Ec Assn",
         "yes",
         47,
         2632,
         3848,
         1530,
         1963,
         972,
         "General",
         0.02,
         62,
         "High"
        ],
        [
         "JoLaE",
         "Journal of Law and Economics",
         "Univ of Chicago Press",
         "no",
         45,
         850,
         2604,
         1580,
         1968,
         542,
         "Law and Economics",
         0.05,
         57,
         "High"
        ],
        [
         "JEP",
         "Journal of Economic Perspectives",
         "Am Ec Assn",
         "yes",
         47,
         940,
         3036,
         1583,
         1987,
         866,
         "General",
         0.05,
         38,
         "High"
        ],
        [
         "AJoAE",
         "American Journal of Agricultural Economics",
         "Am. Ag. Econ Assn",
         "no",
         81,
         1253,
         4368,
         1812,
         1918,
         267,
         "Agricultural Economics",
         0.06,
         107,
         "High"
        ],
        [
         "JoMonEc",
         "Journal of Monetary Economics",
         "Elsevier",
         "no",
         1010,
         1346,
         3174,
         1860,
         1975,
         186,
         "Macroeconomics",
         0.75,
         50,
         "High"
        ],
        [
         "MngtSc",
         "Management Science",
         "Inst for OR and MS",
         "no",
         334,
         1175,
         4232,
         2022,
         1954,
         558,
         "Management Science",
         0.28,
         71,
         "High"
        ],
        [
         "RoE&S",
         "Review of Economics & Statistics",
         "MIT press",
         "no",
         190,
         733,
         5600,
         2331,
         1919,
         523,
         "General",
         0.26,
         106,
         "High"
        ],
        [
         "RoES",
         "Review of Economic Studies",
         "Blackwell",
         "no",
         180,
         761,
         3626,
         2411,
         1933,
         325,
         "General",
         0.24,
         92,
         "High"
        ],
        [
         "JoE",
         "Journal of Econometrics",
         "Elsevier",
         "no",
         1893,
         1527,
         2178,
         2479,
         1973,
         129,
         "Econometrics",
         1.24,
         52,
         "High"
        ],
        [
         "JoET",
         "Journal of Economic Theory",
         "Academic Press",
         "no",
         1400,
         2000,
         2684,
         2514,
         1969,
         165,
         "Theory",
         0.7,
         56,
         "High"
        ],
        [
         "EJ",
         "Economic Journal",
         "Blackwell",
         "no",
         301,
         1983,
         3036,
         2540,
         1890,
         531,
         "General",
         0.15,
         135,
         "High"
        ],
        [
         "JoFE",
         "Journal of Financial Economics",
         "Elsevier",
         "no",
         1339,
         1947,
         2838,
         2676,
         1974,
         231,
         "Finance",
         0.69,
         51,
         "High"
        ],
        [
         "JoCR",
         "Journal of Consumer Research",
         "Univ of Chicago Press",
         "no",
         90,
         439,
         5336,
         2762,
         1974,
         536,
         "Consumer Economics",
         0.21,
         51,
         "High"
        ],
        [
         "JASA",
         "Journal of the American Statistical Association",
         "Am. Statistical Assn",
         "yes",
         310,
         1260,
         5664,
         2800,
         1971,
         487,
         "Econometrics",
         0.25,
         54,
         "High"
        ],
        [
         "JoFi",
         "Journal of Finance",
         "Am. Finance Assn",
         "yes",
         226,
         2272,
         3036,
         3791,
         1945,
         799,
         "Finance",
         0.1,
         80,
         "High"
        ],
        [
         "QJoE",
         "Quarterly Journal of Economics",
         "MIT press",
         "no",
         148,
         1467,
         2184,
         4138,
         1886,
         660,
         "General",
         0.1,
         139,
         "High"
        ],
        [
         "JoPolEc",
         "Journal of Political Economy",
         "Univ of Chicago Press",
         "no",
         159,
         1669,
         2640,
         6697,
         1892,
         737,
         "General",
         0.1,
         133,
         "High"
        ],
        [
         "Ecnmt",
         "Econometrica",
         "Blackwell",
         "yes",
         178,
         1482,
         2992,
         7943,
         1932,
         346,
         "General",
         0.12,
         93,
         "High"
        ],
        [
         "AER",
         "American Economic Review",
         "Am Ec Assn",
         "yes",
         47,
         1867,
         3900,
         8999,
         1911,
         1098,
         "General",
         0.03,
         114,
         "High"
        ]
       ],
       "datasetInfos": [],
       "dbfsResultPath": null,
       "isJsonSchema": true,
       "metadata": {},
       "overflow": false,
       "plotOptions": {
        "customPlotOptions": {},
        "displayType": "table",
        "pivotAggregation": null,
        "pivotColumns": null,
        "xColumns": null,
        "yColumns": null
       },
       "removedWidgets": [],
       "schema": [
        {
         "metadata": "{}",
         "name": "rownames",
         "type": "\"string\""
        },
        {
         "metadata": "{}",
         "name": "title",
         "type": "\"string\""
        },
        {
         "metadata": "{}",
         "name": "publisher",
         "type": "\"string\""
        },
        {
         "metadata": "{}",
         "name": "society",
         "type": "\"string\""
        },
        {
         "metadata": "{}",
         "name": "price",
         "type": "\"integer\""
        },
        {
         "metadata": "{}",
         "name": "pages",
         "type": "\"integer\""
        },
        {
         "metadata": "{}",
         "name": "charpp",
         "type": "\"integer\""
        },
        {
         "metadata": "{}",
         "name": "citations",
         "type": "\"integer\""
        },
        {
         "metadata": "{}",
         "name": "foundingyear",
         "type": "\"integer\""
        },
        {
         "metadata": "{}",
         "name": "subs",
         "type": "\"integer\""
        },
        {
         "metadata": "{}",
         "name": "field",
         "type": "\"string\""
        },
        {
         "metadata": "{}",
         "name": "price_per_page",
         "type": "\"double\""
        },
        {
         "metadata": "{}",
         "name": "age",
         "type": "\"integer\""
        },
        {
         "metadata": "{}",
         "name": "citation_level",
         "type": "\"string\""
        }
       ],
       "type": "table"
      }
     },
     "output_type": "display_data"
    }
   ],
   "source": [
    "df = df.withColumn(\"citation_level\", \n",
    "                   F.when(F.col(\"citations\") < 50, \"Low\")\n",
    "                    .when((F.col(\"citations\") >= 50) & (F.col(\"citations\") < 100), \"Medium\")\n",
    "                    .otherwise(\"High\"))\n",
    "display(df)"
   ]
  },
  {
   "cell_type": "markdown",
   "metadata": {
    "application/vnd.databricks.v1+cell": {
     "cellMetadata": {},
     "inputWidgets": {},
     "nuid": "10a5d588-ce59-4c94-b2e5-46ec58d431af",
     "showTitle": false,
     "tableResultSettingsMap": {},
     "title": ""
    }
   },
   "source": [
    "# Visualization"
   ]
  },
  {
   "cell_type": "code",
   "execution_count": 0,
   "metadata": {
    "application/vnd.databricks.v1+cell": {
     "cellMetadata": {
      "byteLimit": 2048000,
      "rowLimit": 10000
     },
     "inputWidgets": {},
     "nuid": "6c83a65a-a4a2-4873-8187-5a2f557e802d",
     "showTitle": false,
     "tableResultSettingsMap": {},
     "title": ""
    }
   },
   "outputs": [
    {
     "data": {
      "text/html": [
       "<style scoped>\n",
       "  .table-result-container {\n",
       "    max-height: 300px;\n",
       "    overflow: auto;\n",
       "  }\n",
       "  table, th, td {\n",
       "    border: 1px solid black;\n",
       "    border-collapse: collapse;\n",
       "  }\n",
       "  th, td {\n",
       "    padding: 5px;\n",
       "  }\n",
       "  th {\n",
       "    text-align: left;\n",
       "  }\n",
       "</style><div class='table-result-container'><table class='table-result'><thead style='background-color: white'><tr><th>field</th><th>avg_citations</th></tr></thead><tbody><tr><td>Labor</td><td>448.8</td></tr><tr><td>International</td><td>466.3333333333333</td></tr><tr><td>Urban and Regional</td><td>425.0</td></tr><tr><td>Econometrics</td><td>1233.2</td></tr><tr><td>Management Science</td><td>598.0</td></tr><tr><td>Insurance</td><td>302.75</td></tr><tr><td>Economic History</td><td>349.6</td></tr><tr><td>Natural Resources</td><td>402.6</td></tr><tr><td>Theory</td><td>695.125</td></tr><tr><td>Demography</td><td>394.6666666666667</td></tr><tr><td>Finance</td><td>787.2727272727273</td></tr><tr><td>Health</td><td>750.5</td></tr><tr><td>General</td><td>1231.825</td></tr><tr><td>Public Finance</td><td>357.0833333333333</td></tr><tr><td>Specialized</td><td>145.92857142857142</td></tr><tr><td>Interdisciplinary</td><td>185.66666666666666</td></tr><tr><td>Macroeconomics</td><td>943.6666666666666</td></tr><tr><td>Development</td><td>340.72727272727275</td></tr><tr><td>Business</td><td>582.8571428571429</td></tr><tr><td>Law and Economics</td><td>802.0</td></tr><tr><td>Industrial Organization</td><td>357.0</td></tr><tr><td>Area Studies</td><td>116.57142857142857</td></tr><tr><td>Consumer Economics</td><td>1397.0</td></tr><tr><td>Agricultural Economics</td><td>565.75</td></tr></tbody></table></div>"
      ]
     },
     "metadata": {
      "application/vnd.databricks.v1+output": {
       "addedWidgets": {},
       "aggData": [],
       "aggError": "",
       "aggOverflow": false,
       "aggSchema": [],
       "aggSeriesLimitReached": false,
       "aggType": "",
       "arguments": {},
       "columnCustomDisplayInfos": {},
       "data": [
        [
         "Labor",
         448.8
        ],
        [
         "International",
         466.3333333333333
        ],
        [
         "Urban and Regional",
         425
        ],
        [
         "Econometrics",
         1233.2
        ],
        [
         "Management Science",
         598
        ],
        [
         "Insurance",
         302.75
        ],
        [
         "Economic History",
         349.6
        ],
        [
         "Natural Resources",
         402.6
        ],
        [
         "Theory",
         695.125
        ],
        [
         "Demography",
         394.6666666666667
        ],
        [
         "Finance",
         787.2727272727273
        ],
        [
         "Health",
         750.5
        ],
        [
         "General",
         1231.825
        ],
        [
         "Public Finance",
         357.0833333333333
        ],
        [
         "Specialized",
         145.92857142857142
        ],
        [
         "Interdisciplinary",
         185.66666666666666
        ],
        [
         "Macroeconomics",
         943.6666666666666
        ],
        [
         "Development",
         340.72727272727275
        ],
        [
         "Business",
         582.8571428571429
        ],
        [
         "Law and Economics",
         802
        ],
        [
         "Industrial Organization",
         357
        ],
        [
         "Area Studies",
         116.57142857142857
        ],
        [
         "Consumer Economics",
         1397
        ],
        [
         "Agricultural Economics",
         565.75
        ]
       ],
       "datasetInfos": [],
       "dbfsResultPath": null,
       "isJsonSchema": true,
       "metadata": {},
       "overflow": false,
       "plotOptions": {
        "customPlotOptions": {},
        "displayType": "table",
        "pivotAggregation": null,
        "pivotColumns": null,
        "xColumns": null,
        "yColumns": null
       },
       "removedWidgets": [],
       "schema": [
        {
         "metadata": "{}",
         "name": "field",
         "type": "\"string\""
        },
        {
         "metadata": "{}",
         "name": "avg_citations",
         "type": "\"double\""
        }
       ],
       "type": "table"
      }
     },
     "output_type": "display_data"
    },
    {
     "data": {
      "text/plain": [
       "Databricks visualization. Run in Databricks to view."
      ]
     },
     "metadata": {
      "application/vnd.databricks.v1.subcommand+json": {
       "baseErrorDetails": null,
       "bindings": {},
       "collapsed": false,
       "command": "%python\n__backend_agg_display_orig = display\n__backend_agg_dfs = []\ndef __backend_agg_display_new(df):\n    __backend_agg_df_modules = [\"pandas.core.frame\", \"databricks.koalas.frame\", \"pyspark.sql.dataframe\", \"pyspark.pandas.frame\", \"pyspark.sql.connect.dataframe\"]\n    if (type(df).__module__ in __backend_agg_df_modules and type(df).__name__ == 'DataFrame') or isinstance(df, list):\n        __backend_agg_dfs.append(df)\n\ndisplay = __backend_agg_display_new\n\ndef __backend_agg_user_code_fn():\n    import base64\n    exec(base64.standard_b64decode(\"YXZnX2NpdGF0aW9uc19ieV9maWVsZCA9IGRmLmdyb3VwQnkoImZpZWxkIikuYWdnKEYuYXZnKCJjaXRhdGlvbnMiKS5hbGlhcygiYXZnX2NpdGF0aW9ucyIpKQpkaXNwbGF5KGF2Z19jaXRhdGlvbnNfYnlfZmllbGQp\").decode())\n\ntry:\n    # run user code\n    __backend_agg_user_code_fn()\n\n    #reset display function\n    display = __backend_agg_display_orig\n\n    if len(__backend_agg_dfs) > 0:\n        # create a temp view\n        if type(__backend_agg_dfs[0]).__module__ == \"databricks.koalas.frame\":\n            # koalas dataframe\n            __backend_agg_dfs[0].to_spark().createOrReplaceTempView(\"DatabricksView10d5f0f\")\n        elif type(__backend_agg_dfs[0]).__module__ == \"pandas.core.frame\" or isinstance(__backend_agg_dfs[0], list):\n            # pandas dataframe\n            spark.createDataFrame(__backend_agg_dfs[0]).createOrReplaceTempView(\"DatabricksView10d5f0f\")\n        else:\n            __backend_agg_dfs[0].createOrReplaceTempView(\"DatabricksView10d5f0f\")\n        #run backend agg\n        display(spark.sql(\"\"\"WITH q AS (select * from DatabricksView10d5f0f) SELECT `field`,SUM(`avg_citations`) `column_2a05031e103` FROM q GROUP BY `field`\"\"\"))\n    else:\n        displayHTML(\"dataframe no longer exists. If you're using dataframe.display(), use display(dataframe) instead.\")\n\n\nfinally:\n    spark.sql(\"drop view if exists DatabricksView10d5f0f\")\n    display = __backend_agg_display_orig\n    del __backend_agg_display_new\n    del __backend_agg_display_orig\n    del __backend_agg_dfs\n    del __backend_agg_user_code_fn\n\n",
       "commandTitle": "Bar_chart",
       "commandType": "auto",
       "commandVersion": 0,
       "commentThread": [],
       "commentsVisible": false,
       "contentSha256Hex": null,
       "customPlotOptions": {
        "redashChart": [
         {
          "key": "type",
          "value": "CHART"
         },
         {
          "key": "options",
          "value": {
           "alignYAxesAtZero": true,
           "coefficient": 1,
           "columnConfigurationMap": {
            "x": {
             "column": "field",
             "id": "column_2a05031e102"
            },
            "y": [
             {
              "column": "avg_citations",
              "id": "column_2a05031e103",
              "transform": "SUM"
             }
            ]
           },
           "dateTimeFormat": "DD/MM/YYYY HH:mm",
           "direction": {
            "type": "counterclockwise"
           },
           "error_y": {
            "type": "data",
            "visible": true
           },
           "globalSeriesType": "column",
           "legend": {
            "traceorder": "normal"
           },
           "missingValuesAsZero": true,
           "numberFormat": "0,0.[00000]",
           "percentFormat": "0[.]00%",
           "series": {
            "error_y": {
             "type": "data",
             "visible": true
            },
            "stacking": null
           },
           "seriesOptions": {
            "column_2a05031e103": {
             "name": "avg_citations",
             "yAxis": 0
            }
           },
           "showDataLabels": false,
           "sizemode": "diameter",
           "sortX": true,
           "sortY": true,
           "swappedAxes": true,
           "textFormat": "",
           "useAggregationsUi": true,
           "valuesOptions": {},
           "version": 2,
           "xAxis": {
            "labels": {
             "enabled": true
            },
            "type": "-"
           },
           "yAxis": [
            {
             "type": "-"
            },
            {
             "opposite": true,
             "type": "-"
            }
           ]
          }
         }
        ]
       },
       "datasetPreviewNameToCmdIdMap": {},
       "diffDeletes": [],
       "diffInserts": [],
       "displayType": "redashChart",
       "error": null,
       "errorDetails": null,
       "errorSummary": null,
       "errorTraceType": null,
       "finishTime": 0,
       "globalVars": {},
       "guid": "",
       "height": "auto",
       "hideCommandCode": false,
       "hideCommandResult": false,
       "iPythonMetadata": null,
       "inputWidgets": {},
       "isLockedInExamMode": false,
       "latestUser": "a user",
       "latestUserId": null,
       "listResultMetadata": null,
       "metadata": {},
       "nuid": "a85e02c3-cc59-47e5-b00f-79c58d0fcc5a",
       "origId": 0,
       "parentHierarchy": [],
       "pivotAggregation": null,
       "pivotColumns": null,
       "position": 19,
       "resultDbfsErrorMessage": null,
       "resultDbfsStatus": "INLINED_IN_TREE",
       "results": null,
       "showCommandTitle": false,
       "startTime": 0,
       "state": "input",
       "streamStates": {},
       "subcommandOptions": {
        "queryPlan": {
         "groups": [
          {
           "column": "field",
           "type": "column"
          }
         ],
         "selects": [
          {
           "column": "field",
           "type": "column"
          },
          {
           "alias": "column_2a05031e103",
           "args": [
            {
             "column": "avg_citations",
             "type": "column"
            }
           ],
           "function": "SUM",
           "type": "function"
          }
         ]
        }
       },
       "submitTime": 0,
       "subtype": "tableResultSubCmd.visualization",
       "tableResultIndex": 0,
       "tableResultSettingsMap": {},
       "useConsistentColors": false,
       "version": "CommandV1",
       "width": "auto",
       "workflows": [],
       "xColumns": null,
       "yColumns": null
      }
     },
     "output_type": "display_data"
    }
   ],
   "source": [
    "## Average citations by field\n",
    "avg_citations_by_field = df.groupBy(\"field\").agg(F.avg(\"citations\").alias(\"avg_citations\"))\n",
    "display(avg_citations_by_field)"
   ]
  },
  {
   "cell_type": "code",
   "execution_count": 0,
   "metadata": {
    "application/vnd.databricks.v1+cell": {
     "cellMetadata": {
      "byteLimit": 2048000,
      "rowLimit": 10000
     },
     "inputWidgets": {},
     "nuid": "a7126c37-1d63-49ac-838a-12f946a8e2d7",
     "showTitle": false,
     "tableResultSettingsMap": {},
     "title": ""
    }
   },
   "outputs": [
    {
     "data": {
      "text/html": [
       "<style scoped>\n",
       "  .table-result-container {\n",
       "    max-height: 300px;\n",
       "    overflow: auto;\n",
       "  }\n",
       "  table, th, td {\n",
       "    border: 1px solid black;\n",
       "    border-collapse: collapse;\n",
       "  }\n",
       "  th, td {\n",
       "    padding: 5px;\n",
       "  }\n",
       "  th {\n",
       "    text-align: left;\n",
       "  }\n",
       "</style><div class='table-result-container'><table class='table-result'><thead style='background-color: white'><tr><th>price_per_page</th><th>count</th></tr></thead><tbody><tr><td>0.84</td><td>2</td></tr><tr><td>0.16</td><td>3</td></tr><tr><td>0.93</td><td>2</td></tr><tr><td>0.18</td><td>2</td></tr><tr><td>1.08</td><td>1</td></tr><tr><td>0.05</td><td>2</td></tr><tr><td>0.39</td><td>2</td></tr><tr><td>0.79</td><td>2</td></tr><tr><td>0.72</td><td>1</td></tr><tr><td>0.7</td><td>3</td></tr><tr><td>0.24</td><td>1</td></tr><tr><td>0.54</td><td>1</td></tr><tr><td>0.21</td><td>1</td></tr><tr><td>0.1</td><td>7</td></tr><tr><td>0.45</td><td>1</td></tr><tr><td>0.12</td><td>2</td></tr><tr><td>1.07</td><td>1</td></tr><tr><td>0.6</td><td>2</td></tr><tr><td>3.1</td><td>1</td></tr><tr><td>0.64</td><td>4</td></tr><tr><td>0.09</td><td>1</td></tr><tr><td>0.63</td><td>4</td></tr><tr><td>0.19</td><td>5</td></tr><tr><td>0.42</td><td>1</td></tr><tr><td>0.04</td><td>2</td></tr><tr><td>0.35</td><td>2</td></tr><tr><td>1.45</td><td>2</td></tr><tr><td>0.49</td><td>1</td></tr><tr><td>0.68</td><td>2</td></tr><tr><td>0.14</td><td>4</td></tr><tr><td>1.15</td><td>1</td></tr><tr><td>1.18</td><td>1</td></tr><tr><td>0.57</td><td>3</td></tr><tr><td>0.34</td><td>4</td></tr><tr><td>1.58</td><td>1</td></tr><tr><td>0.75</td><td>3</td></tr><tr><td>0.62</td><td>2</td></tr><tr><td>0.38</td><td>1</td></tr><tr><td>0.98</td><td>2</td></tr><tr><td>0.96</td><td>1</td></tr><tr><td>0.23</td><td>3</td></tr><tr><td>0.86</td><td>1</td></tr><tr><td>0.97</td><td>1</td></tr><tr><td>0.32</td><td>1</td></tr><tr><td>0.76</td><td>2</td></tr><tr><td>0.52</td><td>1</td></tr><tr><td>0.51</td><td>1</td></tr><tr><td>0.78</td><td>3</td></tr><tr><td>0.67</td><td>1</td></tr><tr><td>0.4</td><td>1</td></tr><tr><td>0.85</td><td>1</td></tr><tr><td>0.08</td><td>2</td></tr><tr><td>1.24</td><td>1</td></tr><tr><td>0.56</td><td>2</td></tr><tr><td>0.15</td><td>5</td></tr><tr><td>0.26</td><td>1</td></tr><tr><td>0.65</td><td>3</td></tr><tr><td>0.71</td><td>4</td></tr><tr><td>0.37</td><td>1</td></tr><tr><td>0.03</td><td>1</td></tr><tr><td>0.36</td><td>2</td></tr><tr><td>0.81</td><td>3</td></tr><tr><td>0.47</td><td>1</td></tr><tr><td>1.14</td><td>1</td></tr><tr><td>1.26</td><td>2</td></tr><tr><td>0.53</td><td>2</td></tr><tr><td>0.94</td><td>1</td></tr><tr><td>1.12</td><td>1</td></tr><tr><td>1.47</td><td>1</td></tr><tr><td>0.17</td><td>1</td></tr><tr><td>1.03</td><td>2</td></tr><tr><td>0.25</td><td>2</td></tr><tr><td>1.27</td><td>1</td></tr><tr><td>0.44</td><td>1</td></tr><tr><td>0.43</td><td>4</td></tr><tr><td>0.59</td><td>2</td></tr><tr><td>0.13</td><td>4</td></tr><tr><td>0.11</td><td>1</td></tr><tr><td>0.33</td><td>2</td></tr><tr><td>0.58</td><td>1</td></tr><tr><td>0.74</td><td>1</td></tr><tr><td>0.02</td><td>1</td></tr><tr><td>0.3</td><td>3</td></tr><tr><td>0.27</td><td>2</td></tr><tr><td>0.77</td><td>2</td></tr><tr><td>0.41</td><td>2</td></tr><tr><td>0.91</td><td>1</td></tr><tr><td>0.69</td><td>1</td></tr><tr><td>0.22</td><td>4</td></tr><tr><td>0.83</td><td>1</td></tr><tr><td>0.95</td><td>1</td></tr><tr><td>0.31</td><td>1</td></tr><tr><td>0.06</td><td>2</td></tr><tr><td>0.48</td><td>1</td></tr><tr><td>0.28</td><td>2</td></tr></tbody></table></div>"
      ]
     },
     "metadata": {
      "application/vnd.databricks.v1+output": {
       "addedWidgets": {},
       "aggData": [],
       "aggError": "",
       "aggOverflow": false,
       "aggSchema": [],
       "aggSeriesLimitReached": false,
       "aggType": "",
       "arguments": {},
       "columnCustomDisplayInfos": {},
       "data": [
        [
         0.84,
         2
        ],
        [
         0.16,
         3
        ],
        [
         0.93,
         2
        ],
        [
         0.18,
         2
        ],
        [
         1.08,
         1
        ],
        [
         0.05,
         2
        ],
        [
         0.39,
         2
        ],
        [
         0.79,
         2
        ],
        [
         0.72,
         1
        ],
        [
         0.7,
         3
        ],
        [
         0.24,
         1
        ],
        [
         0.54,
         1
        ],
        [
         0.21,
         1
        ],
        [
         0.1,
         7
        ],
        [
         0.45,
         1
        ],
        [
         0.12,
         2
        ],
        [
         1.07,
         1
        ],
        [
         0.6,
         2
        ],
        [
         3.1,
         1
        ],
        [
         0.64,
         4
        ],
        [
         0.09,
         1
        ],
        [
         0.63,
         4
        ],
        [
         0.19,
         5
        ],
        [
         0.42,
         1
        ],
        [
         0.04,
         2
        ],
        [
         0.35,
         2
        ],
        [
         1.45,
         2
        ],
        [
         0.49,
         1
        ],
        [
         0.68,
         2
        ],
        [
         0.14,
         4
        ],
        [
         1.15,
         1
        ],
        [
         1.18,
         1
        ],
        [
         0.57,
         3
        ],
        [
         0.34,
         4
        ],
        [
         1.58,
         1
        ],
        [
         0.75,
         3
        ],
        [
         0.62,
         2
        ],
        [
         0.38,
         1
        ],
        [
         0.98,
         2
        ],
        [
         0.96,
         1
        ],
        [
         0.23,
         3
        ],
        [
         0.86,
         1
        ],
        [
         0.97,
         1
        ],
        [
         0.32,
         1
        ],
        [
         0.76,
         2
        ],
        [
         0.52,
         1
        ],
        [
         0.51,
         1
        ],
        [
         0.78,
         3
        ],
        [
         0.67,
         1
        ],
        [
         0.4,
         1
        ],
        [
         0.85,
         1
        ],
        [
         0.08,
         2
        ],
        [
         1.24,
         1
        ],
        [
         0.56,
         2
        ],
        [
         0.15,
         5
        ],
        [
         0.26,
         1
        ],
        [
         0.65,
         3
        ],
        [
         0.71,
         4
        ],
        [
         0.37,
         1
        ],
        [
         0.03,
         1
        ],
        [
         0.36,
         2
        ],
        [
         0.81,
         3
        ],
        [
         0.47,
         1
        ],
        [
         1.14,
         1
        ],
        [
         1.26,
         2
        ],
        [
         0.53,
         2
        ],
        [
         0.94,
         1
        ],
        [
         1.12,
         1
        ],
        [
         1.47,
         1
        ],
        [
         0.17,
         1
        ],
        [
         1.03,
         2
        ],
        [
         0.25,
         2
        ],
        [
         1.27,
         1
        ],
        [
         0.44,
         1
        ],
        [
         0.43,
         4
        ],
        [
         0.59,
         2
        ],
        [
         0.13,
         4
        ],
        [
         0.11,
         1
        ],
        [
         0.33,
         2
        ],
        [
         0.58,
         1
        ],
        [
         0.74,
         1
        ],
        [
         0.02,
         1
        ],
        [
         0.3,
         3
        ],
        [
         0.27,
         2
        ],
        [
         0.77,
         2
        ],
        [
         0.41,
         2
        ],
        [
         0.91,
         1
        ],
        [
         0.69,
         1
        ],
        [
         0.22,
         4
        ],
        [
         0.83,
         1
        ],
        [
         0.95,
         1
        ],
        [
         0.31,
         1
        ],
        [
         0.06,
         2
        ],
        [
         0.48,
         1
        ],
        [
         0.28,
         2
        ]
       ],
       "datasetInfos": [],
       "dbfsResultPath": null,
       "isJsonSchema": true,
       "metadata": {},
       "overflow": false,
       "plotOptions": {
        "customPlotOptions": {},
        "displayType": "table",
        "pivotAggregation": null,
        "pivotColumns": null,
        "xColumns": null,
        "yColumns": null
       },
       "removedWidgets": [],
       "schema": [
        {
         "metadata": "{}",
         "name": "price_per_page",
         "type": "\"double\""
        },
        {
         "metadata": "{}",
         "name": "count",
         "type": "\"long\""
        }
       ],
       "type": "table"
      }
     },
     "output_type": "display_data"
    },
    {
     "data": {
      "text/plain": [
       "Databricks visualization. Run in Databricks to view."
      ]
     },
     "metadata": {
      "application/vnd.databricks.v1.subcommand+json": {
       "baseErrorDetails": null,
       "bindings": {},
       "collapsed": false,
       "command": "%python\n__backend_agg_display_orig = display\n__backend_agg_dfs = []\ndef __backend_agg_display_new(df):\n    __backend_agg_df_modules = [\"pandas.core.frame\", \"databricks.koalas.frame\", \"pyspark.sql.dataframe\", \"pyspark.pandas.frame\", \"pyspark.sql.connect.dataframe\"]\n    if (type(df).__module__ in __backend_agg_df_modules and type(df).__name__ == 'DataFrame') or isinstance(df, list):\n        __backend_agg_dfs.append(df)\n\ndisplay = __backend_agg_display_new\n\ndef __backend_agg_user_code_fn():\n    import base64\n    exec(base64.standard_b64decode(\"IyBQcmljZSByYW5nZSBkaXN0cmlidXRpb24KcHJpY2VfcmFuZ2VfZGlzdCA9IGRmLmdyb3VwQnkoInByaWNlX3Blcl9wYWdlIikuY291bnQoKQpkaXNwbGF5KHByaWNlX3JhbmdlX2Rpc3Qp\").decode())\n\ntry:\n    # run user code\n    __backend_agg_user_code_fn()\n\n    #reset display function\n    display = __backend_agg_display_orig\n\n    if len(__backend_agg_dfs) > 0:\n        # create a temp view\n        if type(__backend_agg_dfs[0]).__module__ == \"databricks.koalas.frame\":\n            # koalas dataframe\n            __backend_agg_dfs[0].to_spark().createOrReplaceTempView(\"DatabricksView750e201\")\n        elif type(__backend_agg_dfs[0]).__module__ == \"pandas.core.frame\" or isinstance(__backend_agg_dfs[0], list):\n            # pandas dataframe\n            spark.createDataFrame(__backend_agg_dfs[0]).createOrReplaceTempView(\"DatabricksView750e201\")\n        else:\n            __backend_agg_dfs[0].createOrReplaceTempView(\"DatabricksView750e201\")\n        #run backend agg\n        display(spark.sql(\"\"\"WITH q AS (select * from DatabricksView750e201) ,min_max AS (SELECT `price_per_page`,(SELECT MAX(`price_per_page`) FROM q) `target_column_max`,(SELECT MIN(`price_per_page`) FROM q) `target_column_min` FROM q) ,histogram_meta AS (SELECT `price_per_page`,`target_column_min` `min_value`,IF(`target_column_max` = `target_column_min`,`target_column_max` + 1,`target_column_max`) `max_value`,(`target_column_max` - `target_column_min`) / 10 `step` FROM min_max) SELECT IF(ISNULL(`price_per_page`),NULL,LEAST(WIDTH_BUCKET(`price_per_page`,`min_value`,`max_value`,10),10)) `price_per_page_BIN`,FIRST(`min_value` + ((IF(ISNULL(`price_per_page`),NULL,LEAST(WIDTH_BUCKET(`price_per_page`,`min_value`,`max_value`,10),10)) - 1) * `step`)) `price_per_page_BIN_LOWER_BOUND`,FIRST(`step`) `price_per_page_BIN_STEP`,COUNT(`price_per_page`) `COUNT` FROM histogram_meta GROUP BY `price_per_page_BIN`\"\"\"))\n    else:\n        displayHTML(\"dataframe no longer exists. If you're using dataframe.display(), use display(dataframe) instead.\")\n\n\nfinally:\n    spark.sql(\"drop view if exists DatabricksView750e201\")\n    display = __backend_agg_display_orig\n    del __backend_agg_display_new\n    del __backend_agg_display_orig\n    del __backend_agg_dfs\n    del __backend_agg_user_code_fn\n\n",
       "commandTitle": "Histogram",
       "commandType": "auto",
       "commandVersion": 0,
       "commentThread": [],
       "commentsVisible": false,
       "contentSha256Hex": null,
       "customPlotOptions": {
        "redashChart": [
         {
          "key": "type",
          "value": "CHART"
         },
         {
          "key": "options",
          "value": {
           "alignYAxesAtZero": true,
           "coefficient": 1,
           "columnConfigurationMap": {
            "x": {
             "column": "price_per_page",
             "id": "column_2a05031e108"
            }
           },
           "dateTimeFormat": "DD/MM/YYYY HH:mm",
           "direction": {
            "type": "counterclockwise"
           },
           "error_y": {
            "type": "data",
            "visible": true
           },
           "globalSeriesType": "histogram",
           "isAggregationOn": true,
           "legend": {
            "traceorder": "normal"
           },
           "missingValuesAsZero": true,
           "numBins": 10,
           "numberFormat": "0,0.[00000]",
           "percentFormat": "0[.]00%",
           "series": {
            "error_y": {
             "type": "data",
             "visible": true
            },
            "stacking": null
           },
           "seriesOptions": {
            "column_2a05031e109": {
             "name": "count",
             "type": "histogram",
             "yAxis": 0
            }
           },
           "showDataLabels": false,
           "sizemode": "diameter",
           "sortX": true,
           "sortY": true,
           "swappedAxes": false,
           "textFormat": "",
           "useAggregationsUi": true,
           "valuesOptions": {},
           "version": 2,
           "xAxis": {
            "labels": {
             "enabled": true
            },
            "type": "-"
           },
           "yAxis": [
            {
             "type": "-"
            },
            {
             "opposite": true,
             "type": "-"
            }
           ]
          }
         }
        ]
       },
       "datasetPreviewNameToCmdIdMap": {},
       "diffDeletes": [],
       "diffInserts": [],
       "displayType": "redashChart",
       "error": null,
       "errorDetails": null,
       "errorSummary": null,
       "errorTraceType": null,
       "finishTime": 0,
       "globalVars": {},
       "guid": "",
       "height": "auto",
       "hideCommandCode": false,
       "hideCommandResult": false,
       "iPythonMetadata": null,
       "inputWidgets": {},
       "isLockedInExamMode": false,
       "latestUser": "a user",
       "latestUserId": null,
       "listResultMetadata": null,
       "metadata": {},
       "nuid": "ba1579dd-2955-4e17-8464-ea358893b3d2",
       "origId": 0,
       "parentHierarchy": [],
       "pivotAggregation": null,
       "pivotColumns": null,
       "position": 20,
       "resultDbfsErrorMessage": null,
       "resultDbfsStatus": "INLINED_IN_TREE",
       "results": null,
       "showCommandTitle": false,
       "startTime": 0,
       "state": "input",
       "streamStates": {},
       "subcommandOptions": {
        "queryPlan": {
         "groups": [
          {
           "column": "price_per_page_BIN",
           "type": "column"
          }
         ],
         "selects": [
          {
           "alias": "price_per_page_BIN",
           "args": [
            {
             "column": "price_per_page",
             "type": "column"
            },
            {
             "number": 10,
             "type": "number"
            }
           ],
           "function": "BIN",
           "type": "function"
          },
          {
           "alias": "price_per_page_BIN_LOWER_BOUND",
           "args": [
            {
             "column": "price_per_page",
             "type": "column"
            },
            {
             "number": 10,
             "type": "number"
            }
           ],
           "function": "BIN_LOWER_BOUND",
           "type": "function"
          },
          {
           "alias": "price_per_page_BIN_STEP",
           "args": [
            {
             "column": "price_per_page",
             "type": "column"
            },
            {
             "number": 10,
             "type": "number"
            }
           ],
           "function": "BIN_STEP",
           "type": "function"
          },
          {
           "alias": "COUNT",
           "args": [
            {
             "column": "price_per_page",
             "type": "column"
            }
           ],
           "function": "COUNT",
           "type": "function"
          }
         ]
        }
       },
       "submitTime": 0,
       "subtype": "tableResultSubCmd.visualization",
       "tableResultIndex": 0,
       "tableResultSettingsMap": {},
       "useConsistentColors": false,
       "version": "CommandV1",
       "width": "auto",
       "workflows": [],
       "xColumns": null,
       "yColumns": null
      }
     },
     "output_type": "display_data"
    }
   ],
   "source": [
    "# Price range distribution\n",
    "price_range_dist = df.groupBy(\"price_per_page\").count()\n",
    "display(price_range_dist)"
   ]
  },
  {
   "cell_type": "code",
   "execution_count": 0,
   "metadata": {
    "application/vnd.databricks.v1+cell": {
     "cellMetadata": {
      "byteLimit": 2048000,
      "rowLimit": 10000
     },
     "inputWidgets": {},
     "nuid": "32d0a979-3a9b-40f2-b9a8-1c4d60d9e054",
     "showTitle": false,
     "tableResultSettingsMap": {},
     "title": ""
    }
   },
   "outputs": [
    {
     "data": {
      "text/html": [
       "<style scoped>\n",
       "  .table-result-container {\n",
       "    max-height: 300px;\n",
       "    overflow: auto;\n",
       "  }\n",
       "  table, th, td {\n",
       "    border: 1px solid black;\n",
       "    border-collapse: collapse;\n",
       "  }\n",
       "  th, td {\n",
       "    padding: 5px;\n",
       "  }\n",
       "  th {\n",
       "    text-align: left;\n",
       "  }\n",
       "</style><div class='table-result-container'><table class='table-result'><thead style='background-color: white'><tr><th>publisher</th><th>count</th></tr></thead><tbody><tr><td>Cambridge Univ Pres</td><td>4</td></tr><tr><td>Am Ec Assn</td><td>3</td></tr><tr><td>Southern Econ. Assn</td><td>1</td></tr><tr><td>MIT press</td><td>2</td></tr><tr><td>Academic Press</td><td>9</td></tr><tr><td>So Afr ec history assn</td><td>1</td></tr><tr><td>Intnl Atlantic Ec. Soc.</td><td>1</td></tr><tr><td>Elsevier</td><td>42</td></tr><tr><td>Helbing & Lichtenhahn</td><td>1</td></tr><tr><td>M.E Sharpe</td><td>1</td></tr><tr><td>Int Assn for Res in I & W</td><td>1</td></tr><tr><td>Sage</td><td>2</td></tr><tr><td>National Tax Assn.</td><td>1</td></tr><tr><td>RAND</td><td>1</td></tr><tr><td>Frank Cass</td><td>1</td></tr><tr><td>Brookings Inst.</td><td>1</td></tr><tr><td>Dekker</td><td>1</td></tr><tr><td>Am. Finance Assn</td><td>1</td></tr><tr><td>MIT Press</td><td>1</td></tr><tr><td>LSU Press</td><td>1</td></tr><tr><td>Univ Wash Press</td><td>1</td></tr><tr><td>Kluwer</td><td>16</td></tr><tr><td>Oxford Univ Press</td><td>5</td></tr><tr><td>Univ of Wisconsin Press</td><td>2</td></tr><tr><td>Oxford Univ. Press</td><td>2</td></tr><tr><td>Mohr Siebeck</td><td>2</td></tr><tr><td>Assn Ev. Economics</td><td>1</td></tr><tr><td>Ohio State Univ. Press</td><td>1</td></tr><tr><td>Duke Univ Press</td><td>1</td></tr><tr><td>Univ of Chicago Press</td><td>7</td></tr><tr><td>Pop Assn America</td><td>1</td></tr><tr><td>Wiley</td><td>5</td></tr><tr><td>Ec. Society of Australia</td><td>1</td></tr><tr><td>George Mason Univ</td><td>1</td></tr><tr><td>LSE and Univ of Bath</td><td>1</td></tr><tr><td>Georgia State Univ</td><td>1</td></tr><tr><td>Am. Risk & Ins. Assn</td><td>1</td></tr><tr><td>ANU Press</td><td>1</td></tr><tr><td>Am. Ag. Econ Assn</td><td>1</td></tr><tr><td>Am. Statistical Assn</td><td>1</td></tr><tr><td>Springer</td><td>10</td></tr><tr><td>MIT</td><td>2</td></tr><tr><td>Heldref</td><td>1</td></tr><tr><td>Agric. Econ. Society</td><td>1</td></tr><tr><td>Inst of Devel Econ</td><td>1</td></tr><tr><td>Am Stat Assn</td><td>1</td></tr><tr><td>Population Council</td><td>1</td></tr><tr><td>Routledge</td><td>4</td></tr><tr><td>Carfax</td><td>3</td></tr><tr><td>Inst for OR and MS</td><td>1</td></tr><tr><td>Blackwell</td><td>26</td></tr><tr><td>University of Toronto Press</td><td>1</td></tr></tbody></table></div>"
      ]
     },
     "metadata": {
      "application/vnd.databricks.v1+output": {
       "addedWidgets": {},
       "aggData": [],
       "aggError": "",
       "aggOverflow": false,
       "aggSchema": [],
       "aggSeriesLimitReached": false,
       "aggType": "",
       "arguments": {},
       "columnCustomDisplayInfos": {},
       "data": [
        [
         "Cambridge Univ Pres",
         4
        ],
        [
         "Am Ec Assn",
         3
        ],
        [
         "Southern Econ. Assn",
         1
        ],
        [
         "MIT press",
         2
        ],
        [
         "Academic Press",
         9
        ],
        [
         "So Afr ec history assn",
         1
        ],
        [
         "Intnl Atlantic Ec. Soc.",
         1
        ],
        [
         "Elsevier",
         42
        ],
        [
         "Helbing & Lichtenhahn",
         1
        ],
        [
         "M.E Sharpe",
         1
        ],
        [
         "Int Assn for Res in I & W",
         1
        ],
        [
         "Sage",
         2
        ],
        [
         "National Tax Assn.",
         1
        ],
        [
         "RAND",
         1
        ],
        [
         "Frank Cass",
         1
        ],
        [
         "Brookings Inst.",
         1
        ],
        [
         "Dekker",
         1
        ],
        [
         "Am. Finance Assn",
         1
        ],
        [
         "MIT Press",
         1
        ],
        [
         "LSU Press",
         1
        ],
        [
         "Univ Wash Press",
         1
        ],
        [
         "Kluwer",
         16
        ],
        [
         "Oxford Univ Press",
         5
        ],
        [
         "Univ of Wisconsin Press",
         2
        ],
        [
         "Oxford Univ. Press",
         2
        ],
        [
         "Mohr Siebeck",
         2
        ],
        [
         "Assn Ev. Economics",
         1
        ],
        [
         "Ohio State Univ. Press",
         1
        ],
        [
         "Duke Univ Press",
         1
        ],
        [
         "Univ of Chicago Press",
         7
        ],
        [
         "Pop Assn America",
         1
        ],
        [
         "Wiley",
         5
        ],
        [
         "Ec. Society of Australia",
         1
        ],
        [
         "George Mason Univ",
         1
        ],
        [
         "LSE and Univ of Bath",
         1
        ],
        [
         "Georgia State Univ",
         1
        ],
        [
         "Am. Risk & Ins. Assn",
         1
        ],
        [
         "ANU Press",
         1
        ],
        [
         "Am. Ag. Econ Assn",
         1
        ],
        [
         "Am. Statistical Assn",
         1
        ],
        [
         "Springer",
         10
        ],
        [
         "MIT",
         2
        ],
        [
         "Heldref",
         1
        ],
        [
         "Agric. Econ. Society",
         1
        ],
        [
         "Inst of Devel Econ",
         1
        ],
        [
         "Am Stat Assn",
         1
        ],
        [
         "Population Council",
         1
        ],
        [
         "Routledge",
         4
        ],
        [
         "Carfax",
         3
        ],
        [
         "Inst for OR and MS",
         1
        ],
        [
         "Blackwell",
         26
        ],
        [
         "University of Toronto Press",
         1
        ]
       ],
       "datasetInfos": [],
       "dbfsResultPath": null,
       "isJsonSchema": true,
       "metadata": {},
       "overflow": false,
       "plotOptions": {
        "customPlotOptions": {},
        "displayType": "table",
        "pivotAggregation": null,
        "pivotColumns": null,
        "xColumns": null,
        "yColumns": null
       },
       "removedWidgets": [],
       "schema": [
        {
         "metadata": "{}",
         "name": "publisher",
         "type": "\"string\""
        },
        {
         "metadata": "{}",
         "name": "count",
         "type": "\"long\""
        }
       ],
       "type": "table"
      }
     },
     "output_type": "display_data"
    },
    {
     "data": {
      "text/plain": [
       "Databricks visualization. Run in Databricks to view."
      ]
     },
     "metadata": {
      "application/vnd.databricks.v1.subcommand+json": {
       "baseErrorDetails": null,
       "bindings": {},
       "collapsed": false,
       "command": "%python\n__backend_agg_display_orig = display\n__backend_agg_dfs = []\ndef __backend_agg_display_new(df):\n    __backend_agg_df_modules = [\"pandas.core.frame\", \"databricks.koalas.frame\", \"pyspark.sql.dataframe\", \"pyspark.pandas.frame\", \"pyspark.sql.connect.dataframe\"]\n    if (type(df).__module__ in __backend_agg_df_modules and type(df).__name__ == 'DataFrame') or isinstance(df, list):\n        __backend_agg_dfs.append(df)\n\ndisplay = __backend_agg_display_new\n\ndef __backend_agg_user_code_fn():\n    import base64\n    exec(base64.standard_b64decode(\"IyBKb3VybmFscyBwZXIgcHVibGlzaGVyCnB1Ymxpc2hlcl9kaXN0ID0gZGYuZ3JvdXBCeSgicHVibGlzaGVyIikuY291bnQoKQpkaXNwbGF5KHB1Ymxpc2hlcl9kaXN0KQ==\").decode())\n\ntry:\n    # run user code\n    __backend_agg_user_code_fn()\n\n    #reset display function\n    display = __backend_agg_display_orig\n\n    if len(__backend_agg_dfs) > 0:\n        # create a temp view\n        if type(__backend_agg_dfs[0]).__module__ == \"databricks.koalas.frame\":\n            # koalas dataframe\n            __backend_agg_dfs[0].to_spark().createOrReplaceTempView(\"DatabricksViewfbb3def\")\n        elif type(__backend_agg_dfs[0]).__module__ == \"pandas.core.frame\" or isinstance(__backend_agg_dfs[0], list):\n            # pandas dataframe\n            spark.createDataFrame(__backend_agg_dfs[0]).createOrReplaceTempView(\"DatabricksViewfbb3def\")\n        else:\n            __backend_agg_dfs[0].createOrReplaceTempView(\"DatabricksViewfbb3def\")\n        #run backend agg\n        display(spark.sql(\"\"\"WITH q AS (select * from DatabricksViewfbb3def) SELECT `publisher`,`count` FROM q GROUP BY `count`,`publisher`\"\"\"))\n    else:\n        displayHTML(\"dataframe no longer exists. If you're using dataframe.display(), use display(dataframe) instead.\")\n\n\nfinally:\n    spark.sql(\"drop view if exists DatabricksViewfbb3def\")\n    display = __backend_agg_display_orig\n    del __backend_agg_display_new\n    del __backend_agg_display_orig\n    del __backend_agg_dfs\n    del __backend_agg_user_code_fn\n\n",
       "commandTitle": "Visualization 1",
       "commandType": "auto",
       "commandVersion": 0,
       "commentThread": [],
       "commentsVisible": false,
       "contentSha256Hex": null,
       "customPlotOptions": {
        "redashChart": [
         {
          "key": "type",
          "value": "CHART"
         },
         {
          "key": "options",
          "value": {
           "alignYAxesAtZero": true,
           "coefficient": 1,
           "columnConfigurationMap": {
            "x": {
             "column": "publisher",
             "id": "column_2a05031e120"
            },
            "y": [
             {
              "column": "count",
              "id": "column_2a05031e121"
             }
            ]
           },
           "dateTimeFormat": "DD/MM/YYYY HH:mm",
           "direction": {
            "type": "counterclockwise"
           },
           "error_y": {
            "type": "data",
            "visible": true
           },
           "globalSeriesType": "heatmap",
           "isAggregationOn": true,
           "legend": {
            "traceorder": "normal"
           },
           "missingValuesAsZero": true,
           "numBins": 10,
           "numberFormat": "0,0.[00000]",
           "percentFormat": "0[.]00%",
           "series": {
            "error_y": {
             "type": "data",
             "visible": true
            },
            "stacking": null
           },
           "seriesOptions": {
            "column_2a05031e121": {
             "type": "heatmap",
             "yAxis": 0
            }
           },
           "showDataLabels": false,
           "sizemode": "diameter",
           "sortX": true,
           "sortY": true,
           "swappedAxes": false,
           "textFormat": "",
           "useAggregationsUi": true,
           "valuesOptions": {},
           "version": 2,
           "xAxis": {
            "labels": {
             "enabled": true
            },
            "type": "-"
           },
           "yAxis": [
            {
             "type": "-"
            },
            {
             "opposite": true,
             "type": "-"
            }
           ]
          }
         }
        ]
       },
       "datasetPreviewNameToCmdIdMap": {},
       "diffDeletes": [],
       "diffInserts": [],
       "displayType": "redashChart",
       "error": null,
       "errorDetails": null,
       "errorSummary": null,
       "errorTraceType": null,
       "finishTime": 0,
       "globalVars": {},
       "guid": "",
       "height": "auto",
       "hideCommandCode": false,
       "hideCommandResult": false,
       "iPythonMetadata": null,
       "inputWidgets": {},
       "isLockedInExamMode": false,
       "latestUser": "a user",
       "latestUserId": null,
       "listResultMetadata": null,
       "metadata": {},
       "nuid": "6771f95b-c746-481e-9347-1ead7c862314",
       "origId": 0,
       "parentHierarchy": [],
       "pivotAggregation": null,
       "pivotColumns": null,
       "position": 21,
       "resultDbfsErrorMessage": null,
       "resultDbfsStatus": "INLINED_IN_TREE",
       "results": null,
       "showCommandTitle": false,
       "startTime": 0,
       "state": "input",
       "streamStates": {},
       "subcommandOptions": {
        "queryPlan": {
         "groups": [
          {
           "column": "publisher",
           "type": "column"
          },
          {
           "column": "count",
           "type": "column"
          }
         ],
         "selects": [
          {
           "column": "publisher",
           "type": "column"
          },
          {
           "column": "count",
           "type": "column"
          }
         ]
        }
       },
       "submitTime": 0,
       "subtype": "tableResultSubCmd.visualization",
       "tableResultIndex": 0,
       "tableResultSettingsMap": {},
       "useConsistentColors": false,
       "version": "CommandV1",
       "width": "auto",
       "workflows": [],
       "xColumns": null,
       "yColumns": null
      }
     },
     "output_type": "display_data"
    }
   ],
   "source": [
    "# Journals per publisher\n",
    "publisher_dist = df.groupBy(\"publisher\").count()\n",
    "display(publisher_dist)"
   ]
  },
  {
   "cell_type": "code",
   "execution_count": 0,
   "metadata": {
    "application/vnd.databricks.v1+cell": {
     "cellMetadata": {
      "byteLimit": 2048000,
      "rowLimit": 10000
     },
     "inputWidgets": {},
     "nuid": "0ad03a5f-8614-4439-9ed9-d0ee56d87929",
     "showTitle": false,
     "tableResultSettingsMap": {},
     "title": ""
    }
   },
   "outputs": [
    {
     "data": {
      "text/html": [
       "<style scoped>\n",
       "  .table-result-container {\n",
       "    max-height: 300px;\n",
       "    overflow: auto;\n",
       "  }\n",
       "  table, th, td {\n",
       "    border: 1px solid black;\n",
       "    border-collapse: collapse;\n",
       "  }\n",
       "  th, td {\n",
       "    padding: 5px;\n",
       "  }\n",
       "  th {\n",
       "    text-align: left;\n",
       "  }\n",
       "</style><div class='table-result-container'><table class='table-result'><thead style='background-color: white'><tr><th>society</th><th>count</th></tr></thead><tbody><tr><td>no</td><td>164</td></tr><tr><td>yes</td><td>16</td></tr></tbody></table></div>"
      ]
     },
     "metadata": {
      "application/vnd.databricks.v1+output": {
       "addedWidgets": {},
       "aggData": [],
       "aggError": "",
       "aggOverflow": false,
       "aggSchema": [],
       "aggSeriesLimitReached": false,
       "aggType": "",
       "arguments": {},
       "columnCustomDisplayInfos": {},
       "data": [
        [
         "no",
         164
        ],
        [
         "yes",
         16
        ]
       ],
       "datasetInfos": [],
       "dbfsResultPath": null,
       "isJsonSchema": true,
       "metadata": {},
       "overflow": false,
       "plotOptions": {
        "customPlotOptions": {},
        "displayType": "table",
        "pivotAggregation": null,
        "pivotColumns": null,
        "xColumns": null,
        "yColumns": null
       },
       "removedWidgets": [],
       "schema": [
        {
         "metadata": "{}",
         "name": "society",
         "type": "\"string\""
        },
        {
         "metadata": "{}",
         "name": "count",
         "type": "\"long\""
        }
       ],
       "type": "table"
      }
     },
     "output_type": "display_data"
    },
    {
     "data": {
      "text/plain": [
       "Databricks visualization. Run in Databricks to view."
      ]
     },
     "metadata": {
      "application/vnd.databricks.v1.subcommand+json": {
       "baseErrorDetails": null,
       "bindings": {},
       "collapsed": false,
       "command": "%python\n__backend_agg_display_orig = display\n__backend_agg_dfs = []\ndef __backend_agg_display_new(df):\n    __backend_agg_df_modules = [\"pandas.core.frame\", \"databricks.koalas.frame\", \"pyspark.sql.dataframe\", \"pyspark.pandas.frame\", \"pyspark.sql.connect.dataframe\"]\n    if (type(df).__module__ in __backend_agg_df_modules and type(df).__name__ == 'DataFrame') or isinstance(df, list):\n        __backend_agg_dfs.append(df)\n\ndisplay = __backend_agg_display_new\n\ndef __backend_agg_user_code_fn():\n    import base64\n    exec(base64.standard_b64decode(\"c29jaWV0eV9kaXN0ID0gZGYuZ3JvdXBCeSgic29jaWV0eSIpLmNvdW50KCkKZGlzcGxheShzb2NpZXR5X2Rpc3Qp\").decode())\n\ntry:\n    # run user code\n    __backend_agg_user_code_fn()\n\n    #reset display function\n    display = __backend_agg_display_orig\n\n    if len(__backend_agg_dfs) > 0:\n        # create a temp view\n        if type(__backend_agg_dfs[0]).__module__ == \"databricks.koalas.frame\":\n            # koalas dataframe\n            __backend_agg_dfs[0].to_spark().createOrReplaceTempView(\"DatabricksView543ab58\")\n        elif type(__backend_agg_dfs[0]).__module__ == \"pandas.core.frame\" or isinstance(__backend_agg_dfs[0], list):\n            # pandas dataframe\n            spark.createDataFrame(__backend_agg_dfs[0]).createOrReplaceTempView(\"DatabricksView543ab58\")\n        else:\n            __backend_agg_dfs[0].createOrReplaceTempView(\"DatabricksView543ab58\")\n        #run backend agg\n        display(spark.sql(\"\"\"WITH q AS (select * from DatabricksView543ab58) SELECT `society`,SUM(`count`) `column_2a05031e126` FROM q GROUP BY `society`\"\"\"))\n    else:\n        displayHTML(\"dataframe no longer exists. If you're using dataframe.display(), use display(dataframe) instead.\")\n\n\nfinally:\n    spark.sql(\"drop view if exists DatabricksView543ab58\")\n    display = __backend_agg_display_orig\n    del __backend_agg_display_new\n    del __backend_agg_display_orig\n    del __backend_agg_dfs\n    del __backend_agg_user_code_fn\n\n",
       "commandTitle": "Pie_chart",
       "commandType": "auto",
       "commandVersion": 0,
       "commentThread": [],
       "commentsVisible": false,
       "contentSha256Hex": null,
       "customPlotOptions": {
        "redashChart": [
         {
          "key": "type",
          "value": "CHART"
         },
         {
          "key": "options",
          "value": {
           "alignYAxesAtZero": true,
           "coefficient": 1,
           "columnConfigurationMap": {
            "x": {
             "column": "society",
             "id": "column_2a05031e125"
            },
            "y": [
             {
              "column": "count",
              "id": "column_2a05031e126",
              "transform": "SUM"
             }
            ]
           },
           "dateTimeFormat": "DD/MM/YYYY HH:mm",
           "direction": {
            "type": "counterclockwise"
           },
           "error_y": {
            "type": "data",
            "visible": true
           },
           "globalSeriesType": "pie",
           "legend": {
            "traceorder": "normal"
           },
           "missingValuesAsZero": true,
           "numberFormat": "0,0.[00000]",
           "percentFormat": "0[.]00%",
           "series": {
            "error_y": {
             "type": "data",
             "visible": true
            },
            "stacking": null
           },
           "seriesOptions": {
            "column_2a05031e126": {
             "name": "count",
             "type": "pie",
             "yAxis": 0
            }
           },
           "showDataLabels": true,
           "sizemode": "diameter",
           "sortX": true,
           "sortY": true,
           "swappedAxes": false,
           "textFormat": "",
           "useAggregationsUi": true,
           "valuesOptions": {},
           "version": 2,
           "xAxis": {
            "labels": {
             "enabled": true
            },
            "type": "-"
           },
           "yAxis": [
            {
             "type": "-"
            },
            {
             "opposite": true,
             "type": "-"
            }
           ]
          }
         }
        ]
       },
       "datasetPreviewNameToCmdIdMap": {},
       "diffDeletes": [],
       "diffInserts": [],
       "displayType": "redashChart",
       "error": null,
       "errorDetails": null,
       "errorSummary": null,
       "errorTraceType": null,
       "finishTime": 0,
       "globalVars": {},
       "guid": "",
       "height": "auto",
       "hideCommandCode": false,
       "hideCommandResult": false,
       "iPythonMetadata": null,
       "inputWidgets": {},
       "isLockedInExamMode": false,
       "latestUser": "a user",
       "latestUserId": null,
       "listResultMetadata": null,
       "metadata": {},
       "nuid": "13cb6f00-c1ed-444b-9b97-d6ede68b177e",
       "origId": 0,
       "parentHierarchy": [],
       "pivotAggregation": null,
       "pivotColumns": null,
       "position": 22,
       "resultDbfsErrorMessage": null,
       "resultDbfsStatus": "INLINED_IN_TREE",
       "results": null,
       "showCommandTitle": false,
       "startTime": 0,
       "state": "input",
       "streamStates": {},
       "subcommandOptions": {
        "queryPlan": {
         "groups": [
          {
           "column": "society",
           "type": "column"
          }
         ],
         "selects": [
          {
           "column": "society",
           "type": "column"
          },
          {
           "alias": "column_2a05031e126",
           "args": [
            {
             "column": "count",
             "type": "column"
            }
           ],
           "function": "SUM",
           "type": "function"
          }
         ]
        }
       },
       "submitTime": 0,
       "subtype": "tableResultSubCmd.visualization",
       "tableResultIndex": 0,
       "tableResultSettingsMap": {},
       "useConsistentColors": false,
       "version": "CommandV1",
       "width": "auto",
       "workflows": [],
       "xColumns": null,
       "yColumns": null
      }
     },
     "output_type": "display_data"
    }
   ],
   "source": [
    "#Distribution of journals by society\n",
    "society_dist = df.groupBy(\"society\").count()\n",
    "display(society_dist)"
   ]
  },
  {
   "cell_type": "code",
   "execution_count": 0,
   "metadata": {
    "application/vnd.databricks.v1+cell": {
     "cellMetadata": {
      "byteLimit": 2048000,
      "rowLimit": 10000
     },
     "inputWidgets": {},
     "nuid": "6642af08-f41d-4dc5-8994-b18e3454f765",
     "showTitle": false,
     "tableResultSettingsMap": {},
     "title": ""
    }
   },
   "outputs": [
    {
     "data": {
      "text/html": [
       "<style scoped>\n",
       "  .table-result-container {\n",
       "    max-height: 300px;\n",
       "    overflow: auto;\n",
       "  }\n",
       "  table, th, td {\n",
       "    border: 1px solid black;\n",
       "    border-collapse: collapse;\n",
       "  }\n",
       "  th, td {\n",
       "    padding: 5px;\n",
       "  }\n",
       "  th {\n",
       "    text-align: left;\n",
       "  }\n",
       "</style><div class='table-result-container'><table class='table-result'><thead style='background-color: white'><tr><th>foundingyear</th><th>count</th></tr></thead><tbody><tr><td>1844</td><td>1</td></tr><tr><td>1852</td><td>1</td></tr><tr><td>1865</td><td>1</td></tr><tr><td>1886</td><td>1</td></tr><tr><td>1890</td><td>1</td></tr><tr><td>1892</td><td>1</td></tr><tr><td>1898</td><td>1</td></tr><tr><td>1911</td><td>1</td></tr><tr><td>1918</td><td>1</td></tr><tr><td>1919</td><td>1</td></tr><tr><td>1922</td><td>1</td></tr><tr><td>1925</td><td>2</td></tr><tr><td>1928</td><td>1</td></tr><tr><td>1930</td><td>1</td></tr><tr><td>1932</td><td>2</td></tr><tr><td>1933</td><td>2</td></tr><tr><td>1939</td><td>1</td></tr><tr><td>1941</td><td>2</td></tr><tr><td>1943</td><td>1</td></tr><tr><td>1945</td><td>2</td></tr><tr><td>1947</td><td>2</td></tr><tr><td>1948</td><td>4</td></tr><tr><td>1949</td><td>2</td></tr><tr><td>1952</td><td>1</td></tr><tr><td>1953</td><td>2</td></tr><tr><td>1954</td><td>1</td></tr><tr><td>1958</td><td>1</td></tr><tr><td>1960</td><td>2</td></tr><tr><td>1961</td><td>3</td></tr><tr><td>1962</td><td>2</td></tr><tr><td>1963</td><td>4</td></tr><tr><td>1964</td><td>6</td></tr><tr><td>1966</td><td>3</td></tr><tr><td>1967</td><td>6</td></tr><tr><td>1968</td><td>2</td></tr><tr><td>1969</td><td>5</td></tr><tr><td>1970</td><td>6</td></tr><tr><td>1971</td><td>5</td></tr><tr><td>1972</td><td>5</td></tr><tr><td>1973</td><td>5</td></tr><tr><td>1974</td><td>7</td></tr><tr><td>1975</td><td>3</td></tr><tr><td>1976</td><td>2</td></tr><tr><td>1977</td><td>3</td></tr><tr><td>1978</td><td>5</td></tr><tr><td>1979</td><td>4</td></tr><tr><td>1980</td><td>4</td></tr><tr><td>1981</td><td>7</td></tr><tr><td>1982</td><td>8</td></tr><tr><td>1983</td><td>4</td></tr><tr><td>1984</td><td>3</td></tr><tr><td>1985</td><td>4</td></tr><tr><td>1986</td><td>5</td></tr><tr><td>1987</td><td>6</td></tr><tr><td>1988</td><td>3</td></tr><tr><td>1989</td><td>2</td></tr><tr><td>1990</td><td>3</td></tr><tr><td>1991</td><td>4</td></tr><tr><td>1992</td><td>5</td></tr><tr><td>1994</td><td>3</td></tr><tr><td>1995</td><td>1</td></tr><tr><td>1996</td><td>2</td></tr></tbody></table></div>"
      ]
     },
     "metadata": {
      "application/vnd.databricks.v1+output": {
       "addedWidgets": {},
       "aggData": [],
       "aggError": "",
       "aggOverflow": false,
       "aggSchema": [],
       "aggSeriesLimitReached": false,
       "aggType": "",
       "arguments": {},
       "columnCustomDisplayInfos": {},
       "data": [
        [
         1844,
         1
        ],
        [
         1852,
         1
        ],
        [
         1865,
         1
        ],
        [
         1886,
         1
        ],
        [
         1890,
         1
        ],
        [
         1892,
         1
        ],
        [
         1898,
         1
        ],
        [
         1911,
         1
        ],
        [
         1918,
         1
        ],
        [
         1919,
         1
        ],
        [
         1922,
         1
        ],
        [
         1925,
         2
        ],
        [
         1928,
         1
        ],
        [
         1930,
         1
        ],
        [
         1932,
         2
        ],
        [
         1933,
         2
        ],
        [
         1939,
         1
        ],
        [
         1941,
         2
        ],
        [
         1943,
         1
        ],
        [
         1945,
         2
        ],
        [
         1947,
         2
        ],
        [
         1948,
         4
        ],
        [
         1949,
         2
        ],
        [
         1952,
         1
        ],
        [
         1953,
         2
        ],
        [
         1954,
         1
        ],
        [
         1958,
         1
        ],
        [
         1960,
         2
        ],
        [
         1961,
         3
        ],
        [
         1962,
         2
        ],
        [
         1963,
         4
        ],
        [
         1964,
         6
        ],
        [
         1966,
         3
        ],
        [
         1967,
         6
        ],
        [
         1968,
         2
        ],
        [
         1969,
         5
        ],
        [
         1970,
         6
        ],
        [
         1971,
         5
        ],
        [
         1972,
         5
        ],
        [
         1973,
         5
        ],
        [
         1974,
         7
        ],
        [
         1975,
         3
        ],
        [
         1976,
         2
        ],
        [
         1977,
         3
        ],
        [
         1978,
         5
        ],
        [
         1979,
         4
        ],
        [
         1980,
         4
        ],
        [
         1981,
         7
        ],
        [
         1982,
         8
        ],
        [
         1983,
         4
        ],
        [
         1984,
         3
        ],
        [
         1985,
         4
        ],
        [
         1986,
         5
        ],
        [
         1987,
         6
        ],
        [
         1988,
         3
        ],
        [
         1989,
         2
        ],
        [
         1990,
         3
        ],
        [
         1991,
         4
        ],
        [
         1992,
         5
        ],
        [
         1994,
         3
        ],
        [
         1995,
         1
        ],
        [
         1996,
         2
        ]
       ],
       "datasetInfos": [],
       "dbfsResultPath": null,
       "isJsonSchema": true,
       "metadata": {},
       "overflow": false,
       "plotOptions": {
        "customPlotOptions": {},
        "displayType": "table",
        "pivotAggregation": null,
        "pivotColumns": null,
        "xColumns": null,
        "yColumns": null
       },
       "removedWidgets": [],
       "schema": [
        {
         "metadata": "{}",
         "name": "foundingyear",
         "type": "\"integer\""
        },
        {
         "metadata": "{}",
         "name": "count",
         "type": "\"long\""
        }
       ],
       "type": "table"
      }
     },
     "output_type": "display_data"
    },
    {
     "data": {
      "text/plain": [
       "Databricks visualization. Run in Databricks to view."
      ]
     },
     "metadata": {
      "application/vnd.databricks.v1.subcommand+json": {
       "baseErrorDetails": null,
       "bindings": {},
       "collapsed": false,
       "command": "%python\n__backend_agg_display_orig = display\n__backend_agg_dfs = []\ndef __backend_agg_display_new(df):\n    __backend_agg_df_modules = [\"pandas.core.frame\", \"databricks.koalas.frame\", \"pyspark.sql.dataframe\", \"pyspark.pandas.frame\", \"pyspark.sql.connect.dataframe\"]\n    if (type(df).__module__ in __backend_agg_df_modules and type(df).__name__ == 'DataFrame') or isinstance(df, list):\n        __backend_agg_dfs.append(df)\n\ndisplay = __backend_agg_display_new\n\ndef __backend_agg_user_code_fn():\n    import base64\n    exec(base64.standard_b64decode(\"am91cm5hbHNfYnlfeWVhciA9IGRmLmdyb3VwQnkoImZvdW5kaW5neWVhciIpLmNvdW50KCkub3JkZXJCeSgiZm91bmRpbmd5ZWFyIikKZGlzcGxheShqb3VybmFsc19ieV95ZWFyKQ==\").decode())\n\ntry:\n    # run user code\n    __backend_agg_user_code_fn()\n\n    #reset display function\n    display = __backend_agg_display_orig\n\n    if len(__backend_agg_dfs) > 0:\n        # create a temp view\n        if type(__backend_agg_dfs[0]).__module__ == \"databricks.koalas.frame\":\n            # koalas dataframe\n            __backend_agg_dfs[0].to_spark().createOrReplaceTempView(\"DatabricksView539a6d0\")\n        elif type(__backend_agg_dfs[0]).__module__ == \"pandas.core.frame\" or isinstance(__backend_agg_dfs[0], list):\n            # pandas dataframe\n            spark.createDataFrame(__backend_agg_dfs[0]).createOrReplaceTempView(\"DatabricksView539a6d0\")\n        else:\n            __backend_agg_dfs[0].createOrReplaceTempView(\"DatabricksView539a6d0\")\n        #run backend agg\n        display(spark.sql(\"\"\"WITH q AS (select * from DatabricksView539a6d0) SELECT `foundingyear`,SUM(`count`) `column_2a05031e132` FROM q GROUP BY `foundingyear`\"\"\"))\n    else:\n        displayHTML(\"dataframe no longer exists. If you're using dataframe.display(), use display(dataframe) instead.\")\n\n\nfinally:\n    spark.sql(\"drop view if exists DatabricksView539a6d0\")\n    display = __backend_agg_display_orig\n    del __backend_agg_display_new\n    del __backend_agg_display_orig\n    del __backend_agg_dfs\n    del __backend_agg_user_code_fn\n\n",
       "commandTitle": "Visualization 1",
       "commandType": "auto",
       "commandVersion": 0,
       "commentThread": [],
       "commentsVisible": false,
       "contentSha256Hex": null,
       "customPlotOptions": {
        "redashChart": [
         {
          "key": "type",
          "value": "CHART"
         },
         {
          "key": "options",
          "value": {
           "alignYAxesAtZero": true,
           "coefficient": 1,
           "columnConfigurationMap": {
            "x": {
             "column": "foundingyear",
             "id": "column_2a05031e131"
            },
            "y": [
             {
              "column": "count",
              "id": "column_2a05031e132",
              "transform": "SUM"
             }
            ]
           },
           "dateTimeFormat": "DD/MM/YYYY HH:mm",
           "direction": {
            "type": "counterclockwise"
           },
           "error_y": {
            "type": "data",
            "visible": true
           },
           "globalSeriesType": "line",
           "isAggregationOn": true,
           "legend": {
            "traceorder": "normal"
           },
           "missingValuesAsZero": true,
           "numberFormat": "0,0.[00000]",
           "percentFormat": "0[.]00%",
           "series": {
            "error_y": {
             "type": "data",
             "visible": true
            },
            "stacking": null
           },
           "seriesOptions": {
            "column_2a05031e132": {
             "name": "count",
             "type": "line",
             "yAxis": 0
            }
           },
           "showDataLabels": false,
           "sizemode": "diameter",
           "sortX": true,
           "sortY": true,
           "swappedAxes": false,
           "textFormat": "",
           "useAggregationsUi": true,
           "valuesOptions": {},
           "version": 2,
           "xAxis": {
            "labels": {
             "enabled": true
            },
            "type": "-"
           },
           "yAxis": [
            {
             "type": "-"
            },
            {
             "opposite": true,
             "type": "-"
            }
           ]
          }
         }
        ]
       },
       "datasetPreviewNameToCmdIdMap": {},
       "diffDeletes": [],
       "diffInserts": [],
       "displayType": "redashChart",
       "error": null,
       "errorDetails": null,
       "errorSummary": null,
       "errorTraceType": null,
       "finishTime": 0,
       "globalVars": {},
       "guid": "",
       "height": "auto",
       "hideCommandCode": false,
       "hideCommandResult": false,
       "iPythonMetadata": null,
       "inputWidgets": {},
       "isLockedInExamMode": false,
       "latestUser": "a user",
       "latestUserId": null,
       "listResultMetadata": null,
       "metadata": {},
       "nuid": "3566f137-d6fd-41b7-9c80-6dfc23d45f3a",
       "origId": 0,
       "parentHierarchy": [],
       "pivotAggregation": null,
       "pivotColumns": null,
       "position": 23,
       "resultDbfsErrorMessage": null,
       "resultDbfsStatus": "INLINED_IN_TREE",
       "results": null,
       "showCommandTitle": false,
       "startTime": 0,
       "state": "input",
       "streamStates": {},
       "subcommandOptions": {
        "queryPlan": {
         "groups": [
          {
           "column": "foundingyear",
           "type": "column"
          }
         ],
         "selects": [
          {
           "column": "foundingyear",
           "type": "column"
          },
          {
           "alias": "column_2a05031e132",
           "args": [
            {
             "column": "count",
             "type": "column"
            }
           ],
           "function": "SUM",
           "type": "function"
          }
         ]
        }
       },
       "submitTime": 0,
       "subtype": "tableResultSubCmd.visualization",
       "tableResultIndex": 0,
       "tableResultSettingsMap": {},
       "useConsistentColors": false,
       "version": "CommandV1",
       "width": "auto",
       "workflows": [],
       "xColumns": null,
       "yColumns": null
      }
     },
     "output_type": "display_data"
    }
   ],
   "source": [
    "#Distribution of journals by society\n",
    "journals_by_year = df.groupBy(\"foundingyear\").count().orderBy(\"foundingyear\")\n",
    "display(journals_by_year)"
   ]
  },
  {
   "cell_type": "code",
   "execution_count": 0,
   "metadata": {
    "application/vnd.databricks.v1+cell": {
     "cellMetadata": {
      "byteLimit": 2048000,
      "rowLimit": 10000
     },
     "inputWidgets": {},
     "nuid": "c991c891-8bcc-4b12-bd29-d31f6e4b097b",
     "showTitle": false,
     "tableResultSettingsMap": {},
     "title": ""
    }
   },
   "outputs": [
    {
     "data": {
      "text/html": [
       "<style scoped>\n",
       "  .table-result-container {\n",
       "    max-height: 300px;\n",
       "    overflow: auto;\n",
       "  }\n",
       "  table, th, td {\n",
       "    border: 1px solid black;\n",
       "    border-collapse: collapse;\n",
       "  }\n",
       "  th, td {\n",
       "    padding: 5px;\n",
       "  }\n",
       "  th {\n",
       "    text-align: left;\n",
       "  }\n",
       "</style><div class='table-result-container'><table class='table-result'><thead style='background-color: white'><tr><th>field</th><th>avg_citations</th></tr></thead><tbody><tr><td>Labor</td><td>448.8</td></tr><tr><td>International</td><td>466.3333333333333</td></tr><tr><td>Urban and Regional</td><td>425.0</td></tr><tr><td>Econometrics</td><td>1233.2</td></tr><tr><td>Management Science</td><td>598.0</td></tr><tr><td>Insurance</td><td>302.75</td></tr><tr><td>Economic History</td><td>349.6</td></tr><tr><td>Natural Resources</td><td>402.6</td></tr><tr><td>Theory</td><td>695.125</td></tr><tr><td>Demography</td><td>394.6666666666667</td></tr><tr><td>Finance</td><td>787.2727272727273</td></tr><tr><td>Health</td><td>750.5</td></tr><tr><td>General</td><td>1231.825</td></tr><tr><td>Public Finance</td><td>357.0833333333333</td></tr><tr><td>Specialized</td><td>145.92857142857142</td></tr><tr><td>Interdisciplinary</td><td>185.66666666666666</td></tr><tr><td>Macroeconomics</td><td>943.6666666666666</td></tr><tr><td>Development</td><td>340.72727272727275</td></tr><tr><td>Business</td><td>582.8571428571429</td></tr><tr><td>Law and Economics</td><td>802.0</td></tr><tr><td>Industrial Organization</td><td>357.0</td></tr><tr><td>Area Studies</td><td>116.57142857142857</td></tr><tr><td>Consumer Economics</td><td>1397.0</td></tr><tr><td>Agricultural Economics</td><td>565.75</td></tr></tbody></table></div>"
      ]
     },
     "metadata": {
      "application/vnd.databricks.v1+output": {
       "addedWidgets": {},
       "aggData": [],
       "aggError": "",
       "aggOverflow": false,
       "aggSchema": [],
       "aggSeriesLimitReached": false,
       "aggType": "",
       "arguments": {},
       "columnCustomDisplayInfos": {},
       "data": [
        [
         "Labor",
         448.8
        ],
        [
         "International",
         466.3333333333333
        ],
        [
         "Urban and Regional",
         425
        ],
        [
         "Econometrics",
         1233.2
        ],
        [
         "Management Science",
         598
        ],
        [
         "Insurance",
         302.75
        ],
        [
         "Economic History",
         349.6
        ],
        [
         "Natural Resources",
         402.6
        ],
        [
         "Theory",
         695.125
        ],
        [
         "Demography",
         394.6666666666667
        ],
        [
         "Finance",
         787.2727272727273
        ],
        [
         "Health",
         750.5
        ],
        [
         "General",
         1231.825
        ],
        [
         "Public Finance",
         357.0833333333333
        ],
        [
         "Specialized",
         145.92857142857142
        ],
        [
         "Interdisciplinary",
         185.66666666666666
        ],
        [
         "Macroeconomics",
         943.6666666666666
        ],
        [
         "Development",
         340.72727272727275
        ],
        [
         "Business",
         582.8571428571429
        ],
        [
         "Law and Economics",
         802
        ],
        [
         "Industrial Organization",
         357
        ],
        [
         "Area Studies",
         116.57142857142857
        ],
        [
         "Consumer Economics",
         1397
        ],
        [
         "Agricultural Economics",
         565.75
        ]
       ],
       "datasetInfos": [],
       "dbfsResultPath": null,
       "isJsonSchema": true,
       "metadata": {},
       "overflow": false,
       "plotOptions": {
        "customPlotOptions": {},
        "displayType": "table",
        "pivotAggregation": null,
        "pivotColumns": null,
        "xColumns": null,
        "yColumns": null
       },
       "removedWidgets": [],
       "schema": [
        {
         "metadata": "{}",
         "name": "field",
         "type": "\"string\""
        },
        {
         "metadata": "{}",
         "name": "avg_citations",
         "type": "\"double\""
        }
       ],
       "type": "table"
      }
     },
     "output_type": "display_data"
    },
    {
     "data": {
      "text/plain": [
       "Databricks visualization. Run in Databricks to view."
      ]
     },
     "metadata": {
      "application/vnd.databricks.v1.subcommand+json": {
       "baseErrorDetails": null,
       "bindings": {},
       "collapsed": false,
       "command": "%python\n__backend_agg_display_orig = display\n__backend_agg_dfs = []\ndef __backend_agg_display_new(df):\n    __backend_agg_df_modules = [\"pandas.core.frame\", \"databricks.koalas.frame\", \"pyspark.sql.dataframe\", \"pyspark.pandas.frame\", \"pyspark.sql.connect.dataframe\"]\n    if (type(df).__module__ in __backend_agg_df_modules and type(df).__name__ == 'DataFrame') or isinstance(df, list):\n        __backend_agg_dfs.append(df)\n\ndisplay = __backend_agg_display_new\n\ndef __backend_agg_user_code_fn():\n    import base64\n    exec(base64.standard_b64decode(\"YXZnX2NpdGF0aW9uc19ieV9maWVsZCA9IGRmLmdyb3VwQnkoImZpZWxkIikuYWdnKEYuYXZnKCJjaXRhdGlvbnMiKS5hbGlhcygiYXZnX2NpdGF0aW9ucyIpKQpkaXNwbGF5KGF2Z19jaXRhdGlvbnNfYnlfZmllbGQp\").decode())\n\ntry:\n    # run user code\n    __backend_agg_user_code_fn()\n\n    #reset display function\n    display = __backend_agg_display_orig\n\n    if len(__backend_agg_dfs) > 0:\n        # create a temp view\n        if type(__backend_agg_dfs[0]).__module__ == \"databricks.koalas.frame\":\n            # koalas dataframe\n            __backend_agg_dfs[0].to_spark().createOrReplaceTempView(\"DatabricksView5b34b27\")\n        elif type(__backend_agg_dfs[0]).__module__ == \"pandas.core.frame\" or isinstance(__backend_agg_dfs[0], list):\n            # pandas dataframe\n            spark.createDataFrame(__backend_agg_dfs[0]).createOrReplaceTempView(\"DatabricksView5b34b27\")\n        else:\n            __backend_agg_dfs[0].createOrReplaceTempView(\"DatabricksView5b34b27\")\n        #run backend agg\n        display(spark.sql(\"\"\"WITH q AS (select * from DatabricksView5b34b27) SELECT `field`,SUM(`avg_citations`) `column_2a05031e138` FROM q GROUP BY `field`\"\"\"))\n    else:\n        displayHTML(\"dataframe no longer exists. If you're using dataframe.display(), use display(dataframe) instead.\")\n\n\nfinally:\n    spark.sql(\"drop view if exists DatabricksView5b34b27\")\n    display = __backend_agg_display_orig\n    del __backend_agg_display_new\n    del __backend_agg_display_orig\n    del __backend_agg_dfs\n    del __backend_agg_user_code_fn\n\n",
       "commandTitle": "Visualization 1",
       "commandType": "auto",
       "commandVersion": 0,
       "commentThread": [],
       "commentsVisible": false,
       "contentSha256Hex": null,
       "customPlotOptions": {
        "redashChart": [
         {
          "key": "type",
          "value": "CHART"
         },
         {
          "key": "options",
          "value": {
           "alignYAxesAtZero": true,
           "coefficient": 1,
           "columnConfigurationMap": {
            "x": {
             "column": "field",
             "id": "column_2a05031e137"
            },
            "y": [
             {
              "column": "avg_citations",
              "id": "column_2a05031e138",
              "transform": "SUM"
             }
            ]
           },
           "dateTimeFormat": "DD/MM/YYYY HH:mm",
           "direction": {
            "type": "counterclockwise"
           },
           "error_y": {
            "type": "data",
            "visible": true
           },
           "globalSeriesType": "pie",
           "isAggregationOn": true,
           "legend": {
            "traceorder": "normal"
           },
           "missingValuesAsZero": true,
           "numberFormat": "0,0.[00000]",
           "percentFormat": "0[.]00%",
           "series": {
            "error_y": {
             "type": "data",
             "visible": true
            },
            "stacking": null
           },
           "seriesOptions": {
            "avg_citations": {
             "name": "avg_citations",
             "type": "pie",
             "yAxis": 0
            },
            "column_2a05031e138": {
             "name": "avg_citations",
             "type": "pie",
             "yAxis": 0
            }
           },
           "showDataLabels": true,
           "sizemode": "diameter",
           "sortX": true,
           "sortY": true,
           "swappedAxes": false,
           "textFormat": "",
           "useAggregationsUi": true,
           "valuesOptions": {},
           "version": 2,
           "xAxis": {
            "labels": {
             "enabled": true
            },
            "type": "-"
           },
           "yAxis": [
            {
             "type": "-"
            },
            {
             "opposite": true,
             "type": "-"
            }
           ]
          }
         }
        ]
       },
       "datasetPreviewNameToCmdIdMap": {},
       "diffDeletes": [],
       "diffInserts": [],
       "displayType": "redashChart",
       "error": null,
       "errorDetails": null,
       "errorSummary": null,
       "errorTraceType": null,
       "finishTime": 0,
       "globalVars": {},
       "guid": "",
       "height": "auto",
       "hideCommandCode": false,
       "hideCommandResult": false,
       "iPythonMetadata": null,
       "inputWidgets": {},
       "isLockedInExamMode": false,
       "latestUser": "a user",
       "latestUserId": null,
       "listResultMetadata": null,
       "metadata": {},
       "nuid": "d912e8c3-09fe-45c9-b1fc-29c231ab0751",
       "origId": 0,
       "parentHierarchy": [],
       "pivotAggregation": null,
       "pivotColumns": null,
       "position": 24,
       "resultDbfsErrorMessage": null,
       "resultDbfsStatus": "INLINED_IN_TREE",
       "results": null,
       "showCommandTitle": false,
       "startTime": 0,
       "state": "input",
       "streamStates": {},
       "subcommandOptions": {
        "queryPlan": {
         "groups": [
          {
           "column": "field",
           "type": "column"
          }
         ],
         "selects": [
          {
           "column": "field",
           "type": "column"
          },
          {
           "alias": "column_2a05031e138",
           "args": [
            {
             "column": "avg_citations",
             "type": "column"
            }
           ],
           "function": "SUM",
           "type": "function"
          }
         ]
        }
       },
       "submitTime": 0,
       "subtype": "tableResultSubCmd.visualization",
       "tableResultIndex": 0,
       "tableResultSettingsMap": {},
       "useConsistentColors": false,
       "version": "CommandV1",
       "width": "auto",
       "workflows": [],
       "xColumns": null,
       "yColumns": null
      }
     },
     "output_type": "display_data"
    }
   ],
   "source": [
    "#Average citations by field\n",
    "avg_citations_by_field = df.groupBy(\"field\").agg(F.avg(\"citations\").alias(\"avg_citations\"))\n",
    "display(avg_citations_by_field)"
   ]
  }
 ],
 "metadata": {
  "application/vnd.databricks.v1+notebook": {
   "computePreferences": null,
   "dashboards": [],
   "environmentMetadata": {
    "base_environment": "",
    "environment_version": "2"
   },
   "inputWidgetPreferences": null,
   "language": "python",
   "notebookMetadata": {
    "pythonIndentUnit": 4
   },
   "notebookName": "Case_Study",
   "widgets": {}
  },
  "language_info": {
   "name": "python"
  }
 },
 "nbformat": 4,
 "nbformat_minor": 0
}
