{
  "nbformat": 4,
  "nbformat_minor": 0,
  "metadata": {
    "colab": {
      "provenance": []
    },
    "kernelspec": {
      "name": "python3",
      "display_name": "Python 3"
    },
    "language_info": {
      "name": "python"
    }
  },
  "cells": [
    {
      "cell_type": "markdown",
      "source": [
        "## Creating Spark Session and Load Datasets"
      ],
      "metadata": {
        "id": "watUII2Az5hv"
      }
    },
    {
      "cell_type": "code",
      "execution_count": null,
      "metadata": {
        "colab": {
          "base_uri": "https://localhost:8080/"
        },
        "id": "RBJiiiMfzraC",
        "outputId": "2ee1669b-6006-4922-8347-584c0834c32d"
      },
      "outputs": [
        {
          "output_type": "stream",
          "name": "stdout",
          "text": [
            "Drive already mounted at /content/drive; to attempt to forcibly remount, call drive.mount(\"/content/drive\", force_remount=True).\n",
            "+-----------+---+------+------------+--------------+-----------+------+-----------+-------------+-------------+-----------+-------+------------+----------------+------------------+\n",
            "|Customer_ID|Age|Gender|  Occupation|Marital Status|Family Size|Income|Expenditure|Use Frequency|Loan Category|Loan Amount|Overdue| Debt Record| Returned Cheque| Dishonour of Bill|\n",
            "+-----------+---+------+------------+--------------+-----------+------+-----------+-------------+-------------+-----------+-------+------------+----------------+------------------+\n",
            "|    IB14001| 30|  MALE|BANK MANAGER|        SINGLE|          4| 50000|      22199|            6|      HOUSING| 10,00,000 |      5|      42,898|               6|                 9|\n",
            "|    IB14008| 44|  MALE|   PROFESSOR|       MARRIED|          6| 51000|      19999|            4|     SHOPPING|     50,000|      3|      33,999|               1|                 5|\n",
            "|    IB14012| 30|FEMALE|     DENTIST|        SINGLE|          3| 58450|      27675|            5|   TRAVELLING|     75,000|      6|      20,876|               3|                 1|\n",
            "|    IB14018| 29|  MALE|     TEACHER|       MARRIED|          5| 45767|      12787|            3|    GOLD LOAN|  6,00,000 |      7|      11,000|               0|                 4|\n",
            "|    IB14022| 34|  MALE|      POLICE|        SINGLE|          4| 43521|      11999|            3|   AUTOMOBILE|  2,00,000 |      2|      43,898|               1|                 2|\n",
            "+-----------+---+------+------------+--------------+-----------+------+-----------+-------------+-------------+-----------+-------+------------+----------------+------------------+\n",
            "only showing top 5 rows\n",
            "\n",
            "+---------+----------+--------+-----------+---------+------+---+------+---------+-------------+--------------+---------------+------+\n",
            "|RowNumber|CustomerId| Surname|CreditScore|Geography|Gender|Age|Tenure|  Balance|NumOfProducts|IsActiveMember|EstimatedSalary|Exited|\n",
            "+---------+----------+--------+-----------+---------+------+---+------+---------+-------------+--------------+---------------+------+\n",
            "|        1|  15634602|Hargrave|        619|   France|Female| 42|     2|      0.0|            1|             1|      101348.88|     1|\n",
            "|        2|  15647311|    Hill|        608|    Spain|Female| 41|     1| 83807.86|            1|             1|      112542.58|     0|\n",
            "|        3|  15619304|    Onio|        502|   France|Female| 42|     8| 159660.8|            3|             0|      113931.57|     1|\n",
            "|        4|  15701354|    Boni|        699|   France|Female| 39|     1|      0.0|            2|             0|       93826.63|     0|\n",
            "|        5|  15737888|Mitchell|        850|    Spain|Female| 43|     2|125510.82|            1|             1|        79084.1|     0|\n",
            "+---------+----------+--------+-----------+---------+------+---+------+---------+-------------+--------------+---------------+------+\n",
            "only showing top 5 rows\n",
            "\n",
            "+-------------+--------------------+----------+----------------+-------------+-----------+\n",
            "|   Account No| TRANSACTION DETAILS|VALUE DATE| WITHDRAWAL AMT | DEPOSIT AMT |BALANCE AMT|\n",
            "+-------------+--------------------+----------+----------------+-------------+-----------+\n",
            "|409000611074'|TRF FROM  Indiafo...| 29-Jun-17|            NULL|    1000000.0|  1000000.0|\n",
            "|409000611074'|TRF FROM  Indiafo...|  5-Jul-17|            NULL|    1000000.0|  2000000.0|\n",
            "|409000611074'|FDRL/INTERNAL FUN...| 18-Jul-17|            NULL|     500000.0|  2500000.0|\n",
            "|409000611074'|TRF FRM  Indiafor...|  1-Aug-17|            NULL|    3000000.0|  5500000.0|\n",
            "|409000611074'|FDRL/INTERNAL FUN...| 16-Aug-17|            NULL|     500000.0|  6000000.0|\n",
            "+-------------+--------------------+----------+----------------+-------------+-----------+\n",
            "only showing top 5 rows\n",
            "\n"
          ]
        }
      ],
      "source": [
        "from pyspark.sql import SparkSession\n",
        "from google.colab import drive\n",
        "spark = SparkSession.builder.appName('OnlineBankingAnalysis').getOrCreate()\n",
        "drive.mount('/content/drive')\n",
        "loan_df = spark.read.csv('/content/drive/MyDrive/case_study_dataset/loan.csv',header=True,inferSchema=True)\n",
        "credit_df = spark.read.csv('/content/drive/MyDrive/case_study_dataset/credit_card.csv',header=True,inferSchema=True)\n",
        "txn_df = spark.read.csv('/content/drive/MyDrive/case_study_dataset/txn.csv',header=True,inferSchema=True)\n",
        "loan_df.show(5)\n",
        "credit_df.show(5)\n",
        "txn_df.show(5)"
      ]
    },
    {
      "cell_type": "code",
      "source": [
        "loan_df.printSchema()\n",
        "credit_df.printSchema()\n",
        "txn_df.printSchema()"
      ],
      "metadata": {
        "colab": {
          "base_uri": "https://localhost:8080/"
        },
        "id": "ekNNtIOt5-m2",
        "outputId": "b974938d-4e74-4b75-b34f-8ac23a36f327"
      },
      "execution_count": null,
      "outputs": [
        {
          "output_type": "stream",
          "name": "stdout",
          "text": [
            "root\n",
            " |-- Customer_ID: string (nullable = true)\n",
            " |-- Age: integer (nullable = true)\n",
            " |-- Gender: string (nullable = true)\n",
            " |-- Occupation: string (nullable = true)\n",
            " |-- Marital Status: string (nullable = true)\n",
            " |-- Family Size: integer (nullable = true)\n",
            " |-- Income: integer (nullable = true)\n",
            " |-- Expenditure: integer (nullable = true)\n",
            " |-- Use Frequency: integer (nullable = true)\n",
            " |-- Loan Category: string (nullable = true)\n",
            " |-- Loan Amount: string (nullable = true)\n",
            " |-- Overdue: integer (nullable = true)\n",
            " |--  Debt Record: string (nullable = true)\n",
            " |--  Returned Cheque: integer (nullable = true)\n",
            " |--  Dishonour of Bill: integer (nullable = true)\n",
            "\n",
            "root\n",
            " |-- RowNumber: integer (nullable = true)\n",
            " |-- CustomerId: integer (nullable = true)\n",
            " |-- Surname: string (nullable = true)\n",
            " |-- CreditScore: integer (nullable = true)\n",
            " |-- Geography: string (nullable = true)\n",
            " |-- Gender: string (nullable = true)\n",
            " |-- Age: integer (nullable = true)\n",
            " |-- Tenure: integer (nullable = true)\n",
            " |-- Balance: double (nullable = true)\n",
            " |-- NumOfProducts: integer (nullable = true)\n",
            " |-- IsActiveMember: integer (nullable = true)\n",
            " |-- EstimatedSalary: double (nullable = true)\n",
            " |-- Exited: integer (nullable = true)\n",
            "\n",
            "root\n",
            " |-- Account No: string (nullable = true)\n",
            " |-- TRANSACTION DETAILS: string (nullable = true)\n",
            " |-- VALUE DATE: string (nullable = true)\n",
            " |--  WITHDRAWAL AMT : double (nullable = true)\n",
            " |--  DEPOSIT AMT : double (nullable = true)\n",
            " |-- BALANCE AMT: double (nullable = true)\n",
            "\n"
          ]
        }
      ]
    },
    {
      "cell_type": "markdown",
      "source": [
        "## Cleaning the Dataset Before Analyzing"
      ],
      "metadata": {
        "id": "yuClcmT38PIU"
      }
    },
    {
      "cell_type": "markdown",
      "source": [
        "### Clean loan data"
      ],
      "metadata": {
        "id": "Appu6V-l8XMD"
      }
    },
    {
      "cell_type": "code",
      "source": [
        "\n",
        "from pyspark.sql.functions import regexp_replace, col\n",
        "# renaming column name for Debt record and returned cheque since it has trailing spaces at first\n",
        "loan_df = loan_df.withColumnRenamed(\" Returned Cheque\", \"Returned Cheque\")\n",
        "loan_df = loan_df.withColumnRenamed(\" Debt Record\", \"Debt Record\")\n",
        "\n",
        "loan_df = loan_df.withColumn(\"Loan Amount\", regexp_replace(\"Loan Amount\", \",\", \"\").cast(\"double\"))\n",
        "loan_df = loan_df.withColumn(\"Income\", regexp_replace(\"Income\", \",\", \"\").cast(\"double\"))\n",
        "loan_df = loan_df.withColumn(\"Expenditure\", regexp_replace(\"Expenditure\", \",\", \"\").cast(\"double\"))\n",
        "loan_df = loan_df.withColumn(\"Returned Cheque\", col(\"Returned Cheque\").cast(\"int\"))\n",
        "loan_df = loan_df.withColumn(\"Debt Record\", regexp_replace(\"Debt Record\", \",\", \"\").cast(\"double\"))\n",
        "\n",
        "loan_df.show(5)\n"
      ],
      "metadata": {
        "colab": {
          "base_uri": "https://localhost:8080/"
        },
        "id": "s8WWOvvn8ZP2",
        "outputId": "7709cf00-0dd2-4aaf-fcb1-c2fcfddab186"
      },
      "execution_count": null,
      "outputs": [
        {
          "output_type": "stream",
          "name": "stdout",
          "text": [
            "+-----------+---+------+------------+--------------+-----------+-------+-----------+-------------+-------------+-----------+-------+-----------+---------------+------------------+\n",
            "|Customer_ID|Age|Gender|  Occupation|Marital Status|Family Size| Income|Expenditure|Use Frequency|Loan Category|Loan Amount|Overdue|Debt Record|Returned Cheque| Dishonour of Bill|\n",
            "+-----------+---+------+------------+--------------+-----------+-------+-----------+-------------+-------------+-----------+-------+-----------+---------------+------------------+\n",
            "|    IB14001| 30|  MALE|BANK MANAGER|        SINGLE|          4|50000.0|    22199.0|            6|      HOUSING|  1000000.0|      5|    42898.0|              6|                 9|\n",
            "|    IB14008| 44|  MALE|   PROFESSOR|       MARRIED|          6|51000.0|    19999.0|            4|     SHOPPING|    50000.0|      3|    33999.0|              1|                 5|\n",
            "|    IB14012| 30|FEMALE|     DENTIST|        SINGLE|          3|58450.0|    27675.0|            5|   TRAVELLING|    75000.0|      6|    20876.0|              3|                 1|\n",
            "|    IB14018| 29|  MALE|     TEACHER|       MARRIED|          5|45767.0|    12787.0|            3|    GOLD LOAN|   600000.0|      7|    11000.0|              0|                 4|\n",
            "|    IB14022| 34|  MALE|      POLICE|        SINGLE|          4|43521.0|    11999.0|            3|   AUTOMOBILE|   200000.0|      2|    43898.0|              1|                 2|\n",
            "+-----------+---+------+------------+--------------+-----------+-------+-----------+-------------+-------------+-----------+-------+-----------+---------------+------------------+\n",
            "only showing top 5 rows\n",
            "\n"
          ]
        }
      ]
    },
    {
      "cell_type": "markdown",
      "source": [
        "#### Clean transaction data"
      ],
      "metadata": {
        "id": "KNTNTUVoKqxp"
      }
    },
    {
      "cell_type": "code",
      "source": [
        "txn_df = txn_df.withColumnRenamed(\" WITHDRAWAL AMT \", \"WITHDRAWAL AMT\")\n",
        "txn_df = txn_df.withColumnRenamed(\" DEPOSIT AMT \", \"DEPOSIT AMT\")\n",
        "txn_df = txn_df.withColumnRenamed(\" BALANCE AMT\", \"BALANCE AMT\")\n",
        "\n",
        "txn_df.filter(col(\"WITHDRAWAL AMT\").isNull()).count()"
      ],
      "metadata": {
        "colab": {
          "base_uri": "https://localhost:8080/"
        },
        "id": "XI4mm8LELTCY",
        "outputId": "fbc285fe-d84f-4326-9b66-753c3b9b2cb9"
      },
      "execution_count": null,
      "outputs": [
        {
          "output_type": "execute_result",
          "data": {
            "text/plain": [
              "62652"
            ]
          },
          "metadata": {},
          "execution_count": 77
        }
      ]
    },
    {
      "cell_type": "code",
      "source": [
        "txn_df = txn_df.fillna({\"WITHDRAWAL AMT\": 0.0, \"DEPOSIT AMT\": 0.0})\n",
        "txn_df.show()"
      ],
      "metadata": {
        "colab": {
          "base_uri": "https://localhost:8080/"
        },
        "id": "pGT7Lpx7KvXw",
        "outputId": "15223c06-a518-4040-d98b-baa3483dada1"
      },
      "execution_count": null,
      "outputs": [
        {
          "output_type": "stream",
          "name": "stdout",
          "text": [
            "+-------------+--------------------+----------+--------------+-----------+-----------+\n",
            "|   Account No| TRANSACTION DETAILS|VALUE DATE|WITHDRAWAL AMT|DEPOSIT AMT|BALANCE AMT|\n",
            "+-------------+--------------------+----------+--------------+-----------+-----------+\n",
            "|409000611074'|TRF FROM  Indiafo...| 29-Jun-17|           0.0|  1000000.0|  1000000.0|\n",
            "|409000611074'|TRF FROM  Indiafo...|  5-Jul-17|           0.0|  1000000.0|  2000000.0|\n",
            "|409000611074'|FDRL/INTERNAL FUN...| 18-Jul-17|           0.0|   500000.0|  2500000.0|\n",
            "|409000611074'|TRF FRM  Indiafor...|  1-Aug-17|           0.0|  3000000.0|  5500000.0|\n",
            "|409000611074'|FDRL/INTERNAL FUN...| 16-Aug-17|           0.0|   500000.0|  6000000.0|\n",
            "|409000611074'|FDRL/INTERNAL FUN...| 16-Aug-17|           0.0|   500000.0|  6500000.0|\n",
            "|409000611074'|FDRL/INTERNAL FUN...| 16-Aug-17|           0.0|   500000.0|  7000000.0|\n",
            "|409000611074'|FDRL/INTERNAL FUN...| 16-Aug-17|           0.0|   500000.0|  7500000.0|\n",
            "|409000611074'|FDRL/INTERNAL FUN...| 16-Aug-17|           0.0|   500000.0|  8000000.0|\n",
            "|409000611074'|FDRL/INTERNAL FUN...| 16-Aug-17|           0.0|   500000.0|  8500000.0|\n",
            "|409000611074'|INDO GIBL Indiafo...| 16-Aug-17|      133900.0|        0.0|  8366100.0|\n",
            "|409000611074'|INDO GIBL Indiafo...| 16-Aug-17|       18000.0|        0.0|  8348100.0|\n",
            "|409000611074'|INDO GIBL Indiafo...| 16-Aug-17|        5000.0|        0.0|  8343100.0|\n",
            "|409000611074'|INDO GIBL Indiafo...| 16-Aug-17|      195800.0|        0.0|  8147300.0|\n",
            "|409000611074'|INDO GIBL Indiafo...| 16-Aug-17|       81600.0|        0.0|  8065700.0|\n",
            "|409000611074'|INDO GIBL Indiafo...| 16-Aug-17|       41800.0|        0.0|  8023900.0|\n",
            "|409000611074'|INDO GIBL Indiafo...| 16-Aug-17|       98500.0|        0.0|  7925400.0|\n",
            "|409000611074'|INDO GIBL Indiafo...| 16-Aug-17|      143800.0|        0.0|  7781600.0|\n",
            "|409000611074'|INDO GIBL Indiafo...| 16-Aug-17|      331650.0|        0.0|  7449950.0|\n",
            "|409000611074'|INDO GIBL Indiafo...| 16-Aug-17|      129000.0|        0.0|  7320950.0|\n",
            "+-------------+--------------------+----------+--------------+-----------+-----------+\n",
            "only showing top 20 rows\n",
            "\n"
          ]
        }
      ]
    },
    {
      "cell_type": "markdown",
      "source": [
        "### In Loan CSV\n"
      ],
      "metadata": {
        "id": "vUbx4vzJ6SL1"
      }
    },
    {
      "cell_type": "markdown",
      "source": [
        "#### Number of loans in each category"
      ],
      "metadata": {
        "id": "SKE49JI86Xqn"
      }
    },
    {
      "cell_type": "code",
      "source": [
        "loan_df.groupBy(\"Loan Category\").count().show()"
      ],
      "metadata": {
        "colab": {
          "base_uri": "https://localhost:8080/"
        },
        "id": "Hg4Yv1gY6XUM",
        "outputId": "de9feae4-2005-45cf-9eb7-22f343a464af"
      },
      "execution_count": null,
      "outputs": [
        {
          "output_type": "stream",
          "name": "stdout",
          "text": [
            "+------------------+-----+\n",
            "|     Loan Category|count|\n",
            "+------------------+-----+\n",
            "|           HOUSING|   67|\n",
            "|        TRAVELLING|   53|\n",
            "|       BOOK STORES|    7|\n",
            "|       AGRICULTURE|   12|\n",
            "|         GOLD LOAN|   77|\n",
            "|  EDUCATIONAL LOAN|   20|\n",
            "|        AUTOMOBILE|   60|\n",
            "|          BUSINESS|   24|\n",
            "|COMPUTER SOFTWARES|   35|\n",
            "|           DINNING|   14|\n",
            "|          SHOPPING|   35|\n",
            "|       RESTAURANTS|   41|\n",
            "|       ELECTRONICS|   14|\n",
            "|          BUILDING|    7|\n",
            "|        RESTAURANT|   20|\n",
            "|   HOME APPLIANCES|   14|\n",
            "+------------------+-----+\n",
            "\n"
          ]
        }
      ]
    },
    {
      "cell_type": "markdown",
      "source": [
        "#### Number of people who have taken more than 1 lakh loan"
      ],
      "metadata": {
        "id": "EWxbyDwE62U_"
      }
    },
    {
      "cell_type": "code",
      "source": [
        "from pyspark.sql.functions import col\n",
        "loan_df.filter(col(\"Loan Amount\") > 100000).count()"
      ],
      "metadata": {
        "colab": {
          "base_uri": "https://localhost:8080/"
        },
        "id": "v9ruOqQx64D7",
        "outputId": "84f23e27-d688-4a8e-e1f7-91804dd76749"
      },
      "execution_count": null,
      "outputs": [
        {
          "output_type": "execute_result",
          "data": {
            "text/plain": [
              "450"
            ]
          },
          "metadata": {},
          "execution_count": 61
        }
      ]
    },
    {
      "cell_type": "markdown",
      "source": [
        "#### Number of people with income greater than 60000 rupees"
      ],
      "metadata": {
        "id": "IMlnAgSP_Go-"
      }
    },
    {
      "cell_type": "code",
      "source": [
        "loan_df.filter(col(\"Income\")>60000).count()"
      ],
      "metadata": {
        "colab": {
          "base_uri": "https://localhost:8080/"
        },
        "id": "ZjCvgdLQ_Img",
        "outputId": "8bd40ee1-34ce-4375-c950-305ca73837a8"
      },
      "execution_count": null,
      "outputs": [
        {
          "output_type": "execute_result",
          "data": {
            "text/plain": [
              "198"
            ]
          },
          "metadata": {},
          "execution_count": 62
        }
      ]
    },
    {
      "cell_type": "markdown",
      "source": [
        "#### Number of people with 2 or more returned cheques and income less than 50000"
      ],
      "metadata": {
        "id": "5Mz_HM-G_UQO"
      }
    },
    {
      "cell_type": "code",
      "source": [
        "loan_df.filter((col(\"Returned Cheque\")>=2) & (col(\"Income\")<50000)).count()"
      ],
      "metadata": {
        "colab": {
          "base_uri": "https://localhost:8080/"
        },
        "id": "gsNAxZca_X92",
        "outputId": "778aee7c-e0a2-45cd-81d0-100663a3f658"
      },
      "execution_count": null,
      "outputs": [
        {
          "output_type": "execute_result",
          "data": {
            "text/plain": [
              "137"
            ]
          },
          "metadata": {},
          "execution_count": 63
        }
      ]
    },
    {
      "cell_type": "markdown",
      "source": [
        "#### Number of people with 2 or more returned cheques and are single"
      ],
      "metadata": {
        "id": "_os3rnnXBLET"
      }
    },
    {
      "cell_type": "code",
      "source": [
        "loan_df.filter((col(\"Returned Cheque\")>=2) & (col(\"Marital Status\")== \"SINGLE\")).count()"
      ],
      "metadata": {
        "colab": {
          "base_uri": "https://localhost:8080/"
        },
        "id": "1RAE4pgfBMj-",
        "outputId": "c6085e9e-995b-42f3-c1d3-a2081833d047"
      },
      "execution_count": null,
      "outputs": [
        {
          "output_type": "execute_result",
          "data": {
            "text/plain": [
              "111"
            ]
          },
          "metadata": {},
          "execution_count": 42
        }
      ]
    },
    {
      "cell_type": "markdown",
      "source": [
        "#### Number of people with expenditure over 50000 a month"
      ],
      "metadata": {
        "id": "7O3J7fjEBeCL"
      }
    },
    {
      "cell_type": "code",
      "source": [
        "loan_df.filter(col(\"Expenditure\")>50000).count()"
      ],
      "metadata": {
        "colab": {
          "base_uri": "https://localhost:8080/"
        },
        "id": "XzfJAnPqBfxM",
        "outputId": "249123a8-2548-485a-9896-ee361ec6ab28"
      },
      "execution_count": null,
      "outputs": [
        {
          "output_type": "execute_result",
          "data": {
            "text/plain": [
              "6"
            ]
          },
          "metadata": {},
          "execution_count": 64
        }
      ]
    },
    {
      "cell_type": "markdown",
      "source": [
        "#### Number of members who are elgible for credit card"
      ],
      "metadata": {
        "id": "3PWPG9ZEBp2z"
      }
    },
    {
      "cell_type": "markdown",
      "source": [
        "Assuming 50000 as a eligible criteria for credit card"
      ],
      "metadata": {
        "id": "yR0e-mQlTmL4"
      }
    },
    {
      "cell_type": "code",
      "source": [
        "loan_df.filter(col(\"Debt Record\")<50000).count()"
      ],
      "metadata": {
        "colab": {
          "base_uri": "https://localhost:8080/"
        },
        "id": "ele4vsCjBtjx",
        "outputId": "71820901-3065-45fc-8934-6152a07380e3"
      },
      "execution_count": null,
      "outputs": [
        {
          "output_type": "execute_result",
          "data": {
            "text/plain": [
              "331"
            ]
          },
          "metadata": {},
          "execution_count": 66
        }
      ]
    },
    {
      "cell_type": "markdown",
      "source": [
        "## Credit Data"
      ],
      "metadata": {
        "id": "jSptce4tDeqL"
      }
    },
    {
      "cell_type": "code",
      "source": [
        "credit_df.printSchema()"
      ],
      "metadata": {
        "colab": {
          "base_uri": "https://localhost:8080/"
        },
        "id": "zpsUv0-yDqx8",
        "outputId": "cddf5bbd-49c7-440c-a567-229a819195b8"
      },
      "execution_count": null,
      "outputs": [
        {
          "output_type": "stream",
          "name": "stdout",
          "text": [
            "root\n",
            " |-- RowNumber: integer (nullable = true)\n",
            " |-- CustomerId: integer (nullable = true)\n",
            " |-- Surname: string (nullable = true)\n",
            " |-- CreditScore: integer (nullable = true)\n",
            " |-- Geography: string (nullable = true)\n",
            " |-- Gender: string (nullable = true)\n",
            " |-- Age: integer (nullable = true)\n",
            " |-- Tenure: integer (nullable = true)\n",
            " |-- Balance: double (nullable = true)\n",
            " |-- NumOfProducts: integer (nullable = true)\n",
            " |-- IsActiveMember: integer (nullable = true)\n",
            " |-- EstimatedSalary: double (nullable = true)\n",
            " |-- Exited: integer (nullable = true)\n",
            "\n"
          ]
        }
      ]
    },
    {
      "cell_type": "markdown",
      "source": [
        "### Credit card users in Spain"
      ],
      "metadata": {
        "id": "Wu9DZiXmDiks"
      }
    },
    {
      "cell_type": "code",
      "source": [
        "credit_df.filter(col(\"Geography\")==\"Spain\").count()"
      ],
      "metadata": {
        "colab": {
          "base_uri": "https://localhost:8080/"
        },
        "id": "6yA_k0G8DgWS",
        "outputId": "0126dd7c-cfc3-4387-db09-7131adf4b96f"
      },
      "execution_count": null,
      "outputs": [
        {
          "output_type": "execute_result",
          "data": {
            "text/plain": [
              "2477"
            ]
          },
          "metadata": {},
          "execution_count": 68
        }
      ]
    },
    {
      "cell_type": "markdown",
      "source": [
        "### Number of members who are eligible and active in the bank"
      ],
      "metadata": {
        "id": "C9ULnnVpDzOT"
      }
    },
    {
      "cell_type": "markdown",
      "source": [
        "Assuming 650 as eligiblity Criteria for credit score"
      ],
      "metadata": {
        "id": "Jeg5c1bZTdxo"
      }
    },
    {
      "cell_type": "code",
      "source": [
        "credit_df.filter((col(\"IsActiveMember\")==1)&(col(\"CreditScore\")>650)).count()"
      ],
      "metadata": {
        "colab": {
          "base_uri": "https://localhost:8080/"
        },
        "id": "nYk0oJ4TD1QO",
        "outputId": "2ae9283a-b2ec-409e-90c3-7943ed4ee9d0"
      },
      "execution_count": null,
      "outputs": [
        {
          "output_type": "execute_result",
          "data": {
            "text/plain": [
              "2655"
            ]
          },
          "metadata": {},
          "execution_count": 71
        }
      ]
    },
    {
      "cell_type": "markdown",
      "source": [
        "## Transaction Data"
      ],
      "metadata": {
        "id": "eV_NmN3EM5gu"
      }
    },
    {
      "cell_type": "code",
      "source": [
        "txn_df.printSchema()"
      ],
      "metadata": {
        "colab": {
          "base_uri": "https://localhost:8080/"
        },
        "id": "ETydd2tsNMqJ",
        "outputId": "89c82cb3-8240-435f-95bb-eb6921915602"
      },
      "execution_count": null,
      "outputs": [
        {
          "output_type": "stream",
          "name": "stdout",
          "text": [
            "root\n",
            " |-- Account No: string (nullable = true)\n",
            " |-- TRANSACTION DETAILS: string (nullable = true)\n",
            " |-- VALUE DATE: string (nullable = true)\n",
            " |-- WITHDRAWAL AMT: double (nullable = false)\n",
            " |-- DEPOSIT AMT: double (nullable = false)\n",
            " |-- BALANCE AMT: double (nullable = true)\n",
            "\n"
          ]
        }
      ]
    },
    {
      "cell_type": "markdown",
      "source": [
        "#### Maximum withdrawal amount in transactions"
      ],
      "metadata": {
        "id": "LfLc5h2JM-Eh"
      }
    },
    {
      "cell_type": "code",
      "source": [
        "from pyspark.sql.functions import max\n",
        "txn_df.agg(max(\"WITHDRAWAL AMT\")).show()"
      ],
      "metadata": {
        "colab": {
          "base_uri": "https://localhost:8080/"
        },
        "id": "SzFJr_NRM9ja",
        "outputId": "abd0cc2e-9b5d-4fd9-e98d-cde434850d9c"
      },
      "execution_count": null,
      "outputs": [
        {
          "output_type": "stream",
          "name": "stdout",
          "text": [
            "+-------------------+\n",
            "|max(WITHDRAWAL AMT)|\n",
            "+-------------------+\n",
            "|      4.594475464E8|\n",
            "+-------------------+\n",
            "\n"
          ]
        }
      ]
    },
    {
      "cell_type": "markdown",
      "source": [
        "#### Minimum withdrawl amount of an account\n"
      ],
      "metadata": {
        "id": "_TocA-lDNry5"
      }
    },
    {
      "cell_type": "code",
      "source": [
        "from pyspark.sql.functions import min\n",
        "txn_df.agg(min(\"WITHDRAWAL AMT\")).show()"
      ],
      "metadata": {
        "colab": {
          "base_uri": "https://localhost:8080/"
        },
        "id": "PbcrgomANsZT",
        "outputId": "d8dd1d6d-135c-4b9c-8e03-6fdbd19d6329"
      },
      "execution_count": null,
      "outputs": [
        {
          "output_type": "stream",
          "name": "stdout",
          "text": [
            "+-------------------+\n",
            "|min(WITHDRAWAL AMT)|\n",
            "+-------------------+\n",
            "|                0.0|\n",
            "+-------------------+\n",
            "\n"
          ]
        }
      ]
    },
    {
      "cell_type": "markdown",
      "source": [
        "#### Maximum deposit amount of an account\n"
      ],
      "metadata": {
        "id": "exAe-WduN6iI"
      }
    },
    {
      "cell_type": "code",
      "source": [
        "from pyspark.sql.functions import max\n",
        "txn_df.agg(max(\"DEPOSIT AMT\")).show()"
      ],
      "metadata": {
        "colab": {
          "base_uri": "https://localhost:8080/"
        },
        "id": "nkPLZrLtOCQp",
        "outputId": "2e1f82cf-b650-416e-9029-1972d8616d22"
      },
      "execution_count": null,
      "outputs": [
        {
          "output_type": "stream",
          "name": "stdout",
          "text": [
            "+----------------+\n",
            "|max(DEPOSIT AMT)|\n",
            "+----------------+\n",
            "|         5.448E8|\n",
            "+----------------+\n",
            "\n"
          ]
        }
      ]
    },
    {
      "cell_type": "markdown",
      "source": [
        "#### Minimum Deposit amount of an account\n"
      ],
      "metadata": {
        "id": "W1mw4JTwON3o"
      }
    },
    {
      "cell_type": "code",
      "source": [
        "from pyspark.sql.functions import min\n",
        "txn_df.agg(min(\"DEPOSIT AMT\")).show()"
      ],
      "metadata": {
        "colab": {
          "base_uri": "https://localhost:8080/"
        },
        "id": "u5CZqyiwOPPp",
        "outputId": "75db72d4-3f04-4aa8-80e7-4fb38b98ce99"
      },
      "execution_count": null,
      "outputs": [
        {
          "output_type": "stream",
          "name": "stdout",
          "text": [
            "+----------------+\n",
            "|min(DEPOSIT AMT)|\n",
            "+----------------+\n",
            "|             0.0|\n",
            "+----------------+\n",
            "\n"
          ]
        }
      ]
    },
    {
      "cell_type": "markdown",
      "source": [
        "#### Sum of balance in every bank account"
      ],
      "metadata": {
        "id": "-57PHvfsO87R"
      }
    },
    {
      "cell_type": "code",
      "source": [
        "from pyspark.sql.functions import sum\n",
        "txn_df.groupBy(\"Account No\").agg(sum(\"BALANCE AMT\").alias(\"Total Balance\")).show()"
      ],
      "metadata": {
        "colab": {
          "base_uri": "https://localhost:8080/"
        },
        "id": "KTgY8Vh_O-M6",
        "outputId": "b44f02b2-c5df-4487-fa7e-8a8091977da2"
      },
      "execution_count": null,
      "outputs": [
        {
          "output_type": "stream",
          "name": "stdout",
          "text": [
            "+-------------+--------------------+\n",
            "|   Account No|       Total Balance|\n",
            "+-------------+--------------------+\n",
            "|409000438611'|-2.49486577068339...|\n",
            "|     1196711'|-1.60476498101275E13|\n",
            "|     1196428'| -8.1418498130721E13|\n",
            "|409000493210'|-3.27584952132095...|\n",
            "|409000611074'|       1.615533622E9|\n",
            "|409000425051'|-3.77211841164998...|\n",
            "|409000405747'|-2.43108047067000...|\n",
            "|409000362497'| -5.2860004792808E13|\n",
            "|409000493201'|1.0420831829499985E9|\n",
            "|409000438620'|-7.12291867951358...|\n",
            "+-------------+--------------------+\n",
            "\n"
          ]
        }
      ]
    },
    {
      "cell_type": "markdown",
      "source": [
        "#### Number of transaction on each date"
      ],
      "metadata": {
        "id": "nbYx5GAtPrnx"
      }
    },
    {
      "cell_type": "code",
      "source": [
        "txn_df.groupBy(\"VALUE DATE\").count().show()"
      ],
      "metadata": {
        "colab": {
          "base_uri": "https://localhost:8080/"
        },
        "id": "YkNpnj6OPs1F",
        "outputId": "4f12def4-1dfc-4592-dbb9-269dca42f75f"
      },
      "execution_count": null,
      "outputs": [
        {
          "output_type": "stream",
          "name": "stdout",
          "text": [
            "+----------+-----+\n",
            "|VALUE DATE|count|\n",
            "+----------+-----+\n",
            "| 23-Dec-16|  143|\n",
            "|  7-Feb-19|   98|\n",
            "| 21-Jul-15|   80|\n",
            "|  9-Sep-15|   91|\n",
            "| 17-Jan-15|   16|\n",
            "| 18-Nov-17|   53|\n",
            "| 21-Feb-18|   77|\n",
            "| 20-Mar-18|   71|\n",
            "| 19-Apr-18|   71|\n",
            "| 21-Jun-16|   97|\n",
            "| 17-Oct-17|  101|\n",
            "|  3-Jan-18|   70|\n",
            "|  8-Jun-18|  223|\n",
            "| 15-Dec-18|   62|\n",
            "|  8-Aug-16|   97|\n",
            "| 17-Dec-16|   74|\n",
            "|  3-Sep-15|   83|\n",
            "| 21-Jan-16|   76|\n",
            "|  4-May-18|   92|\n",
            "|  7-Sep-17|   94|\n",
            "+----------+-----+\n",
            "only showing top 20 rows\n",
            "\n"
          ]
        }
      ]
    },
    {
      "cell_type": "markdown",
      "source": [
        "#### List of customers with withdrawal amount more than 1 lakh"
      ],
      "metadata": {
        "id": "TpoqMeSGP86h"
      }
    },
    {
      "cell_type": "code",
      "source": [
        "txn_df.filter((col(\"WITHDRAWAL AMT\")>100000)).select(\"Account No\",\"WITHDRAWAL AMT\").distinct().show()"
      ],
      "metadata": {
        "colab": {
          "base_uri": "https://localhost:8080/"
        },
        "id": "KgOiKqxrP-GD",
        "outputId": "b8871fd0-b7d5-41c6-ede2-9c5b3c2c4e1c"
      },
      "execution_count": null,
      "outputs": [
        {
          "output_type": "stream",
          "name": "stdout",
          "text": [
            "+-------------+--------------+\n",
            "|   Account No|WITHDRAWAL AMT|\n",
            "+-------------+--------------+\n",
            "|409000611074'|      274600.0|\n",
            "|409000493201'|     1500000.0|\n",
            "|409000493201'|     199604.27|\n",
            "|409000438620'|      186604.0|\n",
            "|409000438620'|   3.6675558E7|\n",
            "|     1196711'|     7530283.0|\n",
            "|     1196428'|      812361.0|\n",
            "|     1196428'|     6348768.0|\n",
            "|     1196428'|    3043151.63|\n",
            "|409000362497'|      576954.0|\n",
            "|409000362497'|     3423962.0|\n",
            "|409000362497'| 3.144482503E7|\n",
            "|     1196428'|    4441827.47|\n",
            "|409000611074'|      145450.0|\n",
            "|409000493201'|     119401.28|\n",
            "|     1196711'|      628945.0|\n",
            "|     1196428'|     289670.04|\n",
            "|409000362497'| 3.483281361E7|\n",
            "|409000362497'| 4.289763641E7|\n",
            "|409000362497'| 2.678162613E7|\n",
            "+-------------+--------------+\n",
            "only showing top 20 rows\n",
            "\n"
          ]
        }
      ]
    }
  ]
}