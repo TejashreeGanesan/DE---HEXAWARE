{
  "nbformat": 4,
  "nbformat_minor": 0,
  "metadata": {
    "colab": {
      "provenance": []
    },
    "kernelspec": {
      "name": "python3",
      "display_name": "Python 3"
    },
    "language_info": {
      "name": "python"
    }
  },
  "cells": [
    {
      "cell_type": "markdown",
      "source": [
        "# Question 1\n",
        "# Apply Transformations & actions in pyspark"
      ],
      "metadata": {
        "id": "yNIWk3G_kjMH"
      }
    },
    {
      "cell_type": "markdown",
      "source": [
        "## Transformation"
      ],
      "metadata": {
        "id": "aWwHrTy7knn2"
      }
    },
    {
      "cell_type": "markdown",
      "source": [
        "Creating RDD"
      ],
      "metadata": {
        "id": "buS8r3_nnIwQ"
      }
    },
    {
      "cell_type": "code",
      "execution_count": 1,
      "metadata": {
        "id": "QC_jVyofkEOW"
      },
      "outputs": [],
      "source": [
        "from pyspark.sql import SparkSession\n",
        "spark = SparkSession.builder.appName(\"Transformations_Actions_Assessment\").getOrCreate()\n",
        "data = [\n",
        "    (\"Amit\", \"IT\", 60000),\n",
        "    (\"Priya\", \"HR\", 50000),\n",
        "    (\"Ravi\", \"Finance\", 70000),\n",
        "    (\"Neha\", \"IT\", 65000),\n",
        "    (\"Vikram\", \"Finance\", 55000),\n",
        "    (\"Anjali\", \"HR\", 48000),\n",
        "    (\"Suresh\", \"IT\", 72000),\n",
        "    (\"Kavya\", \"Finance\", 62000),\n",
        "    (\"Rahul\", \"HR\", 51000),\n",
        "    (\"Meena\", \"IT\", 58000)\n",
        "]\n",
        "\n",
        "rdd = spark.sparkContext.parallelize(data)\n"
      ]
    },
    {
      "cell_type": "markdown",
      "source": [
        "1) map()\n",
        "\n",
        "Write a transformation to increase every employee’s salary by 10%."
      ],
      "metadata": {
        "id": "vUdHvT1qnWFV"
      }
    },
    {
      "cell_type": "code",
      "source": [
        "map_rdd = rdd.map(lambda x:(x[0], x[1], x[2]*1.10))\n",
        "map_rdd.collect()"
      ],
      "metadata": {
        "colab": {
          "base_uri": "https://localhost:8080/"
        },
        "id": "72r7JXHJndxS",
        "outputId": "e4f16cfe-5906-42c0-c10d-2201647126e7"
      },
      "execution_count": 2,
      "outputs": [
        {
          "output_type": "execute_result",
          "data": {
            "text/plain": [
              "[('Amit', 'IT', 66000.0),\n",
              " ('Priya', 'HR', 55000.00000000001),\n",
              " ('Ravi', 'Finance', 77000.0),\n",
              " ('Neha', 'IT', 71500.0),\n",
              " ('Vikram', 'Finance', 60500.00000000001),\n",
              " ('Anjali', 'HR', 52800.00000000001),\n",
              " ('Suresh', 'IT', 79200.0),\n",
              " ('Kavya', 'Finance', 68200.0),\n",
              " ('Rahul', 'HR', 56100.00000000001),\n",
              " ('Meena', 'IT', 63800.00000000001)]"
            ]
          },
          "metadata": {},
          "execution_count": 2
        }
      ]
    },
    {
      "cell_type": "markdown",
      "source": [
        "2) flatMap()\n",
        "\n",
        "Split each employee record into individual words.\n"
      ],
      "metadata": {
        "id": "Vr5G02Cun_AW"
      }
    },
    {
      "cell_type": "code",
      "source": [
        "flat_map = rdd.flatMap(lambda x: [x[0], x[1], str(x[2])])\n",
        "for element in flat_map.collect():\n",
        "    print(element)"
      ],
      "metadata": {
        "colab": {
          "base_uri": "https://localhost:8080/"
        },
        "id": "YRyohnZAoAe-",
        "outputId": "e2d3ac40-9299-4a8b-95f0-5c82ea66954f"
      },
      "execution_count": 4,
      "outputs": [
        {
          "output_type": "stream",
          "name": "stdout",
          "text": [
            "Amit\n",
            "IT\n",
            "60000\n",
            "Priya\n",
            "HR\n",
            "50000\n",
            "Ravi\n",
            "Finance\n",
            "70000\n",
            "Neha\n",
            "IT\n",
            "65000\n",
            "Vikram\n",
            "Finance\n",
            "55000\n",
            "Anjali\n",
            "HR\n",
            "48000\n",
            "Suresh\n",
            "IT\n",
            "72000\n",
            "Kavya\n",
            "Finance\n",
            "62000\n",
            "Rahul\n",
            "HR\n",
            "51000\n",
            "Meena\n",
            "IT\n",
            "58000\n"
          ]
        }
      ]
    },
    {
      "cell_type": "markdown",
      "source": [
        "3) filter()\n",
        "\n",
        "Filter out employees whose salary is greater than 60,000.\n"
      ],
      "metadata": {
        "id": "Mhn7CPV6oq_q"
      }
    },
    {
      "cell_type": "code",
      "source": [
        "filter_rdd = rdd.filter(lambda x: x[2] > 60000)\n",
        "filter_rdd.collect()"
      ],
      "metadata": {
        "colab": {
          "base_uri": "https://localhost:8080/"
        },
        "id": "Es_KYuKaotKH",
        "outputId": "46f09eb8-4802-4f98-86ad-361abf476faf"
      },
      "execution_count": 5,
      "outputs": [
        {
          "output_type": "execute_result",
          "data": {
            "text/plain": [
              "[('Ravi', 'Finance', 70000),\n",
              " ('Neha', 'IT', 65000),\n",
              " ('Suresh', 'IT', 72000),\n",
              " ('Kavya', 'Finance', 62000)]"
            ]
          },
          "metadata": {},
          "execution_count": 5
        }
      ]
    },
    {
      "cell_type": "markdown",
      "source": [
        "4) reduceByKey()\n",
        "\n",
        "Find the total salary paid for each department.\n"
      ],
      "metadata": {
        "id": "e4FxWRKWoyvH"
      }
    },
    {
      "cell_type": "code",
      "source": [
        "total_sal = rdd.map(lambda x: (x[1], x[2]))\n",
        "red_rdd =total_sal.reduceByKey(lambda a, b: a + b)\n",
        "red_rdd.collect()"
      ],
      "metadata": {
        "colab": {
          "base_uri": "https://localhost:8080/"
        },
        "id": "6FjBABE7o2MU",
        "outputId": "359d18f4-f6f2-4b32-a453-1ccaf95ef575"
      },
      "execution_count": 8,
      "outputs": [
        {
          "output_type": "execute_result",
          "data": {
            "text/plain": [
              "[('IT', 255000), ('HR', 149000), ('Finance', 187000)]"
            ]
          },
          "metadata": {},
          "execution_count": 8
        }
      ]
    },
    {
      "cell_type": "markdown",
      "source": [
        "5) sortByKey()\n",
        "\n",
        "Sort employees by department name alphabetically."
      ],
      "metadata": {
        "id": "Ss4g7TjnpHOY"
      }
    },
    {
      "cell_type": "code",
      "source": [
        "sorted_emp = rdd.map(lambda x: (x[1], x[0])).sortByKey()\n",
        "sorted_emp.collect()"
      ],
      "metadata": {
        "colab": {
          "base_uri": "https://localhost:8080/"
        },
        "id": "E8gk46-yo6_7",
        "outputId": "d525aac7-d1c4-4e42-e759-3004cf6b2541"
      },
      "execution_count": 9,
      "outputs": [
        {
          "output_type": "execute_result",
          "data": {
            "text/plain": [
              "[('Finance', 'Ravi'),\n",
              " ('Finance', 'Vikram'),\n",
              " ('Finance', 'Kavya'),\n",
              " ('HR', 'Priya'),\n",
              " ('HR', 'Anjali'),\n",
              " ('HR', 'Rahul'),\n",
              " ('IT', 'Amit'),\n",
              " ('IT', 'Neha'),\n",
              " ('IT', 'Suresh'),\n",
              " ('IT', 'Meena')]"
            ]
          },
          "metadata": {},
          "execution_count": 9
        }
      ]
    },
    {
      "cell_type": "markdown",
      "source": [
        "## Action"
      ],
      "metadata": {
        "id": "bCyU0S1mpW2Y"
      }
    },
    {
      "cell_type": "markdown",
      "source": [
        "1) collect()\n",
        "\n",
        "Collect all employee data"
      ],
      "metadata": {
        "id": "8YiADV0CpYnB"
      }
    },
    {
      "cell_type": "code",
      "source": [
        "rdd.collect()"
      ],
      "metadata": {
        "colab": {
          "base_uri": "https://localhost:8080/"
        },
        "id": "v9DICdrqpXY5",
        "outputId": "1a89a1ce-cbd0-42d4-bf64-ec4c9543ed45"
      },
      "execution_count": 10,
      "outputs": [
        {
          "output_type": "execute_result",
          "data": {
            "text/plain": [
              "[('Amit', 'IT', 60000),\n",
              " ('Priya', 'HR', 50000),\n",
              " ('Ravi', 'Finance', 70000),\n",
              " ('Neha', 'IT', 65000),\n",
              " ('Vikram', 'Finance', 55000),\n",
              " ('Anjali', 'HR', 48000),\n",
              " ('Suresh', 'IT', 72000),\n",
              " ('Kavya', 'Finance', 62000),\n",
              " ('Rahul', 'HR', 51000),\n",
              " ('Meena', 'IT', 58000)]"
            ]
          },
          "metadata": {},
          "execution_count": 10
        }
      ]
    },
    {
      "cell_type": "markdown",
      "source": [
        "2) count()\n",
        "\n",
        "Count the Number of Employees in the dataset"
      ],
      "metadata": {
        "id": "eS5AajvMpw5C"
      }
    },
    {
      "cell_type": "code",
      "source": [
        "rdd.count()"
      ],
      "metadata": {
        "colab": {
          "base_uri": "https://localhost:8080/"
        },
        "id": "_TYvupXbp012",
        "outputId": "42893bcc-aceb-4094-8432-c27eaa9fcb0a"
      },
      "execution_count": 11,
      "outputs": [
        {
          "output_type": "execute_result",
          "data": {
            "text/plain": [
              "10"
            ]
          },
          "metadata": {},
          "execution_count": 11
        }
      ]
    },
    {
      "cell_type": "markdown",
      "source": [
        "3) first()\n",
        "\n",
        "Retrieve the first employee record."
      ],
      "metadata": {
        "id": "fmcBlZZPp3Y3"
      }
    },
    {
      "cell_type": "code",
      "source": [
        "rdd.first()"
      ],
      "metadata": {
        "colab": {
          "base_uri": "https://localhost:8080/"
        },
        "id": "6sQeeXdnp79w",
        "outputId": "269c7f0f-5dbd-465a-d9e5-4d723ff2ea5d"
      },
      "execution_count": 12,
      "outputs": [
        {
          "output_type": "execute_result",
          "data": {
            "text/plain": [
              "('Amit', 'IT', 60000)"
            ]
          },
          "metadata": {},
          "execution_count": 12
        }
      ]
    },
    {
      "cell_type": "markdown",
      "source": [
        "4) take()\n",
        "\n",
        "Take the top 3 employees"
      ],
      "metadata": {
        "id": "7JOFHG-1p_Fv"
      }
    },
    {
      "cell_type": "code",
      "source": [
        "rdd.take(3)"
      ],
      "metadata": {
        "colab": {
          "base_uri": "https://localhost:8080/"
        },
        "id": "jXtme62vp9JI",
        "outputId": "45826c88-d875-4b88-c2f3-862944f2f443"
      },
      "execution_count": 13,
      "outputs": [
        {
          "output_type": "execute_result",
          "data": {
            "text/plain": [
              "[('Amit', 'IT', 60000), ('Priya', 'HR', 50000), ('Ravi', 'Finance', 70000)]"
            ]
          },
          "metadata": {},
          "execution_count": 13
        }
      ]
    },
    {
      "cell_type": "markdown",
      "source": [
        "5) saveAsTextFile()\n",
        "\n",
        "Save the RDD result of employees in HR department into a text file.\n",
        "\n",
        "\n"
      ],
      "metadata": {
        "id": "zSc8nGw3qFon"
      }
    },
    {
      "cell_type": "code",
      "source": [
        "hr_dept = rdd.filter(lambda x: x[1] == 'HR')\n",
        "save_file = hr_dept.saveAsTextFile(\"Hr_Employees\")"
      ],
      "metadata": {
        "id": "iA8aj5uLqQGI"
      },
      "execution_count": 14,
      "outputs": []
    },
    {
      "cell_type": "markdown",
      "source": [
        "#Question 2:\n",
        "\n",
        "#Transformation using filter, Joins, groupBy() and aggregations, window functions"
      ],
      "metadata": {
        "id": "nTiO0Qe5sk4Z"
      }
    },
    {
      "cell_type": "markdown",
      "source": [
        "Creating sample data"
      ],
      "metadata": {
        "id": "g0UG-SWos4jp"
      }
    },
    {
      "cell_type": "code",
      "source": [
        "from pyspark.sql import SparkSession\n",
        "from pyspark.sql import functions as F\n",
        "from pyspark.sql.window import Window\n",
        "\n",
        "spark = SparkSession.builder.appName(\"Transformations_Assessment\").getOrCreate()\n",
        "\n",
        "employee_data = [\n",
        "    (1, \"Amit\", \"IT\", 60000),\n",
        "    (2, \"Priya\", \"HR\", 50000),\n",
        "    (3, \"Ravi\", \"Finance\", 70000),\n",
        "    (4, \"Neha\", \"IT\", 65000),\n",
        "    (5, \"Vikram\", \"Finance\", 55000),\n",
        "    (6, \"Anjali\", \"HR\", 48000),\n",
        "    (7, \"Suresh\", \"IT\", 72000),\n",
        "    (8, \"Kavya\", \"Finance\", 62000),\n",
        "    (9, \"Rahul\", \"HR\", 51000),\n",
        "    (10, \"Meena\", \"IT\", 58000)\n",
        "]\n",
        "\n",
        "department_data = [\n",
        "    (\"IT\", \"Bangalore\"),\n",
        "    (\"HR\", \"Mumbai\"),\n",
        "    (\"Finance\", \"Delhi\")\n",
        "]\n",
        "\n",
        "df_employees = spark.createDataFrame(employee_data, [\"emp_id\", \"name\", \"department\", \"salary\"])\n",
        "df_departments = spark.createDataFrame(department_data, [\"department\", \"location\"])\n",
        "\n",
        "df_employees.show()\n",
        "df_departments.show()\n"
      ],
      "metadata": {
        "colab": {
          "base_uri": "https://localhost:8080/"
        },
        "id": "kiDk0dQnswip",
        "outputId": "26a5acbf-7192-4365-dfa0-d285e714f470"
      },
      "execution_count": 15,
      "outputs": [
        {
          "output_type": "stream",
          "name": "stdout",
          "text": [
            "+------+------+----------+------+\n",
            "|emp_id|  name|department|salary|\n",
            "+------+------+----------+------+\n",
            "|     1|  Amit|        IT| 60000|\n",
            "|     2| Priya|        HR| 50000|\n",
            "|     3|  Ravi|   Finance| 70000|\n",
            "|     4|  Neha|        IT| 65000|\n",
            "|     5|Vikram|   Finance| 55000|\n",
            "|     6|Anjali|        HR| 48000|\n",
            "|     7|Suresh|        IT| 72000|\n",
            "|     8| Kavya|   Finance| 62000|\n",
            "|     9| Rahul|        HR| 51000|\n",
            "|    10| Meena|        IT| 58000|\n",
            "+------+------+----------+------+\n",
            "\n",
            "+----------+---------+\n",
            "|department| location|\n",
            "+----------+---------+\n",
            "|        IT|Bangalore|\n",
            "|        HR|   Mumbai|\n",
            "|   Finance|    Delhi|\n",
            "+----------+---------+\n",
            "\n"
          ]
        }
      ]
    },
    {
      "cell_type": "markdown",
      "source": [
        "1) filter\n",
        "\n",
        "Filter employees whose salary is greater than 60,000 and department is IT or Finance"
      ],
      "metadata": {
        "id": "Y1FzXheNtEKQ"
      }
    },
    {
      "cell_type": "code",
      "source": [
        "from pyspark.sql.functions import col\n",
        "df1 = df_employees.filter((col(\"salary\") > 60000) &\n",
        "      ((col(\"department\") == 'IT') | (col(\"department\")=='Finance')))\n",
        "df1.show()"
      ],
      "metadata": {
        "colab": {
          "base_uri": "https://localhost:8080/"
        },
        "id": "vNlsdSb_tKft",
        "outputId": "d98550c4-bb9a-4a83-bbe0-dc4d06fdaacb"
      },
      "execution_count": 19,
      "outputs": [
        {
          "output_type": "stream",
          "name": "stdout",
          "text": [
            "+------+------+----------+------+\n",
            "|emp_id|  name|department|salary|\n",
            "+------+------+----------+------+\n",
            "|     3|  Ravi|   Finance| 70000|\n",
            "|     4|  Neha|        IT| 65000|\n",
            "|     7|Suresh|        IT| 72000|\n",
            "|     8| Kavya|   Finance| 62000|\n",
            "+------+------+----------+------+\n",
            "\n"
          ]
        }
      ]
    },
    {
      "cell_type": "markdown",
      "source": [
        "2) Join\n",
        "\n",
        "Join employees with departments to get their location"
      ],
      "metadata": {
        "id": "FkHhdAeWuGkN"
      }
    },
    {
      "cell_type": "code",
      "source": [
        "df1 = df_employees.join(df_departments, on=\"department\", how=\"inner\")\n",
        "df1.show()"
      ],
      "metadata": {
        "colab": {
          "base_uri": "https://localhost:8080/"
        },
        "id": "Ipk3HRFauHNh",
        "outputId": "9ee3d00b-57a3-4069-aca0-0ebeaf1f22b7"
      },
      "execution_count": 21,
      "outputs": [
        {
          "output_type": "stream",
          "name": "stdout",
          "text": [
            "+----------+------+------+------+---------+\n",
            "|department|emp_id|  name|salary| location|\n",
            "+----------+------+------+------+---------+\n",
            "|   Finance|     3|  Ravi| 70000|    Delhi|\n",
            "|   Finance|     5|Vikram| 55000|    Delhi|\n",
            "|   Finance|     8| Kavya| 62000|    Delhi|\n",
            "|        HR|     2| Priya| 50000|   Mumbai|\n",
            "|        HR|     6|Anjali| 48000|   Mumbai|\n",
            "|        HR|     9| Rahul| 51000|   Mumbai|\n",
            "|        IT|     1|  Amit| 60000|Bangalore|\n",
            "|        IT|     4|  Neha| 65000|Bangalore|\n",
            "|        IT|     7|Suresh| 72000|Bangalore|\n",
            "|        IT|    10| Meena| 58000|Bangalore|\n",
            "+----------+------+------+------+---------+\n",
            "\n"
          ]
        }
      ]
    },
    {
      "cell_type": "markdown",
      "source": [
        "3) GroupBy with Aggregations\n",
        "\n",
        "Find the average salary of employees in each department."
      ],
      "metadata": {
        "id": "CUhxdI1Xub9S"
      }
    },
    {
      "cell_type": "code",
      "source": [
        "from pyspark.sql.functions import avg\n",
        "df1 = df_employees.groupBy(\"department\").agg(avg(\"salary\").alias(\"avg_salary\"))\n",
        "df1.show()"
      ],
      "metadata": {
        "colab": {
          "base_uri": "https://localhost:8080/"
        },
        "id": "PvfRep_yudKX",
        "outputId": "30b5419f-83fc-4bc4-98bc-b3ad52fbbe01"
      },
      "execution_count": 24,
      "outputs": [
        {
          "output_type": "stream",
          "name": "stdout",
          "text": [
            "+----------+------------------+\n",
            "|department|        avg_salary|\n",
            "+----------+------------------+\n",
            "|        HR|49666.666666666664|\n",
            "|   Finance|62333.333333333336|\n",
            "|        IT|           63750.0|\n",
            "+----------+------------------+\n",
            "\n"
          ]
        }
      ]
    },
    {
      "cell_type": "markdown",
      "source": [
        "4) Simple Aggregations\n",
        "\n",
        "- Find the maximum salary and minimum salary across all employees.\n",
        "\n",
        "- Find the avg salary"
      ],
      "metadata": {
        "id": "3i8tNM8qup7m"
      }
    },
    {
      "cell_type": "code",
      "source": [
        "from pyspark.sql.functions import max, min\n",
        "df1 = df_employees.agg(max(\"salary\").alias(\"max_salary\"), min(\"salary\").alias(\"min_salary\"), avg(\"salary\").alias(\"avg_salary\"))\n",
        "df1.show()\n"
      ],
      "metadata": {
        "colab": {
          "base_uri": "https://localhost:8080/"
        },
        "id": "T94lZlyLurIs",
        "outputId": "59774dc9-5995-4c8b-c35c-221e80b2e31d"
      },
      "execution_count": 35,
      "outputs": [
        {
          "output_type": "stream",
          "name": "stdout",
          "text": [
            "+----------+----------+----------+\n",
            "|max_salary|min_salary|avg_salary|\n",
            "+----------+----------+----------+\n",
            "|     72000|     48000|   59100.0|\n",
            "+----------+----------+----------+\n",
            "\n"
          ]
        }
      ]
    },
    {
      "cell_type": "markdown",
      "source": [
        "5) Window Functions\n",
        "\n",
        "Find the rank of employees based on salary within each department."
      ],
      "metadata": {
        "id": "zdjrBDj3u3Hb"
      }
    },
    {
      "cell_type": "code",
      "source": [
        "from pyspark.sql.window import Window\n",
        "from pyspark.sql.functions import rank, percent_rank,ntile\n",
        "window_spec = Window.partitionBy(\"department\").orderBy(F.col(\"salary\").desc())\n",
        "#rank\n",
        "df1 = df_employees.withColumn(\"salary_rank\", rank().over(window_spec))\n",
        "df1.show()\n",
        "#percent rank\n",
        "df2 = df_employees.withColumn(\"salary_rank\", percent_rank().over(window_spec))\n",
        "df2.show()\n"
      ],
      "metadata": {
        "colab": {
          "base_uri": "https://localhost:8080/"
        },
        "id": "0hmvl_PFu4bR",
        "outputId": "7cd95be2-4599-41f4-c39f-a1d1227c9143"
      },
      "execution_count": 34,
      "outputs": [
        {
          "output_type": "stream",
          "name": "stdout",
          "text": [
            "+------+------+----------+------+-----------+\n",
            "|emp_id|  name|department|salary|salary_rank|\n",
            "+------+------+----------+------+-----------+\n",
            "|     3|  Ravi|   Finance| 70000|          1|\n",
            "|     8| Kavya|   Finance| 62000|          2|\n",
            "|     5|Vikram|   Finance| 55000|          3|\n",
            "|     9| Rahul|        HR| 51000|          1|\n",
            "|     2| Priya|        HR| 50000|          2|\n",
            "|     6|Anjali|        HR| 48000|          3|\n",
            "|     7|Suresh|        IT| 72000|          1|\n",
            "|     4|  Neha|        IT| 65000|          2|\n",
            "|     1|  Amit|        IT| 60000|          3|\n",
            "|    10| Meena|        IT| 58000|          4|\n",
            "+------+------+----------+------+-----------+\n",
            "\n",
            "+------+------+----------+------+------------------+\n",
            "|emp_id|  name|department|salary|       salary_rank|\n",
            "+------+------+----------+------+------------------+\n",
            "|     3|  Ravi|   Finance| 70000|               0.0|\n",
            "|     8| Kavya|   Finance| 62000|               0.5|\n",
            "|     5|Vikram|   Finance| 55000|               1.0|\n",
            "|     9| Rahul|        HR| 51000|               0.0|\n",
            "|     2| Priya|        HR| 50000|               0.5|\n",
            "|     6|Anjali|        HR| 48000|               1.0|\n",
            "|     7|Suresh|        IT| 72000|               0.0|\n",
            "|     4|  Neha|        IT| 65000|0.3333333333333333|\n",
            "|     1|  Amit|        IT| 60000|0.6666666666666666|\n",
            "|    10| Meena|        IT| 58000|               1.0|\n",
            "+------+------+----------+------+------------------+\n",
            "\n"
          ]
        }
      ]
    }
  ]
}