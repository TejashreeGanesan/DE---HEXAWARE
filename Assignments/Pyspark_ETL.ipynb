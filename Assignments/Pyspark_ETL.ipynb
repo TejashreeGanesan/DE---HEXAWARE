{
  "nbformat": 4,
  "nbformat_minor": 0,
  "metadata": {
    "colab": {
      "provenance": []
    },
    "kernelspec": {
      "name": "python3",
      "display_name": "Python 3"
    },
    "language_info": {
      "name": "python"
    }
  },
  "cells": [
    {
      "cell_type": "code",
      "execution_count": 3,
      "metadata": {
        "id": "fp9Rw0EXb4IT"
      },
      "outputs": [],
      "source": [
        "from pyspark.sql import SparkSession\n",
        "from pyspark.sql.functions import col,concat,lit,floor,rand\n",
        "spark = SparkSession.builder.appName(\"ETLPractice\").getOrCreate()\n",
        "source_path = \"loan.csv\"\n",
        "target_path = \"loan_result.csv\"\n",
        "load_data = spark.read.csv(\"loan.csv\",header = True, inferSchema = True)"
      ]
    },
    {
      "cell_type": "code",
      "source": [
        "load_data.columns\n",
        "load_data.show(5)"
      ],
      "metadata": {
        "colab": {
          "base_uri": "https://localhost:8080/"
        },
        "id": "Bf0GCnXfcp-I",
        "outputId": "08464c92-e7bf-424a-f7a5-0679f4b2d2cf"
      },
      "execution_count": 4,
      "outputs": [
        {
          "output_type": "stream",
          "name": "stdout",
          "text": [
            "+-----------+---+------+------------+--------------+-----------+------+-----------+-------------+-------------+-----------+-------+------------+----------------+------------------+\n",
            "|Customer_ID|Age|Gender|  Occupation|Marital Status|Family Size|Income|Expenditure|Use Frequency|Loan Category|Loan Amount|Overdue| Debt Record| Returned Cheque| Dishonour of Bill|\n",
            "+-----------+---+------+------------+--------------+-----------+------+-----------+-------------+-------------+-----------+-------+------------+----------------+------------------+\n",
            "|    IB14001| 30|  MALE|BANK MANAGER|        SINGLE|          4| 50000|      22199|            6|      HOUSING| 10,00,000 |      5|      42,898|               6|                 9|\n",
            "|    IB14008| 44|  MALE|   PROFESSOR|       MARRIED|          6| 51000|      19999|            4|     SHOPPING|     50,000|      3|      33,999|               1|                 5|\n",
            "|    IB14012| 30|FEMALE|     DENTIST|        SINGLE|          3| 58450|      27675|            5|   TRAVELLING|     75,000|      6|      20,876|               3|                 1|\n",
            "|    IB14018| 29|  MALE|     TEACHER|       MARRIED|          5| 45767|      12787|            3|    GOLD LOAN|  6,00,000 |      7|      11,000|               0|                 4|\n",
            "|    IB14022| 34|  MALE|      POLICE|        SINGLE|          4| 43521|      11999|            3|   AUTOMOBILE|  2,00,000 |      2|      43,898|               1|                 2|\n",
            "+-----------+---+------+------------+--------------+-----------+------+-----------+-------------+-------------+-----------+-------+------------+----------------+------------------+\n",
            "only showing top 5 rows\n",
            "\n"
          ]
        }
      ]
    },
    {
      "cell_type": "markdown",
      "source": [
        "#### Transformation 1: Concatenate Customer_ID and Occupation"
      ],
      "metadata": {
        "id": "HG6QqQRdc7zn"
      }
    },
    {
      "cell_type": "code",
      "source": [
        "load_data = load_data.withColumn(\"full_name\", concat(col('Customer_ID'), lit(' '), col('Occupation')))\n",
        "load_data.show()"
      ],
      "metadata": {
        "colab": {
          "base_uri": "https://localhost:8080/"
        },
        "id": "ALbaKut-c9wf",
        "outputId": "9d2dbbd1-bf3e-4032-f946-a282012f4b2e"
      },
      "execution_count": 6,
      "outputs": [
        {
          "output_type": "stream",
          "name": "stdout",
          "text": [
            "+-----------+---+------+-------------------+--------------+-----------+------+-----------+-------------+------------------+-----------+-------+------------+----------------+------------------+--------------------+\n",
            "|Customer_ID|Age|Gender|         Occupation|Marital Status|Family Size|Income|Expenditure|Use Frequency|     Loan Category|Loan Amount|Overdue| Debt Record| Returned Cheque| Dishonour of Bill|           full_name|\n",
            "+-----------+---+------+-------------------+--------------+-----------+------+-----------+-------------+------------------+-----------+-------+------------+----------------+------------------+--------------------+\n",
            "|    IB14001| 30|  MALE|       BANK MANAGER|        SINGLE|          4| 50000|      22199|            6|           HOUSING| 10,00,000 |      5|      42,898|               6|                 9|IB14001 BANK MANAGER|\n",
            "|    IB14008| 44|  MALE|          PROFESSOR|       MARRIED|          6| 51000|      19999|            4|          SHOPPING|     50,000|      3|      33,999|               1|                 5|   IB14008 PROFESSOR|\n",
            "|    IB14012| 30|FEMALE|            DENTIST|        SINGLE|          3| 58450|      27675|            5|        TRAVELLING|     75,000|      6|      20,876|               3|                 1|     IB14012 DENTIST|\n",
            "|    IB14018| 29|  MALE|            TEACHER|       MARRIED|          5| 45767|      12787|            3|         GOLD LOAN|  6,00,000 |      7|      11,000|               0|                 4|     IB14018 TEACHER|\n",
            "|    IB14022| 34|  MALE|             POLICE|        SINGLE|          4| 43521|      11999|            3|        AUTOMOBILE|  2,00,000 |      2|      43,898|               1|                 2|      IB14022 POLICE|\n",
            "|    IB14024| 55|FEMALE|              NURSE|       MARRIED|          6| 34999|      19888|            4|        AUTOMOBILE|     47,787|      1|      50,000|               0|                 3|       IB14024 NURSE|\n",
            "|    IB14025| 39|FEMALE|            TEACHER|       MARRIED|          6| 46619|      18675|            4|           HOUSING| 12,09,867 |      8|      29,999|               6|                 8|     IB14025 TEACHER|\n",
            "|    IB14027| 51|  MALE|     SYSTEM MANAGER|       MARRIED|          3| 49999|      19111|            5|       RESTAURANTS|     60,676|      8|      13,000|               2|                 5|IB14027 SYSTEM MA...|\n",
            "|    IB14029| 24|FEMALE|            TEACHER|        SINGLE|          3| 45008|      17454|            4|        AUTOMOBILE|  3,99,435 |      9|      51,987|               4|                 7|     IB14029 TEACHER|\n",
            "|    IB14031| 37|FEMALE|  SOFTWARE ENGINEER|       MARRIED|          5| 55999|      23999|            5|        AUTOMOBILE|     60,999|      2|           0|               5|                 3|IB14031 SOFTWARE ...|\n",
            "|    IB14032| 24|  MALE|       DATA ANALYST|        SINGLE|          4| 60111|      28999|            6|        AUTOMOBILE|     35,232|      5|      33,333|               1|                 2|IB14032 DATA ANALYST|\n",
            "|    IB14034| 32|  MALE|   PRODUCT ENGINEER|       MARRIED|          6|  NULL|      29000|            7|COMPUTER SOFTWARES|     80,660|      6|       4,500|               5|                 4|IB14034 PRODUCT E...|\n",
            "|    IB14037| 54|FEMALE|            TEACHER|       MARRIED|          5| 48099|      19999|            4|       RESTAURANTS|     30,999|      1|      12,000|               7|                 5|     IB14037 TEACHER|\n",
            "|    IB14039| 45|  MALE|    ACCOUNT MANAGER|       MARRIED|          7| 45777|      18452|            4|         GOLD LOAN|  9,87,611 |      7|      39,999|               8|                 1|IB14039 ACCOUNT M...|\n",
            "|    IB14041| 59|FEMALE|ASSISTANT PROFESSOR|       MARRIED|          4| 50999|      22999|            5|  EDUCATIONAL LOAN|  5,99,934 |      3|       9,000|               9|                 9|IB14041 ASSISTANT...|\n",
            "|    IB14042| 25|FEMALE|             DOCTOR|        SINGLE|          4| 60111|      27111|            5|        TRAVELLING| 12,90,929 |      4|      18,000|               1|                 0|      IB14042 DOCTOR|\n",
            "|    IB14045| 31|  MALE|       STORE KEEPER|        SINGLE|          5| 40999|      11999|            3|       BOOK STORES|  1,67,654 |      1|       4,500|               0|                 1|IB14045 STORE KEEPER|\n",
            "|    IB14049| 49|  MALE|       BANK MANAGER|       MARRIED|          4| 45999|      14500|            4|        TRAVELLING|     79,999|      4|       6,700|               7|                 3|IB14049 BANK MANAGER|\n",
            "|    IB14050| 56|  MALE|     CIVIL ENGINEER|       MARRIED|          4|  NULL|      13999|            3|           HOUSING| 10,65,577 |      6|      19,999|               4|                 2|IB14050 CIVIL ENG...|\n",
            "|    IB14054| 58|FEMALE|             DOCTOR|       MARRIED|          5| 60000|      25000|            5|           HOUSING|  9,00,000 |      5|      21,000|               9|                 0|      IB14054 DOCTOR|\n",
            "+-----------+---+------+-------------------+--------------+-----------+------+-----------+-------------+------------------+-----------+-------+------------+----------------+------------------+--------------------+\n",
            "only showing top 20 rows\n",
            "\n"
          ]
        }
      ]
    },
    {
      "cell_type": "markdown",
      "source": [
        "#### Transformation 2: Calculate Income (subtract 10% taxes)"
      ],
      "metadata": {
        "id": "VE8f9YGvd5Zo"
      }
    },
    {
      "cell_type": "code",
      "source": [
        "load_data = load_data.withColumn('Income', floor(lit(10000) + rand() * lit(50)))\n",
        "load_data.show(10)"
      ],
      "metadata": {
        "colab": {
          "base_uri": "https://localhost:8080/"
        },
        "id": "MPHSq3v_d-fl",
        "outputId": "3596f3b3-abf0-4849-f485-5c6c38dbe467"
      },
      "execution_count": 7,
      "outputs": [
        {
          "output_type": "stream",
          "name": "stdout",
          "text": [
            "+-----------+---+------+-----------------+--------------+-----------+------+-----------+-------------+-------------+-----------+-------+------------+----------------+------------------+--------------------+\n",
            "|Customer_ID|Age|Gender|       Occupation|Marital Status|Family Size|Income|Expenditure|Use Frequency|Loan Category|Loan Amount|Overdue| Debt Record| Returned Cheque| Dishonour of Bill|           full_name|\n",
            "+-----------+---+------+-----------------+--------------+-----------+------+-----------+-------------+-------------+-----------+-------+------------+----------------+------------------+--------------------+\n",
            "|    IB14001| 30|  MALE|     BANK MANAGER|        SINGLE|          4| 10031|      22199|            6|      HOUSING| 10,00,000 |      5|      42,898|               6|                 9|IB14001 BANK MANAGER|\n",
            "|    IB14008| 44|  MALE|        PROFESSOR|       MARRIED|          6| 10006|      19999|            4|     SHOPPING|     50,000|      3|      33,999|               1|                 5|   IB14008 PROFESSOR|\n",
            "|    IB14012| 30|FEMALE|          DENTIST|        SINGLE|          3| 10002|      27675|            5|   TRAVELLING|     75,000|      6|      20,876|               3|                 1|     IB14012 DENTIST|\n",
            "|    IB14018| 29|  MALE|          TEACHER|       MARRIED|          5| 10009|      12787|            3|    GOLD LOAN|  6,00,000 |      7|      11,000|               0|                 4|     IB14018 TEACHER|\n",
            "|    IB14022| 34|  MALE|           POLICE|        SINGLE|          4| 10024|      11999|            3|   AUTOMOBILE|  2,00,000 |      2|      43,898|               1|                 2|      IB14022 POLICE|\n",
            "|    IB14024| 55|FEMALE|            NURSE|       MARRIED|          6| 10036|      19888|            4|   AUTOMOBILE|     47,787|      1|      50,000|               0|                 3|       IB14024 NURSE|\n",
            "|    IB14025| 39|FEMALE|          TEACHER|       MARRIED|          6| 10014|      18675|            4|      HOUSING| 12,09,867 |      8|      29,999|               6|                 8|     IB14025 TEACHER|\n",
            "|    IB14027| 51|  MALE|   SYSTEM MANAGER|       MARRIED|          3| 10003|      19111|            5|  RESTAURANTS|     60,676|      8|      13,000|               2|                 5|IB14027 SYSTEM MA...|\n",
            "|    IB14029| 24|FEMALE|          TEACHER|        SINGLE|          3| 10028|      17454|            4|   AUTOMOBILE|  3,99,435 |      9|      51,987|               4|                 7|     IB14029 TEACHER|\n",
            "|    IB14031| 37|FEMALE|SOFTWARE ENGINEER|       MARRIED|          5| 10012|      23999|            5|   AUTOMOBILE|     60,999|      2|           0|               5|                 3|IB14031 SOFTWARE ...|\n",
            "+-----------+---+------+-----------------+--------------+-----------+------+-----------+-------------+-------------+-----------+-------+------------+----------------+------------------+--------------------+\n",
            "only showing top 10 rows\n",
            "\n"
          ]
        }
      ]
    },
    {
      "cell_type": "markdown",
      "source": [
        "#### Adding Eligibilty Score column"
      ],
      "metadata": {
        "id": "0_p9Jw9UfbLD"
      }
    },
    {
      "cell_type": "code",
      "source": [
        "load_data = load_data.withColumn('Loan_Eligibility_Score', floor(lit(20) + rand() * lit(31)))\n",
        "load_data.show(10)"
      ],
      "metadata": {
        "colab": {
          "base_uri": "https://localhost:8080/"
        },
        "id": "0WAjExomff8H",
        "outputId": "5cc74b71-e4a0-412c-afd1-2b7bd58589aa"
      },
      "execution_count": 8,
      "outputs": [
        {
          "output_type": "stream",
          "name": "stdout",
          "text": [
            "+-----------+---+------+-----------------+--------------+-----------+------+-----------+-------------+-------------+-----------+-------+------------+----------------+------------------+--------------------+----------------------+\n",
            "|Customer_ID|Age|Gender|       Occupation|Marital Status|Family Size|Income|Expenditure|Use Frequency|Loan Category|Loan Amount|Overdue| Debt Record| Returned Cheque| Dishonour of Bill|           full_name|Loan_Eligibility_Score|\n",
            "+-----------+---+------+-----------------+--------------+-----------+------+-----------+-------------+-------------+-----------+-------+------------+----------------+------------------+--------------------+----------------------+\n",
            "|    IB14001| 30|  MALE|     BANK MANAGER|        SINGLE|          4| 10031|      22199|            6|      HOUSING| 10,00,000 |      5|      42,898|               6|                 9|IB14001 BANK MANAGER|                    47|\n",
            "|    IB14008| 44|  MALE|        PROFESSOR|       MARRIED|          6| 10006|      19999|            4|     SHOPPING|     50,000|      3|      33,999|               1|                 5|   IB14008 PROFESSOR|                    24|\n",
            "|    IB14012| 30|FEMALE|          DENTIST|        SINGLE|          3| 10002|      27675|            5|   TRAVELLING|     75,000|      6|      20,876|               3|                 1|     IB14012 DENTIST|                    23|\n",
            "|    IB14018| 29|  MALE|          TEACHER|       MARRIED|          5| 10009|      12787|            3|    GOLD LOAN|  6,00,000 |      7|      11,000|               0|                 4|     IB14018 TEACHER|                    24|\n",
            "|    IB14022| 34|  MALE|           POLICE|        SINGLE|          4| 10024|      11999|            3|   AUTOMOBILE|  2,00,000 |      2|      43,898|               1|                 2|      IB14022 POLICE|                    42|\n",
            "|    IB14024| 55|FEMALE|            NURSE|       MARRIED|          6| 10036|      19888|            4|   AUTOMOBILE|     47,787|      1|      50,000|               0|                 3|       IB14024 NURSE|                    33|\n",
            "|    IB14025| 39|FEMALE|          TEACHER|       MARRIED|          6| 10014|      18675|            4|      HOUSING| 12,09,867 |      8|      29,999|               6|                 8|     IB14025 TEACHER|                    43|\n",
            "|    IB14027| 51|  MALE|   SYSTEM MANAGER|       MARRIED|          3| 10003|      19111|            5|  RESTAURANTS|     60,676|      8|      13,000|               2|                 5|IB14027 SYSTEM MA...|                    25|\n",
            "|    IB14029| 24|FEMALE|          TEACHER|        SINGLE|          3| 10028|      17454|            4|   AUTOMOBILE|  3,99,435 |      9|      51,987|               4|                 7|     IB14029 TEACHER|                    29|\n",
            "|    IB14031| 37|FEMALE|SOFTWARE ENGINEER|       MARRIED|          5| 10012|      23999|            5|   AUTOMOBILE|     60,999|      2|           0|               5|                 3|IB14031 SOFTWARE ...|                    47|\n",
            "+-----------+---+------+-----------------+--------------+-----------+------+-----------+-------------+-------------+-----------+-------+------------+----------------+------------------+--------------------+----------------------+\n",
            "only showing top 10 rows\n",
            "\n"
          ]
        }
      ]
    },
    {
      "cell_type": "markdown",
      "source": [
        "#### Transformation 3: Filter by Age (age >=30)"
      ],
      "metadata": {
        "id": "TieIYpmSfz3B"
      }
    },
    {
      "cell_type": "code",
      "source": [
        "load_data = load_data.filter(col('age')>=30)\n",
        "load_data.show()"
      ],
      "metadata": {
        "colab": {
          "base_uri": "https://localhost:8080/"
        },
        "id": "K-iJRpvQf4WF",
        "outputId": "f79ef54b-d29d-4eb7-857e-02bc30425b85"
      },
      "execution_count": 9,
      "outputs": [
        {
          "output_type": "stream",
          "name": "stdout",
          "text": [
            "+-----------+---+------+-------------------+--------------+-----------+------+-----------+-------------+------------------+-----------+-------+------------+----------------+------------------+--------------------+----------------------+\n",
            "|Customer_ID|Age|Gender|         Occupation|Marital Status|Family Size|Income|Expenditure|Use Frequency|     Loan Category|Loan Amount|Overdue| Debt Record| Returned Cheque| Dishonour of Bill|           full_name|Loan_Eligibility_Score|\n",
            "+-----------+---+------+-------------------+--------------+-----------+------+-----------+-------------+------------------+-----------+-------+------------+----------------+------------------+--------------------+----------------------+\n",
            "|    IB14001| 30|  MALE|       BANK MANAGER|        SINGLE|          4| 10031|      22199|            6|           HOUSING| 10,00,000 |      5|      42,898|               6|                 9|IB14001 BANK MANAGER|                    47|\n",
            "|    IB14008| 44|  MALE|          PROFESSOR|       MARRIED|          6| 10006|      19999|            4|          SHOPPING|     50,000|      3|      33,999|               1|                 5|   IB14008 PROFESSOR|                    24|\n",
            "|    IB14012| 30|FEMALE|            DENTIST|        SINGLE|          3| 10002|      27675|            5|        TRAVELLING|     75,000|      6|      20,876|               3|                 1|     IB14012 DENTIST|                    23|\n",
            "|    IB14022| 34|  MALE|             POLICE|        SINGLE|          4| 10024|      11999|            3|        AUTOMOBILE|  2,00,000 |      2|      43,898|               1|                 2|      IB14022 POLICE|                    42|\n",
            "|    IB14024| 55|FEMALE|              NURSE|       MARRIED|          6| 10036|      19888|            4|        AUTOMOBILE|     47,787|      1|      50,000|               0|                 3|       IB14024 NURSE|                    33|\n",
            "|    IB14025| 39|FEMALE|            TEACHER|       MARRIED|          6| 10014|      18675|            4|           HOUSING| 12,09,867 |      8|      29,999|               6|                 8|     IB14025 TEACHER|                    43|\n",
            "|    IB14027| 51|  MALE|     SYSTEM MANAGER|       MARRIED|          3| 10003|      19111|            5|       RESTAURANTS|     60,676|      8|      13,000|               2|                 5|IB14027 SYSTEM MA...|                    25|\n",
            "|    IB14031| 37|FEMALE|  SOFTWARE ENGINEER|       MARRIED|          5| 10012|      23999|            5|        AUTOMOBILE|     60,999|      2|           0|               5|                 3|IB14031 SOFTWARE ...|                    47|\n",
            "|    IB14034| 32|  MALE|   PRODUCT ENGINEER|       MARRIED|          6| 10039|      29000|            7|COMPUTER SOFTWARES|     80,660|      6|       4,500|               5|                 4|IB14034 PRODUCT E...|                    34|\n",
            "|    IB14037| 54|FEMALE|            TEACHER|       MARRIED|          5| 10005|      19999|            4|       RESTAURANTS|     30,999|      1|      12,000|               7|                 5|     IB14037 TEACHER|                    36|\n",
            "|    IB14039| 45|  MALE|    ACCOUNT MANAGER|       MARRIED|          7| 10031|      18452|            4|         GOLD LOAN|  9,87,611 |      7|      39,999|               8|                 1|IB14039 ACCOUNT M...|                    33|\n",
            "|    IB14041| 59|FEMALE|ASSISTANT PROFESSOR|       MARRIED|          4| 10027|      22999|            5|  EDUCATIONAL LOAN|  5,99,934 |      3|       9,000|               9|                 9|IB14041 ASSISTANT...|                    23|\n",
            "|    IB14045| 31|  MALE|       STORE KEEPER|        SINGLE|          5| 10008|      11999|            3|       BOOK STORES|  1,67,654 |      1|       4,500|               0|                 1|IB14045 STORE KEEPER|                    26|\n",
            "|    IB14049| 49|  MALE|       BANK MANAGER|       MARRIED|          4| 10000|      14500|            4|        TRAVELLING|     79,999|      4|       6,700|               7|                 3|IB14049 BANK MANAGER|                    50|\n",
            "|    IB14050| 56|  MALE|     CIVIL ENGINEER|       MARRIED|          4| 10012|      13999|            3|           HOUSING| 10,65,577 |      6|      19,999|               4|                 2|IB14050 CIVIL ENG...|                    45|\n",
            "|    IB14054| 58|FEMALE|             DOCTOR|       MARRIED|          5| 10024|      25000|            5|           HOUSING|  9,00,000 |      5|      21,000|               9|                 0|      IB14054 DOCTOR|                    38|\n",
            "|    IB14060| 36|FEMALE|              CLERK|       MARRIED|          4| 10046|      15000|            3|           HOUSING|  3,00,000 |      2|       5,600|               4|                 8|       IB14060 CLERK|                    35|\n",
            "|    IB14070| 40|  MALE|       PUBLIC WORKS|       MARRIED|          4| 10043|      20000|            3|         GOLD LOAN|  4,00,000 |      9|      19,954|               3|                 2|IB14070 PUBLIC WORKS|                    42|\n",
            "|    IB14078| 45|FEMALE|    FIRE DEPARTMENT|       MARRIED|          4| 10009|      18888|            4|        AUTOMOBILE|     70,000|      1|           0|               2|                 1|IB14078 FIRE DEPA...|                    36|\n",
            "|    IB14082| 60|FEMALE|            TEACHER|       MARRIED|          5| 10002|      40000|            9|         GOLD LOAN|  2,57,789 |      4|      10,058|               4|                 3|     IB14082 TEACHER|                    24|\n",
            "+-----------+---+------+-------------------+--------------+-----------+------+-----------+-------------+------------------+-----------+-------+------------+----------------+------------------+--------------------+----------------------+\n",
            "only showing top 20 rows\n",
            "\n"
          ]
        }
      ]
    },
    {
      "cell_type": "markdown",
      "source": [
        "#### Transformation 4: Group by Age and Calculate Average Salary"
      ],
      "metadata": {
        "id": "pRZKkVz2gKp-"
      }
    },
    {
      "cell_type": "code",
      "source": [
        "avg_salary_by_age = load_data.groupBy('age').agg({'Income':'avg'}).withColumnRenamed('avg(salary)', 'avg_salary')\n",
        "avg_salary_by_age.show()"
      ],
      "metadata": {
        "colab": {
          "base_uri": "https://localhost:8080/"
        },
        "id": "iT9EiAu4gLbF",
        "outputId": "294a710e-4706-41c8-d020-7ec2b48c4f4b"
      },
      "execution_count": 10,
      "outputs": [
        {
          "output_type": "stream",
          "name": "stdout",
          "text": [
            "+---+------------------+\n",
            "|age|       avg(Income)|\n",
            "+---+------------------+\n",
            "| 31|10025.266666666666|\n",
            "| 53|           10026.0|\n",
            "| 34| 10024.07142857143|\n",
            "| 44|           10023.0|\n",
            "| 47| 10026.23076923077|\n",
            "| 52|10022.666666666666|\n",
            "| 40|           10019.8|\n",
            "| 57|           10035.2|\n",
            "| 54|10023.387096774193|\n",
            "| 48| 10024.57142857143|\n",
            "| 41|          10018.25|\n",
            "| 43|         10026.375|\n",
            "| 37|10019.636363636364|\n",
            "| 35|           10026.5|\n",
            "| 55|10022.666666666666|\n",
            "| 59| 10036.09090909091|\n",
            "| 39|           10023.0|\n",
            "| 49| 10022.92857142857|\n",
            "| 51|10020.055555555555|\n",
            "| 50|           10026.2|\n",
            "+---+------------------+\n",
            "only showing top 20 rows\n",
            "\n"
          ]
        }
      ]
    },
    {
      "cell_type": "code",
      "source": [
        "load_data = load_data.orderBy('age')\n",
        "load_data.show()"
      ],
      "metadata": {
        "colab": {
          "base_uri": "https://localhost:8080/"
        },
        "id": "_wDoz1kMgnOH",
        "outputId": "011bbaeb-b49c-44b0-d0d6-faa1a50ea8c5"
      },
      "execution_count": 11,
      "outputs": [
        {
          "output_type": "stream",
          "name": "stdout",
          "text": [
            "+-----------+---+------+--------------------+--------------+-----------+------+-----------+-------------+------------------+-----------+-------+------------+----------------+------------------+--------------------+----------------------+\n",
            "|Customer_ID|Age|Gender|          Occupation|Marital Status|Family Size|Income|Expenditure|Use Frequency|     Loan Category|Loan Amount|Overdue| Debt Record| Returned Cheque| Dishonour of Bill|           full_name|Loan_Eligibility_Score|\n",
            "+-----------+---+------+--------------------+--------------+-----------+------+-----------+-------------+------------------+-----------+-------+------------+----------------+------------------+--------------------+----------------------+\n",
            "|    IB14085| 30|  MALE|         ELECTRICIAN|       MARRIED|          4| 10014|      15000|            5|           HOUSING|  3,54,789 |      5|      32,154|               5|                 5| IB14085 ELECTRICIAN|                    24|\n",
            "|    IB14012| 30|FEMALE|             DENTIST|        SINGLE|          3| 10002|      27675|            5|        TRAVELLING|     75,000|      6|      20,876|               3|                 1|     IB14012 DENTIST|                    23|\n",
            "|    IB14001| 30|  MALE|        BANK MANAGER|        SINGLE|          4| 10031|      22199|            6|           HOUSING| 10,00,000 |      5|      42,898|               6|                 9|IB14001 BANK MANAGER|                    47|\n",
            "|    IB14187| 30|FEMALE|             DENTIST|        SINGLE|          3| 10038|      27675|            5|        TRAVELLING|     75,000|      6|      20,876|               3|                 1|     IB14187 DENTIST|                    24|\n",
            "|    IB14220| 30|FEMALE|             DENTIST|        SINGLE|          3| 10022|      27675|            5|        TRAVELLING|     75,000|      6|      20,876|               3|                 1|     IB14220 DENTIST|                    34|\n",
            "|    IB14667| 30|  MALE|AGRICULTURAL ENGI...|        SINGLE|          6| 10011|      49481|            3|           HOUSING|    679,588|      1|       21091|               3|                 3|IB14667 AGRICULTU...|                    34|\n",
            "|    IB14633| 30|FEMALE|   SOFTWARE ENGINEER|       MARRIED|          7| 10031|      14748|            9|COMPUTER SOFTWARES|    898,938|      2|       44000|               4|                 6|IB14633 SOFTWARE ...|                    37|\n",
            "|    IB14304| 30|  MALE|         ELECTRICIAN|       MARRIED|          4| 10027|      15000|            5|           HOUSING|  3,54,789 |      5|      32,154|               5|                 5| IB14304 ELECTRICIAN|                    30|\n",
            "|    IB14497| 30|  MALE|     ACCOUNT MANAGER|       MARRIED|          4| 10007|      17647|            6|         GOLD LOAN|    837,703|      6|       22579|               2|                 9|IB14497 ACCOUNT M...|                    27|\n",
            "|    IB14566| 30|  MALE| CHARTERED APPRAISER|       MARRIED|          2| 10027|      29463|            4|         GOLD LOAN|  1,389,600|      3|       30686|               6|                 1|IB14566 CHARTERED...|                    49|\n",
            "|    IB14706| 30|FEMALE|             TEACHER|        SINGLE|          5| 10026|      20097|            2|        AUTOMOBILE|    722,907|      2|       56157|               2|                 7|     IB14706 TEACHER|                    21|\n",
            "|    IB14721| 30|  MALE|               PILOT|        SINGLE|          2| 10038|      37037|            3|          BUSINESS|  1,042,400|      2|       34044|               3|                 1|       IB14721 PILOT|                    38|\n",
            "|    IB14800| 30|FEMALE|             TEACHER|        SINGLE|          4| 10049|      21720|            4|          SHOPPING|    140,556|      9|       40378|               7|                 7|     IB14800 TEACHER|                    40|\n",
            "|    IB14804| 30|  MALE|            BUSINESS|        SINGLE|          2| 10013|      34709|            7|         GOLD LOAN|  1,765,055|      8|       37815|               5|                 8|    IB14804 BUSINESS|                    32|\n",
            "|    IB14831| 30|FEMALE|                NAVY|        SINGLE|          6| 10025|      21101|            5|           HOUSING|    745,152|      5|       57851|               6|                 8|        IB14831 NAVY|                    25|\n",
            "|    IB14976| 30|  MALE| CHARTERED APPRAISER|       MARRIED|          2| 10038|      39463|            4|        AUTOMOBILE|    989,600|      3|       30686|               6|                 1|IB14976 CHARTERED...|                    34|\n",
            "|    IB15011| 30|FEMALE|             TEACHER|        SINGLE|          5| 10010|      28097|            2|        AUTOMOBILE|    822,907|      2|       56157|               2|                 7|     IB15011 TEACHER|                    30|\n",
            "|    IB15031| 30|  MALE|               PILOT|        SINGLE|          2| 10013|      47037|            3|          BUSINESS|  1,042,400|      2|       34044|               3|                 1|       IB15031 PILOT|                    44|\n",
            "|    IB14287| 31|  MALE|        STORE KEEPER|        SINGLE|          5| 10008|      11999|            3|       BOOK STORES|  1,67,654 |      1|       4,500|               0|                 1|IB14287 STORE KEEPER|                    26|\n",
            "|    IB14045| 31|  MALE|        STORE KEEPER|        SINGLE|          5| 10008|      11999|            3|       BOOK STORES|  1,67,654 |      1|       4,500|               0|                 1|IB14045 STORE KEEPER|                    26|\n",
            "+-----------+---+------+--------------------+--------------+-----------+------+-----------+-------------+------------------+-----------+-------+------------+----------------+------------------+--------------------+----------------------+\n",
            "only showing top 20 rows\n",
            "\n"
          ]
        }
      ]
    },
    {
      "cell_type": "markdown",
      "source": [
        "#### Save the transformed data to an external CSV file"
      ],
      "metadata": {
        "id": "B4ZFnobpg9CP"
      }
    },
    {
      "cell_type": "code",
      "source": [
        "load_data.write.csv(target_path, mode='overwrite', header=True)"
      ],
      "metadata": {
        "id": "QjNSyjQXg8hu"
      },
      "execution_count": 12,
      "outputs": []
    }
  ]
}