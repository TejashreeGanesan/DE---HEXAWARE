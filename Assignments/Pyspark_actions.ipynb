{
  "nbformat": 4,
  "nbformat_minor": 0,
  "metadata": {
    "colab": {
      "provenance": []
    },
    "kernelspec": {
      "name": "python3",
      "display_name": "Python 3"
    },
    "language_info": {
      "name": "python"
    }
  },
  "cells": [
    {
      "cell_type": "markdown",
      "source": [
        "## Pyspark RDD Operations"
      ],
      "metadata": {
        "id": "sOuD13ENrbsa"
      }
    },
    {
      "cell_type": "markdown",
      "source": [
        "### Essential RDD Actions"
      ],
      "metadata": {
        "id": "jihI6mMnreMC"
      }
    },
    {
      "cell_type": "markdown",
      "source": [
        ".collect() Action"
      ],
      "metadata": {
        "id": "Loyjm4Mnrhw6"
      }
    },
    {
      "cell_type": "markdown",
      "source": [
        "Returns all elements of the RDD as a Python list."
      ],
      "metadata": {
        "id": "MfuaO1XsterV"
      }
    },
    {
      "cell_type": "code",
      "source": [
        "from pyspark import SparkContext\n",
        "sc = SparkContext.getOrCreate()\n",
        "collect_rdd = sc.parallelize([1,2,3,4,5])\n",
        "print(collect_rdd.collect())"
      ],
      "metadata": {
        "colab": {
          "base_uri": "https://localhost:8080/"
        },
        "id": "G3vGrvaqrkxC",
        "outputId": "5980dcad-8854-4040-b4c6-13fbe9dcab3e"
      },
      "execution_count": null,
      "outputs": [
        {
          "output_type": "stream",
          "name": "stdout",
          "text": [
            "[1, 2, 3, 4, 5]\n"
          ]
        }
      ]
    },
    {
      "cell_type": "markdown",
      "source": [
        ".count() Action"
      ],
      "metadata": {
        "id": "w96XrzyjqX0j"
      }
    },
    {
      "cell_type": "markdown",
      "source": [
        "Returns the number of elements in the RDD."
      ],
      "metadata": {
        "id": "SedcIrPKtios"
      }
    },
    {
      "cell_type": "code",
      "execution_count": null,
      "metadata": {
        "colab": {
          "base_uri": "https://localhost:8080/"
        },
        "id": "ZqICgeecqXYM",
        "outputId": "f08b4e4a-3ab7-4cf7-e8ba-35f5d756f7b3"
      },
      "outputs": [
        {
          "output_type": "stream",
          "name": "stdout",
          "text": [
            "10\n"
          ]
        }
      ],
      "source": [
        "from pyspark import SparkContext\n",
        "sc = SparkContext.getOrCreate()\n",
        "count_rdd = sc.parallelize([1,2,3,4,5,5,6,7,8,9])\n",
        "print(count_rdd.count())"
      ]
    },
    {
      "cell_type": "markdown",
      "source": [
        ".first() Action"
      ],
      "metadata": {
        "id": "viuPA170qtMK"
      }
    },
    {
      "cell_type": "markdown",
      "source": [
        "Returns the first element of the RDD."
      ],
      "metadata": {
        "id": "CG3l6sAGtrvz"
      }
    },
    {
      "cell_type": "code",
      "source": [
        "first_rdd = sc.parallelize([1, 2, 3, 4, 5])\n",
        "print(first_rdd.first())"
      ],
      "metadata": {
        "colab": {
          "base_uri": "https://localhost:8080/"
        },
        "id": "JFSS10Xhqu6u",
        "outputId": "5ea0cdf3-33dc-4e16-de42-b5c6c47fa65d"
      },
      "execution_count": null,
      "outputs": [
        {
          "output_type": "stream",
          "name": "stdout",
          "text": [
            "1\n"
          ]
        }
      ]
    },
    {
      "cell_type": "markdown",
      "source": [
        ".take() Action"
      ],
      "metadata": {
        "id": "sw1P6S3NrBqY"
      }
    },
    {
      "cell_type": "markdown",
      "source": [
        "- Returns a list with the first n elements from the RDD.\n",
        "- The ‘n’ argument takes an integer which refers to the number of elements we want to extract from the RDD."
      ],
      "metadata": {
        "id": "1NLOgmBptxCM"
      }
    },
    {
      "cell_type": "code",
      "source": [
        "take_rdd = sc.parallelize([1, 2, 3, 4, 5])\n",
        "print(take_rdd.take(2))"
      ],
      "metadata": {
        "colab": {
          "base_uri": "https://localhost:8080/"
        },
        "id": "4SwceLH2rDKP",
        "outputId": "771e6c37-779c-48b5-b4b7-07ce9ba4cda6"
      },
      "execution_count": null,
      "outputs": [
        {
          "output_type": "stream",
          "name": "stdout",
          "text": [
            "[1, 2]\n"
          ]
        }
      ]
    },
    {
      "cell_type": "markdown",
      "source": [
        ".reduce() Action"
      ],
      "metadata": {
        "id": "88x7yC_-rJGi"
      }
    },
    {
      "cell_type": "markdown",
      "source": [
        "The .reduce() Action takes two elements from the given RDD and operates. This operation is performed using an anonymous function or lambda."
      ],
      "metadata": {
        "id": "kSimqIPttvoz"
      }
    },
    {
      "cell_type": "code",
      "source": [
        "reduce_rdd = sc.parallelize([1,3,4,6])\n",
        "print(reduce_rdd.reduce(lambda x,y: x+y))"
      ],
      "metadata": {
        "colab": {
          "base_uri": "https://localhost:8080/"
        },
        "id": "lSd8lICvrLkB",
        "outputId": "676ae8e4-5b95-4e8b-91b6-5dbfd0ea3b08"
      },
      "execution_count": null,
      "outputs": [
        {
          "output_type": "stream",
          "name": "stdout",
          "text": [
            "14\n"
          ]
        }
      ]
    },
    {
      "cell_type": "markdown",
      "source": [
        ".saveAsTextFile() Action"
      ],
      "metadata": {
        "id": "nt7BbGVYsInD"
      }
    },
    {
      "cell_type": "markdown",
      "source": [
        "Saves the RDD as a folder of text files on the storage"
      ],
      "metadata": {
        "id": "Gs6zyD4suG4T"
      }
    },
    {
      "cell_type": "code",
      "source": [
        "save_rdd = sc.parallelize([1,3,4,6,7,9,12,10])\n",
        "save_rdd.saveAsTextFile('file.txt')"
      ],
      "metadata": {
        "id": "W4gF-1spsMOW"
      },
      "execution_count": null,
      "outputs": []
    }
  ]
}