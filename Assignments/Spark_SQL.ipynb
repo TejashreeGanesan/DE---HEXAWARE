{
  "nbformat": 4,
  "nbformat_minor": 0,
  "metadata": {
    "colab": {
      "provenance": []
    },
    "kernelspec": {
      "name": "python3",
      "display_name": "Python 3"
    },
    "language_info": {
      "name": "python"
    }
  },
  "cells": [
    {
      "cell_type": "code",
      "execution_count": 4,
      "metadata": {
        "colab": {
          "base_uri": "https://localhost:8080/",
          "height": 34
        },
        "id": "aCh8QSrdrGYe",
        "outputId": "2bd26631-6411-4e3f-935d-af639429942b"
      },
      "outputs": [
        {
          "output_type": "display_data",
          "data": {
            "text/plain": [
              "DataFrame[_c0: string, _c1: string, _c2: string, _c3: string, _c4: string]"
            ]
          },
          "metadata": {}
        }
      ],
      "source": [
        "from pyspark.sql import SparkSession\n",
        "spark = SparkSession.builder.appName(\"SPARK SQL Practice\").getOrCreate()\n",
        "#file location and type\n",
        "file_location = '/content/simple-zipcodes.csv'\n",
        "file_type = \"csv\"\n",
        "#csv options\n",
        "infer_schema = \"false\"\n",
        "first_row_is_header = \"false\"\n",
        "delimiter = \",\"\n",
        "# The applied options are for CSV files. For other file types, these will be ignored.\n",
        "df = spark.read.format(file_type) \\\n",
        "  .option(\"inferSchema\", infer_schema) \\\n",
        "  .option(\"header\", first_row_is_header) \\\n",
        "  .option(\"sep\", delimiter) \\\n",
        "  .load(file_location)\n",
        "\n",
        "display(df)\n",
        "df.createOrReplaceTempView(\"tempdata\")"
      ]
    },
    {
      "cell_type": "code",
      "source": [
        "spark.sql(\"select * from tempdata\").show()\n",
        "df.select(\"_c0\",\"_c1\").show(5)"
      ],
      "metadata": {
        "colab": {
          "base_uri": "https://localhost:8080/"
        },
        "id": "FqegB8kisQof",
        "outputId": "e38f03a2-44d0-4687-89b7-a8f98b3ed84f"
      },
      "execution_count": 5,
      "outputs": [
        {
          "output_type": "stream",
          "name": "stdout",
          "text": [
            "+------------+-------+-------------------+-------+-----+\n",
            "|         _c0|    _c1|                _c2|    _c3|  _c4|\n",
            "+------------+-------+-------------------+-------+-----+\n",
            "|RecordNumber|Country|               City|Zipcode|State|\n",
            "|           1|     US|        PARC PARQUE|    704|   PR|\n",
            "|           2|     US|PASEO COSTA DEL SUR|    704|   PR|\n",
            "|          10|     US|       BDA SAN LUIS|    709|   PR|\n",
            "|       49347|     US|               HOLT|  32564|   FL|\n",
            "|       49348|     US|          HOMOSASSA|  34487|   FL|\n",
            "|       61391|     US|  CINGULAR WIRELESS|  76166|   TX|\n",
            "|       61392|     US|         FORT WORTH|  76177|   TX|\n",
            "|       61393|     US|           FT WORTH|  76177|   TX|\n",
            "|       54356|     US|        SPRUCE PINE|  35585|   AL|\n",
            "|       76511|     US|           ASH HILL|  27007|   NC|\n",
            "|           4|     US|    URB EUGENE RICE|    704|   PR|\n",
            "|       39827|     US|               MESA|  85209|   AZ|\n",
            "|       39828|     US|               MESA|  85210|   AZ|\n",
            "|       49345|     US|           HILLIARD|  32046|   FL|\n",
            "|       49346|     US|             HOLDER|  34445|   FL|\n",
            "|           3|     US|      SECT LANAUSSE|    704|   PR|\n",
            "|       54354|     US|      SPRING GARDEN|  36275|   AL|\n",
            "|       54355|     US|        SPRINGVILLE|  35146|   AL|\n",
            "|       76512|     US|           ASHEBORO|  27203|   NC|\n",
            "+------------+-------+-------------------+-------+-----+\n",
            "only showing top 20 rows\n",
            "\n",
            "+------------+-------+\n",
            "|         _c0|    _c1|\n",
            "+------------+-------+\n",
            "|RecordNumber|Country|\n",
            "|           1|     US|\n",
            "|           2|     US|\n",
            "|          10|     US|\n",
            "|       49347|     US|\n",
            "+------------+-------+\n",
            "only showing top 5 rows\n",
            "\n"
          ]
        }
      ]
    },
    {
      "cell_type": "code",
      "source": [
        "spark.sql(\"\"\"\n",
        "          select * from tempdata\n",
        "          where _c4 = 'AZ'\n",
        "\"\"\").show()"
      ],
      "metadata": {
        "colab": {
          "base_uri": "https://localhost:8080/"
        },
        "id": "fuP3z177sUtB",
        "outputId": "37037cf5-38ce-49b0-c88d-d66edbdcf690"
      },
      "execution_count": 6,
      "outputs": [
        {
          "output_type": "stream",
          "name": "stdout",
          "text": [
            "+-----+---+----+-----+---+\n",
            "|  _c0|_c1| _c2|  _c3|_c4|\n",
            "+-----+---+----+-----+---+\n",
            "|39827| US|MESA|85209| AZ|\n",
            "|39828| US|MESA|85210| AZ|\n",
            "+-----+---+----+-----+---+\n",
            "\n"
          ]
        }
      ]
    },
    {
      "cell_type": "code",
      "source": [
        "# File location and type\n",
        "file_location = \"/content/simple-zipcodes.csv\"\n",
        "file_type = \"csv\"\n",
        "\n",
        "# CSV options\n",
        "infer_schema = \"false\"\n",
        "first_row_is_header = \"true\"\n",
        "delimiter = \",\"\n",
        "\n",
        "# The applied options are for CSV files. For other file types, these will be ignored.\n",
        "df = spark.read.format(file_type) \\\n",
        "  .option(\"inferSchema\", infer_schema) \\\n",
        "  .option(\"header\", first_row_is_header) \\\n",
        "  .option(\"sep\", delimiter) \\\n",
        "  .load(file_location)\n",
        "\n",
        "display(df)\n",
        "df.createOrReplaceTempView(\"customer\")"
      ],
      "metadata": {
        "colab": {
          "base_uri": "https://localhost:8080/",
          "height": 34
        },
        "id": "nC2YZP_9srEU",
        "outputId": "f1837360-a94f-4e1d-c797-7a5502f7ec66"
      },
      "execution_count": 8,
      "outputs": [
        {
          "output_type": "display_data",
          "data": {
            "text/plain": [
              "DataFrame[RecordNumber: string, Country: string, City: string, Zipcode: string, State: string]"
            ]
          },
          "metadata": {}
        }
      ]
    },
    {
      "cell_type": "code",
      "source": [
        "spark.sql(\"select * from customer\").show()\n",
        "df.select(\"RecordNumber\", \"Country\").show()"
      ],
      "metadata": {
        "colab": {
          "base_uri": "https://localhost:8080/"
        },
        "id": "TA0xP7SFsxK8",
        "outputId": "b369d338-df82-4f42-82d5-81e02bf35824"
      },
      "execution_count": 9,
      "outputs": [
        {
          "output_type": "stream",
          "name": "stdout",
          "text": [
            "+------------+-------+-------------------+-------+-----+\n",
            "|RecordNumber|Country|               City|Zipcode|State|\n",
            "+------------+-------+-------------------+-------+-----+\n",
            "|           1|     US|        PARC PARQUE|    704|   PR|\n",
            "|           2|     US|PASEO COSTA DEL SUR|    704|   PR|\n",
            "|          10|     US|       BDA SAN LUIS|    709|   PR|\n",
            "|       49347|     US|               HOLT|  32564|   FL|\n",
            "|       49348|     US|          HOMOSASSA|  34487|   FL|\n",
            "|       61391|     US|  CINGULAR WIRELESS|  76166|   TX|\n",
            "|       61392|     US|         FORT WORTH|  76177|   TX|\n",
            "|       61393|     US|           FT WORTH|  76177|   TX|\n",
            "|       54356|     US|        SPRUCE PINE|  35585|   AL|\n",
            "|       76511|     US|           ASH HILL|  27007|   NC|\n",
            "|           4|     US|    URB EUGENE RICE|    704|   PR|\n",
            "|       39827|     US|               MESA|  85209|   AZ|\n",
            "|       39828|     US|               MESA|  85210|   AZ|\n",
            "|       49345|     US|           HILLIARD|  32046|   FL|\n",
            "|       49346|     US|             HOLDER|  34445|   FL|\n",
            "|           3|     US|      SECT LANAUSSE|    704|   PR|\n",
            "|       54354|     US|      SPRING GARDEN|  36275|   AL|\n",
            "|       54355|     US|        SPRINGVILLE|  35146|   AL|\n",
            "|       76512|     US|           ASHEBORO|  27203|   NC|\n",
            "|       76513|     US|           ASHEBORO|  27204|   NC|\n",
            "+------------+-------+-------------------+-------+-----+\n",
            "\n",
            "+------------+-------+\n",
            "|RecordNumber|Country|\n",
            "+------------+-------+\n",
            "|           1|     US|\n",
            "|           2|     US|\n",
            "|          10|     US|\n",
            "|       49347|     US|\n",
            "|       49348|     US|\n",
            "|       61391|     US|\n",
            "|       61392|     US|\n",
            "|       61393|     US|\n",
            "|       54356|     US|\n",
            "|       76511|     US|\n",
            "|           4|     US|\n",
            "|       39827|     US|\n",
            "|       39828|     US|\n",
            "|       49345|     US|\n",
            "|       49346|     US|\n",
            "|           3|     US|\n",
            "|       54354|     US|\n",
            "|       54355|     US|\n",
            "|       76512|     US|\n",
            "|       76513|     US|\n",
            "+------------+-------+\n",
            "\n"
          ]
        }
      ]
    },
    {
      "cell_type": "code",
      "source": [
        "spark.sql(\"\"\"\n",
        "          select * from customer\n",
        "          where state = 'PR'\n",
        "\"\"\").show(5)"
      ],
      "metadata": {
        "colab": {
          "base_uri": "https://localhost:8080/"
        },
        "id": "aq7BMPFNs8Rj",
        "outputId": "cf85c0da-f61b-47b0-f37a-aebf49608204"
      },
      "execution_count": 10,
      "outputs": [
        {
          "output_type": "stream",
          "name": "stdout",
          "text": [
            "+------------+-------+-------------------+-------+-----+\n",
            "|RecordNumber|Country|               City|Zipcode|State|\n",
            "+------------+-------+-------------------+-------+-----+\n",
            "|           1|     US|        PARC PARQUE|    704|   PR|\n",
            "|           2|     US|PASEO COSTA DEL SUR|    704|   PR|\n",
            "|          10|     US|       BDA SAN LUIS|    709|   PR|\n",
            "|           4|     US|    URB EUGENE RICE|    704|   PR|\n",
            "|           3|     US|      SECT LANAUSSE|    704|   PR|\n",
            "+------------+-------+-------------------+-------+-----+\n",
            "\n"
          ]
        }
      ]
    },
    {
      "cell_type": "code",
      "source": [
        "spark.sql(\"\"\"\n",
        "          select * from customer\n",
        "          where state in ('PR', 'AZ', 'FL')\n",
        "          order by state\n",
        "\"\"\").show(10)"
      ],
      "metadata": {
        "colab": {
          "base_uri": "https://localhost:8080/"
        },
        "id": "x4AnyP66tFYs",
        "outputId": "10f8e141-538c-4b1c-b264-e2653737876d"
      },
      "execution_count": 11,
      "outputs": [
        {
          "output_type": "stream",
          "name": "stdout",
          "text": [
            "+------------+-------+-------------------+-------+-----+\n",
            "|RecordNumber|Country|               City|Zipcode|State|\n",
            "+------------+-------+-------------------+-------+-----+\n",
            "|       39827|     US|               MESA|  85209|   AZ|\n",
            "|       39828|     US|               MESA|  85210|   AZ|\n",
            "|       49347|     US|               HOLT|  32564|   FL|\n",
            "|       49348|     US|          HOMOSASSA|  34487|   FL|\n",
            "|       49345|     US|           HILLIARD|  32046|   FL|\n",
            "|       49346|     US|             HOLDER|  34445|   FL|\n",
            "|           1|     US|        PARC PARQUE|    704|   PR|\n",
            "|           2|     US|PASEO COSTA DEL SUR|    704|   PR|\n",
            "|          10|     US|       BDA SAN LUIS|    709|   PR|\n",
            "|           4|     US|    URB EUGENE RICE|    704|   PR|\n",
            "+------------+-------+-------------------+-------+-----+\n",
            "only showing top 10 rows\n",
            "\n"
          ]
        }
      ]
    },
    {
      "cell_type": "code",
      "source": [
        "spark.sql(\"\"\"\n",
        "          select state, count(*) as count from customer\n",
        "          group by state\n",
        "\"\"\").show()"
      ],
      "metadata": {
        "colab": {
          "base_uri": "https://localhost:8080/"
        },
        "id": "7O7pDg6YtVQw",
        "outputId": "7d70ca0d-aa8a-4e6e-940a-d8f7936bdff4"
      },
      "execution_count": 12,
      "outputs": [
        {
          "output_type": "stream",
          "name": "stdout",
          "text": [
            "+-----+-----+\n",
            "|state|count|\n",
            "+-----+-----+\n",
            "|   AZ|    2|\n",
            "|   NC|    3|\n",
            "|   AL|    3|\n",
            "|   TX|    3|\n",
            "|   FL|    4|\n",
            "|   PR|    5|\n",
            "+-----+-----+\n",
            "\n"
          ]
        }
      ]
    }
  ]
}